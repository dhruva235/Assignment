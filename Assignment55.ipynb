{
 "cells": [
  {
   "cell_type": "raw",
   "id": "c0a66a2a",
   "metadata": {},
   "source": [
    "1. What does an empty dictionary&#39;s code look like?\n",
    "{}\n",
    "\n",
    "\n",
    "2. What is the value of a dictionary value with the key &#39;foo&#39; and the value 42?\n",
    "{'foo': 42}\n",
    "\n",
    "\n",
    "\n",
    "\n"
   ]
  },
  {
   "cell_type": "raw",
   "id": "4746802b",
   "metadata": {},
   "source": [
    "3. What is the most significant distinction between a dictionary and a list?\n",
    "\n",
    "List is a collection of index values pairs as that of array in c++.\tDictionary is a hashed structure of key and value pairs.\n",
    "List is created by placing elements in [ ] separated by commas “, “\tDictionary is created by placing elements in { } as “key”:”value”, each key value pair is separated by commas “, “\n",
    "The indices of list are integers starting from 0.\tThe keys of dictionary can be of any data type.\n",
    "The elements are accessed via indices.\tThe elements are accessed via key-values."
   ]
  },
  {
   "cell_type": "raw",
   "id": "c03dc89d",
   "metadata": {},
   "source": [
    "4. What happens if you try to access spam[&#39;foo&#39;] if spam is {&#39;bar&#39;: 100}?\n",
    "                                          \n",
    "                                          key is not found"
   ]
  },
  {
   "cell_type": "raw",
   "id": "8ad0aa97",
   "metadata": {},
   "source": [
    "5. If a dictionary is stored in spam, what is the difference between the expressions cat in spam and\n",
    "cat in spam.keys()?\n",
    "\n",
    "\n",
    "To determine if a specified key is present in a dictionary use the in keyword:"
   ]
  },
  {
   "cell_type": "raw",
   "id": "35622dcc",
   "metadata": {},
   "source": [
    "6. If a dictionary is stored in spam, what is the difference between the expressions cat in spam and\n",
    "cat in spam.values()?\n",
    "\n",
    "\n",
    "\n",
    "'cat' in spam checks whether there is a 'cat' key in the dictionary, while 'cat' in spam.values() checks whether there is a value 'cat' for one of the keys in spam."
   ]
  },
  {
   "cell_type": "raw",
   "id": "a19a225b",
   "metadata": {},
   "source": [
    "7. What is a shortcut for the following code?\n",
    "if color not in spam:\n",
    "spam['color' = black]\n",
    "\n",
    "spam.setdefault('color', 'black')\n",
    "\n"
   ]
  },
  {
   "cell_type": "raw",
   "id": "5f99c467",
   "metadata": {},
   "source": [
    "8. How do you \"pretty print\" dictionary values using which module and function?\n",
    "\n",
    "\n",
    "pprint.pprint()"
   ]
  },
  {
   "cell_type": "code",
   "execution_count": null,
   "id": "4de30196",
   "metadata": {},
   "outputs": [],
   "source": []
  },
  {
   "cell_type": "code",
   "execution_count": null,
   "id": "cab2a70a",
   "metadata": {},
   "outputs": [],
   "source": []
  }
 ],
 "metadata": {
  "kernelspec": {
   "display_name": "Python 3 (ipykernel)",
   "language": "python",
   "name": "python3"
  },
  "language_info": {
   "codemirror_mode": {
    "name": "ipython",
    "version": 3
   },
   "file_extension": ".py",
   "mimetype": "text/x-python",
   "name": "python",
   "nbconvert_exporter": "python",
   "pygments_lexer": "ipython3",
   "version": "3.9.7"
  }
 },
 "nbformat": 4,
 "nbformat_minor": 5
}
