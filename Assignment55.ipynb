1. What does an empty dictionary&#39;s code look like?
{}


2. What is the value of a dictionary value with the key &#39;foo&#39; and the value 42?
{'foo': 42}

3. What is the most significant distinction between a dictionary and a list?

List is a collection of index values pairs as that of array in c++.	Dictionary is a hashed structure of key and value pairs.
List is created by placing elements in [ ] separated by commas “, “	Dictionary is created by placing elements in { } as “key”:”value”, each key value pair is separated by commas “, “
The indices of list are integers starting from 0.	The keys of dictionary can be of any data type.
The elements are accessed via indices.	The elements are accessed via key-values.


4. What happens if you try to access spam[&#39;foo&#39;] if spam is {&#39;bar&#39;: 100}?
                                          
  
  
  key is not found
  
  
  
  
  5. If a dictionary is stored in spam, what is the difference between the expressions cat in spam and
cat in spam.keys()?


To determine if a specified key is present in a dictionary use the in keyword:







6. If a dictionary is stored in spam, what is the difference between the expressions cat in spam and
cat in spam.values()?



'cat' in spam checks whether there is a 'cat' key in the dictionary, while 'cat' in spam.values() checks whether there is a value 'cat' for one of the keys in spam.





7. What is a shortcut for the following code?
if color not in spam:
spam['color' = black]

spam.setdefault('color', 'black')



8. How do you "pretty print" dictionary values using which module and function?


pprint.pprint()
