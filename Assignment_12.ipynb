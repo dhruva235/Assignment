{
 "cells": [
  {
   "cell_type": "code",
   "execution_count": 9,
   "id": "15cbe867",
   "metadata": {},
   "outputs": [
    {
     "name": "stdout",
     "output_type": "stream",
     "text": [
      "dictnory values are dict_values([1, 2, 3, 1, 2])\n",
      "Unique Values: [1, 2, 3]\n"
     ]
    }
   ],
   "source": [
    "#1.Write a Python program to Extract Unique values dictionary values?\n",
    "\n",
    "dict_={\n",
    "    \"h1\":1,\n",
    "    \"h2\":2,\n",
    "    \"h3\":3,\n",
    "    \"h4\":1,\n",
    "    \"h5\":2\n",
    "    \n",
    "}\n",
    "\n",
    "print(\"dictnory values are\",dict_.values())\n",
    "print(f'Unique Values: {list(set(dict_.values()))}')"
   ]
  },
  {
   "cell_type": "code",
   "execution_count": 10,
   "id": "e0f0bdb9",
   "metadata": {},
   "outputs": [
    {
     "name": "stdout",
     "output_type": "stream",
     "text": [
      "dictnory values are dict_values([1, 2, 3, 1, 2])\n",
      "sum of all values 9\n"
     ]
    }
   ],
   "source": [
    "#2.Write a Python program to find the sum of all items in a dictionary?\n",
    "\n",
    "dict_={\n",
    "    \"h1\":1,\n",
    "    \"h2\":2,\n",
    "    \"h3\":3,\n",
    "    \"h4\":1,\n",
    "    \"h5\":2\n",
    "    \n",
    "}\n",
    "\n",
    "print(\"dictnory values are\",dict_.values())\n",
    "print(\"sum of all values\",sum(dict_.values()))"
   ]
  },
  {
   "cell_type": "code",
   "execution_count": 11,
   "id": "38440930",
   "metadata": {},
   "outputs": [
    {
     "name": "stdout",
     "output_type": "stream",
     "text": [
      "{'h1': 1, 'h2': 2, 'h3': 3, 'h4': 1, 'h5': 2, 'h6': 3, 'h7': 4, 'h8': 4}\n"
     ]
    }
   ],
   "source": [
    "#3.Write a Python program to Merging two Dictionaries?\n",
    "dict_1={\n",
    "    \"h1\":1,\n",
    "    \"h2\":2,\n",
    "    \"h3\":3,\n",
    "    \"h4\":1,\n",
    "    \"h5\":2\n",
    "    \n",
    "}\n",
    "\n",
    "dict_2={\n",
    "    \"h6\":3,\n",
    "    \"h7\":4,\n",
    "    \"h8\":4\n",
    "}\n",
    "\n",
    "dict_1.update(dict_2)\n",
    "\n",
    "print(dict_1)\n"
   ]
  },
  {
   "cell_type": "code",
   "execution_count": 12,
   "id": "a0d1b5df",
   "metadata": {},
   "outputs": [
    {
     "data": {
      "text/plain": [
       "{'A': 10,\n",
       " 'B': 20,\n",
       " 'C': 30,\n",
       " 'D': 40,\n",
       " 'E': 50,\n",
       " 'F': 60,\n",
       " 'G': 70,\n",
       " 'H': 80,\n",
       " 'I': 90,\n",
       " 'J': 100}"
      ]
     },
     "execution_count": 12,
     "metadata": {},
     "output_type": "execute_result"
    }
   ],
   "source": [
    "#4.Write a Python program to convert key-values list to flat dictionary?\n",
    "\n",
    "\n",
    "in_list = [('A',10),('B',20),('C',30),('D',40),('E',50),('F',60),('G',70),('H',80),('I',90),('J',100)]\n",
    "dict(in_list)"
   ]
  },
  {
   "cell_type": "code",
   "execution_count": 18,
   "id": "f8f5d3f1",
   "metadata": {},
   "outputs": [
    {
     "name": "stdout",
     "output_type": "stream",
     "text": [
      "dict_one OrderedDict([('Apple', 'Iphone'), ('Microsoft', 'Windows'), ('Google', 'chrome')])\n",
      "dict_one OrderedDict([('Apple', 'Iphone'), ('Microsoft', 'Windows'), ('Google', 'chrome'), ('Tesla', 'SpaceX')])\n",
      "dict_one OrderedDict([('Tesla', 'SpaceX'), ('Apple', 'Iphone'), ('Microsoft', 'Windows'), ('Google', 'chrome')])\n"
     ]
    }
   ],
   "source": [
    "#5.Write a Python program to insertion at the beginning in OrderedDict?\n",
    "from collections import OrderedDict\n",
    "dict_one = OrderedDict({'Apple':'Iphone','Microsoft':'Windows','Google':'chrome'})\n",
    "print('dict_one',dict_one)\n",
    "dict_two = {'Tesla':'SpaceX'}\n",
    "dict_one.update(dict_two)\n",
    "print('dict_one',dict_one)\n",
    "dict_one.move_to_end('Tesla',last=False)\n",
    "print('dict_one',dict_one)"
   ]
  },
  {
   "cell_type": "code",
   "execution_count": 21,
   "id": "0869d838",
   "metadata": {},
   "outputs": [
    {
     "name": "stdout",
     "output_type": "stream",
     "text": [
      "{'a': 1000, 'f': 200, 'd': 300, 'c': 400, 'b': 500, 'e': 600}\n",
      "OrderedDict([('a', 1000), ('b', 500), ('c', 400), ('d', 300), ('e', 600), ('f', 200)])\n"
     ]
    }
   ],
   "source": [
    "#6.Write a Python program to check order of character in string using OrderedDict()?\n",
    "from collections import OrderedDict\n",
    "\n",
    "initial_list = {'a': 1000, 'f': 200, 'd': 300, 'c': 400, 'b': 500, 'e': 600}\n",
    "print(initial_list)\n",
    "\n",
    "final_list = OrderedDict(dict(sorted(initial_list.items())))\n",
    "print(final_list)"
   ]
  },
  {
   "cell_type": "code",
   "execution_count": 28,
   "id": "389b0a52",
   "metadata": {},
   "outputs": [
    {
     "name": "stdout",
     "output_type": "stream",
     "text": [
      "{'Banana': 60, 'Grape': 13, 'Mango': 100, 'PineApple': 22}\n",
      "<function sort_dict.<locals>.<lambda> at 0x0000024D0E90FA60>\n",
      "{'Grape': 13, 'PineApple': 22, 'Banana': 60, 'Mango': 100}\n"
     ]
    }
   ],
   "source": [
    "\n",
    "#7.Write a Python program to sort Python Dictionaries by Key or Value?\n",
    "d_items = {'Mango':100,'PineApple':22,'Banana':60,'Grape':13}\n",
    "\n",
    "def sort_dict(in_dict,sort_type):\n",
    "    if sort_type == 'key':\n",
    "        print(dict(sorted(in_dict.items(), key=lambda x:x[0], reverse=False)))\n",
    "        key=lambda x:x[0]\n",
    "        print(key)\n",
    "    else:\n",
    "        print(dict(sorted(in_dict.items(), key=lambda x:x[1], reverse=False)))\n",
    "        \n",
    "sort_dict(d_items,'key')        \n",
    "sort_dict(d_items,'value')"
   ]
  },
  {
   "cell_type": "code",
   "execution_count": null,
   "id": "df71604d",
   "metadata": {},
   "outputs": [],
   "source": []
  }
 ],
 "metadata": {
  "kernelspec": {
   "display_name": "Python 3 (ipykernel)",
   "language": "python",
   "name": "python3"
  },
  "language_info": {
   "codemirror_mode": {
    "name": "ipython",
    "version": 3
   },
   "file_extension": ".py",
   "mimetype": "text/x-python",
   "name": "python",
   "nbconvert_exporter": "python",
   "pygments_lexer": "ipython3",
   "version": "3.9.7"
  }
 },
 "nbformat": 4,
 "nbformat_minor": 5
}
