{
 "cells": [
  {
   "cell_type": "code",
   "execution_count": 1,
   "id": "e199fd77",
   "metadata": {},
   "outputs": [
    {
     "name": "stdout",
     "output_type": "stream",
     "text": [
      "['hello', 'hoo', 'goog']\n"
     ]
    }
   ],
   "source": [
    "#1. Write a Python program to find words which are greater than given length k?\n",
    "\n",
    "def stringk(str,k):\n",
    "    str1=[]\n",
    "    text=str.split(\" \")\n",
    "\n",
    "    for x in text:\n",
    "        if(len(x)>k):\n",
    "            str1.append(x)\n",
    "\n",
    "\n",
    "    return str1\n",
    "\n",
    "str = \"hello bi hoo goog rt\"\n",
    "k=2\n",
    "\n",
    "print(stringk(str,k))\n"
   ]
  },
  {
   "cell_type": "code",
   "execution_count": 3,
   "id": "e2dbef6e",
   "metadata": {},
   "outputs": [
    {
     "name": "stdout",
     "output_type": "stream",
     "text": [
      "druva\n"
     ]
    }
   ],
   "source": [
    "\n",
    "#2.Write a Python program for removing i-th character from a string?\n",
    "def remove(string, i):\n",
    "    for j in range(len(string)):\n",
    "        if j == i:\n",
    "            string = string.replace(string[i], \"\", 1)\n",
    "    return string\n",
    "\n",
    "\n",
    "\n",
    "if __name__ == '__main__':\n",
    "    string = \"dhruva\"\n",
    "\n",
    "    \n",
    "    i = 1\n",
    "\n",
    "\n",
    "    print(remove(string, i))\n"
   ]
  },
  {
   "cell_type": "code",
   "execution_count": 4,
   "id": "bb4e1741",
   "metadata": {},
   "outputs": [
    {
     "name": "stdout",
     "output_type": "stream",
     "text": [
      "druva\n"
     ]
    }
   ],
   "source": [
    "\n",
    "def remove(string, i):\n",
    "    a = string[:i]\n",
    "\n",
    "  \n",
    "    b = string[i + 1:]\n",
    "\n",
    "   \n",
    "    return a + b\n",
    "\n",
    "# Driver Code\n",
    "if __name__ == '__main__':\n",
    "    string = \"dhruva\"\n",
    "\n",
    "   \n",
    "    i = 1\n",
    "\n",
    "   \n",
    "    print(remove(string, i))\n"
   ]
  },
  {
   "cell_type": "code",
   "execution_count": 5,
   "id": "609c3397",
   "metadata": {},
   "outputs": [
    {
     "name": "stdout",
     "output_type": "stream",
     "text": [
      "['ineorron', 'boot', 'camp', 'data', 'science']\n",
      "ineorron-boot-camp-data-science\n"
     ]
    }
   ],
   "source": [
    "#3. Write a Python program to split and join a string?\n",
    "def split_string(string):\n",
    "    # Split the string based on space delimiter\n",
    "    list_string = string.split(' ')\n",
    "\n",
    "    return list_string\n",
    "\n",
    "\n",
    "def join_string(list_string):\n",
    "    # Join the string based on '-' delimiter\n",
    "    string = '-'.join(list_string)\n",
    "\n",
    "    return string\n",
    "\n",
    "\n",
    "# Driver Function\n",
    "if __name__ == '__main__':\n",
    "    string = 'ineorron boot camp data science'\n",
    "\n",
    "    # Splitting a string\n",
    "    list_string = split_string(string)\n",
    "    print(list_string)\n",
    "\n",
    "    # Join list of strings into one\n",
    "    new_string = join_string(list_string)\n",
    "    print(new_string)"
   ]
  },
  {
   "cell_type": "code",
   "execution_count": 6,
   "id": "cf07d36d",
   "metadata": {},
   "outputs": [
    {
     "name": "stdout",
     "output_type": "stream",
     "text": [
      "Yes\n"
     ]
    }
   ],
   "source": [
    "#4. Write a Python to check if a given string is binary string or not?\n",
    "string = \"01010101010\"\n",
    "if(string.count('0')+string.count('1')==len(string)):\n",
    "    print(\"Yes\")\n",
    "else:\n",
    "    print(\"No\")"
   ]
  },
  {
   "cell_type": "code",
   "execution_count": 7,
   "id": "748022e1",
   "metadata": {},
   "outputs": [
    {
     "name": "stdout",
     "output_type": "stream",
     "text": [
      " apple fruits\n"
     ]
    }
   ],
   "source": [
    "#5. Write a Python program to find uncommon words from two Strings?\n",
    "\n",
    "\n",
    "def uncommon(a,b):\n",
    "\tlist_a = a.split()\n",
    "\tlist_b = b.split()\n",
    "\tuc = ''\n",
    "\tfor i in list_a:\n",
    "\t\tif i not in list_b:\n",
    "\t\t\tuc = uc+\" \"+i\n",
    "\tfor j in list_b:\n",
    "\t\tif j not in list_a:\n",
    "\t\t\tuc = uc+\" \"+j\n",
    "\n",
    "\treturn uc\n",
    "\n",
    "# Driver code\n",
    "a = \"apple banana mango\"\n",
    "b = \"banana fruits mango\"\n",
    "print(uncommon(a,b))"
   ]
  },
  {
   "cell_type": "code",
   "execution_count": 8,
   "id": "8aaace72",
   "metadata": {},
   "outputs": [
    {
     "name": "stdout",
     "output_type": "stream",
     "text": [
      "['apple', 'fruits']\n"
     ]
    }
   ],
   "source": [
    "def uncommon(a, b):\n",
    "    a = a.split()\n",
    "    b = b.split()\n",
    "    k = set(a).symmetric_difference(set(b))\n",
    "    return k\n",
    "\n",
    "\n",
    "# Driver code\n",
    "if __name__ == \"__main__\":\n",
    "    a = \"apple banana mango\"\n",
    "    b = \"banana fruits mango\"\n",
    "    print(list(uncommon(a, b)))"
   ]
  },
  {
   "cell_type": "code",
   "execution_count": 11,
   "id": "c79f743f",
   "metadata": {},
   "outputs": [
    {
     "name": "stdout",
     "output_type": "stream",
     "text": [
      "t , count =  3\n",
      "s , count =  2\n"
     ]
    }
   ],
   "source": [
    "#6. Write a Python to find all duplicate characters in string?\n",
    "\n",
    "\n",
    "from collections import defaultdict\n",
    "\n",
    "def printDups(st):\n",
    "\n",
    "\tcount = defaultdict(int)\n",
    "\tfor i in range(len(st)):\n",
    "\t\tcount[st[i]] += 1\n",
    "\n",
    "\tfor it in count:\n",
    "\t\tif (count[it] > 1):\n",
    "\t\t\tprint(it, \", count = \", count[it])\n",
    "\n",
    "\n",
    "if __name__ == \"__main__\":\n",
    "\n",
    "\tst = \"test string\"\n",
    "\tprintDups(st)\n",
    "\n",
    "\n"
   ]
  },
  {
   "cell_type": "code",
   "execution_count": 10,
   "id": "4c2990c0",
   "metadata": {},
   "outputs": [
    {
     "name": "stdout",
     "output_type": "stream",
     "text": [
      "avbbvc!kkk\n",
      "yes\n"
     ]
    }
   ],
   "source": [
    "#7. Write a Python Program to check if a string contains any special character?\n",
    "\n",
    "special_characters = \"!@#$%^&*()-+?_=,<>/\"\n",
    "s=input()\n",
    "# Example: $tackoverflow\n",
    "\n",
    "if any(c in special_characters for c in s):\n",
    "    print(\"yes\")\n",
    "else:\n",
    "    print(\"no\")"
   ]
  },
  {
   "cell_type": "code",
   "execution_count": null,
   "id": "7120cd85",
   "metadata": {},
   "outputs": [],
   "source": []
  },
  {
   "cell_type": "code",
   "execution_count": null,
   "id": "cd101e41",
   "metadata": {},
   "outputs": [],
   "source": []
  }
 ],
 "metadata": {
  "kernelspec": {
   "display_name": "Python 3 (ipykernel)",
   "language": "python",
   "name": "python3"
  },
  "language_info": {
   "codemirror_mode": {
    "name": "ipython",
    "version": 3
   },
   "file_extension": ".py",
   "mimetype": "text/x-python",
   "name": "python",
   "nbconvert_exporter": "python",
   "pygments_lexer": "ipython3",
   "version": "3.9.7"
  }
 },
 "nbformat": 4,
 "nbformat_minor": 5
}
