{
 "cells": [
  {
   "cell_type": "code",
   "execution_count": 15,
   "id": "4a52ae2a",
   "metadata": {},
   "outputs": [
    {
     "name": "stdout",
     "output_type": "stream",
     "text": [
      "10\n"
     ]
    }
   ],
   "source": [
    "#1. Write a Python program to find sum of elements in list?\n",
    "def sumofarr(a):\n",
    "\n",
    "    sum1=0\n",
    "    for i in range(len(a)):\n",
    "        sum1+=i\n",
    "    return sum1\n",
    "\n",
    "\n",
    "\n",
    "print(sumofarr([1,2,3,4,5]))"
   ]
  },
  {
   "cell_type": "code",
   "execution_count": 20,
   "id": "aa20ce82",
   "metadata": {},
   "outputs": [
    {
     "name": "stdout",
     "output_type": "stream",
     "text": [
      "120\n"
     ]
    }
   ],
   "source": [
    "#2. Write a Python program to Multiply all numbers in the list?\n",
    "\n",
    "def mulofarr(a):\n",
    "    mul1=1\n",
    "    i=1\n",
    "    while(i<=len(a)):\n",
    "        mul1*=i\n",
    "        i+=1\n",
    "    return mul1\n",
    "\n",
    "\n",
    "\n",
    "\n",
    "print(mulofarr([1,2,3,4,5]))\n"
   ]
  },
  {
   "cell_type": "code",
   "execution_count": 22,
   "id": "5f4da0a9",
   "metadata": {},
   "outputs": [
    {
     "name": "stdout",
     "output_type": "stream",
     "text": [
      "The smallest arr is 1\n"
     ]
    }
   ],
   "source": [
    "#3 Write a Python program to find smallest number in a list?\n",
    "\n",
    "def smallarr(a):\n",
    "\n",
    "    samll=a[0]\n",
    "    for i in range(1,len(a)):\n",
    "        if(a[i]< samll):\n",
    "            samll=a[i]\n",
    "\n",
    "    return samll\n",
    "\n",
    "\n",
    "\n",
    "print(\"The smallest arr is\",smallarr([4,5,6,7,8,9,2,3,4,5,1]))"
   ]
  },
  {
   "cell_type": "code",
   "execution_count": 23,
   "id": "7dcca88b",
   "metadata": {},
   "outputs": [
    {
     "name": "stdout",
     "output_type": "stream",
     "text": [
      "The smallest arr is 9\n"
     ]
    }
   ],
   "source": [
    "#4. Write a Python program to find largest number in a list?\n",
    "\n",
    "def lararr(a):\n",
    "\n",
    "    lar=a[0]\n",
    "    for i in range(1,len(a)):\n",
    "        if(a[i]> lar):\n",
    "            lar=a[i]\n",
    "\n",
    "    return lar\n",
    "\n",
    "\n",
    "\n",
    "print(\"The smallest arr is\",lararr([4,5,6,7,8,9,2,3,4,5,1]))"
   ]
  },
  {
   "cell_type": "code",
   "execution_count": 30,
   "id": "21ce6bd9",
   "metadata": {},
   "outputs": [
    {
     "name": "stdout",
     "output_type": "stream",
     "text": [
      "45\n"
     ]
    }
   ],
   "source": [
    "#5. Write a Python program to find second largest number in a list?\n",
    "def findLargest(arr):\n",
    "\tsecondLargest = arr[0]\n",
    "\tlargest = arr[0]\n",
    "\n",
    "\tfor i in range(len(arr)):\n",
    "\t\tif arr[i] > largest:\n",
    "\t\t\tlargest = arr[i]\n",
    "\n",
    "\tfor i in range(len(arr)):\n",
    "\t\tif arr[i] > secondLargest and arr[i] != largest:\n",
    "\t\t\tsecondLargest = arr[i]\n",
    "\n",
    "\n",
    "\treturn secondLargest\n",
    "\n",
    "print(findLargest([10, 11,20, 4, 45, 99]))"
   ]
  },
  {
   "cell_type": "code",
   "execution_count": 32,
   "id": "bb39f025",
   "metadata": {},
   "outputs": [
    {
     "name": "stdout",
     "output_type": "stream",
     "text": [
      "[1000, 298, 100, 200, 900]\n"
     ]
    }
   ],
   "source": [
    "#6.Write a Python program to print even numbers in a list?\n",
    "\n",
    "l = [1000,298,3579,100,200,11,13,15,17,19,-45,900]\n",
    "new=[]\n",
    "for i in range(len(l)):\n",
    "    if(l[i]%2==0):\n",
    "        new.append(l[i])\n",
    "print(new)"
   ]
  },
  {
   "cell_type": "code",
   "execution_count": 33,
   "id": "07c84b86",
   "metadata": {},
   "outputs": [
    {
     "name": "stdout",
     "output_type": "stream",
     "text": [
      "[3579, 11, 13, 15, 17, 19, -45]\n"
     ]
    }
   ],
   "source": [
    "#8.Write a Python program to print odd numbers in a List?\n",
    "l = [1000,298,3579,100,200,11,13,15,17,19,-45,900]\n",
    "new=[]\n",
    "for i in range(len(l)):\n",
    "    if(l[i]%2!=0):\n",
    "        new.append(l[i])\n",
    "print(new)\n"
   ]
  },
  {
   "cell_type": "code",
   "execution_count": 35,
   "id": "20505fce",
   "metadata": {},
   "outputs": [
    {
     "name": "stdout",
     "output_type": "stream",
     "text": [
      "The original list is : [5, 6, [], 3, [], [], 9]\n",
      "List after empty list removal : [5, 6, 3, 9]\n"
     ]
    }
   ],
   "source": [
    "#9.Write a Python program to Remove empty List from List?\n",
    "test_list = [5, 6, [], 3, [], [], 9]\n",
    "print(\"The original list is : \" + str(test_list))\n",
    "res = [ele for ele in test_list if ele != []]\n",
    "print(\"List after empty list removal : \" + str(res))"
   ]
  },
  {
   "cell_type": "code",
   "execution_count": 36,
   "id": "44ebcd31",
   "metadata": {},
   "outputs": [
    {
     "name": "stdout",
     "output_type": "stream",
     "text": [
      "Original List: [4, 8, 2, 10, 15, 18]\n",
      "After Cloning: [4, 8, 2, 10, 15, 18]\n"
     ]
    }
   ],
   "source": [
    "#10.# Python program to copy or clone a list\n",
    "# Using the Slice Operator\n",
    "def Cloning(li1):\n",
    "\tli_copy = li1[:]\n",
    "\treturn li_copy\n",
    "\n",
    "\n",
    "# Driver Code\n",
    "li1 = [4, 8, 2, 10, 15, 18]\n",
    "li2 = Cloning(li1)\n",
    "print(\"Original List:\", li1)\n",
    "print(\"After Cloning:\", li2)\n"
   ]
  },
  {
   "cell_type": "code",
   "execution_count": 37,
   "id": "6502aebe",
   "metadata": {},
   "outputs": [
    {
     "name": "stdout",
     "output_type": "stream",
     "text": [
      "8 has occurred 5 times\n"
     ]
    }
   ],
   "source": [
    "# Python code to count the number of occurrences\n",
    "def countX(lst, x):\n",
    "\tcount = 0\n",
    "\tfor ele in lst:\n",
    "\t\tif (ele == x):\n",
    "\t\t\tcount = count + 1\n",
    "\treturn count\n",
    "\n",
    "\n",
    "lst = [8, 6, 8, 10, 8, 20, 10, 8, 8]\n",
    "x = 8\n",
    "print('{} has occurred {} times'.format(x, countX(lst, x)))\n"
   ]
  },
  {
   "cell_type": "code",
   "execution_count": null,
   "id": "d15f730b",
   "metadata": {},
   "outputs": [],
   "source": []
  }
 ],
 "metadata": {
  "kernelspec": {
   "display_name": "Python 3 (ipykernel)",
   "language": "python",
   "name": "python3"
  },
  "language_info": {
   "codemirror_mode": {
    "name": "ipython",
    "version": 3
   },
   "file_extension": ".py",
   "mimetype": "text/x-python",
   "name": "python",
   "nbconvert_exporter": "python",
   "pygments_lexer": "ipython3",
   "version": "3.9.7"
  }
 },
 "nbformat": 4,
 "nbformat_minor": 5
}
