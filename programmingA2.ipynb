{
 "cells": [
  {
   "cell_type": "code",
   "execution_count": 61,
   "id": "225955f9",
   "metadata": {},
   "outputs": [
    {
     "name": "stdout",
     "output_type": "stream",
     "text": [
      "enter kilomete12\n",
      "when converted to miles it is 7.44\n"
     ]
    }
   ],
   "source": [
    "#1. Write a Python program to convert kilometers to miles?\n",
    "kilo = int(input(\"enter kilomete\"))\n",
    "\n",
    "print(\"when converted to miles it is\",\"{:.2f}\".format(kilo*0.62))"
   ]
  },
  {
   "cell_type": "code",
   "execution_count": 62,
   "id": "f93148e1",
   "metadata": {},
   "outputs": [
    {
     "name": "stdout",
     "output_type": "stream",
     "text": [
      "enter tem in celsius23\n",
      "tem to farehheat is 73.4\n"
     ]
    }
   ],
   "source": [
    "#2..Write a Python program to convert Celsius to Fahrenheit?\n",
    "\n",
    "a = int(input(\"enter tem in celsius\"))\n",
    "n = (a*9/5)+32\n",
    "print(\"tem to farehheat is\",n)\n",
    "\n",
    "\n",
    "    "
   ]
  },
  {
   "cell_type": "markdown",
   "id": "e30af87a",
   "metadata": {},
   "source": [
    "3. Describe three different data types.\n",
    "Integers – This value is represented by int class. It contains positive or negative whole\n",
    "numbers (without fraction or decimal). In Python there is no limit to how long an integer\n",
    "value can be.\n",
    "Float – This value is represented by float class. It is a real number with floating point\n",
    "representation. It is specified by a decimal point. Optionally, the character e or E followed\n",
    "by a positive or negative integer may be appended to specify scientific notation.\n",
    "Complex Numbers – Complex number is represent"
   ]
  },
  {
   "cell_type": "code",
   "execution_count": 64,
   "id": "5bf082cd",
   "metadata": {},
   "outputs": [
    {
     "name": "stdout",
     "output_type": "stream",
     "text": [
      "Enter year: 2014\n",
      "Enter month: 2\n",
      "   February 2014\n",
      "Mo Tu We Th Fr Sa Su\n",
      "                1  2\n",
      " 3  4  5  6  7  8  9\n",
      "10 11 12 13 14 15 16\n",
      "17 18 19 20 21 22 23\n",
      "24 25 26 27 28\n",
      "\n"
     ]
    }
   ],
   "source": [
    "# 3 Program to display calendar of the given month and year\n",
    "\n",
    "\n",
    "import calendar\n",
    "\n",
    "\n",
    "\n",
    "# To take month and year input from the user\n",
    "yy = int(input(\"Enter year: \"))\n",
    "mm = int(input(\"Enter month: \"))\n",
    "\n",
    "# display the calendar\n",
    "print(calendar.month(yy, mm))\n"
   ]
  },
  {
   "cell_type": "code",
   "execution_count": 69,
   "id": "bd275ad2",
   "metadata": {},
   "outputs": [
    {
     "name": "stdout",
     "output_type": "stream",
     "text": [
      "enter 1st number1\n",
      "enter 2nd number5\n",
      "enter 3rt number6\n",
      "The solution are -3.0 and -2.0\n"
     ]
    }
   ],
   "source": [
    "#3. Write a Python program to solve quadratic equation?\n",
    "import math\n",
    "a = int(input(\"enter 1st number\"))\n",
    "b = int(input(\"enter 2nd number\"))\n",
    "c = int(input(\"enter 3rt number\"))\n",
    "\n",
    "d = (b**2) - (4*a*c)\n",
    "\n",
    "# find two solutions\n",
    "sol1 = (-b-math.sqrt(d))/(2*a)\n",
    "sol2 = (-b+math.sqrt(d))/(2*a)\n",
    "\n",
    "print('The solution are {0} and {1}'.format(sol1,sol2))\n"
   ]
  },
  {
   "cell_type": "code",
   "execution_count": 59,
   "id": "0b89d7b5",
   "metadata": {},
   "outputs": [
    {
     "name": "stdout",
     "output_type": "stream",
     "text": [
      "0.7586561217804529\n"
     ]
    }
   ],
   "source": [
    "#Write a Python program to generate a random number?Write a Python program to generate a random number?\n",
    "\n",
    "import random\n",
    "n = random.random()\n",
    "print(n)"
   ]
  },
  {
   "cell_type": "code",
   "execution_count": 70,
   "id": "23d141bf",
   "metadata": {},
   "outputs": [
    {
     "name": "stdout",
     "output_type": "stream",
     "text": [
      "enter a90\n",
      "enter b67\n",
      "after swapping values are\n",
      "67\n",
      "90\n"
     ]
    }
   ],
   "source": [
    "#4.Write a Python program to swap two variables without temp variable?\n",
    "a = int(input(\"enter a\"))\n",
    "b = int(input(\"enter b\"))\n",
    "a,b = b,a\n",
    "print(\"after swapping values are\")\n",
    "print(a)\n",
    "print(b)"
   ]
  },
  {
   "cell_type": "code",
   "execution_count": null,
   "id": "5bee34bc",
   "metadata": {},
   "outputs": [],
   "source": []
  },
  {
   "cell_type": "code",
   "execution_count": null,
   "id": "f93521a0",
   "metadata": {},
   "outputs": [],
   "source": []
  },
  {
   "cell_type": "code",
   "execution_count": null,
   "id": "ce3d01ea",
   "metadata": {},
   "outputs": [],
   "source": []
  }
 ],
 "metadata": {
  "kernelspec": {
   "display_name": "Python 3 (ipykernel)",
   "language": "python",
   "name": "python3"
  },
  "language_info": {
   "codemirror_mode": {
    "name": "ipython",
    "version": 3
   },
   "file_extension": ".py",
   "mimetype": "text/x-python",
   "name": "python",
   "nbconvert_exporter": "python",
   "pygments_lexer": "ipython3",
   "version": "3.9.7"
  }
 },
 "nbformat": 4,
 "nbformat_minor": 5
}
