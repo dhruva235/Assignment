{
 "cells": [
  {
   "cell_type": "code",
   "execution_count": 1,
   "id": "c7e6c29c",
   "metadata": {},
   "outputs": [
    {
     "name": "stdout",
     "output_type": "stream",
     "text": [
      "6\n"
     ]
    }
   ],
   "source": [
    "#Write a Python Program to Find the Factorial of a Number?\n",
    "\n",
    "def fact(n):\n",
    "    if(n==1 or n==0):\n",
    "          return 1\n",
    "    else:\n",
    "          return n*fact(n-1)\n",
    "\n",
    "\n"
   ]
  },
  {
   "cell_type": "code",
   "execution_count": 4,
   "id": "80f12ef5",
   "metadata": {},
   "outputs": [
    {
     "name": "stdout",
     "output_type": "stream",
     "text": [
      "6\n"
     ]
    }
   ],
   "source": [
    "def fact(n):\n",
    "\n",
    "    if(n==1 or n==0):\n",
    "              return 1\n",
    "    else:\n",
    "        fact = 1\n",
    "        while(n>1):\n",
    "            fact*=n\n",
    "            n-=1\n",
    "        return fact\n",
    "    \n",
    "print(fact(3))    "
   ]
  },
  {
   "cell_type": "code",
   "execution_count": 5,
   "id": "b762f226",
   "metadata": {},
   "outputs": [
    {
     "name": "stdout",
     "output_type": "stream",
     "text": [
      "2 * 0 = 0\n",
      "2 * 1 = 2\n",
      "2 * 2 = 4\n",
      "2 * 3 = 6\n",
      "2 * 4 = 8\n",
      "2 * 5 = 10\n",
      "2 * 6 = 12\n",
      "2 * 7 = 14\n",
      "2 * 8 = 16\n",
      "2 * 9 = 18\n",
      "2 * 10 = 20\n"
     ]
    }
   ],
   "source": [
    "\n",
    "#Write a Python Program to Display the multiplication Table?\n",
    "def multi(n):\n",
    "    i=0\n",
    "    while(i<=10):\n",
    "        print(n ,\"*\" ,i , \"=\",n*i)\n",
    "        i+=1\n",
    "\n",
    "multi(2)\n"
   ]
  },
  {
   "cell_type": "code",
   "execution_count": 6,
   "id": "70a115ce",
   "metadata": {},
   "outputs": [
    {
     "name": "stdout",
     "output_type": "stream",
     "text": [
      "2 * 0 = 0\n",
      "2 * 1 = 2\n",
      "2 * 2 = 4\n",
      "2 * 3 = 6\n",
      "2 * 4 = 8\n",
      "2 * 5 = 10\n",
      "2 * 6 = 12\n",
      "2 * 7 = 14\n",
      "2 * 8 = 16\n",
      "2 * 9 = 18\n",
      "2 * 10 = 20\n"
     ]
    }
   ],
   "source": [
    "def multi(n):\n",
    "    for i in range(11):\n",
    "        print(n, \"*\", i, \"=\", n * i)\n",
    "\n",
    "multi(2)\n"
   ]
  },
  {
   "cell_type": "code",
   "execution_count": 7,
   "id": "db7b2ae8",
   "metadata": {},
   "outputs": [
    {
     "name": "stdout",
     "output_type": "stream",
     "text": [
      "987\n"
     ]
    }
   ],
   "source": [
    "\n",
    "#3. Write a Python Program to Print the Fibonacci sequence?\n",
    "def Fibonacci(n):\n",
    "   # Check if input is 0 then it will\n",
    "   # print incorrect input\n",
    "    if n < 0:\n",
    "        print(\"Incorrect input\")\n",
    "\n",
    "   # Check if n is 0\n",
    "   # then it will return 0\n",
    "    elif n == 0:\n",
    "        return 0\n",
    "\n",
    "   # Check if n is 1,2\n",
    "   # it will return 1\n",
    "    elif n == 1 or n == 2:\n",
    "        return 1\n",
    "\n",
    "    else:\n",
    "        return Fibonacci(n-1)+Fibonacci(n-2)\n",
    "\n",
    "print(Fibonacci(16))\n",
    "\n",
    "\n",
    "\n",
    "\n"
   ]
  },
  {
   "cell_type": "code",
   "execution_count": 8,
   "id": "4bc955ca",
   "metadata": {},
   "outputs": [
    {
     "name": "stdout",
     "output_type": "stream",
     "text": [
      "153 is an Armstrong number\n"
     ]
    }
   ],
   "source": [
    "#amstrong num\n",
    "\n",
    "num =153\n",
    "\n",
    "order = len(str(num))\n",
    "\n",
    "sum = 0\n",
    "\n",
    "temp = num\n",
    "while(temp>0):\n",
    "    digit = temp%10\n",
    "    calcu=digit**order\n",
    "    sum+=digit**order\n",
    "    temp//=10\n",
    "\n",
    "if num == sum:\n",
    "    print(num,\"is an Armstrong number\")\n",
    "else:\n",
    "    print(num,\"is not an Armstrong number\")"
   ]
  },
  {
   "cell_type": "code",
   "execution_count": 11,
   "id": "3aff271d",
   "metadata": {},
   "outputs": [
    {
     "name": "stdout",
     "output_type": "stream",
     "text": [
      "153\n",
      "370\n",
      "371\n",
      "407\n",
      "1634\n"
     ]
    }
   ],
   "source": [
    "# 4Program to check Armstrong numbers in a certain interval\n",
    "\n",
    "lower = 100\n",
    "upper = 2000\n",
    "\n",
    "for num in range(lower, upper + 1):\n",
    "\n",
    "   # order of number\n",
    "    order = len(str(num))\n",
    "    \n",
    "   # initialize sum\n",
    "    sum = 0\n",
    "\n",
    "    temp = num\n",
    "    while temp > 0:\n",
    "        digit = temp % 10\n",
    "        sum += digit ** order\n",
    "        temp //= 10\n",
    "\n",
    "    if num == sum:\n",
    "        print(num)"
   ]
  },
  {
   "cell_type": "code",
   "execution_count": 12,
   "id": "a5fcfe04",
   "metadata": {},
   "outputs": [
    {
     "name": "stdout",
     "output_type": "stream",
     "text": [
      "55\n"
     ]
    }
   ],
   "source": [
    "#Write a Python Program to Find the Sum of Natural Numbers?\n",
    "\n",
    "def nutu(n):\n",
    "    return (n * (n+1))//2\n",
    "\n",
    "print(nutu(10))"
   ]
  },
  {
   "cell_type": "code",
   "execution_count": 13,
   "id": "a2458ab9",
   "metadata": {},
   "outputs": [
    {
     "name": "stdout",
     "output_type": "stream",
     "text": [
      "55\n"
     ]
    }
   ],
   "source": [
    "def natu(n):\n",
    "    sum=0\n",
    "    for i in range(0,n+1):\n",
    "        sum=sum+i\n",
    "    return sum\n",
    "print(natu(10))"
   ]
  },
  {
   "cell_type": "code",
   "execution_count": 14,
   "id": "76923053",
   "metadata": {},
   "outputs": [
    {
     "name": "stdout",
     "output_type": "stream",
     "text": [
      "55\n"
     ]
    }
   ],
   "source": [
    "def natu(n):\n",
    "    sum = 0\n",
    "    x=1\n",
    "    while(x<=n):\n",
    "        sum=sum+x\n",
    "        x=x+1\n",
    "    return sum\n",
    "\n",
    "print(natu(10))\n"
   ]
  },
  {
   "cell_type": "code",
   "execution_count": null,
   "id": "46cc0b2e",
   "metadata": {},
   "outputs": [],
   "source": []
  }
 ],
 "metadata": {
  "kernelspec": {
   "display_name": "Python 3 (ipykernel)",
   "language": "python",
   "name": "python3"
  },
  "language_info": {
   "codemirror_mode": {
    "name": "ipython",
    "version": 3
   },
   "file_extension": ".py",
   "mimetype": "text/x-python",
   "name": "python",
   "nbconvert_exporter": "python",
   "pygments_lexer": "ipython3",
   "version": "3.9.7"
  }
 },
 "nbformat": 4,
 "nbformat_minor": 5
}
