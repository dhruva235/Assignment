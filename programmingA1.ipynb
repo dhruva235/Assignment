{
 "cells": [
  {
   "cell_type": "code",
   "execution_count": 1,
   "id": "225955f9",
   "metadata": {},
   "outputs": [
    {
     "name": "stdout",
     "output_type": "stream",
     "text": [
      "Hello Python\n"
     ]
    }
   ],
   "source": [
    "#1. Write a Python program to print &quot;Hello Python&quot;?\n",
    "\n",
    "\n",
    "print(\"Hello Python\")\n"
   ]
  },
  {
   "cell_type": "code",
   "execution_count": 45,
   "id": "f93148e1",
   "metadata": {},
   "outputs": [
    {
     "name": "stdout",
     "output_type": "stream",
     "text": [
      "Press 1 for add 2 for div\n",
      "1 or 2 for ADd or Div2\n",
      "Enter Number110\n",
      "Enter Number25\n",
      "Division is 2.0\n"
     ]
    }
   ],
   "source": [
    "#2.Write a Python program to do arithmetical operations addition and division.?\n",
    "print(\"Press 1 for add 2 for div\")\n",
    "a = int(input(\"1 or 2 for ADd or Div\"))\n",
    "n = int(input(\"Enter Number1\"))\n",
    "m = int(input(\"Enter Number2\"))\n",
    "if a == 1:\n",
    "    \n",
    "    print(\"Addtion is\",m+n)\n",
    "else:\n",
    "    print(\"Division is\",n/m)  \n",
    "\n",
    "    "
   ]
  },
  {
   "cell_type": "markdown",
   "id": "e30af87a",
   "metadata": {},
   "source": [
    "3. Describe three different data types.\n",
    "Integers – This value is represented by int class. It contains positive or negative whole\n",
    "numbers (without fraction or decimal). In Python there is no limit to how long an integer\n",
    "value can be.\n",
    "Float – This value is represented by float class. It is a real number with floating point\n",
    "representation. It is specified by a decimal point. Optionally, the character e or E followed\n",
    "by a positive or negative integer may be appended to specify scientific notation.\n",
    "Complex Numbers – Complex number is represent"
   ]
  },
  {
   "cell_type": "code",
   "execution_count": 46,
   "id": "5bf082cd",
   "metadata": {},
   "outputs": [
    {
     "name": "stdout",
     "output_type": "stream",
     "text": [
      "enter h10\n",
      "enter b12\n",
      "Area is 60.0\n"
     ]
    }
   ],
   "source": [
    "#Write a Python program to find the area of a triangle?\n",
    "\n",
    "h = int(input(\"enter h\"))\n",
    "b = int(input(\"enter b\"))\n",
    "print(\"Area is\",b*h/2)"
   ]
  },
  {
   "cell_type": "code",
   "execution_count": 48,
   "id": "bd275ad2",
   "metadata": {},
   "outputs": [
    {
     "name": "stdout",
     "output_type": "stream",
     "text": [
      "enter a12\n",
      "enter b23\n",
      "after swapping values are\n",
      "23\n",
      "12\n"
     ]
    }
   ],
   "source": [
    "#Write a Python program to swap two variables?\n",
    "\n",
    "a = int(input(\"enter a\"))\n",
    "b = int(input(\"enter b\"))\n",
    "a,b = b,a\n",
    "print(\"after swapping values are\")\n",
    "print(a)\n",
    "print(b)"
   ]
  },
  {
   "cell_type": "code",
   "execution_count": 59,
   "id": "0b89d7b5",
   "metadata": {},
   "outputs": [
    {
     "name": "stdout",
     "output_type": "stream",
     "text": [
      "0.7586561217804529\n"
     ]
    }
   ],
   "source": [
    "#Write a Python program to generate a random number?Write a Python program to generate a random number?\n",
    "\n",
    "import random\n",
    "n = random.random()\n",
    "print(n)"
   ]
  },
  {
   "cell_type": "code",
   "execution_count": null,
   "id": "23d141bf",
   "metadata": {},
   "outputs": [],
   "source": []
  },
  {
   "cell_type": "code",
   "execution_count": null,
   "id": "5bee34bc",
   "metadata": {},
   "outputs": [],
   "source": []
  },
  {
   "cell_type": "code",
   "execution_count": null,
   "id": "f93521a0",
   "metadata": {},
   "outputs": [],
   "source": []
  },
  {
   "cell_type": "code",
   "execution_count": null,
   "id": "ce3d01ea",
   "metadata": {},
   "outputs": [],
   "source": []
  }
 ],
 "metadata": {
  "kernelspec": {
   "display_name": "Python 3 (ipykernel)",
   "language": "python",
   "name": "python3"
  },
  "language_info": {
   "codemirror_mode": {
    "name": "ipython",
    "version": 3
   },
   "file_extension": ".py",
   "mimetype": "text/x-python",
   "name": "python",
   "nbconvert_exporter": "python",
   "pygments_lexer": "ipython3",
   "version": "3.9.7"
  }
 },
 "nbformat": 4,
 "nbformat_minor": 5
}
