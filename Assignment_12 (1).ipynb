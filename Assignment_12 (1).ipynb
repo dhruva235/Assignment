{
 "cells": [
  {
   "cell_type": "markdown",
   "id": "62a2c23a",
   "metadata": {},
   "source": [
    "##### 1. In what modes should the PdfFileReader() and PdfFileWriter() File objects will be opened?\n"
   ]
  },
  {
   "cell_type": "code",
   "execution_count": null,
   "id": "bd949187",
   "metadata": {},
   "outputs": [],
   "source": [
    "Ans: For PdfFileReader() file objects should be opened in rb -> read binary mode, \n",
    "Whereas for PdfFileWriter() file objects should be opened in wb-> write binary mode."
   ]
  },
  {
   "cell_type": "markdown",
   "id": "8e49b53e",
   "metadata": {},
   "source": [
    "##### 2. From a PdfFileReader object, how do you get a Page object for page 5?\n",
    "###### Ans: PdfFileReader class provides a method called getPage(page_no) to get a page obj"
   ]
  },
  {
   "cell_type": "code",
   "execution_count": 2,
   "id": "2b31bd7a",
   "metadata": {},
   "outputs": [
    {
     "name": "stdout",
     "output_type": "stream",
     "text": [
      "Collecting PyPDF2\n",
      "  Downloading PyPDF2-2.10.3-py3-none-any.whl (214 kB)\n",
      "Requirement already satisfied: typing-extensions in c:\\users\\msi\\anaconda3\\lib\\site-packages (from PyPDF2) (3.10.0.2)\n",
      "Installing collected packages: PyPDF2\n",
      "Successfully installed PyPDF2-2.10.3\n",
      "Note: you may need to restart the kernel to use updated packages.\n"
     ]
    }
   ],
   "source": [
    "pip install PyPDF2"
   ]
  },
  {
   "cell_type": "code",
   "execution_count": 12,
   "id": "51d04676",
   "metadata": {},
   "outputs": [
    {
     "name": "stdout",
     "output_type": "stream",
     "text": [
      "{'/Title': 'karcetapplication2022', '/Author': '', '/Subject': '', '/Creator': 'Microsoft Reporting Services 12.0.0.0', '/Producer': 'Microsoft Reporting Services PDF Rendering Extension 12.0.0.0', '/CreationDate': \"D:20220821202431+05'30'\"}\n",
      "4\n"
     ]
    }
   ],
   "source": [
    "from PyPDF2 import PdfFileReader\n",
    "pdf_path=r\"C:\\Users\\MSI\\Downloads\\keaapplicationpd_3920200332021_21082022_202430.pdf\"\n",
    "with open(pdf_path, 'rb') as f:\n",
    "        pdf = PdfFileReader(f)\n",
    "        information = pdf.getDocumentInfo()\n",
    "        number_of_pages = pdf.getNumPages()\n",
    "        print(information)\n",
    "        print(number_of_pages)\n"
   ]
  },
  {
   "cell_type": "markdown",
   "id": "43bd5013",
   "metadata": {},
   "source": [
    "#### 3. What PdfFileReader variable stores the number of pages in the PDF document?\n",
    "##### Ans: getNumPages() method of PdfFileReader class stores the no pages in a PDF document"
   ]
  },
  {
   "cell_type": "code",
   "execution_count": 14,
   "id": "be3d422c",
   "metadata": {},
   "outputs": [
    {
     "name": "stdout",
     "output_type": "stream",
     "text": [
      "4\n"
     ]
    }
   ],
   "source": [
    "from PyPDF2 import PdfFileReader\n",
    "pdf_path=r\"C:\\Users\\MSI\\Downloads\\keaapplicationpd_3920200332021_21082022_202430.pdf\"\n",
    "with open(pdf_path, 'rb') as f:\n",
    "        pdf = PdfFileReader(f)\n",
    "        \n",
    "        number_of_pages = pdf.getNumPages()\n",
    "       \n",
    "        print(number_of_pages)"
   ]
  },
  {
   "cell_type": "markdown",
   "id": "d9be376b",
   "metadata": {},
   "source": [
    "#### 4. If a PdfFileReader object’s PDF is encrypted with the password swordfish, what must you do before you can obtain Page objects from it?\n",
    "##### Ans: If a PdfFileReader object’s PDF is encrypted with the password swordfish and you're not aware of it. first read the Pdf using the PdfFileReader Class. PdfFileReader class provides a attribute called isEncrypted to check whether a pdf is encrypted or not. the method returns true if a pdf is encrypted and vice versa.\n",
    "##### if pdf is encrypted use the decrypt() method provided by PdfFileReader class first then try to read the contents/pages of the pdf, else PyPDF2 will raise the following error PyPDF2.utils.PdfReadError: file has not been decrypted"
   ]
  },
  {
   "cell_type": "code",
   "execution_count": 16,
   "id": "e5ff3b6b",
   "metadata": {},
   "outputs": [
    {
     "name": "stdout",
     "output_type": "stream",
     "text": [
      "4YÍħ[\u0003²lc\\h\u0003\u0003\n",
      "Candidate Name  :\n",
      "DHANYA B M\n",
      "\u0003\n",
      "Q2¡l[\u0003²lc\\h\u0003\u0003\n",
      "Father Name/Guardian Name  \n",
      "MAHABALA B C\n",
      "eĵ[\u0003²lc\\h\u0003\u0003\n",
      "Mother Name  \n",
      "ASHWINI R\n",
      "dhġ¾S\u0003Ĩ£e2B\u0003\u0003\n",
      "Date of Birth\n",
      "19/04/2004\n",
      "Ĺ2D\u0003\n",
      "Gender\n",
      "FEMALE\n",
      "ū¦ltş\u0003c2lÍ\u0003\u0003\u0003\n",
      "Mobile Number\n",
      "94XXXXXX17\n",
      "6\u000fĳsş\u0003\u0003\n",
      "Email\n",
      "d****3@g****l.com\n",
      "ªeĽĄs[l\u0003\n",
      "Nationality\n",
      "INDIAN\n",
      "4YÍħ[\u0003c2VBS\u000342l\u0003Ļ­ec\u0003\n",
      "Candidate's Postal Address for Communication\n",
      "5Ŗ\u0003¬ltŖ\u0003\u00034ĝ\u0003\n",
      "Online  Application Form \n",
      "I\n",
      ".General Details\n",
      "Ļ­ec\u0003\u0003\u0003\u0003\n",
      "Address \n",
      "DHANYA B.M D/O MAHABALA  B.C BALEKONDA, BALEHOLE \n",
      "POST, MOODIGERE TALUK, CHIKKAMAGALURU DISTRICT \n",
      "577179\n",
      "ªeIÍ\u0003\u0003\n",
      "State\n",
      "KARNATAKA\n",
      "ĝ¬lÐ\u0003\u0003\n",
      "District\n",
      "CHIKKAMAGALURU (CHIKMANGALUR )\n",
      "e^iÐBh\u0003\n",
      "Taluk\n",
      "MUDIGERE\n",
      "īŖ\u0003lisŏ\u0003\n",
      "Pin Code\n",
      "577179\n",
      "Īs`\u0003\u0014\u0012\u0014\u0014\u0003Ĕ´2Q\u0003ūS^h\u0003ľ6ġ\u0003\u0011\u0003Īsō\u0003\u0011\u0003£ee\u0003VĸsďlDĺl\u0003\n",
      "²eIªeĖĨÅsªe!\n",
      "Have you Appeared for CET / NEET / NATA Exams \n",
      "before 2022?\n",
      "NO\n",
      "ľ6ġ\u0003VÎ®lsa\u0003ġlō\u0003c2lÍ\u0003\n",
      "CET Admission Ticket Number\n",
      "Vĸsďl\u0003XªlS\u0003\u0003`b\n",
      "Year of appearance\n",
      "Īs`\u0003ľ6ġ\u000e\u0003Īsō\u000e\u0003£ee\u0003ZQhÃ\u0003<Ŗ<ľÈD_ĹÐ\u0003©e`¡ls\u0003ľsLh\u0003\n",
      "VlSh\u0003e¬lsĝl\u0003VÎ®lsa\u0003VlĨĨÅsªe!\n",
      "Have you obtained any seat in CET, NEET, NATA \n",
      "and taken Admission to college?\n",
      "NO\n",
      " \n",
      "Academic Details\n",
      "lise\u0003\n",
      "Quota claimed\n",
      "KARNATAKA\n",
      "\u00034de\u0003b\\QhÃ\u0003lisŏ\u0003\u0003\n",
      "Eligibility Clause Code\n",
      "CLAUSE - A\n",
      "Īs`\u0003B£eLB\u0003ªeIÍS\u0003B£eLB\u0003Vĸsďe\u0003Z2Nĺ\u0003Ulch`\u0003<Ť\u0010<Ť\u0010<ş\u0010ľ\u0003Vĸsďl[ĹÐ\u0003\n",
      "lsDl©eĖ\\hĻªls!\n",
      "Completed SSLC from KSEEB, Govt. of Karnataka\n",
      "?\n",
      "YES\n",
      "Do you write/appearing Board Exam of 12th in Karanataka?\n",
      "Yes\n",
      "B£eLBSĹÐ\u0003?Lh¾\u0003`bD_\u00034TÍ[U\u0003c2lÍ\u0003\n",
      "\u0013\u0003ĸ2S\u0003\u0013\u0014\u0003£ls\u0003Q\\DĦ`ªll\u000b",
      "\n",
      "7RWDO\u0003QXPEHU\u0003RI\u0003\\HDUV\u0003RI\u0003VWXG\\\u0003LQ\u0003.DUQDWDND\u0003\u000b",
      ")URP\u0003\u0014VW\u0003WR\u0003\u0014\u0015WK\u00036WG\u0011\f",
      "\u0003\n",
      "12\n",
      "21-08-2022 08-24-30\n",
      " Printed Date:\n",
      "1\n",
      "Page No:\n",
      "Appln No: \n",
      "3920200332021\n",
      "Edit Final Copy\n",
      "\n",
      "4de\u0003Vĸsďe\u0003Z2Nĺ\u0003\n",
      "Qualifying Examination Board\n",
      " \n",
      "KARNATAKA ( STATE BOARD )\n",
      "e¬lsIh\u0003VÎe\\\u0003\n",
      "College Type\n",
      "PRIVATE\n",
      "\u0014\u0003£ls\u0003ī[hľ\u0003\u0011\u0003\u0013\u0014\u0003£ls\u0003\u0011\u0003c¨eU\u0003Vĸsďl[\u0003ªeIÍ\u0003\n",
      "State of 2nd PUC / 12th/ Equivalent exam\n",
      "KARNATAKA ( STATE BOARD )\n",
      "District of 2nd PUC/12th/Equivalent exam (if studied in karnatka)\n",
      "UDUPI\n",
      "Student of Karnataka 2nd PUC\n",
      "ī[hľ\u0003Ļ¡eÍħ\u0003c2lÍ\u0003\u0003\n",
      "PUC Student Number\n",
      "2021SU02650124\n",
      "lsDl©eS\u0003`b\u0003\n",
      "Year of Passing\n",
      "2022\n",
      "Candidate SSLC/10th standard Registration Number (as per markscard)\n",
      "20200332021\n",
      "ľ6ġ\u0003\u000f\u0014\u0012\u0014\u0014\u0003\\\u0003Vĸsďe\u0003cÄ_\u0003\u000f\u0003ūS^\u00035SÍl\u0003\n",
      "Exam Place for CET-2022 - First Priority\n",
      "UDUPI\n",
      "ľ6ġ\u0003\u000f\u0014\u0012\u0014\u0014\u0003\\\u0003Vĸsďe\u0003cÄ_\u0003\u000f\u0003<\\N£ls\u00035SÍl\u0003\n",
      "Exam Place for CET-2022 - Second Priority\n",
      "KARKALA\n",
      "BjĽ\n",
      "\u0003\u0003lise\u00034ģ[ĹÐ\u0003Ĳsc¬eĦ\u0003Vl[^h\u0003Īs`\u00034dªeĖĨÅsªe!\n",
      "$UH\u0003\\RX\u0003HOLJLEOH\u0003WR\u0003FODLP\u0003UHVHUYDWLRQ\u0003XQGHU\u0003$JULFXOWXULVW\u00034XRWD\u0003\"\u0003\n",
      "NO\n",
      "BjĽ\u0003¤eÎŴsĖB\u0003Vĸsďll\u0003²eIªeD^h\u0003cÄ_\u0003\n",
      "Place to appear for Agriculture Practical Exam \n",
      "Caste/ Income\n",
      "TZ\u0003\n",
      "Religion\n",
      "HINDU\n",
      "eĦ[\u0003²lc\\h\u0003\u0003\n",
      "Name of the Caste \n",
      "BRAMINS\n",
      "Ĳsc¬eĦ\u0003`D\u0003\u0003\u0003\u0003\n",
      "Reservation category\n",
      "GM\n",
      "eĦ\u0003VÎ¨ePVQÎ\u00035ģ\u0003c2lÍ\n",
      "\u0003&DVWH\u0003&HUWLILFDWH\u00035'\u00031XPEHU\n",
      "5¡e[\u0003VÎ¨ePVQÎ\u00035ģ\u0003c2lÍ\u0003\n",
      "Income Certificate RD Number\n",
      "RD0038867046571\n",
      "¨eQj\u0003§e°l\u0003\u0003\n",
      "Mother Tongue\n",
      "KANNADA\n",
      "Annual Income\n",
      "50000\n",
      "Reservation\n",
      "NCC\n",
      "NO\n",
      "SPORTS\n",
      "YES\n",
      "SCOUTS & GUIDES\n",
      "NO\n",
      "DEFENCE\n",
      "NO\n",
      "EX-DEFENCE\n",
      "NO\n",
      "PH (DIFFERENTLY ABLED)\n",
      "NO\n",
      "ANGLO-INDIAN\n",
      "NO\n",
      "CENTRAL ARMED POLICE FORCE\n",
      "NO\n",
      "EX-CENTRAL ARMED POLICE FORCE\n",
      "NO\n",
      " KANNADA\n",
      "YES\n",
      " RURAL\n",
      "YES\n",
      "21-08-2022 08-24-30\n",
      " Printed Date:\n",
      "2\n",
      "Page No:\n",
      "Appln No: \n",
      "3920200332021\n",
      "Edit Final Copy\n",
      "\n",
      "Study Details\n",
      "ci´ş\u0003\u0011\u0003e¬lsĝU\u0003Ļ­ec\u0003\u0003\n",
      "®eÍc2DS\u0003\n",
      "Name and Address of the School\n",
      "\u0003Q\\DĦD_",
      "\u0003\n",
      "Class Studied\n",
      "`b\u0003\n",
      "Year of Study To\n",
      "prabhodhini vidhya kendrea kalasa \n",
      "1-10\n",
      "2010-2020\n",
      "prn amratha bharathi\n",
      "11-12\n",
      "2021-2022\n",
      "ęisbl\u0003\n",
      "Declaration\n",
      "7\u00035Ŗ\u0003¬ltŖ\u0003Zhe2Q\\\u0003Īsģ\\h`\u0003<¬eÐ\u0003²lsĺlD_",
      "\u0003\u0011\u0003¨eĿĦD_",
      "\u0003UZl\u0003ĦĺSZġ¾l\u0003cQÍ\u0003²eDh\u0003ĪC\\®l2Sh\u00037\u0003Zi^B\u0003\n",
      "ęisĽchlÃs®l\u0003\u0010\u00037\u00035Ŗ\u0003¬ltŖ\u00034ĝ\u0003Qh2Xh`Sl´\u0003c2X2ĩľS2l\u0003¨eĿĦ\u0003ltīģ[ĹÐ\u0003²eDh\u0003l6<\u0003®lř\u0003±ltō\u0003UĹÐ\u0003Īsģ\\h`\u0003<¬eÐ\u0003\n",
      "¨eĿĦ\u0011\u0003ciG£lD_UhÇ\u0003Qh2¦e\u0003<G¹ĸlĵ2S\u0003@Ĩ\\hlÃs®l\u0010\u0003?2Sh\u0003®ls­l\u0003£e`\u00035Ŗ\u0003¬ltŖ\u0003Zhe2Q\\\u0003Īsģ\\h`\u0003©e`¡ls\u0003¨eĿĦ[h\u0003\n",
      "QVÈ\u00034R®e\u00034cQÍ®l2Sh\u0003B2Nh\u0003X2SĹÐ\u0003B£eLB\u0003Vĸsďe\u0003¤eÎĩe\\`\u00037\u0003c2X2T\u0003UZÌ\u0003Ļ\\hSÆ\u0003llShli_ÑXdh¡eS\u0003eUiUh\u0003ĸsĦ[\u0003\n",
      "BÎZDĺl\u0003XSÆ£eĖ\\hlÃs®l\u0010\n",
      "We declare that the information furnished through online is true and correct to the best of our knowledge and belief. \n",
      "We have read the instructions carefully hosted on the KEA website \"Information Bulletin for Filling up of Online \n",
      "Application\". In case any of the information furnished online by us is found to be false or incorrect, We are also liable \n",
      "for action, that the State Government or the KEA may take against us in this regard.\n",
      "¤eÎ2ah¤e^\\\u0003\u0011\u0003\u0003Dllŏ\u00035Ĭscŝ\u0003cĿ\u0003\u0003\n",
      "Principal / Gazetted Officer Signature\n",
      "²lc\\h\u0003\u0003\u0003\u0003\u0003\u0003\u0003\u0003\u0003\u0003\n",
      "Name :\n",
      "VP\u0003cĿ\u0003\u0003\u0003\n",
      "Signature :\n",
      "ūd\\h\u0003\u0003\u0003\u0003\u0003\u0003\u0003\n",
      "Seal:\n",
      "DZĪľ\u0003\u001c",
      "\u0003\n",
      "1\n",
      "\u0010<¬eÐ\u0003VÎĔÎĶ\u0003VPli2N\u0003U2Q\\\u0003\u00034YÍħ[h\u000342ĦZ\u0003VÎĦ[UhÇ\u0003ZhĨÎľli2Nh\u0003¡eC¬l\u0003\n",
      "eBhÍĳ2ō\u000b",
      "\u0003Vĸļs^£l\u0003\u0003c2SYSĹÐ\u0003\n",
      "BeÀ[®eĖ\u0003cĹÐc¦lsBh\u0010\n",
      "2\n",
      "\u0010ľsLh\u0003d2ěl\u0003VÎĔÎĶ[\u0003cZ[SĹÐ\u0003?SĖch`\u0003eĦ\u0003ZQhÃ\u00035¡e[\u0003VÎ¨eP\u0003VQÎ`\u00035Ŗ\u0003¬ltŖ\u00034ĝ[\u0003cZ[SĹÐ\u0003UZiĨľS\u0003eĦ\u0003ZQhÃ\u0003\n",
      "5¡e[`\u0003BeÀ[®eĖ\u0003?2¡ls\u00035Ė\\¦lsBh\u0010\u000342ĦZ\u0003ęisbl[\u0003U2Q\\\u0003©e`¡ls\u0003e\\PBi´\u0003eĦ[ĹÐ\u0003XS¬e`ll\u00034`eaĻ\\h`Ĩ^Ð\u0010\n",
      "NOTE\n",
      " : 1. \n",
      "After completion of all the process the candidates are required to take final print out of the Online Application Form \n",
      "and submit the same during Document Verification.\n",
      "2. \n",
      "The  CASTE  and  INCOME  certificate  to  be produced by candidates during  seat selection process should  have   the  \n",
      "same  CASTE   and   INCOME,   as  mentioned  in  this  Application  Form. No change in Caste /  Category  will be permitted \n",
      "after the final declaration.\n",
      " JAMMU AND KASHMIR MIGRANTS\n",
      "NO\n",
      "KALYANA KARNATAKA RESERVATION\n",
      "NO\n",
      "Payment Details\n",
      "AppNo\n",
      "3920200332021\n",
      "Bank Ref No.\n",
      "WHD41112075077\n",
      "Application Fee\n",
      "Rs. 500\n",
      "Bank Name\n",
      "Bill desk\n",
      "Paid Date\n",
      "28/04/2022\n",
      "21-08-2022 08-24-30\n",
      " Printed Date:\n",
      "3\n",
      "Page No:\n",
      "Appln No: \n",
      "3920200332021\n",
      "Edit Final Copy\n",
      "\n",
      " \n",
      "Left hand Thumb of \n",
      "Candidate\n",
      "4YÍħ[\u0003cĿ\n",
      "Signature of the \n",
      "Candidate\n",
      "27/06/2022\n",
      "Declared Date\n",
      "21-08-2022 08-24-30\n",
      " Printed Date:\n",
      "4\n",
      "Page No:\n",
      "Appln No: \n",
      "3920200332021\n",
      "Edit Final Copy\n",
      "\n"
     ]
    }
   ],
   "source": [
    "from PyPDF2 import PdfFileReader\n",
    "pdf_path=r\"C:\\Users\\MSI\\Downloads\\keaapplicationpd_3920200332021_21082022_202430.pdf\"\n",
    "pdf_reader = PdfFileReader(pdf_path)\n",
    "if pdf_reader.isEncrypted: # to check whether the pdf is encrypted or not\n",
    "    pdf_reader.decrypt(\"swordfish\")\n",
    "for page in pdf_reader.pages:\n",
    "    print(page.extractText()) # to print the text data of a page from pdf"
   ]
  },
  {
   "cell_type": "code",
   "execution_count": null,
   "id": "6dbcf173",
   "metadata": {},
   "outputs": [],
   "source": [
    "#5. What methods do you use to rotate a page?\n",
    "Ans: PyPDF2 Package provides 2 methods to rotate a page:\n",
    "\n",
    "rotateClockWise() -> For Clockwise rotation\n",
    "rotateCounterClockWise() -> For Counter Clockwise rotation\n",
    "The PyPDF2 package only allows you to rotate a page in increments of 90 degrees.\n",
    "You will receive an AssertionError otherwise.\n",
    "\n"
   ]
  },
  {
   "cell_type": "code",
   "execution_count": null,
   "id": "f54d5b30",
   "metadata": {},
   "outputs": [],
   "source": [
    "#6. What is the difference between a Run object and a Paragraph object?\n",
    "Ans: The structure of a document is represented by three different data types in python-Docx. \n",
    "At the highest level, a Document object represents the entire document.\n",
    "The Document object contains a list of Paragraph objects for the paragraphs in the document.\n",
    "(A new paragraph begins whenever the user presses ENTER or RETURN while typing in a Word document.) \n",
    "Each of these Paragraph objects contains a list of one or more Run objects.\n",
    "\n",
    "The text in a Word document is more than just a string. \n",
    "It has font, size, color, and other styling information associated with it.\n",
    "A style in Word is a collection of these attributes.\n",
    "A Run object is a contiguous run of text with the same style.\n",
    "A new Run object is needed whenever the text style changes."
   ]
  },
  {
   "cell_type": "code",
   "execution_count": 18,
   "id": "2e9ef773",
   "metadata": {},
   "outputs": [
    {
     "ename": "SyntaxError",
     "evalue": "(unicode error) 'unicodeescape' codec can't decode bytes in position 2-3: truncated \\UXXXXXXXX escape (Temp/ipykernel_2112/521839523.py, line 4)",
     "output_type": "error",
     "traceback": [
      "\u001b[1;36m  File \u001b[1;32m\"C:\\Users\\MSI\\AppData\\Local\\Temp/ipykernel_2112/521839523.py\"\u001b[1;36m, line \u001b[1;32m4\u001b[0m\n\u001b[1;33m    doc = Document(\"C:\\Users\\MSI\\Downloads\\03.Decisione.docx\") # Path of the Docx file\u001b[0m\n\u001b[1;37m                                                             ^\u001b[0m\n\u001b[1;31mSyntaxError\u001b[0m\u001b[1;31m:\u001b[0m (unicode error) 'unicodeescape' codec can't decode bytes in position 2-3: truncated \\UXXXXXXXX escape\n"
     ]
    }
   ],
   "source": [
    "#7. How do you obtain a list of Paragraph objects for a Document object that’s stored in a variable named doc?\n",
    "# Example Program\n",
    "from docx import Document\n",
    "doc = Document(\"C:\\Users\\MSI\\Downloads\\03.Decisione.docx\") # Path of the Docx file\n",
    "print(doc.paragraphs) # Prints the list of Paragraph objects for a Document\n",
    "for paragraph in doc.paragraphs:\n",
    "    print(paragraph.text) # Prints the text in the paragraph"
   ]
  },
  {
   "cell_type": "markdown",
   "id": "823c5872",
   "metadata": {},
   "source": [
    "#### 8. What type of object has bold, underline, italic, strike, and outline variables?\n",
    "##### Ans: Run object has bold, underline, italic, strike, and outline variables. The text in a Word document is more than just a string. It has font, size, color, and other styling information associated with it.\n",
    "\n",
    "##### A style in Word is a collection of these attributes. A Run object is a contiguous run of text with the same style. A new Run object is needed whenever the text style changes."
   ]
  },
  {
   "cell_type": "markdown",
   "id": "69d8582b",
   "metadata": {},
   "source": [
    "#### 9. What is the difference between False, True, and None for the bold variable?\n"
   ]
  },
  {
   "cell_type": "code",
   "execution_count": 19,
   "id": "9426e615",
   "metadata": {},
   "outputs": [],
   "source": [
    "bold = True  # Style Set to Bold\n",
    "bold = False # Style Not Set to Bold\n",
    "bold = None # Style is Not Applicable"
   ]
  },
  {
   "cell_type": "code",
   "execution_count": null,
   "id": "2dba0db8",
   "metadata": {},
   "outputs": [],
   "source": [
    "\n",
    "#10. How do you create a Document object for a new Word document?\n"
   ]
  },
  {
   "cell_type": "code",
   "execution_count": 21,
   "id": "64a04c80",
   "metadata": {},
   "outputs": [
    {
     "name": "stdout",
     "output_type": "stream",
     "text": [
      "Collecting docx\n",
      "  Downloading docx-0.2.4.tar.gz (54 kB)\n",
      "Requirement already satisfied: lxml in c:\\users\\msi\\anaconda3\\lib\\site-packages (from docx) (4.6.3)\n",
      "Requirement already satisfied: Pillow>=2.0 in c:\\users\\msi\\anaconda3\\lib\\site-packages (from docx) (8.4.0)\n",
      "Building wheels for collected packages: docx\n",
      "  Building wheel for docx (setup.py): started\n",
      "  Building wheel for docx (setup.py): finished with status 'done'\n",
      "  Created wheel for docx: filename=docx-0.2.4-py3-none-any.whl size=53924 sha256=2cccda2ef6f6c00bf974fa76cc0b1b2b4537c1bc18ca5b7f3e4cbc9d03b4c4c5\n",
      "  Stored in directory: c:\\users\\msi\\appdata\\local\\pip\\cache\\wheels\\0f\\8e\\9d\\7003eed35a84cf960876aae6bdf60d02041ddfcca66eceee94\n",
      "Successfully built docx\n",
      "Installing collected packages: docx\n",
      "Successfully installed docx-0.2.4\n",
      "Note: you may need to restart the kernel to use updated packages.\n"
     ]
    }
   ],
   "source": [
    "pip install docx\n"
   ]
  },
  {
   "cell_type": "code",
   "execution_count": null,
   "id": "501ac9dc",
   "metadata": {},
   "outputs": [],
   "source": [
    "# Example Program\n",
    "from docx import Document\n",
    "document = Document()\n",
    "document.add_paragraph(\"iNeuron Full Stack DataScience Course\")\n",
    "document.save('mydocument.docx')"
   ]
  },
  {
   "cell_type": "code",
   "execution_count": null,
   "id": "d28f49cf",
   "metadata": {},
   "outputs": [],
   "source": [
    "#11. How do you add a paragraph with the text 'Hello, there!' to a Document object stored in a variable named doc?\n",
    "# Example Program\n",
    "from docx import Document\n",
    "doc = Document()\n",
    "doc.add_paragraph('Hello, there!')\n",
    "doc.save('hello.docx')\n"
   ]
  },
  {
   "cell_type": "code",
   "execution_count": null,
   "id": "f401c72d",
   "metadata": {},
   "outputs": [],
   "source": [
    "12. What integers represent the levels of headings available in Word documents?\n",
    "Ans: The levels for a heading in a word document can be specified by using the level attribute inside the add_heading method.\n",
    "    There are a total of 5 levels statring for 0 t0 4. where level 0 makes a headline with the horizontal line below the text,\n",
    "    whereas the heading level 1 is the main heading. \n",
    "    Similarly, the other headings are sub-heading\n",
    "    with their's font-sizes in decreasing order."
   ]
  },
  {
   "cell_type": "code",
   "execution_count": null,
   "id": "f8a6ceac",
   "metadata": {},
   "outputs": [],
   "source": []
  }
 ],
 "metadata": {
  "kernelspec": {
   "display_name": "Python 3 (ipykernel)",
   "language": "python",
   "name": "python3"
  },
  "language_info": {
   "codemirror_mode": {
    "name": "ipython",
    "version": 3
   },
   "file_extension": ".py",
   "mimetype": "text/x-python",
   "name": "python",
   "nbconvert_exporter": "python",
   "pygments_lexer": "ipython3",
   "version": "3.9.7"
  }
 },
 "nbformat": 4,
 "nbformat_minor": 5
}
