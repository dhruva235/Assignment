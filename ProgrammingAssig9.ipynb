{
 "cells": [
  {
   "cell_type": "code",
   "execution_count": 1,
   "metadata": {},
   "outputs": [
    {
     "name": "stdout",
     "output_type": "stream",
     "text": [
      "hi\n"
     ]
    }
   ],
   "source": [
    "print(\"hi\")"
   ]
  },
  {
   "cell_type": "code",
   "execution_count": 6,
   "metadata": {},
   "outputs": [
    {
     "name": "stdout",
     "output_type": "stream",
     "text": [
      "134 its not  Disarium\n"
     ]
    }
   ],
   "source": [
    "# Python program to check whether a number is Disarium\n",
    "\n",
    "def distrum(num):\n",
    "    n= num\n",
    "    sum = 0\n",
    "    a= len(str(n))\n",
    "    while(n!=0):\n",
    "        rem = n%10\n",
    "        sum+=int(rem**a)\n",
    "        n=n//10\n",
    "        a-=1\n",
    "    if(num==sum):\n",
    "        print(str(num),\" Is a Disarium\")\n",
    "    else:\n",
    "        print(str(num),\"its not  Disarium\")\n",
    "distrum(134)\n",
    "\n"
   ]
  },
  {
   "cell_type": "code",
   "execution_count": 8,
   "metadata": {},
   "outputs": [
    {
     "name": "stdout",
     "output_type": "stream",
     "text": [
      "Disarium numbers between 1 and 100 are\n",
      "1\n",
      "2\n",
      "3\n",
      "4\n",
      "5\n",
      "6\n",
      "7\n",
      "8\n",
      "9\n",
      "89\n"
     ]
    }
   ],
   "source": [
    "#Write a Python program to print all disarium numbers between 1 to 100?\n",
    "\n",
    "def distrum(num):\n",
    "    n= num\n",
    "    sum = 0\n",
    "    a= len(str(n))\n",
    "    while(n!=0):\n",
    "        rem = n%10\n",
    "        sum+=int(rem**a)\n",
    "        n=n//10\n",
    "        a-=1\n",
    "    return sum\n",
    "\n",
    "    result = 0;    \n",
    "     \n",
    "#Displays all disarium numbers between 1 and 100    \n",
    "print(\"Disarium numbers between 1 and 100 are\");    \n",
    "for i in range(1, 101):    \n",
    "    result = distrum(i);    \n",
    "        \n",
    "    if(result == i):    \n",
    "        print(i),        "
   ]
  },
  {
   "cell_type": "code",
   "execution_count": 9,
   "metadata": {},
   "outputs": [
    {
     "name": "stdout",
     "output_type": "stream",
     "text": [
      "13 is a Happy number\n"
     ]
    }
   ],
   "source": [
    "#3.Write a Python program to check if the given number is Happy Number?\n",
    "\n",
    "def numSquareSum(n):\n",
    "\tsquareSum = 0;\n",
    "\twhile(n):\n",
    "\t\tsquareSum += (n % 10) * (n % 10);\n",
    "\t\tn = int(n / 10);\n",
    "\treturn squareSum;\n",
    "\n",
    "def isHappynumber(n):\n",
    "\n",
    "\t\n",
    "\tslow = n;\n",
    "\tfast = n;\n",
    "\twhile(True):\n",
    "\t\t\n",
    "\t\n",
    "\t\tslow = numSquareSum(slow);\n",
    "\n",
    "\t\tfast = numSquareSum(numSquareSum(fast));\n",
    "\t\tif(slow != fast):\n",
    "\t\t\tcontinue;\n",
    "\t\telse:\n",
    "\t\t\tbreak;\n",
    "\n",
    "\treturn (slow == 1);\n",
    "\n",
    "# Driver Code\n",
    "n = 13;\n",
    "if (isHappynumber(n)):\n",
    "\tprint(n , \"is a Happy number\");\n",
    "else:\n",
    "\tprint(n , \"is not a Happy number\");\n",
    "\n"
   ]
  },
  {
   "cell_type": "code",
   "execution_count": 10,
   "metadata": {},
   "outputs": [
    {
     "name": "stdout",
     "output_type": "stream",
     "text": [
      "List of happy numbers between 1 and 100: \n",
      "1\n",
      " \n",
      "7\n",
      " \n",
      "10\n",
      " \n",
      "13\n",
      " \n",
      "19\n",
      " \n",
      "23\n",
      " \n",
      "28\n",
      " \n",
      "31\n",
      " \n",
      "32\n",
      " \n",
      "44\n",
      " \n",
      "49\n",
      " \n",
      "68\n",
      " \n",
      "70\n",
      " \n",
      "79\n",
      " \n",
      "82\n",
      " \n",
      "86\n",
      " \n",
      "91\n",
      " \n",
      "94\n",
      " \n",
      "97\n",
      " \n",
      "100\n",
      " \n"
     ]
    }
   ],
   "source": [
    "#4. Write a Python program to check if the given number is Happy Number 1-100\n",
    "\n",
    "def isHappyNumber(num):    \n",
    "    rem = sum = 0;    \n",
    "        \n",
    "      \n",
    "    while(num > 0):    \n",
    "        rem = num%10;    \n",
    "        sum = sum + (rem*rem);    \n",
    "        num = num//10;    \n",
    "    return sum;    \n",
    "            \n",
    "  \n",
    "print(\"List of happy numbers between 1 and 100: \");    \n",
    "for i in range(1, 101):    \n",
    "    result = i;    \n",
    "        \n",
    "    \n",
    "    while(result != 1 and result != 4):    \n",
    "        result = isHappyNumber(result);    \n",
    "        \n",
    "    if(result == 1):    \n",
    "        print(i),    \n",
    "        print(\" \")"
   ]
  },
  {
   "cell_type": "code",
   "execution_count": 11,
   "metadata": {},
   "outputs": [
    {
     "name": "stdout",
     "output_type": "stream",
     "text": [
      "Yes\n"
     ]
    }
   ],
   "source": [
    "#5. Write a Python program to determine whether the given number is a Harshad Number?\n",
    "\n",
    "\n",
    "def checkHarshad(n):\n",
    "\n",
    "\t\n",
    "\tst = str(n)\n",
    "\t\n",
    "\tsum = 0\n",
    "\tlength = len(st)\n",
    "\tfor i in st:\n",
    "\n",
    "\t\n",
    "\t\tsum = sum + int(i)\n",
    "\t\t\n",
    "\n",
    "\tif (n % sum == 0):\n",
    "\t\treturn \"Yes\"\n",
    "\telse:\n",
    "\t\treturn \"No\"\n",
    "\n",
    "\n",
    "\n",
    "number = 18\n",
    "\n",
    "print(checkHarshad(number))\n",
    "\n"
   ]
  },
  {
   "cell_type": "code",
   "execution_count": 12,
   "metadata": {},
   "outputs": [
    {
     "name": "stdout",
     "output_type": "stream",
     "text": [
      "Pronic numbers between 1 and 100: \n",
      "2\n",
      " \n",
      "6\n",
      " \n",
      "12\n",
      " \n",
      "20\n",
      " \n",
      "30\n",
      " \n",
      "42\n",
      " \n",
      "56\n",
      " \n",
      "72\n",
      " \n",
      "90\n",
      " \n"
     ]
    }
   ],
   "source": [
    "\n",
    "#6. Write a Python program to print all pronic numbers between 1 and 100?\n",
    "def isPronicNumber(num):    \n",
    "    flag = False;    \n",
    "        \n",
    "    for j in range(1, num+1):    \n",
    "        #Checks for pronic number by multiplying consecutive numbers    \n",
    "        if((j*(j+1)) == num):    \n",
    "            flag = True;    \n",
    "            break;    \n",
    "    return flag;    \n",
    "     \n",
    "#Displays pronic numbers between 1 and 100    \n",
    "print(\"Pronic numbers between 1 and 100: \");    \n",
    "for i in range(1, 101):    \n",
    "    if(isPronicNumber(i)):    \n",
    "        print(i),    \n",
    "        print(\" \"),  "
   ]
  }
 ],
 "metadata": {
  "kernelspec": {
   "display_name": "Python 3.9.7 ('base')",
   "language": "python",
   "name": "python3"
  },
  "language_info": {
   "codemirror_mode": {
    "name": "ipython",
    "version": 3
   },
   "file_extension": ".py",
   "mimetype": "text/x-python",
   "name": "python",
   "nbconvert_exporter": "python",
   "pygments_lexer": "ipython3",
   "version": "3.9.7"
  },
  "orig_nbformat": 4,
  "vscode": {
   "interpreter": {
    "hash": "effe0537abfed60f911a6d119edf3dd23784c9dcf6ad90564d0c8420279a3d36"
   }
  }
 },
 "nbformat": 4,
 "nbformat_minor": 2
}
