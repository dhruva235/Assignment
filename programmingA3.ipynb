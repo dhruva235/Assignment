{
 "cells": [
  {
   "cell_type": "code",
   "execution_count": 71,
   "id": "225955f9",
   "metadata": {},
   "outputs": [
    {
     "name": "stdout",
     "output_type": "stream",
     "text": [
      "Enter a number: 78\n",
      "Positive number\n"
     ]
    }
   ],
   "source": [
    "# 1.Write a Python Program to Check if a Number is Positive, Negative or Zero? \n",
    "num = float(input(\"Enter a number: \"))\n",
    "if num > 0:\n",
    "    print(\"Positive number\")\n",
    "elif num == 0:\n",
    "    print(\"Zero\")\n",
    "else:\n",
    "    print(\"Negative number\")"
   ]
  },
  {
   "cell_type": "code",
   "execution_count": null,
   "id": "f93148e1",
   "metadata": {},
   "outputs": [],
   "source": [
    "num = int(input(\"enter num\"))\n",
    "if (num % 2)==0:\n",
    "    print(\"Even num\")\n",
    "else:\n",
    "    print(\"Odd Number\")\n",
    "\n",
    "\n",
    "\n",
    "\n",
    "    "
   ]
  },
  {
   "cell_type": "markdown",
   "id": "e30af87a",
   "metadata": {},
   "source": [
    "3. Describe three different data types.\n",
    "Integers – This value is represented by int class. It contains positive or negative whole\n",
    "numbers (without fraction or decimal). In Python there is no limit to how long an integer\n",
    "value can be.\n",
    "Float – This value is represented by float class. It is a real number with floating point\n",
    "representation. It is specified by a decimal point. Optionally, the character e or E followed\n",
    "by a positive or negative integer may be appended to specify scientific notation.\n",
    "Complex Numbers – Complex number is represent"
   ]
  },
  {
   "cell_type": "code",
   "execution_count": null,
   "id": "5bf082cd",
   "metadata": {},
   "outputs": [],
   "source": [
    "# 3 Write a Python Program to Check Leap Year?\n",
    "year = int(input(\"enter yera\"))\n",
    "\n",
    "if (year % 400 == 0) and (year % 100 == 0):\n",
    "    print(\"{0} is a leap year\".format(year))\n",
    "\n",
    "elif (year % 4 ==0) and (year % 100 != 0):\n",
    "    print(\"{0} is a leap year\".format(year))\n",
    "else:\n",
    "    print(\"{0} is not a leap year\".format(year))\n"
   ]
  },
  {
   "cell_type": "code",
   "execution_count": null,
   "id": "bd275ad2",
   "metadata": {},
   "outputs": [],
   "source": [
    "# 3Write a Python Program to Print  Prime Number\n",
    "num = int(input(\"enter num\"))\n",
    "count=0\n",
    "if(num>1):\n",
    "    for i in range(2,num):\n",
    "        if(num%i==0):\n",
    "            count+=1\n",
    "            break\n",
    "if(count>0):\n",
    "    print(\" not a prime number\")\n",
    "else:\n",
    "    print(num ,\"its  prime\")\n",
    "          "
   ]
  },
  {
   "cell_type": "code",
   "execution_count": null,
   "id": "0b89d7b5",
   "metadata": {},
   "outputs": [],
   "source": [
    "# Write a Python Program to Print all Prime Numbers in an Interval of 1-10000?\n",
    "\n",
    "lower = 1\n",
    "upper = 1000\n",
    "\n",
    "print(\"Prime numbers between\", lower, \"and\", upper, \"are:\")\n",
    "\n",
    "for num in range(lower, upper + 1):\n",
    "    \n",
    "\n",
    "    if num > 1:\n",
    "        for i in range(2, num):\n",
    "            if (num % i) == 0:\n",
    "                break\n",
    "        else:\n",
    "            print(num)"
   ]
  },
  {
   "cell_type": "code",
   "execution_count": null,
   "id": "23d141bf",
   "metadata": {},
   "outputs": [],
   "source": []
  },
  {
   "cell_type": "code",
   "execution_count": null,
   "id": "5bee34bc",
   "metadata": {},
   "outputs": [],
   "source": [
    "\n",
    "\n",
    "\n"
   ]
  },
  {
   "cell_type": "code",
   "execution_count": null,
   "id": "f93521a0",
   "metadata": {},
   "outputs": [],
   "source": []
  },
  {
   "cell_type": "code",
   "execution_count": null,
   "id": "ce3d01ea",
   "metadata": {},
   "outputs": [],
   "source": []
  }
 ],
 "metadata": {
  "kernelspec": {
   "display_name": "Python 3 (ipykernel)",
   "language": "python",
   "name": "python3"
  },
  "language_info": {
   "codemirror_mode": {
    "name": "ipython",
    "version": 3
   },
   "file_extension": ".py",
   "mimetype": "text/x-python",
   "name": "python",
   "nbconvert_exporter": "python",
   "pygments_lexer": "ipython3",
   "version": "3.9.7"
  }
 },
 "nbformat": 4,
 "nbformat_minor": 5
}
