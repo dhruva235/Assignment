{
  "cells": [
    {
      "cell_type": "markdown",
      "metadata": {
        "id": "view-in-github",
        "colab_type": "text"
      },
      "source": [
        "<a href=\"https://colab.research.google.com/github/dhruva235/Assignment/blob/main/FInal-ML_project.ipynb\" target=\"_parent\"><img src=\"https://colab.research.google.com/assets/colab-badge.svg\" alt=\"Open In Colab\"/></a>"
      ]
    },
    {
      "cell_type": "markdown",
      "id": "c9484c59",
      "metadata": {
        "id": "c9484c59",
        "papermill": {
          "duration": 0.045405,
          "end_time": "2022-12-09T11:11:37.518829",
          "exception": false,
          "start_time": "2022-12-09T11:11:37.473424",
          "status": "completed"
        },
        "tags": []
      },
      "source": [
        "![](https://imgur.com/3VVPpsz)\n",
        "\n"
      ]
    },
    {
      "cell_type": "markdown",
      "id": "70d19639",
      "metadata": {
        "id": "70d19639",
        "papermill": {
          "duration": 0.042805,
          "end_time": "2022-12-09T11:11:37.604787",
          "exception": false,
          "start_time": "2022-12-09T11:11:37.561982",
          "status": "completed"
        },
        "tags": []
      },
      "source": [
        "# Car Sales Prediction- Predict if a car purchased is a Good or Bad\n",
        "\n",
        "![](https://vehiclecare.in/blaze/wp-content/uploads/2022/05/Used-Car-vs-New-Car-Which-One-Should-You-Buy.png)"
      ]
    },
    {
      "cell_type": "markdown",
      "id": "af1988ad",
      "metadata": {
        "id": "af1988ad",
        "papermill": {
          "duration": 0.044288,
          "end_time": "2022-12-09T11:11:37.692663",
          "exception": false,
          "start_time": "2022-12-09T11:11:37.648375",
          "status": "completed"
        },
        "tags": []
      },
      "source": [
        "Machine Learning allows the computer to learn\n",
        "from experience and understand the world in terms of hierarchy. The field of this is interested in\n",
        "finding the regularities in the data through the use of computer algorithms and with the help of these\n",
        "regularities perform tasks like classifying the data into different classes or predicting the output on\n",
        "the basis of input data.\n",
        "\n",
        "### Problem Statement ([Dataset](https://www.kaggle.com/competitions/DontGetKicked/data))\n",
        "* One of the biggest challenges of an auto dealership purchasing a used car at an auto auction is the risk of that the vehicle might have serious issues that prevent it from being sold to customers. The auto community calls these unfortunate purchases \"kicks\".\n",
        "\n",
        "* Kicked cars often result when there are tampered odometers, mechanical issues the dealer is not able to address, issues with getting the vehicle title from the seller, or some other unforeseen problem. Kick cars can be very costly to dealers after transportation cost, throw-away repair work, and market losses in reselling the vehicle.\n",
        "\n",
        "* Modelers who can figure out which cars have a higher risk of being kick can provide real value to dealerships trying to provide the best inventory selection possible to their customers.\n",
        "\n",
        "* The challenge of this competition is to predict if the car purchased at the Auction is a Kick (bad buy).\n",
        "\n",
        "\n",
        "\n",
        "### Approach\n",
        "I'll practice machine learning skills with an approachable training dataset of dates, year ,Mfg Date, price ,type of the Car.\n",
        "\n",
        "### Evaluation\n",
        "\n",
        "The evaluation metric for this project is F1 Score.\n",
        "\n",
        "The F1 is calculated as:\n",
        "\n",
        "$[{2* \\frac{Precision*Recall}{Precision + Recall}}]$\n",
        "\n",
        "where:\n",
        "\n",
        "Precision gives the fraction of correctly identified as positive out of all predicted as positives.\n",
        "$Precision = {2* \\frac{TP}{TP + FP}}$\n",
        "\n",
        "Recall gives the fraction you correctly identified as positive out of all positives.\n",
        "$Recall = {2* \\frac{TP}{TP + FN}}$\n",
        "\n",
        "In this project, I am going to use Numpy, Pandas, Matplotlib, Seaborn, Sklearn libraries of Python."
      ]
    },
    {
      "cell_type": "markdown",
      "id": "41fc1589",
      "metadata": {
        "id": "41fc1589",
        "papermill": {
          "duration": 0.043235,
          "end_time": "2022-12-09T11:11:37.779081",
          "exception": false,
          "start_time": "2022-12-09T11:11:37.735846",
          "status": "completed"
        },
        "tags": []
      },
      "source": [
        "Here's an outline of the project:\n",
        "1. Download the Dataset\n",
        "2. Explore & Analyse the Dataset\n",
        "3. Prepare the Dataset for ML Training\n",
        "4. Train Hardcoded & Baseline Models\n",
        "5. Train & Evaluate Different Model\n",
        "6. Hyperparameter Tuning\n",
        "7. Final model\n",
        "9. Make predictions & submit to Kaggle\n",
        "10. Summary & conclusion\n",
        "11. Future Work Ideas\n",
        "12. References"
      ]
    },
    {
      "cell_type": "markdown",
      "id": "85b77a6e",
      "metadata": {
        "id": "85b77a6e",
        "papermill": {
          "duration": 0.050053,
          "end_time": "2022-12-09T11:11:37.872112",
          "exception": false,
          "start_time": "2022-12-09T11:11:37.822059",
          "status": "completed"
        },
        "tags": []
      },
      "source": [
        "## 1. Download the Dataset\n",
        "\n",
        "I will follow the follwoing steps:\n",
        "- Download data from Kaggle\n",
        "- View dataset files\n",
        "- Load training set with Pandas\n",
        "- Load test set with Pandas"
      ]
    },
    {
      "cell_type": "markdown",
      "id": "5816bb58",
      "metadata": {
        "id": "5816bb58",
        "papermill": {
          "duration": 0.043286,
          "end_time": "2022-12-09T11:11:37.966422",
          "exception": false,
          "start_time": "2022-12-09T11:11:37.923136",
          "status": "completed"
        },
        "tags": []
      },
      "source": [
        "We are performing on the kaggle notebook, so we will use the predefined function of kaggle to use the data."
      ]
    },
    {
      "cell_type": "markdown",
      "id": "eefefc47",
      "metadata": {
        "id": "eefefc47",
        "papermill": {
          "duration": 0.045443,
          "end_time": "2022-12-09T11:11:38.059423",
          "exception": false,
          "start_time": "2022-12-09T11:11:38.013980",
          "status": "completed"
        },
        "tags": []
      },
      "source": [
        "### Download data from Kaggle"
      ]
    },
    {
      "cell_type": "code",
      "execution_count": 141,
      "id": "c497f373",
      "metadata": {
        "execution": {
          "iopub.execute_input": "2022-12-09T11:11:38.151513Z",
          "iopub.status.busy": "2022-12-09T11:11:38.150538Z",
          "iopub.status.idle": "2022-12-09T11:11:38.166586Z",
          "shell.execute_reply": "2022-12-09T11:11:38.165255Z"
        },
        "id": "c497f373",
        "papermill": {
          "duration": 0.06566,
          "end_time": "2022-12-09T11:11:38.169225",
          "exception": false,
          "start_time": "2022-12-09T11:11:38.103565",
          "status": "completed"
        },
        "tags": []
      },
      "outputs": [],
      "source": [
        "import numpy as np # linear algebra\n",
        "import pandas as pd # data processing, CSV file I/O (e.g. pd.read_csv)\n",
        "\n",
        "# Input data files are available in the read-only \"../input/\" directory\n",
        "# For example, running this (by clicking run or pressing Shift+Enter) will list all files under the input directory\n",
        "\n",
        "import os\n",
        "for dirname, _, filenames in os.walk('/kaggle/input'):\n",
        "    for filename in filenames:\n",
        "        print(os.path.join(dirname, filename))\n",
        "\n",
        "# You can write up to 20GB to the current directory (/kaggle/working/) that gets preserved as output when you create a version using \"Save & Run All\" \n",
        "# You can also write temporary files to /kaggle/temp/, but they won't be saved outside of the current session\n",
        "# You can write up to 20GB to the current directory (/kaggle/working/) that gets preserved as output when you create a version using \"Save & Run All\" \n",
        "# You can also write temporary files to /kaggle/temp/, but they won't be saved outside of the current session\n"
      ]
    },
    {
      "cell_type": "code",
      "execution_count": 142,
      "id": "XX8EpSgdQTkB",
      "metadata": {
        "colab": {
          "base_uri": "https://localhost:8080/"
        },
        "id": "XX8EpSgdQTkB",
        "outputId": "3630efe6-4283-45a2-afa3-29a44003d809"
      },
      "outputs": [
        {
          "output_type": "stream",
          "name": "stdout",
          "text": [
            "\u001b[33mWARNING: Ignoring invalid distribution -lotly (/usr/local/lib/python3.8/dist-packages)\u001b[0m\u001b[33m\n",
            "\u001b[0m\u001b[33mWARNING: Ignoring invalid distribution -lotly (/usr/local/lib/python3.8/dist-packages)\u001b[0m\u001b[33m\n",
            "\u001b[0mLooking in indexes: https://pypi.org/simple, https://us-python.pkg.dev/colab-wheels/public/simple/\n",
            "Requirement already satisfied: numpy in /usr/local/lib/python3.8/dist-packages (1.22.4)\n",
            "Requirement already satisfied: pandas in /usr/local/lib/python3.8/dist-packages (1.3.5)\n",
            "Requirement already satisfied: jovian in /usr/local/lib/python3.8/dist-packages (0.2.45)\n",
            "Requirement already satisfied: opendatasets in /usr/local/lib/python3.8/dist-packages (0.1.22)\n",
            "Requirement already satisfied: python-dateutil>=2.7.3 in /usr/local/lib/python3.8/dist-packages (from pandas) (2.8.2)\n",
            "Requirement already satisfied: pytz>=2017.3 in /usr/local/lib/python3.8/dist-packages (from pandas) (2022.7)\n",
            "Requirement already satisfied: uuid in /usr/local/lib/python3.8/dist-packages (from jovian) (1.30)\n",
            "Requirement already satisfied: pyyaml in /usr/local/lib/python3.8/dist-packages (from jovian) (6.0)\n",
            "Requirement already satisfied: click in /usr/local/lib/python3.8/dist-packages (from jovian) (7.1.2)\n",
            "Requirement already satisfied: requests in /usr/local/lib/python3.8/dist-packages (from jovian) (2.25.1)\n",
            "Requirement already satisfied: kaggle in /usr/local/lib/python3.8/dist-packages (from opendatasets) (1.5.12)\n",
            "Requirement already satisfied: tqdm in /usr/local/lib/python3.8/dist-packages (from opendatasets) (4.64.1)\n",
            "Requirement already satisfied: six>=1.5 in /usr/local/lib/python3.8/dist-packages (from python-dateutil>=2.7.3->pandas) (1.15.0)\n",
            "Requirement already satisfied: python-slugify in /usr/local/lib/python3.8/dist-packages (from kaggle->opendatasets) (7.0.0)\n",
            "Requirement already satisfied: certifi in /usr/local/lib/python3.8/dist-packages (from kaggle->opendatasets) (2022.12.7)\n",
            "Requirement already satisfied: urllib3 in /usr/local/lib/python3.8/dist-packages (from kaggle->opendatasets) (1.24.3)\n",
            "Requirement already satisfied: idna<3,>=2.5 in /usr/local/lib/python3.8/dist-packages (from requests->jovian) (2.10)\n",
            "Requirement already satisfied: chardet<5,>=3.0.2 in /usr/local/lib/python3.8/dist-packages (from requests->jovian) (4.0.0)\n",
            "Requirement already satisfied: text-unidecode>=1.3 in /usr/local/lib/python3.8/dist-packages (from python-slugify->kaggle->opendatasets) (1.3)\n",
            "\u001b[33mWARNING: Ignoring invalid distribution -lotly (/usr/local/lib/python3.8/dist-packages)\u001b[0m\u001b[33m\n",
            "\u001b[0m"
          ]
        }
      ],
      "source": [
        "!pip install numpy pandas jovian opendatasets"
      ]
    },
    {
      "cell_type": "code",
      "execution_count": 143,
      "id": "gL-tGAcxQOQQ",
      "metadata": {
        "id": "gL-tGAcxQOQQ"
      },
      "outputs": [],
      "source": [
        "import opendatasets as od"
      ]
    },
    {
      "cell_type": "code",
      "execution_count": 144,
      "id": "hOhPJmgQQg2N",
      "metadata": {
        "id": "hOhPJmgQQg2N"
      },
      "outputs": [],
      "source": [
        "dataset_url = 'https://www.kaggle.com/competitions/DontGetKicked/overview'"
      ]
    },
    {
      "cell_type": "code",
      "execution_count": 145,
      "id": "VD3uBrh-Qg44",
      "metadata": {
        "colab": {
          "base_uri": "https://localhost:8080/"
        },
        "id": "VD3uBrh-Qg44",
        "outputId": "bfaa5713-77dc-4db2-f9f6-ae1a2fe0fcf4"
      },
      "outputs": [
        {
          "output_type": "stream",
          "name": "stdout",
          "text": [
            "Skipping, found downloaded files in \"./DontGetKicked\" (use force=True to force download)\n",
            "CPU times: user 608 µs, sys: 981 µs, total: 1.59 ms\n",
            "Wall time: 1.76 ms\n"
          ]
        }
      ],
      "source": [
        "%%time\n",
        "od.download(dataset_url)"
      ]
    },
    {
      "cell_type": "code",
      "execution_count": 146,
      "id": "pnO4KYqkQg75",
      "metadata": {
        "id": "pnO4KYqkQg75"
      },
      "outputs": [],
      "source": [
        "data_dir = '/content/DontGetKicked'"
      ]
    },
    {
      "cell_type": "code",
      "execution_count": 147,
      "id": "fWngNChpRRaH",
      "metadata": {
        "colab": {
          "base_uri": "https://localhost:8080/"
        },
        "id": "fWngNChpRRaH",
        "outputId": "605722ff-fb9c-4e53-98a1-4538e3684094"
      },
      "outputs": [
        {
          "output_type": "stream",
          "name": "stdout",
          "text": [
            "total 29M\n",
            "-rw-r--r-- 1 root root 2.8K Jan 27 14:31 Carvana_Data_Dictionary.txt\n",
            "-rw-r--r-- 1 root root 450K Jan 27 14:31 example_entry.csv\n",
            "-rw-r--r-- 1 root root 9.2M Jan 27 14:31 test.csv\n",
            "-rw-r--r-- 1 root root 2.0M Jan 27 14:31 test.zip\n",
            "-rw-r--r-- 1 root root  14M Jan 27 14:31 training.csv\n",
            "-rw-r--r-- 1 root root 2.9M Jan 27 14:31 training.zip\n"
          ]
        }
      ],
      "source": [
        "!ls -lh {data_dir}"
      ]
    },
    {
      "cell_type": "markdown",
      "id": "17a3b350",
      "metadata": {
        "id": "17a3b350",
        "papermill": {
          "duration": 0.044211,
          "end_time": "2022-12-09T11:11:38.365025",
          "exception": false,
          "start_time": "2022-12-09T11:11:38.320814",
          "status": "completed"
        },
        "tags": []
      },
      "source": [
        "### View Dataset Files\n",
        "Let's look at the size, no. of lines and first few lines of each file.\n"
      ]
    },
    {
      "cell_type": "code",
      "execution_count": 148,
      "id": "ec099d15",
      "metadata": {
        "colab": {
          "base_uri": "https://localhost:8080/"
        },
        "execution": {
          "iopub.execute_input": "2022-12-09T11:11:38.454613Z",
          "iopub.status.busy": "2022-12-09T11:11:38.453573Z",
          "iopub.status.idle": "2022-12-09T11:11:39.540324Z",
          "shell.execute_reply": "2022-12-09T11:11:39.539122Z"
        },
        "id": "ec099d15",
        "outputId": "71ff66ff-7fcc-4c4a-c29b-ce05fde089dc",
        "papermill": {
          "duration": 1.134157,
          "end_time": "2022-12-09T11:11:39.543017",
          "exception": false,
          "start_time": "2022-12-09T11:11:38.408860",
          "status": "completed"
        },
        "tags": []
      },
      "outputs": [
        {
          "output_type": "stream",
          "name": "stdout",
          "text": [
            "total 29M\n",
            "-rw-r--r-- 1 root root 2.8K Jan 27 14:31 Carvana_Data_Dictionary.txt\n",
            "-rw-r--r-- 1 root root 450K Jan 27 14:31 example_entry.csv\n",
            "-rw-r--r-- 1 root root 9.2M Jan 27 14:31 test.csv\n",
            "-rw-r--r-- 1 root root 2.0M Jan 27 14:31 test.zip\n",
            "-rw-r--r-- 1 root root  14M Jan 27 14:31 training.csv\n",
            "-rw-r--r-- 1 root root 2.9M Jan 27 14:31 training.zip\n"
          ]
        }
      ],
      "source": [
        "!ls -lh {data_dir}"
      ]
    },
    {
      "cell_type": "code",
      "execution_count": 149,
      "id": "17650a97",
      "metadata": {
        "colab": {
          "base_uri": "https://localhost:8080/"
        },
        "execution": {
          "iopub.execute_input": "2022-12-09T11:11:39.632954Z",
          "iopub.status.busy": "2022-12-09T11:11:39.632111Z",
          "iopub.status.idle": "2022-12-09T11:11:41.709100Z",
          "shell.execute_reply": "2022-12-09T11:11:41.707568Z"
        },
        "id": "17650a97",
        "outputId": "a3dfa825-ca5b-4243-e26d-e66414181218",
        "papermill": {
          "duration": 2.125569,
          "end_time": "2022-12-09T11:11:41.712205",
          "exception": false,
          "start_time": "2022-12-09T11:11:39.586636",
          "status": "completed"
        },
        "tags": []
      },
      "outputs": [
        {
          "output_type": "stream",
          "name": "stdout",
          "text": [
            "72984 /content/DontGetKicked/training.csv\n"
          ]
        }
      ],
      "source": [
        "!wc -l {data_dir}/training.csv"
      ]
    },
    {
      "cell_type": "code",
      "execution_count": 150,
      "id": "Nm7F1OO2W44s",
      "metadata": {
        "colab": {
          "base_uri": "https://localhost:8080/"
        },
        "id": "Nm7F1OO2W44s",
        "outputId": "3cfa041e-7350-4f24-b6ed-f04fc6bd37ce"
      },
      "outputs": [
        {
          "output_type": "stream",
          "name": "stdout",
          "text": [
            "48708 /content/DontGetKicked/test.csv\n"
          ]
        }
      ],
      "source": [
        "!wc -l {data_dir}/test.csv"
      ]
    },
    {
      "cell_type": "markdown",
      "id": "52c6dc0f",
      "metadata": {
        "id": "52c6dc0f",
        "papermill": {
          "duration": 0.044486,
          "end_time": "2022-12-09T11:11:57.299160",
          "exception": false,
          "start_time": "2022-12-09T11:11:57.254674",
          "status": "completed"
        },
        "tags": []
      },
      "source": [
        "Observations:\n",
        "- This is supervised learning Classification problem.\n",
        "- Training data has 72984+ rows.\n",
        "- Test data has 28k rows (< 3000000 rows).\n",
        "- Training data has 33 columns.\n",
        "    * `IsBadBuy `                            \n",
        "    * `PurchDate`                          \n",
        "    * `Auction`                        \n",
        "    * `VehYear`                          \n",
        "    * `VehicleAge`                         \n",
        "    * `Make`                               \n",
        "    * `Model`                              \n",
        "    * `Trim`                              \n",
        "    * `SubModel`                          \n",
        "    * `Color`                               \n",
        "    * `Transmission`                        \n",
        "    * `WheelTypeID`                        \n",
        "    * `WheelType`                         \n",
        "    * `VehOdo`                             \n",
        "    * `Nationality`                      \n",
        "    * `Size`                               \n",
        "    * `TopThreeAmericanName`               \n",
        "    * ` MMRAcquisitionAuctionAveragePrice`  \n",
        "    * `MMRAcquisitionAuctionCleanPrice`    \n",
        "    * `MMRAcquisitionRetailAveragePrice`  \n",
        "    * `MMRAcquisitonRetailCleanPrice`      \n",
        "    * `MMRCurrentAuctionAveragePrice`      \n",
        "    * `MMRCurrentAuctionCleanPrice`        \n",
        "    * `MMRCurrentRetailAveragePrice`       \n",
        "    * `MMRCurrentRetailCleanPrice`        \n",
        "    * `PRIMEUNIT`                          \n",
        "    * `AUCGUART`                         \n",
        "    * `BYRNO`                              \n",
        "    * ` VNZIP1`                              \n",
        "    * `VNST`                              \n",
        "    * `VehBCost`                        \n",
        "    * `IsOnlineSale`                        \n",
        "    * `WarrantyCost` \n",
        "\n",
        "- The test set has all columns from training set except IsBadBuy  column.\n",
        "- The submission file should have `RefId ` & `IsBadBuy` for each test_sample."
      ]
    },
    {
      "cell_type": "markdown",
      "id": "8182d200",
      "metadata": {
        "id": "8182d200",
        "papermill": {
          "duration": 0.043732,
          "end_time": "2022-12-09T11:11:57.387089",
          "exception": false,
          "start_time": "2022-12-09T11:11:57.343357",
          "status": "completed"
        },
        "tags": []
      },
      "source": [
        "### Load Training set with Pandas"
      ]
    },
    {
      "cell_type": "code",
      "execution_count": 151,
      "id": "08789cfb",
      "metadata": {
        "colab": {
          "base_uri": "https://localhost:8080/"
        },
        "execution": {
          "iopub.execute_input": "2022-12-09T11:11:57.477893Z",
          "iopub.status.busy": "2022-12-09T11:11:57.477149Z",
          "iopub.status.idle": "2022-12-09T11:11:57.487128Z",
          "shell.execute_reply": "2022-12-09T11:11:57.485856Z"
        },
        "id": "08789cfb",
        "outputId": "08d6bc59-1714-4a79-b8fe-5bf91e9782a7",
        "papermill": {
          "duration": 0.058562,
          "end_time": "2022-12-09T11:11:57.489577",
          "exception": false,
          "start_time": "2022-12-09T11:11:57.431015",
          "status": "completed"
        },
        "tags": []
      },
      "outputs": [
        {
          "output_type": "stream",
          "name": "stdout",
          "text": [
            "(72983, 34) (48707, 33)\n"
          ]
        }
      ],
      "source": [
        "train_df = pd.read_csv('/content/DontGetKicked/training.csv')\n",
        "test_df = pd.read_csv('/content/DontGetKicked/test.csv')\n",
        "submissions_df = test_df[['RefId']] # save RefId for submission file\n",
        "print(train_df.shape, test_df.shape)"
      ]
    },
    {
      "cell_type": "code",
      "execution_count": 152,
      "id": "983f02d2",
      "metadata": {
        "colab": {
          "base_uri": "https://localhost:8080/"
        },
        "execution": {
          "iopub.execute_input": "2022-12-09T11:11:59.788554Z",
          "iopub.status.busy": "2022-12-09T11:11:59.788131Z",
          "iopub.status.idle": "2022-12-09T11:11:59.808058Z",
          "shell.execute_reply": "2022-12-09T11:11:59.806430Z"
        },
        "id": "983f02d2",
        "outputId": "e42c459c-9c4e-4979-8a7d-b2636fe62bf8",
        "papermill": {
          "duration": 0.068193,
          "end_time": "2022-12-09T11:11:59.810404",
          "exception": false,
          "start_time": "2022-12-09T11:11:59.742211",
          "status": "completed"
        },
        "tags": []
      },
      "outputs": [
        {
          "output_type": "stream",
          "name": "stdout",
          "text": [
            "<class 'pandas.core.frame.DataFrame'>\n",
            "RangeIndex: 72983 entries, 0 to 72982\n",
            "Data columns (total 34 columns):\n",
            " #   Column                             Non-Null Count  Dtype  \n",
            "---  ------                             --------------  -----  \n",
            " 0   RefId                              72983 non-null  int64  \n",
            " 1   IsBadBuy                           72983 non-null  int64  \n",
            " 2   PurchDate                          72983 non-null  object \n",
            " 3   Auction                            72983 non-null  object \n",
            " 4   VehYear                            72983 non-null  int64  \n",
            " 5   VehicleAge                         72983 non-null  int64  \n",
            " 6   Make                               72983 non-null  object \n",
            " 7   Model                              72983 non-null  object \n",
            " 8   Trim                               70623 non-null  object \n",
            " 9   SubModel                           72975 non-null  object \n",
            " 10  Color                              72975 non-null  object \n",
            " 11  Transmission                       72974 non-null  object \n",
            " 12  WheelTypeID                        69814 non-null  float64\n",
            " 13  WheelType                          69809 non-null  object \n",
            " 14  VehOdo                             72983 non-null  int64  \n",
            " 15  Nationality                        72978 non-null  object \n",
            " 16  Size                               72978 non-null  object \n",
            " 17  TopThreeAmericanName               72978 non-null  object \n",
            " 18  MMRAcquisitionAuctionAveragePrice  72965 non-null  float64\n",
            " 19  MMRAcquisitionAuctionCleanPrice    72965 non-null  float64\n",
            " 20  MMRAcquisitionRetailAveragePrice   72965 non-null  float64\n",
            " 21  MMRAcquisitonRetailCleanPrice      72965 non-null  float64\n",
            " 22  MMRCurrentAuctionAveragePrice      72668 non-null  float64\n",
            " 23  MMRCurrentAuctionCleanPrice        72668 non-null  float64\n",
            " 24  MMRCurrentRetailAveragePrice       72668 non-null  float64\n",
            " 25  MMRCurrentRetailCleanPrice         72668 non-null  float64\n",
            " 26  PRIMEUNIT                          3419 non-null   object \n",
            " 27  AUCGUART                           3419 non-null   object \n",
            " 28  BYRNO                              72983 non-null  int64  \n",
            " 29  VNZIP1                             72983 non-null  int64  \n",
            " 30  VNST                               72983 non-null  object \n",
            " 31  VehBCost                           72983 non-null  float64\n",
            " 32  IsOnlineSale                       72983 non-null  int64  \n",
            " 33  WarrantyCost                       72983 non-null  int64  \n",
            "dtypes: float64(10), int64(9), object(15)\n",
            "memory usage: 18.9+ MB\n"
          ]
        }
      ],
      "source": [
        "train_df.info()"
      ]
    },
    {
      "cell_type": "code",
      "execution_count": 153,
      "id": "caa68c8b",
      "metadata": {
        "colab": {
          "base_uri": "https://localhost:8080/",
          "height": 456
        },
        "execution": {
          "iopub.execute_input": "2022-12-09T11:11:59.902109Z",
          "iopub.status.busy": "2022-12-09T11:11:59.901704Z",
          "iopub.status.idle": "2022-12-09T11:11:59.921504Z",
          "shell.execute_reply": "2022-12-09T11:11:59.920325Z"
        },
        "id": "caa68c8b",
        "outputId": "8a2d5530-ee80-4c4c-d0ad-ba8fe69cd2be",
        "papermill": {
          "duration": 0.068655,
          "end_time": "2022-12-09T11:11:59.923877",
          "exception": false,
          "start_time": "2022-12-09T11:11:59.855222",
          "status": "completed"
        },
        "tags": []
      },
      "outputs": [
        {
          "output_type": "execute_result",
          "data": {
            "text/plain": [
              "   RefId  IsBadBuy  PurchDate Auction  VehYear  VehicleAge   Make  \\\n",
              "0      1         0  12/7/2009   ADESA     2006           3  MAZDA   \n",
              "1      2         0  12/7/2009   ADESA     2004           5  DODGE   \n",
              "2      3         0  12/7/2009   ADESA     2005           4  DODGE   \n",
              "3      4         0  12/7/2009   ADESA     2004           5  DODGE   \n",
              "4      5         0  12/7/2009   ADESA     2005           4   FORD   \n",
              "\n",
              "                 Model Trim           SubModel  ...  \\\n",
              "0               MAZDA3    i         4D SEDAN I  ...   \n",
              "1  1500 RAM PICKUP 2WD   ST  QUAD CAB 4.7L SLT  ...   \n",
              "2           STRATUS V6  SXT   4D SEDAN SXT FFV  ...   \n",
              "3                 NEON  SXT           4D SEDAN  ...   \n",
              "4                FOCUS  ZX3       2D COUPE ZX3  ...   \n",
              "\n",
              "  MMRCurrentRetailAveragePrice MMRCurrentRetailCleanPrice  PRIMEUNIT AUCGUART  \\\n",
              "0                      11597.0                    12409.0        NaN      NaN   \n",
              "1                      11374.0                    12791.0        NaN      NaN   \n",
              "2                       7146.0                     8702.0        NaN      NaN   \n",
              "3                       4375.0                     5518.0        NaN      NaN   \n",
              "4                       6739.0                     7911.0        NaN      NaN   \n",
              "\n",
              "   BYRNO VNZIP1 VNST VehBCost  IsOnlineSale  WarrantyCost  \n",
              "0  21973  33619   FL   7100.0             0          1113  \n",
              "1  19638  33619   FL   7600.0             0          1053  \n",
              "2  19638  33619   FL   4900.0             0          1389  \n",
              "3  19638  33619   FL   4100.0             0           630  \n",
              "4  19638  33619   FL   4000.0             0          1020  \n",
              "\n",
              "[5 rows x 34 columns]"
            ],
            "text/html": [
              "\n",
              "  <div id=\"df-e8bb51ed-0fef-49b3-97d9-814c7d45b36f\">\n",
              "    <div class=\"colab-df-container\">\n",
              "      <div>\n",
              "<style scoped>\n",
              "    .dataframe tbody tr th:only-of-type {\n",
              "        vertical-align: middle;\n",
              "    }\n",
              "\n",
              "    .dataframe tbody tr th {\n",
              "        vertical-align: top;\n",
              "    }\n",
              "\n",
              "    .dataframe thead th {\n",
              "        text-align: right;\n",
              "    }\n",
              "</style>\n",
              "<table border=\"1\" class=\"dataframe\">\n",
              "  <thead>\n",
              "    <tr style=\"text-align: right;\">\n",
              "      <th></th>\n",
              "      <th>RefId</th>\n",
              "      <th>IsBadBuy</th>\n",
              "      <th>PurchDate</th>\n",
              "      <th>Auction</th>\n",
              "      <th>VehYear</th>\n",
              "      <th>VehicleAge</th>\n",
              "      <th>Make</th>\n",
              "      <th>Model</th>\n",
              "      <th>Trim</th>\n",
              "      <th>SubModel</th>\n",
              "      <th>...</th>\n",
              "      <th>MMRCurrentRetailAveragePrice</th>\n",
              "      <th>MMRCurrentRetailCleanPrice</th>\n",
              "      <th>PRIMEUNIT</th>\n",
              "      <th>AUCGUART</th>\n",
              "      <th>BYRNO</th>\n",
              "      <th>VNZIP1</th>\n",
              "      <th>VNST</th>\n",
              "      <th>VehBCost</th>\n",
              "      <th>IsOnlineSale</th>\n",
              "      <th>WarrantyCost</th>\n",
              "    </tr>\n",
              "  </thead>\n",
              "  <tbody>\n",
              "    <tr>\n",
              "      <th>0</th>\n",
              "      <td>1</td>\n",
              "      <td>0</td>\n",
              "      <td>12/7/2009</td>\n",
              "      <td>ADESA</td>\n",
              "      <td>2006</td>\n",
              "      <td>3</td>\n",
              "      <td>MAZDA</td>\n",
              "      <td>MAZDA3</td>\n",
              "      <td>i</td>\n",
              "      <td>4D SEDAN I</td>\n",
              "      <td>...</td>\n",
              "      <td>11597.0</td>\n",
              "      <td>12409.0</td>\n",
              "      <td>NaN</td>\n",
              "      <td>NaN</td>\n",
              "      <td>21973</td>\n",
              "      <td>33619</td>\n",
              "      <td>FL</td>\n",
              "      <td>7100.0</td>\n",
              "      <td>0</td>\n",
              "      <td>1113</td>\n",
              "    </tr>\n",
              "    <tr>\n",
              "      <th>1</th>\n",
              "      <td>2</td>\n",
              "      <td>0</td>\n",
              "      <td>12/7/2009</td>\n",
              "      <td>ADESA</td>\n",
              "      <td>2004</td>\n",
              "      <td>5</td>\n",
              "      <td>DODGE</td>\n",
              "      <td>1500 RAM PICKUP 2WD</td>\n",
              "      <td>ST</td>\n",
              "      <td>QUAD CAB 4.7L SLT</td>\n",
              "      <td>...</td>\n",
              "      <td>11374.0</td>\n",
              "      <td>12791.0</td>\n",
              "      <td>NaN</td>\n",
              "      <td>NaN</td>\n",
              "      <td>19638</td>\n",
              "      <td>33619</td>\n",
              "      <td>FL</td>\n",
              "      <td>7600.0</td>\n",
              "      <td>0</td>\n",
              "      <td>1053</td>\n",
              "    </tr>\n",
              "    <tr>\n",
              "      <th>2</th>\n",
              "      <td>3</td>\n",
              "      <td>0</td>\n",
              "      <td>12/7/2009</td>\n",
              "      <td>ADESA</td>\n",
              "      <td>2005</td>\n",
              "      <td>4</td>\n",
              "      <td>DODGE</td>\n",
              "      <td>STRATUS V6</td>\n",
              "      <td>SXT</td>\n",
              "      <td>4D SEDAN SXT FFV</td>\n",
              "      <td>...</td>\n",
              "      <td>7146.0</td>\n",
              "      <td>8702.0</td>\n",
              "      <td>NaN</td>\n",
              "      <td>NaN</td>\n",
              "      <td>19638</td>\n",
              "      <td>33619</td>\n",
              "      <td>FL</td>\n",
              "      <td>4900.0</td>\n",
              "      <td>0</td>\n",
              "      <td>1389</td>\n",
              "    </tr>\n",
              "    <tr>\n",
              "      <th>3</th>\n",
              "      <td>4</td>\n",
              "      <td>0</td>\n",
              "      <td>12/7/2009</td>\n",
              "      <td>ADESA</td>\n",
              "      <td>2004</td>\n",
              "      <td>5</td>\n",
              "      <td>DODGE</td>\n",
              "      <td>NEON</td>\n",
              "      <td>SXT</td>\n",
              "      <td>4D SEDAN</td>\n",
              "      <td>...</td>\n",
              "      <td>4375.0</td>\n",
              "      <td>5518.0</td>\n",
              "      <td>NaN</td>\n",
              "      <td>NaN</td>\n",
              "      <td>19638</td>\n",
              "      <td>33619</td>\n",
              "      <td>FL</td>\n",
              "      <td>4100.0</td>\n",
              "      <td>0</td>\n",
              "      <td>630</td>\n",
              "    </tr>\n",
              "    <tr>\n",
              "      <th>4</th>\n",
              "      <td>5</td>\n",
              "      <td>0</td>\n",
              "      <td>12/7/2009</td>\n",
              "      <td>ADESA</td>\n",
              "      <td>2005</td>\n",
              "      <td>4</td>\n",
              "      <td>FORD</td>\n",
              "      <td>FOCUS</td>\n",
              "      <td>ZX3</td>\n",
              "      <td>2D COUPE ZX3</td>\n",
              "      <td>...</td>\n",
              "      <td>6739.0</td>\n",
              "      <td>7911.0</td>\n",
              "      <td>NaN</td>\n",
              "      <td>NaN</td>\n",
              "      <td>19638</td>\n",
              "      <td>33619</td>\n",
              "      <td>FL</td>\n",
              "      <td>4000.0</td>\n",
              "      <td>0</td>\n",
              "      <td>1020</td>\n",
              "    </tr>\n",
              "  </tbody>\n",
              "</table>\n",
              "<p>5 rows × 34 columns</p>\n",
              "</div>\n",
              "      <button class=\"colab-df-convert\" onclick=\"convertToInteractive('df-e8bb51ed-0fef-49b3-97d9-814c7d45b36f')\"\n",
              "              title=\"Convert this dataframe to an interactive table.\"\n",
              "              style=\"display:none;\">\n",
              "        \n",
              "  <svg xmlns=\"http://www.w3.org/2000/svg\" height=\"24px\"viewBox=\"0 0 24 24\"\n",
              "       width=\"24px\">\n",
              "    <path d=\"M0 0h24v24H0V0z\" fill=\"none\"/>\n",
              "    <path d=\"M18.56 5.44l.94 2.06.94-2.06 2.06-.94-2.06-.94-.94-2.06-.94 2.06-2.06.94zm-11 1L8.5 8.5l.94-2.06 2.06-.94-2.06-.94L8.5 2.5l-.94 2.06-2.06.94zm10 10l.94 2.06.94-2.06 2.06-.94-2.06-.94-.94-2.06-.94 2.06-2.06.94z\"/><path d=\"M17.41 7.96l-1.37-1.37c-.4-.4-.92-.59-1.43-.59-.52 0-1.04.2-1.43.59L10.3 9.45l-7.72 7.72c-.78.78-.78 2.05 0 2.83L4 21.41c.39.39.9.59 1.41.59.51 0 1.02-.2 1.41-.59l7.78-7.78 2.81-2.81c.8-.78.8-2.07 0-2.86zM5.41 20L4 18.59l7.72-7.72 1.47 1.35L5.41 20z\"/>\n",
              "  </svg>\n",
              "      </button>\n",
              "      \n",
              "  <style>\n",
              "    .colab-df-container {\n",
              "      display:flex;\n",
              "      flex-wrap:wrap;\n",
              "      gap: 12px;\n",
              "    }\n",
              "\n",
              "    .colab-df-convert {\n",
              "      background-color: #E8F0FE;\n",
              "      border: none;\n",
              "      border-radius: 50%;\n",
              "      cursor: pointer;\n",
              "      display: none;\n",
              "      fill: #1967D2;\n",
              "      height: 32px;\n",
              "      padding: 0 0 0 0;\n",
              "      width: 32px;\n",
              "    }\n",
              "\n",
              "    .colab-df-convert:hover {\n",
              "      background-color: #E2EBFA;\n",
              "      box-shadow: 0px 1px 2px rgba(60, 64, 67, 0.3), 0px 1px 3px 1px rgba(60, 64, 67, 0.15);\n",
              "      fill: #174EA6;\n",
              "    }\n",
              "\n",
              "    [theme=dark] .colab-df-convert {\n",
              "      background-color: #3B4455;\n",
              "      fill: #D2E3FC;\n",
              "    }\n",
              "\n",
              "    [theme=dark] .colab-df-convert:hover {\n",
              "      background-color: #434B5C;\n",
              "      box-shadow: 0px 1px 3px 1px rgba(0, 0, 0, 0.15);\n",
              "      filter: drop-shadow(0px 1px 2px rgba(0, 0, 0, 0.3));\n",
              "      fill: #FFFFFF;\n",
              "    }\n",
              "  </style>\n",
              "\n",
              "      <script>\n",
              "        const buttonEl =\n",
              "          document.querySelector('#df-e8bb51ed-0fef-49b3-97d9-814c7d45b36f button.colab-df-convert');\n",
              "        buttonEl.style.display =\n",
              "          google.colab.kernel.accessAllowed ? 'block' : 'none';\n",
              "\n",
              "        async function convertToInteractive(key) {\n",
              "          const element = document.querySelector('#df-e8bb51ed-0fef-49b3-97d9-814c7d45b36f');\n",
              "          const dataTable =\n",
              "            await google.colab.kernel.invokeFunction('convertToInteractive',\n",
              "                                                     [key], {});\n",
              "          if (!dataTable) return;\n",
              "\n",
              "          const docLinkHtml = 'Like what you see? Visit the ' +\n",
              "            '<a target=\"_blank\" href=https://colab.research.google.com/notebooks/data_table.ipynb>data table notebook</a>'\n",
              "            + ' to learn more about interactive tables.';\n",
              "          element.innerHTML = '';\n",
              "          dataTable['output_type'] = 'display_data';\n",
              "          await google.colab.output.renderOutput(dataTable, element);\n",
              "          const docLink = document.createElement('div');\n",
              "          docLink.innerHTML = docLinkHtml;\n",
              "          element.appendChild(docLink);\n",
              "        }\n",
              "      </script>\n",
              "    </div>\n",
              "  </div>\n",
              "  "
            ]
          },
          "metadata": {},
          "execution_count": 153
        }
      ],
      "source": [
        "train_df.head(5)"
      ]
    },
    {
      "cell_type": "markdown",
      "id": "882b7f68",
      "metadata": {
        "id": "882b7f68",
        "papermill": {
          "duration": 0.044752,
          "end_time": "2022-12-09T11:12:00.013716",
          "exception": false,
          "start_time": "2022-12-09T11:11:59.968964",
          "status": "completed"
        },
        "tags": []
      },
      "source": [
        "### Load Test set with Pandas"
      ]
    },
    {
      "cell_type": "code",
      "execution_count": 154,
      "id": "dc111af8",
      "metadata": {
        "execution": {
          "iopub.execute_input": "2022-12-09T11:12:00.105559Z",
          "iopub.status.busy": "2022-12-09T11:12:00.104715Z",
          "iopub.status.idle": "2022-12-09T11:12:00.131519Z",
          "shell.execute_reply": "2022-12-09T11:12:00.130298Z"
        },
        "id": "dc111af8",
        "papermill": {
          "duration": 0.07575,
          "end_time": "2022-12-09T11:12:00.134193",
          "exception": false,
          "start_time": "2022-12-09T11:12:00.058443",
          "status": "completed"
        },
        "tags": []
      },
      "outputs": [],
      "source": [
        "test_df = pd.read_csv('/content/DontGetKicked/test.csv')"
      ]
    },
    {
      "cell_type": "code",
      "execution_count": 155,
      "id": "ff85a0b9",
      "metadata": {
        "colab": {
          "base_uri": "https://localhost:8080/",
          "height": 369
        },
        "execution": {
          "iopub.execute_input": "2022-12-09T11:12:00.227446Z",
          "iopub.status.busy": "2022-12-09T11:12:00.226301Z",
          "iopub.status.idle": "2022-12-09T11:12:00.238202Z",
          "shell.execute_reply": "2022-12-09T11:12:00.237098Z"
        },
        "id": "ff85a0b9",
        "outputId": "323416c5-7caf-49dd-9c25-56fd068e0a78",
        "papermill": {
          "duration": 0.061125,
          "end_time": "2022-12-09T11:12:00.240593",
          "exception": false,
          "start_time": "2022-12-09T11:12:00.179468",
          "status": "completed"
        },
        "tags": []
      },
      "outputs": [
        {
          "output_type": "execute_result",
          "data": {
            "text/plain": [
              "   RefId  PurchDate Auction  VehYear  VehicleAge       Make           Model  \\\n",
              "0  73015  12/2/2009   ADESA     2005           4    PONTIAC      GRAND PRIX   \n",
              "1  73016  12/2/2009   ADESA     2005           4  CHEVROLET       MALIBU V6   \n",
              "2  73017  12/2/2009   ADESA     2006           3      DODGE  DURANGO 2WD V8   \n",
              "3  73018  12/2/2009   ADESA     2002           7     SATURN        L SERIES   \n",
              "4  73019  12/2/2009   ADESA     2007           2    HYUNDAI          ACCENT   \n",
              "\n",
              "  Trim                SubModel   Color  ... MMRCurrentRetailAveragePrice  \\\n",
              "0  Bas                4D SEDAN  SILVER  ...                       8557.0   \n",
              "1   LS             4D SEDAN LS  SILVER  ...                       7562.0   \n",
              "2  Adv  4D SUV 4.7L ADVENTURER  SILVER  ...                      15340.0   \n",
              "3  L20           4D SEDAN L200    GOLD  ...                       5725.0   \n",
              "4   GS             2D COUPE GS    BLUE  ...                       5914.0   \n",
              "\n",
              "   MMRCurrentRetailCleanPrice PRIMEUNIT  AUCGUART  BYRNO VNZIP1 VNST  \\\n",
              "0                      9752.0       NaN       NaN  18881  30212   GA   \n",
              "1                      9296.0       NaN       NaN  18111  30212   GA   \n",
              "2                     16512.0       NaN       NaN  18111  30212   GA   \n",
              "3                      6398.0       NaN       NaN  18881  30212   GA   \n",
              "4                      7350.0       NaN       NaN  18111  30212   GA   \n",
              "\n",
              "   VehBCost  IsOnlineSale  WarrantyCost  \n",
              "0    6500.0             0          2152  \n",
              "1    6300.0             0          1118  \n",
              "2    9700.0             0          1215  \n",
              "3    4150.0             0          1933  \n",
              "4    4100.0             0           920  \n",
              "\n",
              "[5 rows x 33 columns]"
            ],
            "text/html": [
              "\n",
              "  <div id=\"df-bfb9b094-4251-4e4c-ab51-599d24ac7dec\">\n",
              "    <div class=\"colab-df-container\">\n",
              "      <div>\n",
              "<style scoped>\n",
              "    .dataframe tbody tr th:only-of-type {\n",
              "        vertical-align: middle;\n",
              "    }\n",
              "\n",
              "    .dataframe tbody tr th {\n",
              "        vertical-align: top;\n",
              "    }\n",
              "\n",
              "    .dataframe thead th {\n",
              "        text-align: right;\n",
              "    }\n",
              "</style>\n",
              "<table border=\"1\" class=\"dataframe\">\n",
              "  <thead>\n",
              "    <tr style=\"text-align: right;\">\n",
              "      <th></th>\n",
              "      <th>RefId</th>\n",
              "      <th>PurchDate</th>\n",
              "      <th>Auction</th>\n",
              "      <th>VehYear</th>\n",
              "      <th>VehicleAge</th>\n",
              "      <th>Make</th>\n",
              "      <th>Model</th>\n",
              "      <th>Trim</th>\n",
              "      <th>SubModel</th>\n",
              "      <th>Color</th>\n",
              "      <th>...</th>\n",
              "      <th>MMRCurrentRetailAveragePrice</th>\n",
              "      <th>MMRCurrentRetailCleanPrice</th>\n",
              "      <th>PRIMEUNIT</th>\n",
              "      <th>AUCGUART</th>\n",
              "      <th>BYRNO</th>\n",
              "      <th>VNZIP1</th>\n",
              "      <th>VNST</th>\n",
              "      <th>VehBCost</th>\n",
              "      <th>IsOnlineSale</th>\n",
              "      <th>WarrantyCost</th>\n",
              "    </tr>\n",
              "  </thead>\n",
              "  <tbody>\n",
              "    <tr>\n",
              "      <th>0</th>\n",
              "      <td>73015</td>\n",
              "      <td>12/2/2009</td>\n",
              "      <td>ADESA</td>\n",
              "      <td>2005</td>\n",
              "      <td>4</td>\n",
              "      <td>PONTIAC</td>\n",
              "      <td>GRAND PRIX</td>\n",
              "      <td>Bas</td>\n",
              "      <td>4D SEDAN</td>\n",
              "      <td>SILVER</td>\n",
              "      <td>...</td>\n",
              "      <td>8557.0</td>\n",
              "      <td>9752.0</td>\n",
              "      <td>NaN</td>\n",
              "      <td>NaN</td>\n",
              "      <td>18881</td>\n",
              "      <td>30212</td>\n",
              "      <td>GA</td>\n",
              "      <td>6500.0</td>\n",
              "      <td>0</td>\n",
              "      <td>2152</td>\n",
              "    </tr>\n",
              "    <tr>\n",
              "      <th>1</th>\n",
              "      <td>73016</td>\n",
              "      <td>12/2/2009</td>\n",
              "      <td>ADESA</td>\n",
              "      <td>2005</td>\n",
              "      <td>4</td>\n",
              "      <td>CHEVROLET</td>\n",
              "      <td>MALIBU V6</td>\n",
              "      <td>LS</td>\n",
              "      <td>4D SEDAN LS</td>\n",
              "      <td>SILVER</td>\n",
              "      <td>...</td>\n",
              "      <td>7562.0</td>\n",
              "      <td>9296.0</td>\n",
              "      <td>NaN</td>\n",
              "      <td>NaN</td>\n",
              "      <td>18111</td>\n",
              "      <td>30212</td>\n",
              "      <td>GA</td>\n",
              "      <td>6300.0</td>\n",
              "      <td>0</td>\n",
              "      <td>1118</td>\n",
              "    </tr>\n",
              "    <tr>\n",
              "      <th>2</th>\n",
              "      <td>73017</td>\n",
              "      <td>12/2/2009</td>\n",
              "      <td>ADESA</td>\n",
              "      <td>2006</td>\n",
              "      <td>3</td>\n",
              "      <td>DODGE</td>\n",
              "      <td>DURANGO 2WD V8</td>\n",
              "      <td>Adv</td>\n",
              "      <td>4D SUV 4.7L ADVENTURER</td>\n",
              "      <td>SILVER</td>\n",
              "      <td>...</td>\n",
              "      <td>15340.0</td>\n",
              "      <td>16512.0</td>\n",
              "      <td>NaN</td>\n",
              "      <td>NaN</td>\n",
              "      <td>18111</td>\n",
              "      <td>30212</td>\n",
              "      <td>GA</td>\n",
              "      <td>9700.0</td>\n",
              "      <td>0</td>\n",
              "      <td>1215</td>\n",
              "    </tr>\n",
              "    <tr>\n",
              "      <th>3</th>\n",
              "      <td>73018</td>\n",
              "      <td>12/2/2009</td>\n",
              "      <td>ADESA</td>\n",
              "      <td>2002</td>\n",
              "      <td>7</td>\n",
              "      <td>SATURN</td>\n",
              "      <td>L SERIES</td>\n",
              "      <td>L20</td>\n",
              "      <td>4D SEDAN L200</td>\n",
              "      <td>GOLD</td>\n",
              "      <td>...</td>\n",
              "      <td>5725.0</td>\n",
              "      <td>6398.0</td>\n",
              "      <td>NaN</td>\n",
              "      <td>NaN</td>\n",
              "      <td>18881</td>\n",
              "      <td>30212</td>\n",
              "      <td>GA</td>\n",
              "      <td>4150.0</td>\n",
              "      <td>0</td>\n",
              "      <td>1933</td>\n",
              "    </tr>\n",
              "    <tr>\n",
              "      <th>4</th>\n",
              "      <td>73019</td>\n",
              "      <td>12/2/2009</td>\n",
              "      <td>ADESA</td>\n",
              "      <td>2007</td>\n",
              "      <td>2</td>\n",
              "      <td>HYUNDAI</td>\n",
              "      <td>ACCENT</td>\n",
              "      <td>GS</td>\n",
              "      <td>2D COUPE GS</td>\n",
              "      <td>BLUE</td>\n",
              "      <td>...</td>\n",
              "      <td>5914.0</td>\n",
              "      <td>7350.0</td>\n",
              "      <td>NaN</td>\n",
              "      <td>NaN</td>\n",
              "      <td>18111</td>\n",
              "      <td>30212</td>\n",
              "      <td>GA</td>\n",
              "      <td>4100.0</td>\n",
              "      <td>0</td>\n",
              "      <td>920</td>\n",
              "    </tr>\n",
              "  </tbody>\n",
              "</table>\n",
              "<p>5 rows × 33 columns</p>\n",
              "</div>\n",
              "      <button class=\"colab-df-convert\" onclick=\"convertToInteractive('df-bfb9b094-4251-4e4c-ab51-599d24ac7dec')\"\n",
              "              title=\"Convert this dataframe to an interactive table.\"\n",
              "              style=\"display:none;\">\n",
              "        \n",
              "  <svg xmlns=\"http://www.w3.org/2000/svg\" height=\"24px\"viewBox=\"0 0 24 24\"\n",
              "       width=\"24px\">\n",
              "    <path d=\"M0 0h24v24H0V0z\" fill=\"none\"/>\n",
              "    <path d=\"M18.56 5.44l.94 2.06.94-2.06 2.06-.94-2.06-.94-.94-2.06-.94 2.06-2.06.94zm-11 1L8.5 8.5l.94-2.06 2.06-.94-2.06-.94L8.5 2.5l-.94 2.06-2.06.94zm10 10l.94 2.06.94-2.06 2.06-.94-2.06-.94-.94-2.06-.94 2.06-2.06.94z\"/><path d=\"M17.41 7.96l-1.37-1.37c-.4-.4-.92-.59-1.43-.59-.52 0-1.04.2-1.43.59L10.3 9.45l-7.72 7.72c-.78.78-.78 2.05 0 2.83L4 21.41c.39.39.9.59 1.41.59.51 0 1.02-.2 1.41-.59l7.78-7.78 2.81-2.81c.8-.78.8-2.07 0-2.86zM5.41 20L4 18.59l7.72-7.72 1.47 1.35L5.41 20z\"/>\n",
              "  </svg>\n",
              "      </button>\n",
              "      \n",
              "  <style>\n",
              "    .colab-df-container {\n",
              "      display:flex;\n",
              "      flex-wrap:wrap;\n",
              "      gap: 12px;\n",
              "    }\n",
              "\n",
              "    .colab-df-convert {\n",
              "      background-color: #E8F0FE;\n",
              "      border: none;\n",
              "      border-radius: 50%;\n",
              "      cursor: pointer;\n",
              "      display: none;\n",
              "      fill: #1967D2;\n",
              "      height: 32px;\n",
              "      padding: 0 0 0 0;\n",
              "      width: 32px;\n",
              "    }\n",
              "\n",
              "    .colab-df-convert:hover {\n",
              "      background-color: #E2EBFA;\n",
              "      box-shadow: 0px 1px 2px rgba(60, 64, 67, 0.3), 0px 1px 3px 1px rgba(60, 64, 67, 0.15);\n",
              "      fill: #174EA6;\n",
              "    }\n",
              "\n",
              "    [theme=dark] .colab-df-convert {\n",
              "      background-color: #3B4455;\n",
              "      fill: #D2E3FC;\n",
              "    }\n",
              "\n",
              "    [theme=dark] .colab-df-convert:hover {\n",
              "      background-color: #434B5C;\n",
              "      box-shadow: 0px 1px 3px 1px rgba(0, 0, 0, 0.15);\n",
              "      filter: drop-shadow(0px 1px 2px rgba(0, 0, 0, 0.3));\n",
              "      fill: #FFFFFF;\n",
              "    }\n",
              "  </style>\n",
              "\n",
              "      <script>\n",
              "        const buttonEl =\n",
              "          document.querySelector('#df-bfb9b094-4251-4e4c-ab51-599d24ac7dec button.colab-df-convert');\n",
              "        buttonEl.style.display =\n",
              "          google.colab.kernel.accessAllowed ? 'block' : 'none';\n",
              "\n",
              "        async function convertToInteractive(key) {\n",
              "          const element = document.querySelector('#df-bfb9b094-4251-4e4c-ab51-599d24ac7dec');\n",
              "          const dataTable =\n",
              "            await google.colab.kernel.invokeFunction('convertToInteractive',\n",
              "                                                     [key], {});\n",
              "          if (!dataTable) return;\n",
              "\n",
              "          const docLinkHtml = 'Like what you see? Visit the ' +\n",
              "            '<a target=\"_blank\" href=https://colab.research.google.com/notebooks/data_table.ipynb>data table notebook</a>'\n",
              "            + ' to learn more about interactive tables.';\n",
              "          element.innerHTML = '';\n",
              "          dataTable['output_type'] = 'display_data';\n",
              "          await google.colab.output.renderOutput(dataTable, element);\n",
              "          const docLink = document.createElement('div');\n",
              "          docLink.innerHTML = docLinkHtml;\n",
              "          element.appendChild(docLink);\n",
              "        }\n",
              "      </script>\n",
              "    </div>\n",
              "  </div>\n",
              "  "
            ]
          },
          "metadata": {},
          "execution_count": 155
        }
      ],
      "source": [
        "test_df.head(5)"
      ]
    },
    {
      "cell_type": "markdown",
      "id": "f9d0031c",
      "metadata": {
        "id": "f9d0031c",
        "papermill": {
          "duration": 0.044841,
          "end_time": "2022-12-09T11:12:00.330405",
          "exception": false,
          "start_time": "2022-12-09T11:12:00.285564",
          "status": "completed"
        },
        "tags": []
      },
      "source": [
        "## 2. Explore & Analyse the Dataset\n",
        "\n",
        "These are the steps that I am going to follow:\n",
        "\n",
        "* Basic information about the training set\n",
        "* Basic information about the test set\n",
        "* Adding different features\n",
        "* Exploratory data analysis & visualization\n",
        "* Ask & answer questions"
      ]
    },
    {
      "cell_type": "markdown",
      "id": "b6668b3b",
      "metadata": {
        "id": "b6668b3b",
        "papermill": {
          "duration": 0.044584,
          "end_time": "2022-12-09T11:12:00.420046",
          "exception": false,
          "start_time": "2022-12-09T11:12:00.375462",
          "status": "completed"
        },
        "tags": []
      },
      "source": [
        "### Basic information about the training set"
      ]
    },
    {
      "cell_type": "code",
      "execution_count": 156,
      "id": "a13f843c",
      "metadata": {
        "colab": {
          "base_uri": "https://localhost:8080/"
        },
        "execution": {
          "iopub.execute_input": "2022-12-09T11:12:00.511432Z",
          "iopub.status.busy": "2022-12-09T11:12:00.510982Z",
          "iopub.status.idle": "2022-12-09T11:12:00.521955Z",
          "shell.execute_reply": "2022-12-09T11:12:00.520799Z"
        },
        "id": "a13f843c",
        "outputId": "86053404-7742-42d9-cb1f-376fbca3a8e5",
        "papermill": {
          "duration": 0.059309,
          "end_time": "2022-12-09T11:12:00.524216",
          "exception": false,
          "start_time": "2022-12-09T11:12:00.464907",
          "status": "completed"
        },
        "tags": []
      },
      "outputs": [
        {
          "output_type": "stream",
          "name": "stdout",
          "text": [
            "<class 'pandas.core.frame.DataFrame'>\n",
            "RangeIndex: 72983 entries, 0 to 72982\n",
            "Data columns (total 34 columns):\n",
            " #   Column                             Non-Null Count  Dtype  \n",
            "---  ------                             --------------  -----  \n",
            " 0   RefId                              72983 non-null  int64  \n",
            " 1   IsBadBuy                           72983 non-null  int64  \n",
            " 2   PurchDate                          72983 non-null  object \n",
            " 3   Auction                            72983 non-null  object \n",
            " 4   VehYear                            72983 non-null  int64  \n",
            " 5   VehicleAge                         72983 non-null  int64  \n",
            " 6   Make                               72983 non-null  object \n",
            " 7   Model                              72983 non-null  object \n",
            " 8   Trim                               70623 non-null  object \n",
            " 9   SubModel                           72975 non-null  object \n",
            " 10  Color                              72975 non-null  object \n",
            " 11  Transmission                       72974 non-null  object \n",
            " 12  WheelTypeID                        69814 non-null  float64\n",
            " 13  WheelType                          69809 non-null  object \n",
            " 14  VehOdo                             72983 non-null  int64  \n",
            " 15  Nationality                        72978 non-null  object \n",
            " 16  Size                               72978 non-null  object \n",
            " 17  TopThreeAmericanName               72978 non-null  object \n",
            " 18  MMRAcquisitionAuctionAveragePrice  72965 non-null  float64\n",
            " 19  MMRAcquisitionAuctionCleanPrice    72965 non-null  float64\n",
            " 20  MMRAcquisitionRetailAveragePrice   72965 non-null  float64\n",
            " 21  MMRAcquisitonRetailCleanPrice      72965 non-null  float64\n",
            " 22  MMRCurrentAuctionAveragePrice      72668 non-null  float64\n",
            " 23  MMRCurrentAuctionCleanPrice        72668 non-null  float64\n",
            " 24  MMRCurrentRetailAveragePrice       72668 non-null  float64\n",
            " 25  MMRCurrentRetailCleanPrice         72668 non-null  float64\n",
            " 26  PRIMEUNIT                          3419 non-null   object \n",
            " 27  AUCGUART                           3419 non-null   object \n",
            " 28  BYRNO                              72983 non-null  int64  \n",
            " 29  VNZIP1                             72983 non-null  int64  \n",
            " 30  VNST                               72983 non-null  object \n",
            " 31  VehBCost                           72983 non-null  float64\n",
            " 32  IsOnlineSale                       72983 non-null  int64  \n",
            " 33  WarrantyCost                       72983 non-null  int64  \n",
            "dtypes: float64(10), int64(9), object(15)\n",
            "memory usage: 18.9+ MB\n"
          ]
        }
      ],
      "source": [
        "train_df.info()"
      ]
    },
    {
      "cell_type": "code",
      "execution_count": 157,
      "id": "c931b7d3",
      "metadata": {
        "colab": {
          "base_uri": "https://localhost:8080/"
        },
        "execution": {
          "iopub.execute_input": "2022-12-09T11:12:00.617132Z",
          "iopub.status.busy": "2022-12-09T11:12:00.616292Z",
          "iopub.status.idle": "2022-12-09T11:12:00.767486Z",
          "shell.execute_reply": "2022-12-09T11:12:00.766428Z"
        },
        "id": "c931b7d3",
        "outputId": "ae8c7cff-45f2-48f6-ecd2-44dcd506fc8b",
        "papermill": {
          "duration": 0.20017,
          "end_time": "2022-12-09T11:12:00.769832",
          "exception": false,
          "start_time": "2022-12-09T11:12:00.569662",
          "status": "completed"
        },
        "tags": []
      },
      "outputs": [
        {
          "output_type": "execute_result",
          "data": {
            "text/plain": [
              "RefId                                    0\n",
              "IsBadBuy                                 0\n",
              "PurchDate                                0\n",
              "Auction                                  0\n",
              "VehYear                                  0\n",
              "VehicleAge                               0\n",
              "Make                                     0\n",
              "Model                                    0\n",
              "Trim                                  2360\n",
              "SubModel                                 8\n",
              "Color                                    8\n",
              "Transmission                             9\n",
              "WheelTypeID                           3169\n",
              "WheelType                             3174\n",
              "VehOdo                                   0\n",
              "Nationality                              5\n",
              "Size                                     5\n",
              "TopThreeAmericanName                     5\n",
              "MMRAcquisitionAuctionAveragePrice       18\n",
              "MMRAcquisitionAuctionCleanPrice         18\n",
              "MMRAcquisitionRetailAveragePrice        18\n",
              "MMRAcquisitonRetailCleanPrice           18\n",
              "MMRCurrentAuctionAveragePrice          315\n",
              "MMRCurrentAuctionCleanPrice            315\n",
              "MMRCurrentRetailAveragePrice           315\n",
              "MMRCurrentRetailCleanPrice             315\n",
              "PRIMEUNIT                            69564\n",
              "AUCGUART                             69564\n",
              "BYRNO                                    0\n",
              "VNZIP1                                   0\n",
              "VNST                                     0\n",
              "VehBCost                                 0\n",
              "IsOnlineSale                             0\n",
              "WarrantyCost                             0\n",
              "dtype: int64"
            ]
          },
          "metadata": {},
          "execution_count": 157
        }
      ],
      "source": [
        "train_df.isna().sum()"
      ]
    },
    {
      "cell_type": "markdown",
      "id": "616d3f2c",
      "metadata": {
        "id": "616d3f2c",
        "papermill": {
          "duration": 0.04567,
          "end_time": "2022-12-09T11:12:01.435124",
          "exception": false,
          "start_time": "2022-12-09T11:12:01.389454",
          "status": "completed"
        },
        "tags": []
      },
      "source": [
        "Observations:\n",
        "* Memory usage is 114.5+ MB.\n",
        "* No. of rows 72983 as expected.\n",
        "* `PRIMEUNIT` and `AUCGUART` have  missing data.\n",
        "* `store_nubr` ranges from 1 to 54.\n",
        "* `BYRNO ` ranges from \\$0 to \\$124717.\n",
        "* `PurchDate`ranges from 1 January 2013 to 15 August 2017.\n",
        "\n",
        "We may need to deal with outliers and data entry error before we train our model."
      ]
    },
    {
      "cell_type": "markdown",
      "id": "6aef8c6c",
      "metadata": {
        "id": "6aef8c6c",
        "papermill": {
          "duration": 0.045386,
          "end_time": "2022-12-09T11:12:01.526655",
          "exception": false,
          "start_time": "2022-12-09T11:12:01.481269",
          "status": "completed"
        },
        "tags": []
      },
      "source": [
        "### Basic information about the test set"
      ]
    },
    {
      "cell_type": "code",
      "execution_count": 158,
      "id": "bf946bb4",
      "metadata": {
        "colab": {
          "base_uri": "https://localhost:8080/"
        },
        "execution": {
          "iopub.execute_input": "2022-12-09T11:12:01.620329Z",
          "iopub.status.busy": "2022-12-09T11:12:01.619922Z",
          "iopub.status.idle": "2022-12-09T11:12:01.635237Z",
          "shell.execute_reply": "2022-12-09T11:12:01.633622Z"
        },
        "id": "bf946bb4",
        "outputId": "94dc76e0-1ed4-48a5-bae1-0648f006214b",
        "papermill": {
          "duration": 0.064884,
          "end_time": "2022-12-09T11:12:01.637709",
          "exception": false,
          "start_time": "2022-12-09T11:12:01.572825",
          "status": "completed"
        },
        "tags": []
      },
      "outputs": [
        {
          "output_type": "stream",
          "name": "stdout",
          "text": [
            "<class 'pandas.core.frame.DataFrame'>\n",
            "RangeIndex: 48707 entries, 0 to 48706\n",
            "Data columns (total 33 columns):\n",
            " #   Column                             Non-Null Count  Dtype  \n",
            "---  ------                             --------------  -----  \n",
            " 0   RefId                              48707 non-null  int64  \n",
            " 1   PurchDate                          48707 non-null  object \n",
            " 2   Auction                            48707 non-null  object \n",
            " 3   VehYear                            48707 non-null  int64  \n",
            " 4   VehicleAge                         48707 non-null  int64  \n",
            " 5   Make                               48707 non-null  object \n",
            " 6   Model                              48707 non-null  object \n",
            " 7   Trim                               47157 non-null  object \n",
            " 8   SubModel                           48702 non-null  object \n",
            " 9   Color                              48703 non-null  object \n",
            " 10  Transmission                       48704 non-null  object \n",
            " 11  WheelTypeID                        46519 non-null  float64\n",
            " 12  WheelType                          46519 non-null  object \n",
            " 13  VehOdo                             48707 non-null  int64  \n",
            " 14  Nationality                        48700 non-null  object \n",
            " 15  Size                               48700 non-null  object \n",
            " 16  TopThreeAmericanName               48700 non-null  object \n",
            " 17  MMRAcquisitionAuctionAveragePrice  48697 non-null  float64\n",
            " 18  MMRAcquisitionAuctionCleanPrice    48697 non-null  float64\n",
            " 19  MMRAcquisitionRetailAveragePrice   48697 non-null  float64\n",
            " 20  MMRAcquisitonRetailCleanPrice      48697 non-null  float64\n",
            " 21  MMRCurrentAuctionAveragePrice      48564 non-null  float64\n",
            " 22  MMRCurrentAuctionCleanPrice        48564 non-null  float64\n",
            " 23  MMRCurrentRetailAveragePrice       48564 non-null  float64\n",
            " 24  MMRCurrentRetailCleanPrice         48564 non-null  float64\n",
            " 25  PRIMEUNIT                          2516 non-null   object \n",
            " 26  AUCGUART                           2516 non-null   object \n",
            " 27  BYRNO                              48707 non-null  int64  \n",
            " 28  VNZIP1                             48707 non-null  int64  \n",
            " 29  VNST                               48707 non-null  object \n",
            " 30  VehBCost                           48707 non-null  float64\n",
            " 31  IsOnlineSale                       48707 non-null  int64  \n",
            " 32  WarrantyCost                       48707 non-null  int64  \n",
            "dtypes: float64(10), int64(8), object(15)\n",
            "memory usage: 12.3+ MB\n"
          ]
        }
      ],
      "source": [
        "test_df.info()"
      ]
    },
    {
      "cell_type": "code",
      "execution_count": 159,
      "id": "a4983fb2",
      "metadata": {
        "colab": {
          "base_uri": "https://localhost:8080/"
        },
        "execution": {
          "iopub.execute_input": "2022-12-09T11:12:01.731699Z",
          "iopub.status.busy": "2022-12-09T11:12:01.730853Z",
          "iopub.status.idle": "2022-12-09T11:12:01.742031Z",
          "shell.execute_reply": "2022-12-09T11:12:01.740837Z"
        },
        "id": "a4983fb2",
        "outputId": "76b63f3e-aae4-43d1-814b-725b9da1e6ee",
        "papermill": {
          "duration": 0.060552,
          "end_time": "2022-12-09T11:12:01.744408",
          "exception": false,
          "start_time": "2022-12-09T11:12:01.683856",
          "status": "completed"
        },
        "tags": []
      },
      "outputs": [
        {
          "output_type": "execute_result",
          "data": {
            "text/plain": [
              "RefId                                    0\n",
              "PurchDate                                0\n",
              "Auction                                  0\n",
              "VehYear                                  0\n",
              "VehicleAge                               0\n",
              "Make                                     0\n",
              "Model                                    0\n",
              "Trim                                  1550\n",
              "SubModel                                 5\n",
              "Color                                    4\n",
              "Transmission                             3\n",
              "WheelTypeID                           2188\n",
              "WheelType                             2188\n",
              "VehOdo                                   0\n",
              "Nationality                              7\n",
              "Size                                     7\n",
              "TopThreeAmericanName                     7\n",
              "MMRAcquisitionAuctionAveragePrice       10\n",
              "MMRAcquisitionAuctionCleanPrice         10\n",
              "MMRAcquisitionRetailAveragePrice        10\n",
              "MMRAcquisitonRetailCleanPrice           10\n",
              "MMRCurrentAuctionAveragePrice          143\n",
              "MMRCurrentAuctionCleanPrice            143\n",
              "MMRCurrentRetailAveragePrice           143\n",
              "MMRCurrentRetailCleanPrice             143\n",
              "PRIMEUNIT                            46191\n",
              "AUCGUART                             46191\n",
              "BYRNO                                    0\n",
              "VNZIP1                                   0\n",
              "VNST                                     0\n",
              "VehBCost                                 0\n",
              "IsOnlineSale                             0\n",
              "WarrantyCost                             0\n",
              "dtype: int64"
            ]
          },
          "metadata": {},
          "execution_count": 159
        }
      ],
      "source": [
        "test_df.isna().sum()"
      ]
    },
    {
      "cell_type": "markdown",
      "id": "fb685dc5",
      "metadata": {
        "id": "fb685dc5",
        "papermill": {
          "duration": 0.047828,
          "end_time": "2022-12-09T11:12:02.085016",
          "exception": false,
          "start_time": "2022-12-09T11:12:02.037188",
          "status": "completed"
        },
        "tags": []
      },
      "source": [
        "Observations:\n",
        "* Memory usage is 1.1+ MB.\n",
        "* No. of rows 48707  as expected.\n",
        "* `PRIMEUNIT` and `AUCGUART` have  missing data.\n",
        "* `store_nubr` ranges from 1 to 54.\n",
        "* `BYRNO ` ranges from \\$0 to \\$124717.\n",
        "* `PurchDate`ranges from 1 January 2013 to 15 August 2017.\n",
        "\n",
        "We may need to deal with outliers and data entry error before we train our model.\n"
      ]
    },
    {
      "cell_type": "markdown",
      "id": "28c2e88e",
      "metadata": {
        "id": "28c2e88e",
        "papermill": {
          "duration": 0.046472,
          "end_time": "2022-12-09T11:12:08.528210",
          "exception": false,
          "start_time": "2022-12-09T11:12:08.481738",
          "status": "completed"
        },
        "tags": []
      },
      "source": [
        "### Exploratory Data Analysis & Visualization"
      ]
    },
    {
      "cell_type": "code",
      "execution_count": 160,
      "id": "3d16d7d1",
      "metadata": {
        "execution": {
          "iopub.execute_input": "2022-12-09T11:12:08.623329Z",
          "iopub.status.busy": "2022-12-09T11:12:08.622907Z",
          "iopub.status.idle": "2022-12-09T11:12:10.828206Z",
          "shell.execute_reply": "2022-12-09T11:12:10.826965Z"
        },
        "id": "3d16d7d1",
        "papermill": {
          "duration": 2.25559,
          "end_time": "2022-12-09T11:12:10.830999",
          "exception": false,
          "start_time": "2022-12-09T11:12:08.575409",
          "status": "completed"
        },
        "tags": []
      },
      "outputs": [],
      "source": [
        "import matplotlib.pyplot as plt\n",
        "import seaborn as sns\n",
        "import plotly.express as px\n",
        "%matplotlib inline"
      ]
    },
    {
      "cell_type": "code",
      "execution_count": 161,
      "id": "52ffc949",
      "metadata": {
        "colab": {
          "base_uri": "https://localhost:8080/"
        },
        "execution": {
          "iopub.execute_input": "2022-12-09T11:12:10.927380Z",
          "iopub.status.busy": "2022-12-09T11:12:10.926707Z",
          "iopub.status.idle": "2022-12-09T11:12:10.933765Z",
          "shell.execute_reply": "2022-12-09T11:12:10.932802Z"
        },
        "id": "52ffc949",
        "outputId": "07835ea7-c68b-46c8-dd2b-b9de305cdc0d",
        "papermill": {
          "duration": 0.057363,
          "end_time": "2022-12-09T11:12:10.935853",
          "exception": false,
          "start_time": "2022-12-09T11:12:10.878490",
          "status": "completed"
        },
        "tags": []
      },
      "outputs": [
        {
          "output_type": "execute_result",
          "data": {
            "text/plain": [
              "Index(['RefId', 'IsBadBuy', 'PurchDate', 'Auction', 'VehYear', 'VehicleAge',\n",
              "       'Make', 'Model', 'Trim', 'SubModel', 'Color', 'Transmission',\n",
              "       'WheelTypeID', 'WheelType', 'VehOdo', 'Nationality', 'Size',\n",
              "       'TopThreeAmericanName', 'MMRAcquisitionAuctionAveragePrice',\n",
              "       'MMRAcquisitionAuctionCleanPrice', 'MMRAcquisitionRetailAveragePrice',\n",
              "       'MMRAcquisitonRetailCleanPrice', 'MMRCurrentAuctionAveragePrice',\n",
              "       'MMRCurrentAuctionCleanPrice', 'MMRCurrentRetailAveragePrice',\n",
              "       'MMRCurrentRetailCleanPrice', 'PRIMEUNIT', 'AUCGUART', 'BYRNO',\n",
              "       'VNZIP1', 'VNST', 'VehBCost', 'IsOnlineSale', 'WarrantyCost'],\n",
              "      dtype='object')"
            ]
          },
          "metadata": {},
          "execution_count": 161
        }
      ],
      "source": [
        "train_df.columns"
      ]
    },
    {
      "cell_type": "code",
      "execution_count": 162,
      "id": "257LhqSZcY6c",
      "metadata": {
        "id": "257LhqSZcY6c",
        "colab": {
          "base_uri": "https://localhost:8080/"
        },
        "outputId": "f880b1cc-bb05-43bf-a46a-ea2f02324493"
      },
      "outputs": [
        {
          "output_type": "stream",
          "name": "stdout",
          "text": [
            "\u001b[33mWARNING: Ignoring invalid distribution -lotly (/usr/local/lib/python3.8/dist-packages)\u001b[0m\u001b[33m\n",
            "\u001b[0m\u001b[33mWARNING: Ignoring invalid distribution -lotly (/usr/local/lib/python3.8/dist-packages)\u001b[0m\u001b[33m\n",
            "\u001b[0m\u001b[33mWARNING: Ignoring invalid distribution -lotly (/usr/local/lib/python3.8/dist-packages)\u001b[0m\u001b[33m\n",
            "\u001b[0m"
          ]
        }
      ],
      "source": [
        "!pip install jovian pandas-profiling numpy plotly --upgrade --quiet\n"
      ]
    },
    {
      "cell_type": "code",
      "execution_count": 163,
      "id": "H2KHk-mFcmn8",
      "metadata": {
        "id": "H2KHk-mFcmn8"
      },
      "outputs": [],
      "source": [
        "import plotly.express as px"
      ]
    },
    {
      "cell_type": "markdown",
      "id": "96d2fc80",
      "metadata": {
        "id": "96d2fc80",
        "papermill": {
          "duration": 0.047511,
          "end_time": "2022-12-09T11:12:11.031130",
          "exception": false,
          "start_time": "2022-12-09T11:12:10.983619",
          "status": "completed"
        },
        "tags": []
      },
      "source": [
        "As the size of the dataset is too large, we will work with the sample data for our training."
      ]
    },
    {
      "cell_type": "code",
      "execution_count": 164,
      "id": "9ec59f5d",
      "metadata": {
        "colab": {
          "base_uri": "https://localhost:8080/",
          "height": 1000
        },
        "execution": {
          "iopub.execute_input": "2022-12-09T11:12:11.125969Z",
          "iopub.status.busy": "2022-12-09T11:12:11.125585Z",
          "iopub.status.idle": "2022-12-09T11:12:12.608423Z",
          "shell.execute_reply": "2022-12-09T11:12:12.607238Z"
        },
        "id": "9ec59f5d",
        "outputId": "23d64be3-3603-475a-f58c-fd2d945a6b50",
        "papermill": {
          "duration": 1.533448,
          "end_time": "2022-12-09T11:12:12.611478",
          "exception": false,
          "start_time": "2022-12-09T11:12:11.078030",
          "status": "completed"
        },
        "tags": []
      },
      "outputs": [
        {
          "output_type": "execute_result",
          "data": {
            "text/plain": [
              "array([[<matplotlib.axes._subplots.AxesSubplot object at 0x7f2e96927280>,\n",
              "        <matplotlib.axes._subplots.AxesSubplot object at 0x7f2e96481fd0>,\n",
              "        <matplotlib.axes._subplots.AxesSubplot object at 0x7f2e9644a430>,\n",
              "        <matplotlib.axes._subplots.AxesSubplot object at 0x7f2e96390820>],\n",
              "       [<matplotlib.axes._subplots.AxesSubplot object at 0x7f2e96343400>,\n",
              "        <matplotlib.axes._subplots.AxesSubplot object at 0x7f2e962eca60>,\n",
              "        <matplotlib.axes._subplots.AxesSubplot object at 0x7f2e962ecb50>,\n",
              "        <matplotlib.axes._subplots.AxesSubplot object at 0x7f2e96324310>],\n",
              "       [<matplotlib.axes._subplots.AxesSubplot object at 0x7f2e962831c0>,\n",
              "        <matplotlib.axes._subplots.AxesSubplot object at 0x7f2e9622e8e0>,\n",
              "        <matplotlib.axes._subplots.AxesSubplot object at 0x7f2e962580a0>,\n",
              "        <matplotlib.axes._subplots.AxesSubplot object at 0x7f2e9620c760>],\n",
              "       [<matplotlib.axes._subplots.AxesSubplot object at 0x7f2e961bae80>,\n",
              "        <matplotlib.axes._subplots.AxesSubplot object at 0x7f2e9616f5e0>,\n",
              "        <matplotlib.axes._subplots.AxesSubplot object at 0x7f2e96199d00>,\n",
              "        <matplotlib.axes._subplots.AxesSubplot object at 0x7f2e96150460>],\n",
              "       [<matplotlib.axes._subplots.AxesSubplot object at 0x7f2e960f9b80>,\n",
              "        <matplotlib.axes._subplots.AxesSubplot object at 0x7f2e960b12e0>,\n",
              "        <matplotlib.axes._subplots.AxesSubplot object at 0x7f2e960da940>,\n",
              "        <matplotlib.axes._subplots.AxesSubplot object at 0x7f2e96084250>]],\n",
              "      dtype=object)"
            ]
          },
          "metadata": {},
          "execution_count": 164
        },
        {
          "output_type": "display_data",
          "data": {
            "text/plain": [
              "<Figure size 1440x1080 with 20 Axes>"
            ],
            "image/png": "[encoded data removed]"
          },
          "metadata": {
            "needs_background": "light"
          }
        }
      ],
      "source": [
        "numerical_features = train_df.select_dtypes(include = ['float64', 'int64']).columns.drop('RefId')\n",
        "train_df[numerical_features].hist(figsize=(20, 15), color = \"#3498db\", bins=30, xlabelsize=8, ylabelsize=8)"
      ]
    },
    {
      "cell_type": "markdown",
      "id": "2eed4491",
      "metadata": {
        "id": "2eed4491",
        "papermill": {
          "duration": 0.047632,
          "end_time": "2022-12-09T11:12:13.212289",
          "exception": false,
          "start_time": "2022-12-09T11:12:13.164657",
          "status": "completed"
        },
        "tags": []
      },
      "source": [
        "By the above graph we can observe that the data has variation in some columns and also vehical year ranges from 2001 to 2010."
      ]
    },
    {
      "cell_type": "code",
      "execution_count": 165,
      "id": "rZDi8DidfOVS",
      "metadata": {
        "colab": {
          "base_uri": "https://localhost:8080/",
          "height": 676
        },
        "id": "rZDi8DidfOVS",
        "outputId": "c904e41a-3512-4644-f40e-7daf022fd03f"
      },
      "outputs": [
        {
          "output_type": "execute_result",
          "data": {
            "text/plain": [
              "[Text(0, 0.5, 'Number of Vehical'),\n",
              " Text(0.5, 0, 'Year'),\n",
              " Text(0.5, 1.0, 'Vehical Registration year')]"
            ]
          },
          "metadata": {},
          "execution_count": 165
        },
        {
          "output_type": "display_data",
          "data": {
            "text/plain": [
              "<Figure size 1296x720 with 1 Axes>"
            ],
            "image/png": "[encoded data removed]"
          },
          "metadata": {
            "needs_background": "light"
          }
        }
      ],
      "source": [
        "plt.figure(figsize=(18,10))\n",
        "plt.title('Vehical Registration year')\n",
        "gfg = sns.countplot(x=train_df.VehYear);\n",
        "gfg.set(xlabel =\"Year\", ylabel = \"Number of Vehical\", title ='Vehical Registration year')"
      ]
    },
    {
      "cell_type": "markdown",
      "source": [
        "The vehical has registerd more in year 2006 and less in 2010"
      ],
      "metadata": {
        "id": "LtHS_Vq3cmLZ"
      },
      "id": "LtHS_Vq3cmLZ"
    },
    {
      "cell_type": "markdown",
      "id": "364a86bb",
      "metadata": {
        "id": "364a86bb",
        "papermill": {
          "duration": 0.046979,
          "end_time": "2022-12-09T11:12:14.231434",
          "exception": false,
          "start_time": "2022-12-09T11:12:14.184455",
          "status": "completed"
        },
        "tags": []
      },
      "source": [
        "#### Year "
      ]
    },
    {
      "cell_type": "markdown",
      "id": "2520cca0",
      "metadata": {
        "id": "2520cca0",
        "papermill": {
          "duration": 0.046828,
          "end_time": "2022-12-09T11:12:14.777308",
          "exception": false,
          "start_time": "2022-12-09T11:12:14.730480",
          "status": "completed"
        },
        "tags": []
      },
      "source": [
        "There are higher number of records for year 2006\n",
        " as expected than other year in the training data."
      ]
    },
    {
      "cell_type": "markdown",
      "id": "af754b62",
      "metadata": {
        "id": "af754b62",
        "papermill": {
          "duration": 0.046764,
          "end_time": "2022-12-09T11:12:14.871082",
          "exception": false,
          "start_time": "2022-12-09T11:12:14.824318",
          "status": "completed"
        },
        "tags": []
      },
      "source": [
        "#### Model"
      ]
    },
    {
      "cell_type": "code",
      "execution_count": 278,
      "id": "440851cc",
      "metadata": {
        "colab": {
          "base_uri": "https://localhost:8080/",
          "height": 676
        },
        "execution": {
          "iopub.execute_input": "2022-12-09T11:12:14.968029Z",
          "iopub.status.busy": "2022-12-09T11:12:14.967169Z",
          "iopub.status.idle": "2022-12-09T11:12:16.110457Z",
          "shell.execute_reply": "2022-12-09T11:12:16.109496Z"
        },
        "id": "440851cc",
        "outputId": "b635af97-ed05-4e33-e06d-0ef87dd170c3",
        "papermill": {
          "duration": 1.194553,
          "end_time": "2022-12-09T11:12:16.112956",
          "exception": false,
          "start_time": "2022-12-09T11:12:14.918403",
          "status": "completed"
        },
        "tags": []
      },
      "outputs": [
        {
          "output_type": "execute_result",
          "data": {
            "text/plain": [
              "[Text(0, 0.5, 'Number of Vehical'),\n",
              " Text(0.5, 0, 'Age'),\n",
              " Text(0.5, 1.0, 'Vehical age in year')]"
            ]
          },
          "metadata": {},
          "execution_count": 278
        },
        {
          "output_type": "display_data",
          "data": {
            "text/plain": [
              "<Figure size 1296x720 with 1 Axes>"
            ],
            "image/png": "[encoded data removed]"
          },
          "metadata": {
            "needs_background": "light"
          }
        }
      ],
      "source": [
        "plt.figure(figsize=(18,10))\n",
        "gfg = sns.countplot(x=train_df.VehicleAge);\n",
        "gfg.set(xlabel =\"Age\", ylabel = \"Number of Vehical\", title ='Vehical age in year')"
      ]
    },
    {
      "cell_type": "markdown",
      "id": "78c8c4a4",
      "metadata": {
        "id": "78c8c4a4",
        "papermill": {
          "duration": 0.048954,
          "end_time": "2022-12-09T11:12:16.211304",
          "exception": false,
          "start_time": "2022-12-09T11:12:16.162350",
          "status": "completed"
        },
        "tags": []
      },
      "source": [
        "\n",
        " All Vehicals is in between 1 to 9 year range."
      ]
    },
    {
      "cell_type": "markdown",
      "id": "3a0fa6b2",
      "metadata": {
        "id": "3a0fa6b2",
        "papermill": {
          "duration": 0.047258,
          "end_time": "2022-12-09T11:12:16.306239",
          "exception": false,
          "start_time": "2022-12-09T11:12:16.258981",
          "status": "completed"
        },
        "tags": []
      },
      "source": [
        "#### WarrantyCost"
      ]
    },
    {
      "cell_type": "code",
      "execution_count": 279,
      "id": "569664bc",
      "metadata": {
        "colab": {
          "base_uri": "https://localhost:8080/",
          "height": 676
        },
        "execution": {
          "iopub.execute_input": "2022-12-09T11:12:16.402877Z",
          "iopub.status.busy": "2022-12-09T11:12:16.402419Z",
          "iopub.status.idle": "2022-12-09T11:12:17.298979Z",
          "shell.execute_reply": "2022-12-09T11:12:17.297819Z"
        },
        "id": "569664bc",
        "outputId": "9dea85d8-a25d-460a-ff2a-b9da0f148c19",
        "papermill": {
          "duration": 0.947836,
          "end_time": "2022-12-09T11:12:17.301527",
          "exception": false,
          "start_time": "2022-12-09T11:12:16.353691",
          "status": "completed"
        },
        "tags": []
      },
      "outputs": [
        {
          "output_type": "execute_result",
          "data": {
            "text/plain": [
              "[Text(0, 0.5, 'Number of Vehical'),\n",
              " Text(0.5, 0, 'WarrantyCost'),\n",
              " Text(0.5, 1.0, 'Vehical WarrantyCost ')]"
            ]
          },
          "metadata": {},
          "execution_count": 279
        },
        {
          "output_type": "display_data",
          "data": {
            "text/plain": [
              "<Figure size 1296x720 with 1 Axes>"
            ],
            "image/png": "[encoded data removed]"
          },
          "metadata": {
            "needs_background": "light"
          }
        }
      ],
      "source": [
        "plt.figure(figsize=(18,10))\n",
        "gfg = sns.histplot(x=train_df.WarrantyCost);\n",
        "gfg.set(xlabel =\"WarrantyCost\", ylabel = \"Number of Vehical\", title ='Vehical WarrantyCost ')"
      ]
    },
    {
      "cell_type": "markdown",
      "id": "c0ba9e8e",
      "metadata": {
        "id": "c0ba9e8e",
        "papermill": {
          "duration": 0.047841,
          "end_time": "2022-12-09T11:12:17.397523",
          "exception": false,
          "start_time": "2022-12-09T11:12:17.349682",
          "status": "completed"
        },
        "tags": []
      },
      "source": [
        "There is cost between 1000 and 3000 of WarrantyCost in the training data."
      ]
    },
    {
      "cell_type": "markdown",
      "id": "2eafebc9",
      "metadata": {
        "id": "2eafebc9",
        "papermill": {
          "duration": 0.048868,
          "end_time": "2022-12-09T11:12:33.814432",
          "exception": false,
          "start_time": "2022-12-09T11:12:33.765564",
          "status": "completed"
        },
        "tags": []
      },
      "source": [
        "`Insight`: There is no cost after 6500. "
      ]
    },
    {
      "cell_type": "markdown",
      "id": "9d071ff3",
      "metadata": {
        "id": "9d071ff3",
        "papermill": {
          "duration": 0.049151,
          "end_time": "2022-12-09T11:12:33.913043",
          "exception": false,
          "start_time": "2022-12-09T11:12:33.863892",
          "status": "completed"
        },
        "tags": []
      },
      "source": [
        "#### WarrantyCost vs VehicleAge"
      ]
    },
    {
      "cell_type": "code",
      "execution_count": 168,
      "id": "5d5d80dd",
      "metadata": {
        "colab": {
          "base_uri": "https://localhost:8080/",
          "height": 621
        },
        "execution": {
          "iopub.execute_input": "2022-12-09T11:12:34.013423Z",
          "iopub.status.busy": "2022-12-09T11:12:34.012743Z",
          "iopub.status.idle": "2022-12-09T11:12:47.582990Z",
          "shell.execute_reply": "2022-12-09T11:12:47.581757Z"
        },
        "id": "5d5d80dd",
        "outputId": "6a25d268-c2f1-455e-da26-929b9635eb03",
        "papermill": {
          "duration": 13.623414,
          "end_time": "2022-12-09T11:12:47.585589",
          "exception": false,
          "start_time": "2022-12-09T11:12:33.962175",
          "status": "completed"
        },
        "tags": []
      },
      "outputs": [
        {
          "output_type": "display_data",
          "data": {
            "text/plain": [
              "<Figure size 1296x720 with 1 Axes>"
            ],
            "image/png": "[encoded data removed]"
          },
          "metadata": {
            "needs_background": "light"
          }
        }
      ],
      "source": [
        "plt.figure(figsize=(18,10))\n",
        "plt.title('WarrantyCost vs VehicleAge')\n",
        "sns.lineplot(y=train_df.WarrantyCost,x=train_df.VehicleAge);"
      ]
    },
    {
      "cell_type": "markdown",
      "id": "b66bd462",
      "metadata": {
        "id": "b66bd462",
        "papermill": {
          "duration": 0.056967,
          "end_time": "2022-12-09T11:12:47.699605",
          "exception": false,
          "start_time": "2022-12-09T11:12:47.642638",
          "status": "completed"
        },
        "tags": []
      },
      "source": [
        "`Insight`: WarrantyCost will increase as Age increases."
      ]
    },
    {
      "cell_type": "markdown",
      "id": "42e85f20",
      "metadata": {
        "id": "42e85f20",
        "papermill": {
          "duration": 0.05284,
          "end_time": "2022-12-09T11:12:47.806638",
          "exception": false,
          "start_time": "2022-12-09T11:12:47.753798",
          "status": "completed"
        },
        "tags": []
      },
      "source": [
        "#### MMRAcquisitionAuctionAveragePrice vs VehYear"
      ]
    },
    {
      "cell_type": "code",
      "execution_count": 169,
      "id": "aabeb184",
      "metadata": {
        "colab": {
          "base_uri": "https://localhost:8080/",
          "height": 621
        },
        "execution": {
          "iopub.execute_input": "2022-12-09T11:12:47.914458Z",
          "iopub.status.busy": "2022-12-09T11:12:47.913559Z",
          "iopub.status.idle": "2022-12-09T11:12:51.813098Z",
          "shell.execute_reply": "2022-12-09T11:12:51.811925Z"
        },
        "id": "aabeb184",
        "outputId": "41bc66ba-35a4-498d-966b-122174052858",
        "papermill": {
          "duration": 3.955895,
          "end_time": "2022-12-09T11:12:51.816524",
          "exception": false,
          "start_time": "2022-12-09T11:12:47.860629",
          "status": "completed"
        },
        "tags": []
      },
      "outputs": [
        {
          "output_type": "display_data",
          "data": {
            "text/plain": [
              "<Figure size 1296x720 with 1 Axes>"
            ],
            "image/png": "[encoded data removed]"
          },
          "metadata": {
            "needs_background": "light"
          }
        }
      ],
      "source": [
        "plt.figure(figsize=(18,10))\n",
        "plt.title('MMRAcquisitionAuctionAveragePrice vs VehYear')\n",
        "sns.lineplot(y=train_df.MMRAcquisitionAuctionAveragePrice,x=train_df.VehYear);"
      ]
    },
    {
      "cell_type": "markdown",
      "id": "99420d94",
      "metadata": {
        "id": "99420d94",
        "papermill": {
          "duration": 0.05192,
          "end_time": "2022-12-09T11:12:51.920430",
          "exception": false,
          "start_time": "2022-12-09T11:12:51.868510",
          "status": "completed"
        },
        "tags": []
      },
      "source": [
        "`Insight`: There is positive correlation between MMRAcquisitionAuctionAveragePrice vs VehYear."
      ]
    },
    {
      "cell_type": "markdown",
      "id": "7ee9b72a",
      "metadata": {
        "id": "7ee9b72a",
        "papermill": {
          "duration": 0.056851,
          "end_time": "2022-12-09T11:13:43.776690",
          "exception": false,
          "start_time": "2022-12-09T11:13:43.719839",
          "status": "completed"
        },
        "tags": []
      },
      "source": [
        "### Ask & Answer Questions\n",
        "1. Which year model has the highest Auction price sales? \n"
      ]
    },
    {
      "cell_type": "code",
      "execution_count": 170,
      "id": "2d6ea36f",
      "metadata": {
        "colab": {
          "base_uri": "https://localhost:8080/",
          "height": 621
        },
        "execution": {
          "iopub.execute_input": "2022-12-09T11:13:43.892381Z",
          "iopub.status.busy": "2022-12-09T11:13:43.891959Z",
          "iopub.status.idle": "2022-12-09T11:13:57.102953Z",
          "shell.execute_reply": "2022-12-09T11:13:57.101801Z"
        },
        "id": "2d6ea36f",
        "outputId": "9cd4f834-e932-4073-94d4-77d80155ae6a",
        "papermill": {
          "duration": 13.272295,
          "end_time": "2022-12-09T11:13:57.105486",
          "exception": false,
          "start_time": "2022-12-09T11:13:43.833191",
          "status": "completed"
        },
        "tags": []
      },
      "outputs": [
        {
          "output_type": "display_data",
          "data": {
            "text/plain": [
              "<Figure size 1296x720 with 1 Axes>"
            ],
            "image/png": "[encoded data removed]"
          },
          "metadata": {
            "needs_background": "light"
          }
        }
      ],
      "source": [
        "plt.figure(figsize=(18,10))\n",
        "plt.title('MMRAcquisitionAuctionAveragePrice vs VehYear')\n",
        "sns.barplot(y=train_df.MMRAcquisitionAuctionAveragePrice,x=train_df.VehYear);"
      ]
    },
    {
      "cell_type": "markdown",
      "id": "a94fcbaa",
      "metadata": {
        "id": "a94fcbaa",
        "papermill": {
          "duration": 0.11582,
          "end_time": "2022-12-09T11:14:24.466255",
          "exception": false,
          "start_time": "2022-12-09T11:14:24.350435",
          "status": "completed"
        },
        "tags": []
      },
      "source": [
        "vehical which is made on 2010 has highest price"
      ]
    },
    {
      "cell_type": "markdown",
      "id": "027c55e1",
      "metadata": {
        "id": "027c55e1",
        "papermill": {
          "duration": 0.05818,
          "end_time": "2022-12-09T11:14:24.583376",
          "exception": false,
          "start_time": "2022-12-09T11:14:24.525196",
          "status": "completed"
        },
        "tags": []
      },
      "source": [
        "#### 2. What is the trend of  MMRCurrentRetailCleanPrice and  MMRAcquisitionAuctionAveragePrice"
      ]
    },
    {
      "cell_type": "code",
      "execution_count": 171,
      "id": "1aefe433",
      "metadata": {
        "colab": {
          "base_uri": "https://localhost:8080/",
          "height": 583
        },
        "execution": {
          "iopub.execute_input": "2022-12-09T11:14:24.702838Z",
          "iopub.status.busy": "2022-12-09T11:14:24.701177Z",
          "iopub.status.idle": "2022-12-09T11:14:46.090679Z",
          "shell.execute_reply": "2022-12-09T11:14:46.089698Z"
        },
        "id": "1aefe433",
        "outputId": "171eb76c-34b3-4926-cfa7-f20e3db6f3bf",
        "papermill": {
          "duration": 21.45127,
          "end_time": "2022-12-09T11:14:46.092952",
          "exception": false,
          "start_time": "2022-12-09T11:14:24.641682",
          "status": "completed"
        },
        "tags": []
      },
      "outputs": [
        {
          "output_type": "display_data",
          "data": {
            "text/plain": [
              "<Figure size 1800x720 with 2 Axes>"
            ],
            "image/png": "[encoded data removed]"
          },
          "metadata": {
            "needs_background": "light"
          }
        }
      ],
      "source": [
        "plt.figure(figsize=(25,10))\n",
        "sns.heatmap(train_df[numerical_features].corr(),cmap = sns.diverging_palette(220, 10, as_cmap = True),annot=True, linewidths=.5, fmt= '.3f');\n",
        "plt.show();"
      ]
    },
    {
      "cell_type": "markdown",
      "id": "5c62767b",
      "metadata": {
        "id": "5c62767b",
        "papermill": {
          "duration": 0.063623,
          "end_time": "2022-12-09T11:15:01.748299",
          "exception": false,
          "start_time": "2022-12-09T11:15:01.684676",
          "status": "completed"
        },
        "tags": []
      },
      "source": [
        "* 'MMRCurrentAuctionCleanPrice' has  99% corr with MMRCurrentAuctionAveragePrice.\n",
        "\n",
        "* 'MMRCurrentRetailCleanPrice' has  99% corr with MMRCurrentRetailAveragePrice.\n",
        "\n",
        "* 'MMRAcquisitionAuctionCleanPrice' has 99% corr with MMRAcquisitionAuctionAveragePrice.\n",
        "\n",
        "* 'MMRAcquisitonRetailCleanPrice', has 99% corr with MMRQcquisitionRetailAverageprice.\n",
        "\n",
        "* 'VehYear'  has 96% corr with 'VehicleAge'.\n"
      ]
    },
    {
      "cell_type": "markdown",
      "id": "32b778ac",
      "metadata": {
        "id": "32b778ac",
        "papermill": {
          "duration": 0.063616,
          "end_time": "2022-12-09T11:15:01.875888",
          "exception": false,
          "start_time": "2022-12-09T11:15:01.812272",
          "status": "completed"
        },
        "tags": []
      },
      "source": [
        "## 3. Prepare the Dataset for ML Training\n",
        "\n",
        "I am going to follow these steps:\n",
        "* Split Training & Validation Set\n",
        "* Fill/Remove Missing Values\n",
        "* Extract Inputs & Outputs\n",
        " * Training\n",
        " * Validation\n",
        " * Test\n",
        "* Preprocessing the data"
      ]
    },
    {
      "cell_type": "markdown",
      "id": "71050185",
      "metadata": {
        "id": "71050185",
        "papermill": {
          "duration": 0.063624,
          "end_time": "2022-12-09T11:15:02.003532",
          "exception": false,
          "start_time": "2022-12-09T11:15:01.939908",
          "status": "completed"
        },
        "tags": []
      },
      "source": [
        "### Split Training & Validation Set\n",
        "\n",
        "We will set aside the 20% of the dataset for  data for validation set."
      ]
    },
    {
      "cell_type": "code",
      "execution_count": 172,
      "id": "QPz3SOnB1yba",
      "metadata": {
        "id": "QPz3SOnB1yba"
      },
      "outputs": [],
      "source": [
        "from sklearn.model_selection import train_test_split\n",
        "train_df, val_df = train_test_split(train_df, test_size=0.2, random_state=42)"
      ]
    },
    {
      "cell_type": "code",
      "execution_count": 173,
      "id": "c9faa25b",
      "metadata": {
        "colab": {
          "base_uri": "https://localhost:8080/",
          "height": 730
        },
        "execution": {
          "iopub.execute_input": "2022-12-09T11:15:02.133468Z",
          "iopub.status.busy": "2022-12-09T11:15:02.133012Z",
          "iopub.status.idle": "2022-12-09T11:15:02.158023Z",
          "shell.execute_reply": "2022-12-09T11:15:02.156739Z"
        },
        "id": "c9faa25b",
        "outputId": "fe2f40bb-cf76-4f5a-efe3-05c5f300ca9a",
        "papermill": {
          "duration": 0.092289,
          "end_time": "2022-12-09T11:15:02.160844",
          "exception": false,
          "start_time": "2022-12-09T11:15:02.068555",
          "status": "completed"
        },
        "tags": []
      },
      "outputs": [
        {
          "output_type": "execute_result",
          "data": {
            "text/plain": [
              "       RefId  IsBadBuy  PurchDate  Auction  VehYear  VehicleAge       Make  \\\n",
              "9093    9102         0  2/23/2009  MANHEIM     2007           2       FORD   \n",
              "13320  13330         0   2/3/2009  MANHEIM     2004           5        GMC   \n",
              "29596  29617         0  2/26/2010    OTHER     2008           2      DODGE   \n",
              "45118  45142         0  4/23/2009    OTHER     2004           5  CHEVROLET   \n",
              "2949    2952         0   6/2/2010    OTHER     2006           4    HYUNDAI   \n",
              "...      ...       ...        ...      ...      ...         ...        ...   \n",
              "37194  37217         1   6/8/2010  MANHEIM     2007           3   CHRYSLER   \n",
              "6265    6272         0  4/29/2010  MANHEIM     2006           4        KIA   \n",
              "54886  54914         0   7/9/2010    OTHER     2006           4  CHEVROLET   \n",
              "860      862         0  9/29/2009    ADESA     2006           3    PONTIAC   \n",
              "15795  15806         0  8/18/2009  MANHEIM     2006           3      DODGE   \n",
              "\n",
              "                      Model Trim         SubModel  ...  \\\n",
              "9093   FREESTYLE FWD V6 3.0  SEL  4D CUV 3.0L SEL  ...   \n",
              "13320  ENVOY 4WD 6C 4.2L I6  SLE  4D UTILITY 4.2L  ...   \n",
              "29596               CALIBER   SE         4D WAGON  ...   \n",
              "45118    IMPALA 3.4L V6 SFI  Bas         4D SEDAN  ...   \n",
              "2949              SONATA 4C  GLS     4D SEDAN GLS  ...   \n",
              "...                     ...  ...              ...  ...   \n",
              "37194            SEBRING V6  Bas         4D SEDAN  ...   \n",
              "6265                SPECTRA   EX         4D SEDAN  ...   \n",
              "54886             MALIBU 4C   LT      4D SEDAN LT  ...   \n",
              "860       G6 V6 3.5L V6 SFI  Bas         4D SEDAN  ...   \n",
              "15795  CARAVAN GRAND FWD V6  Bas     MINIVAN 3.3L  ...   \n",
              "\n",
              "      MMRCurrentRetailAveragePrice MMRCurrentRetailCleanPrice  PRIMEUNIT  \\\n",
              "9093                       13220.0                    15386.0        NaN   \n",
              "13320                       9507.0                    11429.0        NaN   \n",
              "29596                      11284.0                    11757.0        NaN   \n",
              "45118                       4434.0                     5803.0        NaN   \n",
              "2949                        9257.0                    10548.0        NaN   \n",
              "...                            ...                        ...        ...   \n",
              "37194                      10763.0                    11962.0        NaN   \n",
              "6265                        7125.0                     8957.0        NaN   \n",
              "54886                      10068.0                    11984.0        NaN   \n",
              "860                        10401.0                    12057.0        NaN   \n",
              "15795                       7660.0                     9493.0        NaN   \n",
              "\n",
              "      AUCGUART  BYRNO VNZIP1 VNST VehBCost  IsOnlineSale  WarrantyCost  \n",
              "9093       NaN  17675  27542   NC   8000.0             0          1506  \n",
              "13320      NaN  20740  21075   MD   7195.0             0          2152  \n",
              "29596      NaN  99761  74135   OK   7300.0             0           754  \n",
              "45118      NaN   3453  80229   CO   5655.0             0          1974  \n",
              "2949       NaN   8172  35004   AL   7900.0             0           728  \n",
              "...        ...    ...    ...  ...      ...           ...           ...  \n",
              "37194      NaN  99750  46803   IN   8300.0             0          1118  \n",
              "6265       NaN  18881  30272   GA   7045.0             0           533  \n",
              "54886      NaN  99750  73108   OK   6700.0             0          1113  \n",
              "860        NaN  99740  50111   IA   7295.0             0          1272  \n",
              "15795      NaN  20207  77041   TX   6280.0             0          1763  \n",
              "\n",
              "[58386 rows x 34 columns]"
            ],
            "text/html": [
              "\n",
              "  <div id=\"df-9d59ca21-0775-4906-9108-2f0560097765\">\n",
              "    <div class=\"colab-df-container\">\n",
              "      <div>\n",
              "<style scoped>\n",
              "    .dataframe tbody tr th:only-of-type {\n",
              "        vertical-align: middle;\n",
              "    }\n",
              "\n",
              "    .dataframe tbody tr th {\n",
              "        vertical-align: top;\n",
              "    }\n",
              "\n",
              "    .dataframe thead th {\n",
              "        text-align: right;\n",
              "    }\n",
              "</style>\n",
              "<table border=\"1\" class=\"dataframe\">\n",
              "  <thead>\n",
              "    <tr style=\"text-align: right;\">\n",
              "      <th></th>\n",
              "      <th>RefId</th>\n",
              "      <th>IsBadBuy</th>\n",
              "      <th>PurchDate</th>\n",
              "      <th>Auction</th>\n",
              "      <th>VehYear</th>\n",
              "      <th>VehicleAge</th>\n",
              "      <th>Make</th>\n",
              "      <th>Model</th>\n",
              "      <th>Trim</th>\n",
              "      <th>SubModel</th>\n",
              "      <th>...</th>\n",
              "      <th>MMRCurrentRetailAveragePrice</th>\n",
              "      <th>MMRCurrentRetailCleanPrice</th>\n",
              "      <th>PRIMEUNIT</th>\n",
              "      <th>AUCGUART</th>\n",
              "      <th>BYRNO</th>\n",
              "      <th>VNZIP1</th>\n",
              "      <th>VNST</th>\n",
              "      <th>VehBCost</th>\n",
              "      <th>IsOnlineSale</th>\n",
              "      <th>WarrantyCost</th>\n",
              "    </tr>\n",
              "  </thead>\n",
              "  <tbody>\n",
              "    <tr>\n",
              "      <th>9093</th>\n",
              "      <td>9102</td>\n",
              "      <td>0</td>\n",
              "      <td>2/23/2009</td>\n",
              "      <td>MANHEIM</td>\n",
              "      <td>2007</td>\n",
              "      <td>2</td>\n",
              "      <td>FORD</td>\n",
              "      <td>FREESTYLE FWD V6 3.0</td>\n",
              "      <td>SEL</td>\n",
              "      <td>4D CUV 3.0L SEL</td>\n",
              "      <td>...</td>\n",
              "      <td>13220.0</td>\n",
              "      <td>15386.0</td>\n",
              "      <td>NaN</td>\n",
              "      <td>NaN</td>\n",
              "      <td>17675</td>\n",
              "      <td>27542</td>\n",
              "      <td>NC</td>\n",
              "      <td>8000.0</td>\n",
              "      <td>0</td>\n",
              "      <td>1506</td>\n",
              "    </tr>\n",
              "    <tr>\n",
              "      <th>13320</th>\n",
              "      <td>13330</td>\n",
              "      <td>0</td>\n",
              "      <td>2/3/2009</td>\n",
              "      <td>MANHEIM</td>\n",
              "      <td>2004</td>\n",
              "      <td>5</td>\n",
              "      <td>GMC</td>\n",
              "      <td>ENVOY 4WD 6C 4.2L I6</td>\n",
              "      <td>SLE</td>\n",
              "      <td>4D UTILITY 4.2L</td>\n",
              "      <td>...</td>\n",
              "      <td>9507.0</td>\n",
              "      <td>11429.0</td>\n",
              "      <td>NaN</td>\n",
              "      <td>NaN</td>\n",
              "      <td>20740</td>\n",
              "      <td>21075</td>\n",
              "      <td>MD</td>\n",
              "      <td>7195.0</td>\n",
              "      <td>0</td>\n",
              "      <td>2152</td>\n",
              "    </tr>\n",
              "    <tr>\n",
              "      <th>29596</th>\n",
              "      <td>29617</td>\n",
              "      <td>0</td>\n",
              "      <td>2/26/2010</td>\n",
              "      <td>OTHER</td>\n",
              "      <td>2008</td>\n",
              "      <td>2</td>\n",
              "      <td>DODGE</td>\n",
              "      <td>CALIBER</td>\n",
              "      <td>SE</td>\n",
              "      <td>4D WAGON</td>\n",
              "      <td>...</td>\n",
              "      <td>11284.0</td>\n",
              "      <td>11757.0</td>\n",
              "      <td>NaN</td>\n",
              "      <td>NaN</td>\n",
              "      <td>99761</td>\n",
              "      <td>74135</td>\n",
              "      <td>OK</td>\n",
              "      <td>7300.0</td>\n",
              "      <td>0</td>\n",
              "      <td>754</td>\n",
              "    </tr>\n",
              "    <tr>\n",
              "      <th>45118</th>\n",
              "      <td>45142</td>\n",
              "      <td>0</td>\n",
              "      <td>4/23/2009</td>\n",
              "      <td>OTHER</td>\n",
              "      <td>2004</td>\n",
              "      <td>5</td>\n",
              "      <td>CHEVROLET</td>\n",
              "      <td>IMPALA 3.4L V6 SFI</td>\n",
              "      <td>Bas</td>\n",
              "      <td>4D SEDAN</td>\n",
              "      <td>...</td>\n",
              "      <td>4434.0</td>\n",
              "      <td>5803.0</td>\n",
              "      <td>NaN</td>\n",
              "      <td>NaN</td>\n",
              "      <td>3453</td>\n",
              "      <td>80229</td>\n",
              "      <td>CO</td>\n",
              "      <td>5655.0</td>\n",
              "      <td>0</td>\n",
              "      <td>1974</td>\n",
              "    </tr>\n",
              "    <tr>\n",
              "      <th>2949</th>\n",
              "      <td>2952</td>\n",
              "      <td>0</td>\n",
              "      <td>6/2/2010</td>\n",
              "      <td>OTHER</td>\n",
              "      <td>2006</td>\n",
              "      <td>4</td>\n",
              "      <td>HYUNDAI</td>\n",
              "      <td>SONATA 4C</td>\n",
              "      <td>GLS</td>\n",
              "      <td>4D SEDAN GLS</td>\n",
              "      <td>...</td>\n",
              "      <td>9257.0</td>\n",
              "      <td>10548.0</td>\n",
              "      <td>NaN</td>\n",
              "      <td>NaN</td>\n",
              "      <td>8172</td>\n",
              "      <td>35004</td>\n",
              "      <td>AL</td>\n",
              "      <td>7900.0</td>\n",
              "      <td>0</td>\n",
              "      <td>728</td>\n",
              "    </tr>\n",
              "    <tr>\n",
              "      <th>...</th>\n",
              "      <td>...</td>\n",
              "      <td>...</td>\n",
              "      <td>...</td>\n",
              "      <td>...</td>\n",
              "      <td>...</td>\n",
              "      <td>...</td>\n",
              "      <td>...</td>\n",
              "      <td>...</td>\n",
              "      <td>...</td>\n",
              "      <td>...</td>\n",
              "      <td>...</td>\n",
              "      <td>...</td>\n",
              "      <td>...</td>\n",
              "      <td>...</td>\n",
              "      <td>...</td>\n",
              "      <td>...</td>\n",
              "      <td>...</td>\n",
              "      <td>...</td>\n",
              "      <td>...</td>\n",
              "      <td>...</td>\n",
              "      <td>...</td>\n",
              "    </tr>\n",
              "    <tr>\n",
              "      <th>37194</th>\n",
              "      <td>37217</td>\n",
              "      <td>1</td>\n",
              "      <td>6/8/2010</td>\n",
              "      <td>MANHEIM</td>\n",
              "      <td>2007</td>\n",
              "      <td>3</td>\n",
              "      <td>CHRYSLER</td>\n",
              "      <td>SEBRING V6</td>\n",
              "      <td>Bas</td>\n",
              "      <td>4D SEDAN</td>\n",
              "      <td>...</td>\n",
              "      <td>10763.0</td>\n",
              "      <td>11962.0</td>\n",
              "      <td>NaN</td>\n",
              "      <td>NaN</td>\n",
              "      <td>99750</td>\n",
              "      <td>46803</td>\n",
              "      <td>IN</td>\n",
              "      <td>8300.0</td>\n",
              "      <td>0</td>\n",
              "      <td>1118</td>\n",
              "    </tr>\n",
              "    <tr>\n",
              "      <th>6265</th>\n",
              "      <td>6272</td>\n",
              "      <td>0</td>\n",
              "      <td>4/29/2010</td>\n",
              "      <td>MANHEIM</td>\n",
              "      <td>2006</td>\n",
              "      <td>4</td>\n",
              "      <td>KIA</td>\n",
              "      <td>SPECTRA</td>\n",
              "      <td>EX</td>\n",
              "      <td>4D SEDAN</td>\n",
              "      <td>...</td>\n",
              "      <td>7125.0</td>\n",
              "      <td>8957.0</td>\n",
              "      <td>NaN</td>\n",
              "      <td>NaN</td>\n",
              "      <td>18881</td>\n",
              "      <td>30272</td>\n",
              "      <td>GA</td>\n",
              "      <td>7045.0</td>\n",
              "      <td>0</td>\n",
              "      <td>533</td>\n",
              "    </tr>\n",
              "    <tr>\n",
              "      <th>54886</th>\n",
              "      <td>54914</td>\n",
              "      <td>0</td>\n",
              "      <td>7/9/2010</td>\n",
              "      <td>OTHER</td>\n",
              "      <td>2006</td>\n",
              "      <td>4</td>\n",
              "      <td>CHEVROLET</td>\n",
              "      <td>MALIBU 4C</td>\n",
              "      <td>LT</td>\n",
              "      <td>4D SEDAN LT</td>\n",
              "      <td>...</td>\n",
              "      <td>10068.0</td>\n",
              "      <td>11984.0</td>\n",
              "      <td>NaN</td>\n",
              "      <td>NaN</td>\n",
              "      <td>99750</td>\n",
              "      <td>73108</td>\n",
              "      <td>OK</td>\n",
              "      <td>6700.0</td>\n",
              "      <td>0</td>\n",
              "      <td>1113</td>\n",
              "    </tr>\n",
              "    <tr>\n",
              "      <th>860</th>\n",
              "      <td>862</td>\n",
              "      <td>0</td>\n",
              "      <td>9/29/2009</td>\n",
              "      <td>ADESA</td>\n",
              "      <td>2006</td>\n",
              "      <td>3</td>\n",
              "      <td>PONTIAC</td>\n",
              "      <td>G6 V6 3.5L V6 SFI</td>\n",
              "      <td>Bas</td>\n",
              "      <td>4D SEDAN</td>\n",
              "      <td>...</td>\n",
              "      <td>10401.0</td>\n",
              "      <td>12057.0</td>\n",
              "      <td>NaN</td>\n",
              "      <td>NaN</td>\n",
              "      <td>99740</td>\n",
              "      <td>50111</td>\n",
              "      <td>IA</td>\n",
              "      <td>7295.0</td>\n",
              "      <td>0</td>\n",
              "      <td>1272</td>\n",
              "    </tr>\n",
              "    <tr>\n",
              "      <th>15795</th>\n",
              "      <td>15806</td>\n",
              "      <td>0</td>\n",
              "      <td>8/18/2009</td>\n",
              "      <td>MANHEIM</td>\n",
              "      <td>2006</td>\n",
              "      <td>3</td>\n",
              "      <td>DODGE</td>\n",
              "      <td>CARAVAN GRAND FWD V6</td>\n",
              "      <td>Bas</td>\n",
              "      <td>MINIVAN 3.3L</td>\n",
              "      <td>...</td>\n",
              "      <td>7660.0</td>\n",
              "      <td>9493.0</td>\n",
              "      <td>NaN</td>\n",
              "      <td>NaN</td>\n",
              "      <td>20207</td>\n",
              "      <td>77041</td>\n",
              "      <td>TX</td>\n",
              "      <td>6280.0</td>\n",
              "      <td>0</td>\n",
              "      <td>1763</td>\n",
              "    </tr>\n",
              "  </tbody>\n",
              "</table>\n",
              "<p>58386 rows × 34 columns</p>\n",
              "</div>\n",
              "      <button class=\"colab-df-convert\" onclick=\"convertToInteractive('df-9d59ca21-0775-4906-9108-2f0560097765')\"\n",
              "              title=\"Convert this dataframe to an interactive table.\"\n",
              "              style=\"display:none;\">\n",
              "        \n",
              "  <svg xmlns=\"http://www.w3.org/2000/svg\" height=\"24px\"viewBox=\"0 0 24 24\"\n",
              "       width=\"24px\">\n",
              "    <path d=\"M0 0h24v24H0V0z\" fill=\"none\"/>\n",
              "    <path d=\"M18.56 5.44l.94 2.06.94-2.06 2.06-.94-2.06-.94-.94-2.06-.94 2.06-2.06.94zm-11 1L8.5 8.5l.94-2.06 2.06-.94-2.06-.94L8.5 2.5l-.94 2.06-2.06.94zm10 10l.94 2.06.94-2.06 2.06-.94-2.06-.94-.94-2.06-.94 2.06-2.06.94z\"/><path d=\"M17.41 7.96l-1.37-1.37c-.4-.4-.92-.59-1.43-.59-.52 0-1.04.2-1.43.59L10.3 9.45l-7.72 7.72c-.78.78-.78 2.05 0 2.83L4 21.41c.39.39.9.59 1.41.59.51 0 1.02-.2 1.41-.59l7.78-7.78 2.81-2.81c.8-.78.8-2.07 0-2.86zM5.41 20L4 18.59l7.72-7.72 1.47 1.35L5.41 20z\"/>\n",
              "  </svg>\n",
              "      </button>\n",
              "      \n",
              "  <style>\n",
              "    .colab-df-container {\n",
              "      display:flex;\n",
              "      flex-wrap:wrap;\n",
              "      gap: 12px;\n",
              "    }\n",
              "\n",
              "    .colab-df-convert {\n",
              "      background-color: #E8F0FE;\n",
              "      border: none;\n",
              "      border-radius: 50%;\n",
              "      cursor: pointer;\n",
              "      display: none;\n",
              "      fill: #1967D2;\n",
              "      height: 32px;\n",
              "      padding: 0 0 0 0;\n",
              "      width: 32px;\n",
              "    }\n",
              "\n",
              "    .colab-df-convert:hover {\n",
              "      background-color: #E2EBFA;\n",
              "      box-shadow: 0px 1px 2px rgba(60, 64, 67, 0.3), 0px 1px 3px 1px rgba(60, 64, 67, 0.15);\n",
              "      fill: #174EA6;\n",
              "    }\n",
              "\n",
              "    [theme=dark] .colab-df-convert {\n",
              "      background-color: #3B4455;\n",
              "      fill: #D2E3FC;\n",
              "    }\n",
              "\n",
              "    [theme=dark] .colab-df-convert:hover {\n",
              "      background-color: #434B5C;\n",
              "      box-shadow: 0px 1px 3px 1px rgba(0, 0, 0, 0.15);\n",
              "      filter: drop-shadow(0px 1px 2px rgba(0, 0, 0, 0.3));\n",
              "      fill: #FFFFFF;\n",
              "    }\n",
              "  </style>\n",
              "\n",
              "      <script>\n",
              "        const buttonEl =\n",
              "          document.querySelector('#df-9d59ca21-0775-4906-9108-2f0560097765 button.colab-df-convert');\n",
              "        buttonEl.style.display =\n",
              "          google.colab.kernel.accessAllowed ? 'block' : 'none';\n",
              "\n",
              "        async function convertToInteractive(key) {\n",
              "          const element = document.querySelector('#df-9d59ca21-0775-4906-9108-2f0560097765');\n",
              "          const dataTable =\n",
              "            await google.colab.kernel.invokeFunction('convertToInteractive',\n",
              "                                                     [key], {});\n",
              "          if (!dataTable) return;\n",
              "\n",
              "          const docLinkHtml = 'Like what you see? Visit the ' +\n",
              "            '<a target=\"_blank\" href=https://colab.research.google.com/notebooks/data_table.ipynb>data table notebook</a>'\n",
              "            + ' to learn more about interactive tables.';\n",
              "          element.innerHTML = '';\n",
              "          dataTable['output_type'] = 'display_data';\n",
              "          await google.colab.output.renderOutput(dataTable, element);\n",
              "          const docLink = document.createElement('div');\n",
              "          docLink.innerHTML = docLinkHtml;\n",
              "          element.appendChild(docLink);\n",
              "        }\n",
              "      </script>\n",
              "    </div>\n",
              "  </div>\n",
              "  "
            ]
          },
          "metadata": {},
          "execution_count": 173
        }
      ],
      "source": [
        "train_df"
      ]
    },
    {
      "cell_type": "code",
      "execution_count": 174,
      "id": "BQRdO2KO15dp",
      "metadata": {
        "colab": {
          "base_uri": "https://localhost:8080/"
        },
        "id": "BQRdO2KO15dp",
        "outputId": "7fba6cac-f3f0-4bcf-a254-53132d144389"
      },
      "outputs": [
        {
          "output_type": "execute_result",
          "data": {
            "text/plain": [
              "((58386, 34), (14597, 34))"
            ]
          },
          "metadata": {},
          "execution_count": 174
        }
      ],
      "source": [
        "train_df.shape,val_df.shape"
      ]
    },
    {
      "cell_type": "markdown",
      "source": [
        "### Drop Unwanted Columns"
      ],
      "metadata": {
        "id": "KWQr0399fFMq"
      },
      "id": "KWQr0399fFMq"
    },
    {
      "cell_type": "markdown",
      "source": [
        "The dataset has many features, remove the features which are less likely to contribute"
      ],
      "metadata": {
        "id": "QWAWByMGd0SJ"
      },
      "id": "QWAWByMGd0SJ"
    },
    {
      "cell_type": "code",
      "execution_count": 175,
      "id": "d083a2d8",
      "metadata": {
        "execution": {
          "iopub.execute_input": "2022-12-09T11:15:02.289251Z",
          "iopub.status.busy": "2022-12-09T11:15:02.288491Z",
          "iopub.status.idle": "2022-12-09T11:15:02.384836Z",
          "shell.execute_reply": "2022-12-09T11:15:02.383552Z"
        },
        "id": "d083a2d8",
        "papermill": {
          "duration": 0.163848,
          "end_time": "2022-12-09T11:15:02.387485",
          "exception": false,
          "start_time": "2022-12-09T11:15:02.223637",
          "status": "completed"
        },
        "tags": []
      },
      "outputs": [],
      "source": [
        "\n",
        "\n",
        "unique_id = ['RefId','BYRNO']\n",
        "with_many_categories = ['VNZIP1','PurchDate', 'Make', 'Model', 'SubModel', 'Trim', 'VNST', 'Color'] \n",
        "redundant = ['WheelTypeID']\n",
        "high_correlation = [ 'MMRCurrentAuctionCleanPrice',    # 99% corr with MMRCurrentAuctionAveragePrice\n",
        "                    'MMRCurrentRetailCleanPrice',      # 99% corr with MMRCurrentRetailAveragePrice\n",
        "                    'MMRAcquisitionAuctionCleanPrice', # 99% corr with MMRAcquisitionAuctionAveragePrice\n",
        "                    'MMRAcquisitonRetailCleanPrice',    # 99% corr with MMRQcquisitionRetailAverageprice\n",
        "                    'VehYear'                          # 96% corr with 'VehicleAge'\n",
        "                   ]\n",
        "columns_to_drop = unique_id + with_many_categories + redundant + high_correlation\n",
        "train_df.drop(columns_to_drop,axis=1,inplace=True)\n",
        "test_df.drop(columns_to_drop,axis=1,inplace=True)\n",
        "val_df.drop(columns_to_drop,axis=1,inplace=True)"
      ]
    },
    {
      "cell_type": "markdown",
      "source": [
        "* Here These ['VNZIP1','PurchDate', 'Make', 'Model', 'SubModel', 'Trim', 'VNST', 'Color'] columns have many categories.\n",
        "\n",
        "* Some of the columns have higly co-related\n",
        "\n",
        "* we can ignore these columns for model training\n",
        "\n"
      ],
      "metadata": {
        "id": "rVYGHaWeeB3A"
      },
      "id": "rVYGHaWeeB3A"
    },
    {
      "cell_type": "code",
      "execution_count": 176,
      "id": "faUVn73D6MS4",
      "metadata": {
        "colab": {
          "base_uri": "https://localhost:8080/"
        },
        "id": "faUVn73D6MS4",
        "outputId": "1eaff85a-019c-4b20-ee0e-554de4930b18"
      },
      "outputs": [
        {
          "output_type": "stream",
          "name": "stdout",
          "text": [
            "<class 'pandas.core.frame.DataFrame'>\n",
            "Int64Index: 58386 entries, 9093 to 15795\n",
            "Data columns (total 18 columns):\n",
            " #   Column                             Non-Null Count  Dtype  \n",
            "---  ------                             --------------  -----  \n",
            " 0   IsBadBuy                           58386 non-null  int64  \n",
            " 1   Auction                            58386 non-null  object \n",
            " 2   VehicleAge                         58386 non-null  int64  \n",
            " 3   Transmission                       58379 non-null  object \n",
            " 4   WheelType                          55856 non-null  object \n",
            " 5   VehOdo                             58386 non-null  int64  \n",
            " 6   Nationality                        58382 non-null  object \n",
            " 7   Size                               58382 non-null  object \n",
            " 8   TopThreeAmericanName               58382 non-null  object \n",
            " 9   MMRAcquisitionAuctionAveragePrice  58373 non-null  float64\n",
            " 10  MMRAcquisitionRetailAveragePrice   58373 non-null  float64\n",
            " 11  MMRCurrentAuctionAveragePrice      58129 non-null  float64\n",
            " 12  MMRCurrentRetailAveragePrice       58129 non-null  float64\n",
            " 13  PRIMEUNIT                          2753 non-null   object \n",
            " 14  AUCGUART                           2753 non-null   object \n",
            " 15  VehBCost                           58386 non-null  float64\n",
            " 16  IsOnlineSale                       58386 non-null  int64  \n",
            " 17  WarrantyCost                       58386 non-null  int64  \n",
            "dtypes: float64(5), int64(5), object(8)\n",
            "memory usage: 8.5+ MB\n"
          ]
        }
      ],
      "source": [
        "train_df.info()"
      ]
    },
    {
      "cell_type": "markdown",
      "source": [
        "### Extract Inputs & Outputs"
      ],
      "metadata": {
        "id": "hJRXH4_ufnYP"
      },
      "id": "hJRXH4_ufnYP"
    },
    {
      "cell_type": "code",
      "execution_count": 177,
      "id": "pAHMgvJ26UEm",
      "metadata": {
        "colab": {
          "base_uri": "https://localhost:8080/"
        },
        "id": "pAHMgvJ26UEm",
        "outputId": "4c272452-b0db-4de1-f502-3690fdd4d59b"
      },
      "outputs": [
        {
          "output_type": "stream",
          "name": "stdout",
          "text": [
            "<class 'pandas.core.frame.DataFrame'>\n",
            "Int64Index: 58386 entries, 9093 to 15795\n",
            "Data columns (total 17 columns):\n",
            " #   Column                             Non-Null Count  Dtype  \n",
            "---  ------                             --------------  -----  \n",
            " 0   Auction                            58386 non-null  object \n",
            " 1   VehicleAge                         58386 non-null  int64  \n",
            " 2   Transmission                       58379 non-null  object \n",
            " 3   WheelType                          55856 non-null  object \n",
            " 4   VehOdo                             58386 non-null  int64  \n",
            " 5   Nationality                        58382 non-null  object \n",
            " 6   Size                               58382 non-null  object \n",
            " 7   TopThreeAmericanName               58382 non-null  object \n",
            " 8   MMRAcquisitionAuctionAveragePrice  58373 non-null  float64\n",
            " 9   MMRAcquisitionRetailAveragePrice   58373 non-null  float64\n",
            " 10  MMRCurrentAuctionAveragePrice      58129 non-null  float64\n",
            " 11  MMRCurrentRetailAveragePrice       58129 non-null  float64\n",
            " 12  PRIMEUNIT                          2753 non-null   object \n",
            " 13  AUCGUART                           2753 non-null   object \n",
            " 14  VehBCost                           58386 non-null  float64\n",
            " 15  IsOnlineSale                       58386 non-null  int64  \n",
            " 16  WarrantyCost                       58386 non-null  int64  \n",
            "dtypes: float64(5), int64(4), object(8)\n",
            "memory usage: 8.0+ MB\n"
          ]
        }
      ],
      "source": [
        "targets=train_df['IsBadBuy']\n",
        "train_df.drop('IsBadBuy',axis=1,inplace=True)\n",
        "train_df.info()"
      ]
    },
    {
      "cell_type": "code",
      "execution_count": 178,
      "id": "aEvI2Lda5rA8",
      "metadata": {
        "colab": {
          "base_uri": "https://localhost:8080/"
        },
        "id": "aEvI2Lda5rA8",
        "outputId": "a3d5147c-f8ac-459c-b9e5-030841766574"
      },
      "outputs": [
        {
          "output_type": "execute_result",
          "data": {
            "text/plain": [
              "58386"
            ]
          },
          "metadata": {},
          "execution_count": 178
        }
      ],
      "source": [
        "len(targets)"
      ]
    },
    {
      "cell_type": "code",
      "execution_count": 179,
      "id": "rpHJfKZu3dD3",
      "metadata": {
        "id": "rpHJfKZu3dD3"
      },
      "outputs": [],
      "source": [
        "targets_val=val_df['IsBadBuy']\n",
        "val_df.drop('IsBadBuy',axis=1,inplace=True)"
      ]
    },
    {
      "cell_type": "code",
      "execution_count": 180,
      "id": "9PtTzF945iLy",
      "metadata": {
        "colab": {
          "base_uri": "https://localhost:8080/"
        },
        "id": "9PtTzF945iLy",
        "outputId": "842b1bce-2209-4e1b-f6b7-b3791d9beb78"
      },
      "outputs": [
        {
          "output_type": "execute_result",
          "data": {
            "text/plain": [
              "14597"
            ]
          },
          "metadata": {},
          "execution_count": 180
        }
      ],
      "source": [
        "len(targets_val)"
      ]
    },
    {
      "cell_type": "code",
      "execution_count": 181,
      "id": "fGW-R5wa3Mf-",
      "metadata": {
        "colab": {
          "base_uri": "https://localhost:8080/"
        },
        "id": "fGW-R5wa3Mf-",
        "outputId": "b1f1cc71-b6a5-4d07-e253-542df2ee0a73"
      },
      "outputs": [
        {
          "output_type": "stream",
          "name": "stdout",
          "text": [
            "<class 'pandas.core.frame.DataFrame'>\n",
            "Int64Index: 14597 entries, 27851 to 38747\n",
            "Data columns (total 17 columns):\n",
            " #   Column                             Non-Null Count  Dtype  \n",
            "---  ------                             --------------  -----  \n",
            " 0   Auction                            14597 non-null  object \n",
            " 1   VehicleAge                         14597 non-null  int64  \n",
            " 2   Transmission                       14595 non-null  object \n",
            " 3   WheelType                          13953 non-null  object \n",
            " 4   VehOdo                             14597 non-null  int64  \n",
            " 5   Nationality                        14596 non-null  object \n",
            " 6   Size                               14596 non-null  object \n",
            " 7   TopThreeAmericanName               14596 non-null  object \n",
            " 8   MMRAcquisitionAuctionAveragePrice  14592 non-null  float64\n",
            " 9   MMRAcquisitionRetailAveragePrice   14592 non-null  float64\n",
            " 10  MMRCurrentAuctionAveragePrice      14539 non-null  float64\n",
            " 11  MMRCurrentRetailAveragePrice       14539 non-null  float64\n",
            " 12  PRIMEUNIT                          666 non-null    object \n",
            " 13  AUCGUART                           666 non-null    object \n",
            " 14  VehBCost                           14597 non-null  float64\n",
            " 15  IsOnlineSale                       14597 non-null  int64  \n",
            " 16  WarrantyCost                       14597 non-null  int64  \n",
            "dtypes: float64(5), int64(4), object(8)\n",
            "memory usage: 2.0+ MB\n"
          ]
        }
      ],
      "source": [
        "val_df.info()\n",
        "numerical_features_val = val_df.select_dtypes(include = ['float64', 'int64']).columns.tolist()\n",
        "categorical_features_val = val_df.select_dtypes(include = 'object').columns.tolist()"
      ]
    },
    {
      "cell_type": "code",
      "source": [
        "# separate numerical and categorical features\n",
        "train_df.info()\n",
        "numerical_features = train_df.select_dtypes(include = ['float64', 'int64']).columns.tolist()\n",
        "categorical_features = train_df.select_dtypes(include = 'object').columns.tolist()"
      ],
      "metadata": {
        "colab": {
          "base_uri": "https://localhost:8080/"
        },
        "id": "3rNLcRZPfsnF",
        "outputId": "963fff73-ffe2-40dd-9a7b-22abf3e5c1a9"
      },
      "id": "3rNLcRZPfsnF",
      "execution_count": 182,
      "outputs": [
        {
          "output_type": "stream",
          "name": "stdout",
          "text": [
            "<class 'pandas.core.frame.DataFrame'>\n",
            "Int64Index: 58386 entries, 9093 to 15795\n",
            "Data columns (total 17 columns):\n",
            " #   Column                             Non-Null Count  Dtype  \n",
            "---  ------                             --------------  -----  \n",
            " 0   Auction                            58386 non-null  object \n",
            " 1   VehicleAge                         58386 non-null  int64  \n",
            " 2   Transmission                       58379 non-null  object \n",
            " 3   WheelType                          55856 non-null  object \n",
            " 4   VehOdo                             58386 non-null  int64  \n",
            " 5   Nationality                        58382 non-null  object \n",
            " 6   Size                               58382 non-null  object \n",
            " 7   TopThreeAmericanName               58382 non-null  object \n",
            " 8   MMRAcquisitionAuctionAveragePrice  58373 non-null  float64\n",
            " 9   MMRAcquisitionRetailAveragePrice   58373 non-null  float64\n",
            " 10  MMRCurrentAuctionAveragePrice      58129 non-null  float64\n",
            " 11  MMRCurrentRetailAveragePrice       58129 non-null  float64\n",
            " 12  PRIMEUNIT                          2753 non-null   object \n",
            " 13  AUCGUART                           2753 non-null   object \n",
            " 14  VehBCost                           58386 non-null  float64\n",
            " 15  IsOnlineSale                       58386 non-null  int64  \n",
            " 16  WarrantyCost                       58386 non-null  int64  \n",
            "dtypes: float64(5), int64(4), object(8)\n",
            "memory usage: 8.0+ MB\n"
          ]
        }
      ]
    },
    {
      "cell_type": "markdown",
      "id": "6c8e9e3a",
      "metadata": {
        "id": "6c8e9e3a",
        "papermill": {
          "duration": 0.061116,
          "end_time": "2022-12-09T11:15:02.894722",
          "exception": false,
          "start_time": "2022-12-09T11:15:02.833606",
          "status": "completed"
        },
        "tags": []
      },
      "source": [
        "### Fill Missing Values \n",
        "\n"
      ]
    },
    {
      "cell_type": "markdown",
      "id": "17e18b8d",
      "metadata": {
        "id": "17e18b8d",
        "papermill": {
          "duration": 0.064502,
          "end_time": "2022-12-09T11:15:03.022958",
          "exception": false,
          "start_time": "2022-12-09T11:15:02.958456",
          "status": "completed"
        },
        "tags": []
      },
      "source": [
        "Let's check missing percentage of data."
      ]
    },
    {
      "cell_type": "code",
      "execution_count": 183,
      "id": "49182b75",
      "metadata": {
        "colab": {
          "base_uri": "https://localhost:8080/"
        },
        "execution": {
          "iopub.execute_input": "2022-12-09T11:15:03.151300Z",
          "iopub.status.busy": "2022-12-09T11:15:03.150861Z",
          "iopub.status.idle": "2022-12-09T11:15:03.282706Z",
          "shell.execute_reply": "2022-12-09T11:15:03.281336Z"
        },
        "id": "49182b75",
        "outputId": "479411f9-5e1a-43c4-b58b-625a385e145e",
        "papermill": {
          "duration": 0.198051,
          "end_time": "2022-12-09T11:15:03.285386",
          "exception": false,
          "start_time": "2022-12-09T11:15:03.087335",
          "status": "completed"
        },
        "tags": []
      },
      "outputs": [
        {
          "output_type": "execute_result",
          "data": {
            "text/plain": [
              "Auction                               0.000000\n",
              "VehicleAge                            0.000000\n",
              "Transmission                          0.011989\n",
              "WheelType                             4.333231\n",
              "VehOdo                                0.000000\n",
              "Nationality                           0.006851\n",
              "Size                                  0.006851\n",
              "TopThreeAmericanName                  0.006851\n",
              "MMRAcquisitionAuctionAveragePrice     0.022266\n",
              "MMRAcquisitionRetailAveragePrice      0.022266\n",
              "MMRCurrentAuctionAveragePrice         0.440174\n",
              "MMRCurrentRetailAveragePrice          0.440174\n",
              "PRIMEUNIT                            95.284829\n",
              "AUCGUART                             95.284829\n",
              "VehBCost                              0.000000\n",
              "IsOnlineSale                          0.000000\n",
              "WarrantyCost                          0.000000\n",
              "dtype: float64"
            ]
          },
          "metadata": {},
          "execution_count": 183
        }
      ],
      "source": [
        "train_df.isna().sum()*100/len(train_df)"
      ]
    },
    {
      "cell_type": "code",
      "execution_count": 184,
      "id": "BAk6qKyQxS-1",
      "metadata": {
        "colab": {
          "base_uri": "https://localhost:8080/"
        },
        "id": "BAk6qKyQxS-1",
        "outputId": "8a97ca0c-4075-44c5-e178-9a218cea5ec8"
      },
      "outputs": [
        {
          "output_type": "execute_result",
          "data": {
            "text/plain": [
              "Auction                               0.000000\n",
              "VehicleAge                            0.000000\n",
              "Transmission                          0.013701\n",
              "WheelType                             4.411865\n",
              "VehOdo                                0.000000\n",
              "Nationality                           0.006851\n",
              "Size                                  0.006851\n",
              "TopThreeAmericanName                  0.006851\n",
              "MMRAcquisitionAuctionAveragePrice     0.034254\n",
              "MMRAcquisitionRetailAveragePrice      0.034254\n",
              "MMRCurrentAuctionAveragePrice         0.397342\n",
              "MMRCurrentRetailAveragePrice          0.397342\n",
              "PRIMEUNIT                            95.437419\n",
              "AUCGUART                             95.437419\n",
              "VehBCost                              0.000000\n",
              "IsOnlineSale                          0.000000\n",
              "WarrantyCost                          0.000000\n",
              "dtype: float64"
            ]
          },
          "metadata": {},
          "execution_count": 184
        }
      ],
      "source": [
        "val_df.isna().sum()*100/len(val_df)"
      ]
    },
    {
      "cell_type": "markdown",
      "id": "95e34b61",
      "metadata": {
        "id": "95e34b61",
        "papermill": {
          "duration": 0.062469,
          "end_time": "2022-12-09T11:15:03.411055",
          "exception": false,
          "start_time": "2022-12-09T11:15:03.348586",
          "status": "completed"
        },
        "tags": []
      },
      "source": [
        "I will use mean of numeric to impute the missing values.\n",
        "Distribution of most of the column is right skewed, here other options are not a good measure of central tendency, hence I am using mean."
      ]
    },
    {
      "cell_type": "code",
      "execution_count": 185,
      "id": "3e7fafe2",
      "metadata": {
        "execution": {
          "iopub.execute_input": "2022-12-09T11:15:03.537206Z",
          "iopub.status.busy": "2022-12-09T11:15:03.536773Z",
          "iopub.status.idle": "2022-12-09T11:15:03.850069Z",
          "shell.execute_reply": "2022-12-09T11:15:03.848906Z"
        },
        "id": "3e7fafe2",
        "papermill": {
          "duration": 0.379783,
          "end_time": "2022-12-09T11:15:03.853145",
          "exception": false,
          "start_time": "2022-12-09T11:15:03.473362",
          "status": "completed"
        },
        "tags": []
      },
      "outputs": [],
      "source": [
        "from sklearn.impute import SimpleImputer"
      ]
    },
    {
      "cell_type": "code",
      "execution_count": 186,
      "id": "6438cc24",
      "metadata": {
        "execution": {
          "iopub.execute_input": "2022-12-09T11:15:03.983799Z",
          "iopub.status.busy": "2022-12-09T11:15:03.982378Z",
          "iopub.status.idle": "2022-12-09T11:15:03.988020Z",
          "shell.execute_reply": "2022-12-09T11:15:03.986836Z"
        },
        "id": "6438cc24",
        "papermill": {
          "duration": 0.071461,
          "end_time": "2022-12-09T11:15:03.990513",
          "exception": false,
          "start_time": "2022-12-09T11:15:03.919052",
          "status": "completed"
        },
        "tags": []
      },
      "outputs": [],
      "source": [
        "imputer=SimpleImputer(strategy='mean');"
      ]
    },
    {
      "cell_type": "code",
      "execution_count": 187,
      "id": "d038237f",
      "metadata": {
        "execution": {
          "iopub.execute_input": "2022-12-09T11:15:04.115686Z",
          "iopub.status.busy": "2022-12-09T11:15:04.115295Z",
          "iopub.status.idle": "2022-12-09T11:15:04.162978Z",
          "shell.execute_reply": "2022-12-09T11:15:04.161777Z"
        },
        "id": "d038237f",
        "papermill": {
          "duration": 0.113601,
          "end_time": "2022-12-09T11:15:04.165609",
          "exception": false,
          "start_time": "2022-12-09T11:15:04.052008",
          "status": "completed"
        },
        "tags": []
      },
      "outputs": [],
      "source": [
        "imputer.fit(train_df[numerical_features]);"
      ]
    },
    {
      "cell_type": "code",
      "execution_count": 188,
      "id": "oKipeqD825yz",
      "metadata": {
        "id": "oKipeqD825yz"
      },
      "outputs": [],
      "source": [
        "imputer.fit(val_df[numerical_features_val]);"
      ]
    },
    {
      "cell_type": "code",
      "execution_count": 189,
      "id": "ccbfd43b",
      "metadata": {
        "execution": {
          "iopub.execute_input": "2022-12-09T11:15:04.293332Z",
          "iopub.status.busy": "2022-12-09T11:15:04.292661Z",
          "iopub.status.idle": "2022-12-09T11:15:04.319060Z",
          "shell.execute_reply": "2022-12-09T11:15:04.318068Z"
        },
        "id": "ccbfd43b",
        "papermill": {
          "duration": 0.092599,
          "end_time": "2022-12-09T11:15:04.321702",
          "exception": false,
          "start_time": "2022-12-09T11:15:04.229103",
          "status": "completed"
        },
        "tags": []
      },
      "outputs": [],
      "source": [
        "train_df[numerical_features]=imputer.transform(train_df[numerical_features]);"
      ]
    },
    {
      "cell_type": "code",
      "execution_count": 190,
      "id": "3uJ5Y1Y72eaw",
      "metadata": {
        "id": "3uJ5Y1Y72eaw"
      },
      "outputs": [],
      "source": [
        "val_df[numerical_features_val]=imputer.transform(val_df[numerical_features_val]);"
      ]
    },
    {
      "cell_type": "code",
      "execution_count": 191,
      "id": "fI-KOw4k2qiC",
      "metadata": {
        "id": "fI-KOw4k2qiC"
      },
      "outputs": [],
      "source": [
        "test_df[numerical_features]=imputer.transform(test_df[numerical_features]);"
      ]
    },
    {
      "cell_type": "code",
      "execution_count": 192,
      "id": "8f2f0176",
      "metadata": {
        "execution": {
          "iopub.execute_input": "2022-12-09T11:15:04.968837Z",
          "iopub.status.busy": "2022-12-09T11:15:04.968383Z",
          "iopub.status.idle": "2022-12-09T11:15:04.980054Z",
          "shell.execute_reply": "2022-12-09T11:15:04.979083Z"
        },
        "id": "8f2f0176",
        "papermill": {
          "duration": 0.077994,
          "end_time": "2022-12-09T11:15:04.982406",
          "exception": false,
          "start_time": "2022-12-09T11:15:04.904412",
          "status": "completed"
        },
        "tags": []
      },
      "outputs": [],
      "source": [
        "# Add Unknown type for missing category values\n",
        "for c in categorical_features:\n",
        "    train_df[c].fillna('Unknown',inplace=True)\n",
        "    test_df[c].fillna('Unknown',inplace=True)"
      ]
    },
    {
      "cell_type": "code",
      "execution_count": 193,
      "id": "BHZLBzFw38Zt",
      "metadata": {
        "id": "BHZLBzFw38Zt"
      },
      "outputs": [],
      "source": [
        "# Add Unknown type for missing category values\n",
        "for c in categorical_features_val:\n",
        "    val_df[c].fillna('Unknown',inplace=True)\n",
        "    "
      ]
    },
    {
      "cell_type": "code",
      "execution_count": 194,
      "id": "4PW3-w-KojA8",
      "metadata": {
        "colab": {
          "base_uri": "https://localhost:8080/"
        },
        "execution": {
          "iopub.execute_input": "2022-12-09T11:15:03.151300Z",
          "iopub.status.busy": "2022-12-09T11:15:03.150861Z",
          "iopub.status.idle": "2022-12-09T11:15:03.282706Z",
          "shell.execute_reply": "2022-12-09T11:15:03.281336Z"
        },
        "id": "4PW3-w-KojA8",
        "outputId": "6ca062c4-9b85-47c3-890b-6660174a354d",
        "papermill": {
          "duration": 0.198051,
          "end_time": "2022-12-09T11:15:03.285386",
          "exception": false,
          "start_time": "2022-12-09T11:15:03.087335",
          "status": "completed"
        },
        "tags": []
      },
      "outputs": [
        {
          "output_type": "execute_result",
          "data": {
            "text/plain": [
              "Auction                              0.0\n",
              "VehicleAge                           0.0\n",
              "Transmission                         0.0\n",
              "WheelType                            0.0\n",
              "VehOdo                               0.0\n",
              "Nationality                          0.0\n",
              "Size                                 0.0\n",
              "TopThreeAmericanName                 0.0\n",
              "MMRAcquisitionAuctionAveragePrice    0.0\n",
              "MMRAcquisitionRetailAveragePrice     0.0\n",
              "MMRCurrentAuctionAveragePrice        0.0\n",
              "MMRCurrentRetailAveragePrice         0.0\n",
              "PRIMEUNIT                            0.0\n",
              "AUCGUART                             0.0\n",
              "VehBCost                             0.0\n",
              "IsOnlineSale                         0.0\n",
              "WarrantyCost                         0.0\n",
              "dtype: float64"
            ]
          },
          "metadata": {},
          "execution_count": 194
        }
      ],
      "source": [
        "train_df.isna().sum()*100/len(train_df)"
      ]
    },
    {
      "cell_type": "code",
      "execution_count": 195,
      "id": "5d7a2a13",
      "metadata": {
        "colab": {
          "base_uri": "https://localhost:8080/"
        },
        "execution": {
          "iopub.execute_input": "2022-12-09T11:15:05.254372Z",
          "iopub.status.busy": "2022-12-09T11:15:05.253965Z",
          "iopub.status.idle": "2022-12-09T11:15:05.269332Z",
          "shell.execute_reply": "2022-12-09T11:15:05.268266Z"
        },
        "id": "5d7a2a13",
        "outputId": "ec578152-5d33-4d9e-827e-280b40f33a02",
        "papermill": {
          "duration": 0.082737,
          "end_time": "2022-12-09T11:15:05.271719",
          "exception": false,
          "start_time": "2022-12-09T11:15:05.188982",
          "status": "completed"
        },
        "tags": []
      },
      "outputs": [
        {
          "output_type": "execute_result",
          "data": {
            "text/plain": [
              "Auction                              0\n",
              "VehicleAge                           0\n",
              "Transmission                         0\n",
              "WheelType                            0\n",
              "VehOdo                               0\n",
              "Nationality                          0\n",
              "Size                                 0\n",
              "TopThreeAmericanName                 0\n",
              "MMRAcquisitionAuctionAveragePrice    0\n",
              "MMRAcquisitionRetailAveragePrice     0\n",
              "MMRCurrentAuctionAveragePrice        0\n",
              "MMRCurrentRetailAveragePrice         0\n",
              "PRIMEUNIT                            0\n",
              "AUCGUART                             0\n",
              "VehBCost                             0\n",
              "IsOnlineSale                         0\n",
              "WarrantyCost                         0\n",
              "dtype: int64"
            ]
          },
          "metadata": {},
          "execution_count": 195
        }
      ],
      "source": [
        "test_df.isna().sum()"
      ]
    },
    {
      "cell_type": "code",
      "execution_count": 196,
      "id": "BlsHD3MC2yvZ",
      "metadata": {
        "colab": {
          "base_uri": "https://localhost:8080/"
        },
        "id": "BlsHD3MC2yvZ",
        "outputId": "c4334d2a-a369-4ef9-c37e-15c30d9a81a2"
      },
      "outputs": [
        {
          "output_type": "execute_result",
          "data": {
            "text/plain": [
              "Auction                              0.0\n",
              "VehicleAge                           0.0\n",
              "Transmission                         0.0\n",
              "WheelType                            0.0\n",
              "VehOdo                               0.0\n",
              "Nationality                          0.0\n",
              "Size                                 0.0\n",
              "TopThreeAmericanName                 0.0\n",
              "MMRAcquisitionAuctionAveragePrice    0.0\n",
              "MMRAcquisitionRetailAveragePrice     0.0\n",
              "MMRCurrentAuctionAveragePrice        0.0\n",
              "MMRCurrentRetailAveragePrice         0.0\n",
              "PRIMEUNIT                            0.0\n",
              "AUCGUART                             0.0\n",
              "VehBCost                             0.0\n",
              "IsOnlineSale                         0.0\n",
              "WarrantyCost                         0.0\n",
              "dtype: float64"
            ]
          },
          "metadata": {},
          "execution_count": 196
        }
      ],
      "source": [
        "val_df.isna().sum()*100/len(val_df)"
      ]
    },
    {
      "cell_type": "code",
      "execution_count": 197,
      "id": "c37da0c8",
      "metadata": {
        "colab": {
          "base_uri": "https://localhost:8080/"
        },
        "execution": {
          "iopub.execute_input": "2022-12-09T11:15:05.530508Z",
          "iopub.status.busy": "2022-12-09T11:15:05.530092Z",
          "iopub.status.idle": "2022-12-09T11:15:05.666440Z",
          "shell.execute_reply": "2022-12-09T11:15:05.664858Z"
        },
        "id": "c37da0c8",
        "outputId": "1dda9e4b-0ed1-4037-f0b5-f6211a8833c0",
        "papermill": {
          "duration": 0.203523,
          "end_time": "2022-12-09T11:15:05.668888",
          "exception": false,
          "start_time": "2022-12-09T11:15:05.465365",
          "status": "completed"
        },
        "tags": []
      },
      "outputs": [
        {
          "output_type": "stream",
          "name": "stdout",
          "text": [
            "<class 'pandas.core.frame.DataFrame'>\n",
            "Int64Index: 58386 entries, 9093 to 15795\n",
            "Data columns (total 17 columns):\n",
            " #   Column                             Non-Null Count  Dtype  \n",
            "---  ------                             --------------  -----  \n",
            " 0   Auction                            58386 non-null  object \n",
            " 1   VehicleAge                         58386 non-null  float64\n",
            " 2   Transmission                       58386 non-null  object \n",
            " 3   WheelType                          58386 non-null  object \n",
            " 4   VehOdo                             58386 non-null  float64\n",
            " 5   Nationality                        58386 non-null  object \n",
            " 6   Size                               58386 non-null  object \n",
            " 7   TopThreeAmericanName               58386 non-null  object \n",
            " 8   MMRAcquisitionAuctionAveragePrice  58386 non-null  float64\n",
            " 9   MMRAcquisitionRetailAveragePrice   58386 non-null  float64\n",
            " 10  MMRCurrentAuctionAveragePrice      58386 non-null  float64\n",
            " 11  MMRCurrentRetailAveragePrice       58386 non-null  float64\n",
            " 12  PRIMEUNIT                          58386 non-null  object \n",
            " 13  AUCGUART                           58386 non-null  object \n",
            " 14  VehBCost                           58386 non-null  float64\n",
            " 15  IsOnlineSale                       58386 non-null  float64\n",
            " 16  WarrantyCost                       58386 non-null  float64\n",
            "dtypes: float64(9), object(8)\n",
            "memory usage: 8.0+ MB\n"
          ]
        }
      ],
      "source": [
        "train_df.info()"
      ]
    },
    {
      "cell_type": "code",
      "execution_count": 198,
      "id": "aULbMTe9ssJw",
      "metadata": {
        "colab": {
          "base_uri": "https://localhost:8080/"
        },
        "id": "aULbMTe9ssJw",
        "outputId": "ee98aed2-6b35-488e-f263-1fe34ffb759c"
      },
      "outputs": [
        {
          "output_type": "execute_result",
          "data": {
            "text/plain": [
              "Index(['Auction', 'VehicleAge', 'Transmission', 'WheelType', 'VehOdo',\n",
              "       'Nationality', 'Size', 'TopThreeAmericanName',\n",
              "       'MMRAcquisitionAuctionAveragePrice', 'MMRAcquisitionRetailAveragePrice',\n",
              "       'MMRCurrentAuctionAveragePrice', 'MMRCurrentRetailAveragePrice',\n",
              "       'PRIMEUNIT', 'AUCGUART', 'VehBCost', 'IsOnlineSale', 'WarrantyCost'],\n",
              "      dtype='object')"
            ]
          },
          "metadata": {},
          "execution_count": 198
        }
      ],
      "source": [
        "val_df.columns"
      ]
    },
    {
      "cell_type": "code",
      "execution_count": 199,
      "id": "dpwThJS3sgBR",
      "metadata": {
        "colab": {
          "base_uri": "https://localhost:8080/"
        },
        "id": "dpwThJS3sgBR",
        "outputId": "61fe10aa-3c66-461c-850e-7642cac6c512"
      },
      "outputs": [
        {
          "output_type": "execute_result",
          "data": {
            "text/plain": [
              "Index(['Auction', 'VehicleAge', 'Transmission', 'WheelType', 'VehOdo',\n",
              "       'Nationality', 'Size', 'TopThreeAmericanName',\n",
              "       'MMRAcquisitionAuctionAveragePrice', 'MMRAcquisitionRetailAveragePrice',\n",
              "       'MMRCurrentAuctionAveragePrice', 'MMRCurrentRetailAveragePrice',\n",
              "       'PRIMEUNIT', 'AUCGUART', 'VehBCost', 'IsOnlineSale', 'WarrantyCost'],\n",
              "      dtype='object')"
            ]
          },
          "metadata": {},
          "execution_count": 199
        }
      ],
      "source": [
        "train_df.columns"
      ]
    },
    {
      "cell_type": "code",
      "source": [
        "train_df.columns\n"
      ],
      "metadata": {
        "colab": {
          "base_uri": "https://localhost:8080/"
        },
        "id": "BvzBkBCyqA3N",
        "outputId": "ce50003e-e7ac-4253-897f-c3f604972a9e"
      },
      "id": "BvzBkBCyqA3N",
      "execution_count": 200,
      "outputs": [
        {
          "output_type": "execute_result",
          "data": {
            "text/plain": [
              "Index(['Auction', 'VehicleAge', 'Transmission', 'WheelType', 'VehOdo',\n",
              "       'Nationality', 'Size', 'TopThreeAmericanName',\n",
              "       'MMRAcquisitionAuctionAveragePrice', 'MMRAcquisitionRetailAveragePrice',\n",
              "       'MMRCurrentAuctionAveragePrice', 'MMRCurrentRetailAveragePrice',\n",
              "       'PRIMEUNIT', 'AUCGUART', 'VehBCost', 'IsOnlineSale', 'WarrantyCost'],\n",
              "      dtype='object')"
            ]
          },
          "metadata": {},
          "execution_count": 200
        }
      ]
    },
    {
      "cell_type": "code",
      "source": [],
      "metadata": {
        "id": "FGDqKM04geuv"
      },
      "id": "FGDqKM04geuv",
      "execution_count": 200,
      "outputs": []
    },
    {
      "cell_type": "markdown",
      "id": "51a27f96",
      "metadata": {
        "id": "51a27f96",
        "papermill": {
          "duration": 0.063371,
          "end_time": "2022-12-09T11:15:07.827624",
          "exception": false,
          "start_time": "2022-12-09T11:15:07.764253",
          "status": "completed"
        },
        "tags": []
      },
      "source": [
        "#### Training "
      ]
    },
    {
      "cell_type": "code",
      "execution_count": 201,
      "id": "BZ6fNvNErDsH",
      "metadata": {
        "id": "BZ6fNvNErDsH"
      },
      "outputs": [],
      "source": [
        "input_cols=['Auction', 'VehicleAge', 'Transmission', 'WheelType', 'VehOdo',\n",
        "       'Nationality', 'Size', 'TopThreeAmericanName',\n",
        "       'MMRAcquisitionAuctionAveragePrice', 'MMRAcquisitionRetailAveragePrice',\n",
        "       'MMRCurrentAuctionAveragePrice', 'MMRCurrentRetailAveragePrice',\n",
        "       'PRIMEUNIT', 'AUCGUART', 'VehBCost', 'IsOnlineSale', 'WarrantyCost']                       \n",
        "                        "
      ]
    },
    {
      "cell_type": "code",
      "execution_count": 202,
      "id": "rkPxhGr3t1-Z",
      "metadata": {
        "id": "rkPxhGr3t1-Z"
      },
      "outputs": [],
      "source": [
        "target_col=['IsBadBuy']"
      ]
    },
    {
      "cell_type": "code",
      "execution_count": 203,
      "id": "ffab388f",
      "metadata": {
        "execution": {
          "iopub.execute_input": "2022-12-09T11:15:07.962888Z",
          "iopub.status.busy": "2022-12-09T11:15:07.961617Z",
          "iopub.status.idle": "2022-12-09T11:15:08.277088Z",
          "shell.execute_reply": "2022-12-09T11:15:08.276053Z"
        },
        "id": "ffab388f",
        "papermill": {
          "duration": 0.383755,
          "end_time": "2022-12-09T11:15:08.279726",
          "exception": false,
          "start_time": "2022-12-09T11:15:07.895971",
          "status": "completed"
        },
        "tags": []
      },
      "outputs": [],
      "source": [
        "train_inputs=train_df[input_cols]"
      ]
    },
    {
      "cell_type": "code",
      "execution_count": 204,
      "id": "6f06d97d",
      "metadata": {
        "execution": {
          "iopub.execute_input": "2022-12-09T11:15:08.409813Z",
          "iopub.status.busy": "2022-12-09T11:15:08.408859Z",
          "iopub.status.idle": "2022-12-09T11:15:08.413915Z",
          "shell.execute_reply": "2022-12-09T11:15:08.413044Z"
        },
        "id": "6f06d97d",
        "papermill": {
          "duration": 0.072297,
          "end_time": "2022-12-09T11:15:08.416104",
          "exception": false,
          "start_time": "2022-12-09T11:15:08.343807",
          "status": "completed"
        },
        "tags": []
      },
      "outputs": [],
      "source": [
        "train_targets=targets"
      ]
    },
    {
      "cell_type": "code",
      "execution_count": 205,
      "id": "be81175c",
      "metadata": {
        "colab": {
          "base_uri": "https://localhost:8080/",
          "height": 522
        },
        "execution": {
          "iopub.execute_input": "2022-12-09T11:15:08.547063Z",
          "iopub.status.busy": "2022-12-09T11:15:08.545803Z",
          "iopub.status.idle": "2022-12-09T11:15:08.568258Z",
          "shell.execute_reply": "2022-12-09T11:15:08.567021Z"
        },
        "id": "be81175c",
        "outputId": "f7d31c95-39cb-4962-e550-274c214187a4",
        "papermill": {
          "duration": 0.091043,
          "end_time": "2022-12-09T11:15:08.570777",
          "exception": false,
          "start_time": "2022-12-09T11:15:08.479734",
          "status": "completed"
        },
        "tags": []
      },
      "outputs": [
        {
          "output_type": "execute_result",
          "data": {
            "text/plain": [
              "       Auction  VehicleAge Transmission WheelType   VehOdo  Nationality  \\\n",
              "9093   MANHEIM         2.0         AUTO     Alloy  72485.0     AMERICAN   \n",
              "13320  MANHEIM         5.0         AUTO     Alloy  80338.0     AMERICAN   \n",
              "29596    OTHER         2.0         AUTO     Alloy  51904.0     AMERICAN   \n",
              "45118    OTHER         5.0         AUTO    Covers  77375.0     AMERICAN   \n",
              "2949     OTHER         4.0         AUTO     Alloy  62031.0  OTHER ASIAN   \n",
              "...        ...         ...          ...       ...      ...          ...   \n",
              "37194  MANHEIM         3.0         AUTO    Covers  67452.0     AMERICAN   \n",
              "6265   MANHEIM         4.0         AUTO     Alloy  67182.0  OTHER ASIAN   \n",
              "54886    OTHER         4.0         AUTO     Alloy  89342.0     AMERICAN   \n",
              "860      ADESA         3.0         AUTO     Alloy  78991.0     AMERICAN   \n",
              "15795  MANHEIM         3.0         AUTO    Covers  80342.0     AMERICAN   \n",
              "\n",
              "             Size TopThreeAmericanName  MMRAcquisitionAuctionAveragePrice  \\\n",
              "9093    CROSSOVER                 FORD                            11450.0   \n",
              "13320  MEDIUM SUV                   GM                             6590.0   \n",
              "29596      MEDIUM             CHRYSLER                             7774.0   \n",
              "45118       LARGE                   GM                             3643.0   \n",
              "2949       MEDIUM                OTHER                             6584.0   \n",
              "...           ...                  ...                                ...   \n",
              "37194      MEDIUM             CHRYSLER                             7471.0   \n",
              "6265       MEDIUM                OTHER                             5768.0   \n",
              "54886      MEDIUM                   GM                             7162.0   \n",
              "860        MEDIUM                   GM                             7091.0   \n",
              "15795         VAN             CHRYSLER                             6475.0   \n",
              "\n",
              "       MMRAcquisitionRetailAveragePrice  MMRCurrentAuctionAveragePrice  \\\n",
              "9093                            12866.0                        11778.0   \n",
              "13320                            7617.0                         8340.0   \n",
              "29596                           10852.0                         7901.0   \n",
              "45118                            4434.0                         3643.0   \n",
              "2949                            10231.0                         5989.0   \n",
              "...                                 ...                            ...   \n",
              "37194                           10916.0                         7612.0   \n",
              "6265                             9019.0                         4194.0   \n",
              "54886                           10348.0                         6736.0   \n",
              "860                              8158.0                         7148.0   \n",
              "15795                            7493.0                         6630.0   \n",
              "\n",
              "       MMRCurrentRetailAveragePrice PRIMEUNIT AUCGUART  VehBCost  \\\n",
              "9093                        13220.0   Unknown  Unknown    8000.0   \n",
              "13320                        9507.0   Unknown  Unknown    7195.0   \n",
              "29596                       11284.0   Unknown  Unknown    7300.0   \n",
              "45118                        4434.0   Unknown  Unknown    5655.0   \n",
              "2949                         9257.0   Unknown  Unknown    7900.0   \n",
              "...                             ...       ...      ...       ...   \n",
              "37194                       10763.0   Unknown  Unknown    8300.0   \n",
              "6265                         7125.0   Unknown  Unknown    7045.0   \n",
              "54886                       10068.0   Unknown  Unknown    6700.0   \n",
              "860                         10401.0   Unknown  Unknown    7295.0   \n",
              "15795                        7660.0   Unknown  Unknown    6280.0   \n",
              "\n",
              "       IsOnlineSale  WarrantyCost  \n",
              "9093            0.0        1506.0  \n",
              "13320           0.0        2152.0  \n",
              "29596           0.0         754.0  \n",
              "45118           0.0        1974.0  \n",
              "2949            0.0         728.0  \n",
              "...             ...           ...  \n",
              "37194           0.0        1118.0  \n",
              "6265            0.0         533.0  \n",
              "54886           0.0        1113.0  \n",
              "860             0.0        1272.0  \n",
              "15795           0.0        1763.0  \n",
              "\n",
              "[58386 rows x 17 columns]"
            ],
            "text/html": [
              "\n",
              "  <div id=\"df-357c21c6-4426-4a5c-915e-45b785ef307d\">\n",
              "    <div class=\"colab-df-container\">\n",
              "      <div>\n",
              "<style scoped>\n",
              "    .dataframe tbody tr th:only-of-type {\n",
              "        vertical-align: middle;\n",
              "    }\n",
              "\n",
              "    .dataframe tbody tr th {\n",
              "        vertical-align: top;\n",
              "    }\n",
              "\n",
              "    .dataframe thead th {\n",
              "        text-align: right;\n",
              "    }\n",
              "</style>\n",
              "<table border=\"1\" class=\"dataframe\">\n",
              "  <thead>\n",
              "    <tr style=\"text-align: right;\">\n",
              "      <th></th>\n",
              "      <th>Auction</th>\n",
              "      <th>VehicleAge</th>\n",
              "      <th>Transmission</th>\n",
              "      <th>WheelType</th>\n",
              "      <th>VehOdo</th>\n",
              "      <th>Nationality</th>\n",
              "      <th>Size</th>\n",
              "      <th>TopThreeAmericanName</th>\n",
              "      <th>MMRAcquisitionAuctionAveragePrice</th>\n",
              "      <th>MMRAcquisitionRetailAveragePrice</th>\n",
              "      <th>MMRCurrentAuctionAveragePrice</th>\n",
              "      <th>MMRCurrentRetailAveragePrice</th>\n",
              "      <th>PRIMEUNIT</th>\n",
              "      <th>AUCGUART</th>\n",
              "      <th>VehBCost</th>\n",
              "      <th>IsOnlineSale</th>\n",
              "      <th>WarrantyCost</th>\n",
              "    </tr>\n",
              "  </thead>\n",
              "  <tbody>\n",
              "    <tr>\n",
              "      <th>9093</th>\n",
              "      <td>MANHEIM</td>\n",
              "      <td>2.0</td>\n",
              "      <td>AUTO</td>\n",
              "      <td>Alloy</td>\n",
              "      <td>72485.0</td>\n",
              "      <td>AMERICAN</td>\n",
              "      <td>CROSSOVER</td>\n",
              "      <td>FORD</td>\n",
              "      <td>11450.0</td>\n",
              "      <td>12866.0</td>\n",
              "      <td>11778.0</td>\n",
              "      <td>13220.0</td>\n",
              "      <td>Unknown</td>\n",
              "      <td>Unknown</td>\n",
              "      <td>8000.0</td>\n",
              "      <td>0.0</td>\n",
              "      <td>1506.0</td>\n",
              "    </tr>\n",
              "    <tr>\n",
              "      <th>13320</th>\n",
              "      <td>MANHEIM</td>\n",
              "      <td>5.0</td>\n",
              "      <td>AUTO</td>\n",
              "      <td>Alloy</td>\n",
              "      <td>80338.0</td>\n",
              "      <td>AMERICAN</td>\n",
              "      <td>MEDIUM SUV</td>\n",
              "      <td>GM</td>\n",
              "      <td>6590.0</td>\n",
              "      <td>7617.0</td>\n",
              "      <td>8340.0</td>\n",
              "      <td>9507.0</td>\n",
              "      <td>Unknown</td>\n",
              "      <td>Unknown</td>\n",
              "      <td>7195.0</td>\n",
              "      <td>0.0</td>\n",
              "      <td>2152.0</td>\n",
              "    </tr>\n",
              "    <tr>\n",
              "      <th>29596</th>\n",
              "      <td>OTHER</td>\n",
              "      <td>2.0</td>\n",
              "      <td>AUTO</td>\n",
              "      <td>Alloy</td>\n",
              "      <td>51904.0</td>\n",
              "      <td>AMERICAN</td>\n",
              "      <td>MEDIUM</td>\n",
              "      <td>CHRYSLER</td>\n",
              "      <td>7774.0</td>\n",
              "      <td>10852.0</td>\n",
              "      <td>7901.0</td>\n",
              "      <td>11284.0</td>\n",
              "      <td>Unknown</td>\n",
              "      <td>Unknown</td>\n",
              "      <td>7300.0</td>\n",
              "      <td>0.0</td>\n",
              "      <td>754.0</td>\n",
              "    </tr>\n",
              "    <tr>\n",
              "      <th>45118</th>\n",
              "      <td>OTHER</td>\n",
              "      <td>5.0</td>\n",
              "      <td>AUTO</td>\n",
              "      <td>Covers</td>\n",
              "      <td>77375.0</td>\n",
              "      <td>AMERICAN</td>\n",
              "      <td>LARGE</td>\n",
              "      <td>GM</td>\n",
              "      <td>3643.0</td>\n",
              "      <td>4434.0</td>\n",
              "      <td>3643.0</td>\n",
              "      <td>4434.0</td>\n",
              "      <td>Unknown</td>\n",
              "      <td>Unknown</td>\n",
              "      <td>5655.0</td>\n",
              "      <td>0.0</td>\n",
              "      <td>1974.0</td>\n",
              "    </tr>\n",
              "    <tr>\n",
              "      <th>2949</th>\n",
              "      <td>OTHER</td>\n",
              "      <td>4.0</td>\n",
              "      <td>AUTO</td>\n",
              "      <td>Alloy</td>\n",
              "      <td>62031.0</td>\n",
              "      <td>OTHER ASIAN</td>\n",
              "      <td>MEDIUM</td>\n",
              "      <td>OTHER</td>\n",
              "      <td>6584.0</td>\n",
              "      <td>10231.0</td>\n",
              "      <td>5989.0</td>\n",
              "      <td>9257.0</td>\n",
              "      <td>Unknown</td>\n",
              "      <td>Unknown</td>\n",
              "      <td>7900.0</td>\n",
              "      <td>0.0</td>\n",
              "      <td>728.0</td>\n",
              "    </tr>\n",
              "    <tr>\n",
              "      <th>...</th>\n",
              "      <td>...</td>\n",
              "      <td>...</td>\n",
              "      <td>...</td>\n",
              "      <td>...</td>\n",
              "      <td>...</td>\n",
              "      <td>...</td>\n",
              "      <td>...</td>\n",
              "      <td>...</td>\n",
              "      <td>...</td>\n",
              "      <td>...</td>\n",
              "      <td>...</td>\n",
              "      <td>...</td>\n",
              "      <td>...</td>\n",
              "      <td>...</td>\n",
              "      <td>...</td>\n",
              "      <td>...</td>\n",
              "      <td>...</td>\n",
              "    </tr>\n",
              "    <tr>\n",
              "      <th>37194</th>\n",
              "      <td>MANHEIM</td>\n",
              "      <td>3.0</td>\n",
              "      <td>AUTO</td>\n",
              "      <td>Covers</td>\n",
              "      <td>67452.0</td>\n",
              "      <td>AMERICAN</td>\n",
              "      <td>MEDIUM</td>\n",
              "      <td>CHRYSLER</td>\n",
              "      <td>7471.0</td>\n",
              "      <td>10916.0</td>\n",
              "      <td>7612.0</td>\n",
              "      <td>10763.0</td>\n",
              "      <td>Unknown</td>\n",
              "      <td>Unknown</td>\n",
              "      <td>8300.0</td>\n",
              "      <td>0.0</td>\n",
              "      <td>1118.0</td>\n",
              "    </tr>\n",
              "    <tr>\n",
              "      <th>6265</th>\n",
              "      <td>MANHEIM</td>\n",
              "      <td>4.0</td>\n",
              "      <td>AUTO</td>\n",
              "      <td>Alloy</td>\n",
              "      <td>67182.0</td>\n",
              "      <td>OTHER ASIAN</td>\n",
              "      <td>MEDIUM</td>\n",
              "      <td>OTHER</td>\n",
              "      <td>5768.0</td>\n",
              "      <td>9019.0</td>\n",
              "      <td>4194.0</td>\n",
              "      <td>7125.0</td>\n",
              "      <td>Unknown</td>\n",
              "      <td>Unknown</td>\n",
              "      <td>7045.0</td>\n",
              "      <td>0.0</td>\n",
              "      <td>533.0</td>\n",
              "    </tr>\n",
              "    <tr>\n",
              "      <th>54886</th>\n",
              "      <td>OTHER</td>\n",
              "      <td>4.0</td>\n",
              "      <td>AUTO</td>\n",
              "      <td>Alloy</td>\n",
              "      <td>89342.0</td>\n",
              "      <td>AMERICAN</td>\n",
              "      <td>MEDIUM</td>\n",
              "      <td>GM</td>\n",
              "      <td>7162.0</td>\n",
              "      <td>10348.0</td>\n",
              "      <td>6736.0</td>\n",
              "      <td>10068.0</td>\n",
              "      <td>Unknown</td>\n",
              "      <td>Unknown</td>\n",
              "      <td>6700.0</td>\n",
              "      <td>0.0</td>\n",
              "      <td>1113.0</td>\n",
              "    </tr>\n",
              "    <tr>\n",
              "      <th>860</th>\n",
              "      <td>ADESA</td>\n",
              "      <td>3.0</td>\n",
              "      <td>AUTO</td>\n",
              "      <td>Alloy</td>\n",
              "      <td>78991.0</td>\n",
              "      <td>AMERICAN</td>\n",
              "      <td>MEDIUM</td>\n",
              "      <td>GM</td>\n",
              "      <td>7091.0</td>\n",
              "      <td>8158.0</td>\n",
              "      <td>7148.0</td>\n",
              "      <td>10401.0</td>\n",
              "      <td>Unknown</td>\n",
              "      <td>Unknown</td>\n",
              "      <td>7295.0</td>\n",
              "      <td>0.0</td>\n",
              "      <td>1272.0</td>\n",
              "    </tr>\n",
              "    <tr>\n",
              "      <th>15795</th>\n",
              "      <td>MANHEIM</td>\n",
              "      <td>3.0</td>\n",
              "      <td>AUTO</td>\n",
              "      <td>Covers</td>\n",
              "      <td>80342.0</td>\n",
              "      <td>AMERICAN</td>\n",
              "      <td>VAN</td>\n",
              "      <td>CHRYSLER</td>\n",
              "      <td>6475.0</td>\n",
              "      <td>7493.0</td>\n",
              "      <td>6630.0</td>\n",
              "      <td>7660.0</td>\n",
              "      <td>Unknown</td>\n",
              "      <td>Unknown</td>\n",
              "      <td>6280.0</td>\n",
              "      <td>0.0</td>\n",
              "      <td>1763.0</td>\n",
              "    </tr>\n",
              "  </tbody>\n",
              "</table>\n",
              "<p>58386 rows × 17 columns</p>\n",
              "</div>\n",
              "      <button class=\"colab-df-convert\" onclick=\"convertToInteractive('df-357c21c6-4426-4a5c-915e-45b785ef307d')\"\n",
              "              title=\"Convert this dataframe to an interactive table.\"\n",
              "              style=\"display:none;\">\n",
              "        \n",
              "  <svg xmlns=\"http://www.w3.org/2000/svg\" height=\"24px\"viewBox=\"0 0 24 24\"\n",
              "       width=\"24px\">\n",
              "    <path d=\"M0 0h24v24H0V0z\" fill=\"none\"/>\n",
              "    <path d=\"M18.56 5.44l.94 2.06.94-2.06 2.06-.94-2.06-.94-.94-2.06-.94 2.06-2.06.94zm-11 1L8.5 8.5l.94-2.06 2.06-.94-2.06-.94L8.5 2.5l-.94 2.06-2.06.94zm10 10l.94 2.06.94-2.06 2.06-.94-2.06-.94-.94-2.06-.94 2.06-2.06.94z\"/><path d=\"M17.41 7.96l-1.37-1.37c-.4-.4-.92-.59-1.43-.59-.52 0-1.04.2-1.43.59L10.3 9.45l-7.72 7.72c-.78.78-.78 2.05 0 2.83L4 21.41c.39.39.9.59 1.41.59.51 0 1.02-.2 1.41-.59l7.78-7.78 2.81-2.81c.8-.78.8-2.07 0-2.86zM5.41 20L4 18.59l7.72-7.72 1.47 1.35L5.41 20z\"/>\n",
              "  </svg>\n",
              "      </button>\n",
              "      \n",
              "  <style>\n",
              "    .colab-df-container {\n",
              "      display:flex;\n",
              "      flex-wrap:wrap;\n",
              "      gap: 12px;\n",
              "    }\n",
              "\n",
              "    .colab-df-convert {\n",
              "      background-color: #E8F0FE;\n",
              "      border: none;\n",
              "      border-radius: 50%;\n",
              "      cursor: pointer;\n",
              "      display: none;\n",
              "      fill: #1967D2;\n",
              "      height: 32px;\n",
              "      padding: 0 0 0 0;\n",
              "      width: 32px;\n",
              "    }\n",
              "\n",
              "    .colab-df-convert:hover {\n",
              "      background-color: #E2EBFA;\n",
              "      box-shadow: 0px 1px 2px rgba(60, 64, 67, 0.3), 0px 1px 3px 1px rgba(60, 64, 67, 0.15);\n",
              "      fill: #174EA6;\n",
              "    }\n",
              "\n",
              "    [theme=dark] .colab-df-convert {\n",
              "      background-color: #3B4455;\n",
              "      fill: #D2E3FC;\n",
              "    }\n",
              "\n",
              "    [theme=dark] .colab-df-convert:hover {\n",
              "      background-color: #434B5C;\n",
              "      box-shadow: 0px 1px 3px 1px rgba(0, 0, 0, 0.15);\n",
              "      filter: drop-shadow(0px 1px 2px rgba(0, 0, 0, 0.3));\n",
              "      fill: #FFFFFF;\n",
              "    }\n",
              "  </style>\n",
              "\n",
              "      <script>\n",
              "        const buttonEl =\n",
              "          document.querySelector('#df-357c21c6-4426-4a5c-915e-45b785ef307d button.colab-df-convert');\n",
              "        buttonEl.style.display =\n",
              "          google.colab.kernel.accessAllowed ? 'block' : 'none';\n",
              "\n",
              "        async function convertToInteractive(key) {\n",
              "          const element = document.querySelector('#df-357c21c6-4426-4a5c-915e-45b785ef307d');\n",
              "          const dataTable =\n",
              "            await google.colab.kernel.invokeFunction('convertToInteractive',\n",
              "                                                     [key], {});\n",
              "          if (!dataTable) return;\n",
              "\n",
              "          const docLinkHtml = 'Like what you see? Visit the ' +\n",
              "            '<a target=\"_blank\" href=https://colab.research.google.com/notebooks/data_table.ipynb>data table notebook</a>'\n",
              "            + ' to learn more about interactive tables.';\n",
              "          element.innerHTML = '';\n",
              "          dataTable['output_type'] = 'display_data';\n",
              "          await google.colab.output.renderOutput(dataTable, element);\n",
              "          const docLink = document.createElement('div');\n",
              "          docLink.innerHTML = docLinkHtml;\n",
              "          element.appendChild(docLink);\n",
              "        }\n",
              "      </script>\n",
              "    </div>\n",
              "  </div>\n",
              "  "
            ]
          },
          "metadata": {},
          "execution_count": 205
        }
      ],
      "source": [
        "train_inputs"
      ]
    },
    {
      "cell_type": "code",
      "execution_count": 206,
      "id": "e280dd5c",
      "metadata": {
        "colab": {
          "base_uri": "https://localhost:8080/"
        },
        "execution": {
          "iopub.execute_input": "2022-12-09T11:15:08.702608Z",
          "iopub.status.busy": "2022-12-09T11:15:08.702162Z",
          "iopub.status.idle": "2022-12-09T11:15:08.709868Z",
          "shell.execute_reply": "2022-12-09T11:15:08.709123Z"
        },
        "id": "e280dd5c",
        "outputId": "3def42e3-d0d5-407a-de5f-346ad4675eea",
        "papermill": {
          "duration": 0.076955,
          "end_time": "2022-12-09T11:15:08.711975",
          "exception": false,
          "start_time": "2022-12-09T11:15:08.635020",
          "status": "completed"
        },
        "tags": []
      },
      "outputs": [
        {
          "output_type": "execute_result",
          "data": {
            "text/plain": [
              "58386"
            ]
          },
          "metadata": {},
          "execution_count": 206
        }
      ],
      "source": [
        "len(train_targets)"
      ]
    },
    {
      "cell_type": "code",
      "execution_count": 207,
      "id": "-xMYtgXuxDjB",
      "metadata": {
        "colab": {
          "base_uri": "https://localhost:8080/",
          "height": 287
        },
        "id": "-xMYtgXuxDjB",
        "outputId": "3a43ec55-4f46-43c1-be7a-d2a579c40184"
      },
      "outputs": [
        {
          "output_type": "execute_result",
          "data": {
            "text/plain": [
              "       Auction  VehicleAge Transmission WheelType   VehOdo  Nationality  \\\n",
              "9093   MANHEIM         2.0         AUTO     Alloy  72485.0     AMERICAN   \n",
              "13320  MANHEIM         5.0         AUTO     Alloy  80338.0     AMERICAN   \n",
              "29596    OTHER         2.0         AUTO     Alloy  51904.0     AMERICAN   \n",
              "45118    OTHER         5.0         AUTO    Covers  77375.0     AMERICAN   \n",
              "2949     OTHER         4.0         AUTO     Alloy  62031.0  OTHER ASIAN   \n",
              "\n",
              "             Size TopThreeAmericanName  MMRAcquisitionAuctionAveragePrice  \\\n",
              "9093    CROSSOVER                 FORD                            11450.0   \n",
              "13320  MEDIUM SUV                   GM                             6590.0   \n",
              "29596      MEDIUM             CHRYSLER                             7774.0   \n",
              "45118       LARGE                   GM                             3643.0   \n",
              "2949       MEDIUM                OTHER                             6584.0   \n",
              "\n",
              "       MMRAcquisitionRetailAveragePrice  MMRCurrentAuctionAveragePrice  \\\n",
              "9093                            12866.0                        11778.0   \n",
              "13320                            7617.0                         8340.0   \n",
              "29596                           10852.0                         7901.0   \n",
              "45118                            4434.0                         3643.0   \n",
              "2949                            10231.0                         5989.0   \n",
              "\n",
              "       MMRCurrentRetailAveragePrice PRIMEUNIT AUCGUART  VehBCost  \\\n",
              "9093                        13220.0   Unknown  Unknown    8000.0   \n",
              "13320                        9507.0   Unknown  Unknown    7195.0   \n",
              "29596                       11284.0   Unknown  Unknown    7300.0   \n",
              "45118                        4434.0   Unknown  Unknown    5655.0   \n",
              "2949                         9257.0   Unknown  Unknown    7900.0   \n",
              "\n",
              "       IsOnlineSale  WarrantyCost  \n",
              "9093            0.0        1506.0  \n",
              "13320           0.0        2152.0  \n",
              "29596           0.0         754.0  \n",
              "45118           0.0        1974.0  \n",
              "2949            0.0         728.0  "
            ],
            "text/html": [
              "\n",
              "  <div id=\"df-33e8f586-c5fd-4a52-8a11-356bf6196e04\">\n",
              "    <div class=\"colab-df-container\">\n",
              "      <div>\n",
              "<style scoped>\n",
              "    .dataframe tbody tr th:only-of-type {\n",
              "        vertical-align: middle;\n",
              "    }\n",
              "\n",
              "    .dataframe tbody tr th {\n",
              "        vertical-align: top;\n",
              "    }\n",
              "\n",
              "    .dataframe thead th {\n",
              "        text-align: right;\n",
              "    }\n",
              "</style>\n",
              "<table border=\"1\" class=\"dataframe\">\n",
              "  <thead>\n",
              "    <tr style=\"text-align: right;\">\n",
              "      <th></th>\n",
              "      <th>Auction</th>\n",
              "      <th>VehicleAge</th>\n",
              "      <th>Transmission</th>\n",
              "      <th>WheelType</th>\n",
              "      <th>VehOdo</th>\n",
              "      <th>Nationality</th>\n",
              "      <th>Size</th>\n",
              "      <th>TopThreeAmericanName</th>\n",
              "      <th>MMRAcquisitionAuctionAveragePrice</th>\n",
              "      <th>MMRAcquisitionRetailAveragePrice</th>\n",
              "      <th>MMRCurrentAuctionAveragePrice</th>\n",
              "      <th>MMRCurrentRetailAveragePrice</th>\n",
              "      <th>PRIMEUNIT</th>\n",
              "      <th>AUCGUART</th>\n",
              "      <th>VehBCost</th>\n",
              "      <th>IsOnlineSale</th>\n",
              "      <th>WarrantyCost</th>\n",
              "    </tr>\n",
              "  </thead>\n",
              "  <tbody>\n",
              "    <tr>\n",
              "      <th>9093</th>\n",
              "      <td>MANHEIM</td>\n",
              "      <td>2.0</td>\n",
              "      <td>AUTO</td>\n",
              "      <td>Alloy</td>\n",
              "      <td>72485.0</td>\n",
              "      <td>AMERICAN</td>\n",
              "      <td>CROSSOVER</td>\n",
              "      <td>FORD</td>\n",
              "      <td>11450.0</td>\n",
              "      <td>12866.0</td>\n",
              "      <td>11778.0</td>\n",
              "      <td>13220.0</td>\n",
              "      <td>Unknown</td>\n",
              "      <td>Unknown</td>\n",
              "      <td>8000.0</td>\n",
              "      <td>0.0</td>\n",
              "      <td>1506.0</td>\n",
              "    </tr>\n",
              "    <tr>\n",
              "      <th>13320</th>\n",
              "      <td>MANHEIM</td>\n",
              "      <td>5.0</td>\n",
              "      <td>AUTO</td>\n",
              "      <td>Alloy</td>\n",
              "      <td>80338.0</td>\n",
              "      <td>AMERICAN</td>\n",
              "      <td>MEDIUM SUV</td>\n",
              "      <td>GM</td>\n",
              "      <td>6590.0</td>\n",
              "      <td>7617.0</td>\n",
              "      <td>8340.0</td>\n",
              "      <td>9507.0</td>\n",
              "      <td>Unknown</td>\n",
              "      <td>Unknown</td>\n",
              "      <td>7195.0</td>\n",
              "      <td>0.0</td>\n",
              "      <td>2152.0</td>\n",
              "    </tr>\n",
              "    <tr>\n",
              "      <th>29596</th>\n",
              "      <td>OTHER</td>\n",
              "      <td>2.0</td>\n",
              "      <td>AUTO</td>\n",
              "      <td>Alloy</td>\n",
              "      <td>51904.0</td>\n",
              "      <td>AMERICAN</td>\n",
              "      <td>MEDIUM</td>\n",
              "      <td>CHRYSLER</td>\n",
              "      <td>7774.0</td>\n",
              "      <td>10852.0</td>\n",
              "      <td>7901.0</td>\n",
              "      <td>11284.0</td>\n",
              "      <td>Unknown</td>\n",
              "      <td>Unknown</td>\n",
              "      <td>7300.0</td>\n",
              "      <td>0.0</td>\n",
              "      <td>754.0</td>\n",
              "    </tr>\n",
              "    <tr>\n",
              "      <th>45118</th>\n",
              "      <td>OTHER</td>\n",
              "      <td>5.0</td>\n",
              "      <td>AUTO</td>\n",
              "      <td>Covers</td>\n",
              "      <td>77375.0</td>\n",
              "      <td>AMERICAN</td>\n",
              "      <td>LARGE</td>\n",
              "      <td>GM</td>\n",
              "      <td>3643.0</td>\n",
              "      <td>4434.0</td>\n",
              "      <td>3643.0</td>\n",
              "      <td>4434.0</td>\n",
              "      <td>Unknown</td>\n",
              "      <td>Unknown</td>\n",
              "      <td>5655.0</td>\n",
              "      <td>0.0</td>\n",
              "      <td>1974.0</td>\n",
              "    </tr>\n",
              "    <tr>\n",
              "      <th>2949</th>\n",
              "      <td>OTHER</td>\n",
              "      <td>4.0</td>\n",
              "      <td>AUTO</td>\n",
              "      <td>Alloy</td>\n",
              "      <td>62031.0</td>\n",
              "      <td>OTHER ASIAN</td>\n",
              "      <td>MEDIUM</td>\n",
              "      <td>OTHER</td>\n",
              "      <td>6584.0</td>\n",
              "      <td>10231.0</td>\n",
              "      <td>5989.0</td>\n",
              "      <td>9257.0</td>\n",
              "      <td>Unknown</td>\n",
              "      <td>Unknown</td>\n",
              "      <td>7900.0</td>\n",
              "      <td>0.0</td>\n",
              "      <td>728.0</td>\n",
              "    </tr>\n",
              "  </tbody>\n",
              "</table>\n",
              "</div>\n",
              "      <button class=\"colab-df-convert\" onclick=\"convertToInteractive('df-33e8f586-c5fd-4a52-8a11-356bf6196e04')\"\n",
              "              title=\"Convert this dataframe to an interactive table.\"\n",
              "              style=\"display:none;\">\n",
              "        \n",
              "  <svg xmlns=\"http://www.w3.org/2000/svg\" height=\"24px\"viewBox=\"0 0 24 24\"\n",
              "       width=\"24px\">\n",
              "    <path d=\"M0 0h24v24H0V0z\" fill=\"none\"/>\n",
              "    <path d=\"M18.56 5.44l.94 2.06.94-2.06 2.06-.94-2.06-.94-.94-2.06-.94 2.06-2.06.94zm-11 1L8.5 8.5l.94-2.06 2.06-.94-2.06-.94L8.5 2.5l-.94 2.06-2.06.94zm10 10l.94 2.06.94-2.06 2.06-.94-2.06-.94-.94-2.06-.94 2.06-2.06.94z\"/><path d=\"M17.41 7.96l-1.37-1.37c-.4-.4-.92-.59-1.43-.59-.52 0-1.04.2-1.43.59L10.3 9.45l-7.72 7.72c-.78.78-.78 2.05 0 2.83L4 21.41c.39.39.9.59 1.41.59.51 0 1.02-.2 1.41-.59l7.78-7.78 2.81-2.81c.8-.78.8-2.07 0-2.86zM5.41 20L4 18.59l7.72-7.72 1.47 1.35L5.41 20z\"/>\n",
              "  </svg>\n",
              "      </button>\n",
              "      \n",
              "  <style>\n",
              "    .colab-df-container {\n",
              "      display:flex;\n",
              "      flex-wrap:wrap;\n",
              "      gap: 12px;\n",
              "    }\n",
              "\n",
              "    .colab-df-convert {\n",
              "      background-color: #E8F0FE;\n",
              "      border: none;\n",
              "      border-radius: 50%;\n",
              "      cursor: pointer;\n",
              "      display: none;\n",
              "      fill: #1967D2;\n",
              "      height: 32px;\n",
              "      padding: 0 0 0 0;\n",
              "      width: 32px;\n",
              "    }\n",
              "\n",
              "    .colab-df-convert:hover {\n",
              "      background-color: #E2EBFA;\n",
              "      box-shadow: 0px 1px 2px rgba(60, 64, 67, 0.3), 0px 1px 3px 1px rgba(60, 64, 67, 0.15);\n",
              "      fill: #174EA6;\n",
              "    }\n",
              "\n",
              "    [theme=dark] .colab-df-convert {\n",
              "      background-color: #3B4455;\n",
              "      fill: #D2E3FC;\n",
              "    }\n",
              "\n",
              "    [theme=dark] .colab-df-convert:hover {\n",
              "      background-color: #434B5C;\n",
              "      box-shadow: 0px 1px 3px 1px rgba(0, 0, 0, 0.15);\n",
              "      filter: drop-shadow(0px 1px 2px rgba(0, 0, 0, 0.3));\n",
              "      fill: #FFFFFF;\n",
              "    }\n",
              "  </style>\n",
              "\n",
              "      <script>\n",
              "        const buttonEl =\n",
              "          document.querySelector('#df-33e8f586-c5fd-4a52-8a11-356bf6196e04 button.colab-df-convert');\n",
              "        buttonEl.style.display =\n",
              "          google.colab.kernel.accessAllowed ? 'block' : 'none';\n",
              "\n",
              "        async function convertToInteractive(key) {\n",
              "          const element = document.querySelector('#df-33e8f586-c5fd-4a52-8a11-356bf6196e04');\n",
              "          const dataTable =\n",
              "            await google.colab.kernel.invokeFunction('convertToInteractive',\n",
              "                                                     [key], {});\n",
              "          if (!dataTable) return;\n",
              "\n",
              "          const docLinkHtml = 'Like what you see? Visit the ' +\n",
              "            '<a target=\"_blank\" href=https://colab.research.google.com/notebooks/data_table.ipynb>data table notebook</a>'\n",
              "            + ' to learn more about interactive tables.';\n",
              "          element.innerHTML = '';\n",
              "          dataTable['output_type'] = 'display_data';\n",
              "          await google.colab.output.renderOutput(dataTable, element);\n",
              "          const docLink = document.createElement('div');\n",
              "          docLink.innerHTML = docLinkHtml;\n",
              "          element.appendChild(docLink);\n",
              "        }\n",
              "      </script>\n",
              "    </div>\n",
              "  </div>\n",
              "  "
            ]
          },
          "metadata": {},
          "execution_count": 207
        }
      ],
      "source": [
        "train_df.head()"
      ]
    },
    {
      "cell_type": "markdown",
      "id": "aa99ea44",
      "metadata": {
        "id": "aa99ea44",
        "papermill": {
          "duration": 0.063923,
          "end_time": "2022-12-09T11:15:08.840684",
          "exception": false,
          "start_time": "2022-12-09T11:15:08.776761",
          "status": "completed"
        },
        "tags": []
      },
      "source": [
        "#### Validation"
      ]
    },
    {
      "cell_type": "code",
      "execution_count": 208,
      "id": "C5_YvSdWu1sk",
      "metadata": {
        "id": "C5_YvSdWu1sk"
      },
      "outputs": [],
      "source": [
        "val_inputs=val_df[input_cols]\n"
      ]
    },
    {
      "cell_type": "code",
      "execution_count": 209,
      "id": "ehD8-yXJ1fcd",
      "metadata": {
        "id": "ehD8-yXJ1fcd"
      },
      "outputs": [],
      "source": [
        "val_targets=targets_val"
      ]
    },
    {
      "cell_type": "code",
      "execution_count": 210,
      "id": "M30etl3q1bJE",
      "metadata": {
        "colab": {
          "base_uri": "https://localhost:8080/"
        },
        "id": "M30etl3q1bJE",
        "outputId": "c3bf8a67-df04-4c8d-9d2d-025b3b052dd6"
      },
      "outputs": [
        {
          "output_type": "stream",
          "name": "stdout",
          "text": [
            "<class 'pandas.core.frame.DataFrame'>\n",
            "Int64Index: 14597 entries, 27851 to 38747\n",
            "Data columns (total 17 columns):\n",
            " #   Column                             Non-Null Count  Dtype  \n",
            "---  ------                             --------------  -----  \n",
            " 0   Auction                            14597 non-null  object \n",
            " 1   VehicleAge                         14597 non-null  float64\n",
            " 2   Transmission                       14597 non-null  object \n",
            " 3   WheelType                          14597 non-null  object \n",
            " 4   VehOdo                             14597 non-null  float64\n",
            " 5   Nationality                        14597 non-null  object \n",
            " 6   Size                               14597 non-null  object \n",
            " 7   TopThreeAmericanName               14597 non-null  object \n",
            " 8   MMRAcquisitionAuctionAveragePrice  14597 non-null  float64\n",
            " 9   MMRAcquisitionRetailAveragePrice   14597 non-null  float64\n",
            " 10  MMRCurrentAuctionAveragePrice      14597 non-null  float64\n",
            " 11  MMRCurrentRetailAveragePrice       14597 non-null  float64\n",
            " 12  PRIMEUNIT                          14597 non-null  object \n",
            " 13  AUCGUART                           14597 non-null  object \n",
            " 14  VehBCost                           14597 non-null  float64\n",
            " 15  IsOnlineSale                       14597 non-null  float64\n",
            " 16  WarrantyCost                       14597 non-null  float64\n",
            "dtypes: float64(9), object(8)\n",
            "memory usage: 2.0+ MB\n"
          ]
        }
      ],
      "source": [
        "val_df.info()"
      ]
    },
    {
      "cell_type": "code",
      "execution_count": 211,
      "id": "8d231fac",
      "metadata": {
        "execution": {
          "iopub.execute_input": "2022-12-09T11:15:08.996194Z",
          "iopub.status.busy": "2022-12-09T11:15:08.995306Z",
          "iopub.status.idle": "2022-12-09T11:15:09.177531Z",
          "shell.execute_reply": "2022-12-09T11:15:09.176313Z"
        },
        "id": "8d231fac",
        "papermill": {
          "duration": 0.256878,
          "end_time": "2022-12-09T11:15:09.180543",
          "exception": false,
          "start_time": "2022-12-09T11:15:08.923665",
          "status": "completed"
        },
        "tags": []
      },
      "outputs": [],
      "source": [
        "val_inputs=val_df[input_cols]"
      ]
    },
    {
      "cell_type": "code",
      "execution_count": 212,
      "id": "c6ddb22f",
      "metadata": {
        "colab": {
          "base_uri": "https://localhost:8080/"
        },
        "execution": {
          "iopub.execute_input": "2022-12-09T11:15:09.311010Z",
          "iopub.status.busy": "2022-12-09T11:15:09.310591Z",
          "iopub.status.idle": "2022-12-09T11:15:09.460736Z",
          "shell.execute_reply": "2022-12-09T11:15:09.459282Z"
        },
        "id": "c6ddb22f",
        "outputId": "5173a0cb-7ffe-484f-8192-758da3c05144",
        "papermill": {
          "duration": 0.218251,
          "end_time": "2022-12-09T11:15:09.463210",
          "exception": false,
          "start_time": "2022-12-09T11:15:09.244959",
          "status": "completed"
        },
        "tags": []
      },
      "outputs": [
        {
          "output_type": "stream",
          "name": "stdout",
          "text": [
            "<class 'pandas.core.frame.DataFrame'>\n",
            "Int64Index: 14597 entries, 27851 to 38747\n",
            "Data columns (total 17 columns):\n",
            " #   Column                             Non-Null Count  Dtype  \n",
            "---  ------                             --------------  -----  \n",
            " 0   Auction                            14597 non-null  object \n",
            " 1   VehicleAge                         14597 non-null  float64\n",
            " 2   Transmission                       14597 non-null  object \n",
            " 3   WheelType                          14597 non-null  object \n",
            " 4   VehOdo                             14597 non-null  float64\n",
            " 5   Nationality                        14597 non-null  object \n",
            " 6   Size                               14597 non-null  object \n",
            " 7   TopThreeAmericanName               14597 non-null  object \n",
            " 8   MMRAcquisitionAuctionAveragePrice  14597 non-null  float64\n",
            " 9   MMRAcquisitionRetailAveragePrice   14597 non-null  float64\n",
            " 10  MMRCurrentAuctionAveragePrice      14597 non-null  float64\n",
            " 11  MMRCurrentRetailAveragePrice       14597 non-null  float64\n",
            " 12  PRIMEUNIT                          14597 non-null  object \n",
            " 13  AUCGUART                           14597 non-null  object \n",
            " 14  VehBCost                           14597 non-null  float64\n",
            " 15  IsOnlineSale                       14597 non-null  float64\n",
            " 16  WarrantyCost                       14597 non-null  float64\n",
            "dtypes: float64(9), object(8)\n",
            "memory usage: 2.0+ MB\n"
          ]
        }
      ],
      "source": [
        "val_inputs.info()"
      ]
    },
    {
      "cell_type": "code",
      "execution_count": 213,
      "id": "c198b9eb",
      "metadata": {
        "execution": {
          "iopub.execute_input": "2022-12-09T11:15:09.595720Z",
          "iopub.status.busy": "2022-12-09T11:15:09.595057Z",
          "iopub.status.idle": "2022-12-09T11:15:09.600195Z",
          "shell.execute_reply": "2022-12-09T11:15:09.599261Z"
        },
        "id": "c198b9eb",
        "papermill": {
          "duration": 0.074895,
          "end_time": "2022-12-09T11:15:09.602439",
          "exception": false,
          "start_time": "2022-12-09T11:15:09.527544",
          "status": "completed"
        },
        "tags": []
      },
      "outputs": [],
      "source": [
        "val_targets=targets_val"
      ]
    },
    {
      "cell_type": "code",
      "execution_count": 214,
      "id": "25f956b1",
      "metadata": {
        "colab": {
          "base_uri": "https://localhost:8080/",
          "height": 522
        },
        "execution": {
          "iopub.execute_input": "2022-12-09T11:15:09.736060Z",
          "iopub.status.busy": "2022-12-09T11:15:09.735260Z",
          "iopub.status.idle": "2022-12-09T11:15:09.756077Z",
          "shell.execute_reply": "2022-12-09T11:15:09.754791Z"
        },
        "id": "25f956b1",
        "outputId": "5abbb249-08e3-4cb1-9bff-4ea4cb0fb8bf",
        "papermill": {
          "duration": 0.089746,
          "end_time": "2022-12-09T11:15:09.758554",
          "exception": false,
          "start_time": "2022-12-09T11:15:09.668808",
          "status": "completed"
        },
        "tags": []
      },
      "outputs": [
        {
          "output_type": "execute_result",
          "data": {
            "text/plain": [
              "       Auction  VehicleAge Transmission WheelType   VehOdo  Nationality  \\\n",
              "27851  MANHEIM         6.0         AUTO    Covers  70008.0     AMERICAN   \n",
              "51596  MANHEIM         5.0         AUTO   Special  84628.0     AMERICAN   \n",
              "31933    OTHER         4.0         AUTO     Alloy  59369.0     AMERICAN   \n",
              "12335    OTHER         3.0         AUTO     Alloy  74180.0     AMERICAN   \n",
              "68933    ADESA         3.0         AUTO     Alloy  74783.0  OTHER ASIAN   \n",
              "...        ...         ...          ...       ...      ...          ...   \n",
              "52554  MANHEIM         6.0         AUTO     Alloy  54556.0  OTHER ASIAN   \n",
              "50223  MANHEIM         5.0         AUTO    Covers  82670.0     AMERICAN   \n",
              "15260  MANHEIM         5.0         AUTO    Covers  73718.0     AMERICAN   \n",
              "26629  MANHEIM         2.0         AUTO    Covers  61636.0     AMERICAN   \n",
              "38747  MANHEIM         3.0         AUTO    Covers  58399.0     AMERICAN   \n",
              "\n",
              "             Size TopThreeAmericanName  MMRAcquisitionAuctionAveragePrice  \\\n",
              "27851         VAN                 FORD                             2677.0   \n",
              "51596  MEDIUM SUV                 FORD                             5602.0   \n",
              "31933   CROSSOVER             CHRYSLER                             6902.0   \n",
              "12335      MEDIUM                   GM                             7371.0   \n",
              "68933  MEDIUM SUV                OTHER                             8916.0   \n",
              "...           ...                  ...                                ...   \n",
              "52554      MEDIUM                OTHER                             4949.0   \n",
              "50223         VAN             CHRYSLER                             2834.0   \n",
              "15260       LARGE                   GM                             4384.0   \n",
              "26629      MEDIUM             CHRYSLER                             7606.0   \n",
              "38747      MEDIUM             CHRYSLER                             5480.0   \n",
              "\n",
              "       MMRAcquisitionRetailAveragePrice  MMRCurrentAuctionAveragePrice  \\\n",
              "27851                            3391.0                         2554.0   \n",
              "51596                            6550.0                         6473.0   \n",
              "31933                            7954.0                         6600.0   \n",
              "12335                            8461.0                         6528.0   \n",
              "68933                           10129.0                         8236.0   \n",
              "...                                 ...                            ...   \n",
              "52554                            8369.0                         5396.0   \n",
              "50223                            3561.0                         5211.0   \n",
              "15260                            7804.0                         4352.0   \n",
              "26629                            8714.0                         7639.0   \n",
              "38747                            6418.0                         5480.0   \n",
              "\n",
              "       MMRCurrentRetailAveragePrice PRIMEUNIT AUCGUART  VehBCost  \\\n",
              "27851                        3258.0   Unknown  Unknown    4200.0   \n",
              "51596                       10117.0   Unknown  Unknown    6800.0   \n",
              "31933                        7628.0   Unknown  Unknown    8800.0   \n",
              "12335                        7550.0   Unknown  Unknown    7305.0   \n",
              "68933                       11631.0   Unknown  Unknown    8300.0   \n",
              "...                             ...       ...      ...       ...   \n",
              "52554                        8699.0   Unknown  Unknown    8405.0   \n",
              "50223                        6128.0   Unknown  Unknown    4335.0   \n",
              "15260                        7033.0   Unknown  Unknown    6035.0   \n",
              "26629                       11066.0   Unknown  Unknown    7540.0   \n",
              "38747                        6418.0   Unknown  Unknown    5800.0   \n",
              "\n",
              "       IsOnlineSale  WarrantyCost  \n",
              "27851           0.0        2157.0  \n",
              "51596           0.0        1893.0  \n",
              "31933           0.0        1086.0  \n",
              "12335           0.0        1272.0  \n",
              "68933           0.0         569.0  \n",
              "...             ...           ...  \n",
              "52554           1.0        1003.0  \n",
              "50223           0.0        1763.0  \n",
              "15260           0.0        1974.0  \n",
              "26629           0.0         825.0  \n",
              "38747           0.0        1086.0  \n",
              "\n",
              "[14597 rows x 17 columns]"
            ],
            "text/html": [
              "\n",
              "  <div id=\"df-8d21cf5f-c648-4575-8d0b-5bb00eaa1ba4\">\n",
              "    <div class=\"colab-df-container\">\n",
              "      <div>\n",
              "<style scoped>\n",
              "    .dataframe tbody tr th:only-of-type {\n",
              "        vertical-align: middle;\n",
              "    }\n",
              "\n",
              "    .dataframe tbody tr th {\n",
              "        vertical-align: top;\n",
              "    }\n",
              "\n",
              "    .dataframe thead th {\n",
              "        text-align: right;\n",
              "    }\n",
              "</style>\n",
              "<table border=\"1\" class=\"dataframe\">\n",
              "  <thead>\n",
              "    <tr style=\"text-align: right;\">\n",
              "      <th></th>\n",
              "      <th>Auction</th>\n",
              "      <th>VehicleAge</th>\n",
              "      <th>Transmission</th>\n",
              "      <th>WheelType</th>\n",
              "      <th>VehOdo</th>\n",
              "      <th>Nationality</th>\n",
              "      <th>Size</th>\n",
              "      <th>TopThreeAmericanName</th>\n",
              "      <th>MMRAcquisitionAuctionAveragePrice</th>\n",
              "      <th>MMRAcquisitionRetailAveragePrice</th>\n",
              "      <th>MMRCurrentAuctionAveragePrice</th>\n",
              "      <th>MMRCurrentRetailAveragePrice</th>\n",
              "      <th>PRIMEUNIT</th>\n",
              "      <th>AUCGUART</th>\n",
              "      <th>VehBCost</th>\n",
              "      <th>IsOnlineSale</th>\n",
              "      <th>WarrantyCost</th>\n",
              "    </tr>\n",
              "  </thead>\n",
              "  <tbody>\n",
              "    <tr>\n",
              "      <th>27851</th>\n",
              "      <td>MANHEIM</td>\n",
              "      <td>6.0</td>\n",
              "      <td>AUTO</td>\n",
              "      <td>Covers</td>\n",
              "      <td>70008.0</td>\n",
              "      <td>AMERICAN</td>\n",
              "      <td>VAN</td>\n",
              "      <td>FORD</td>\n",
              "      <td>2677.0</td>\n",
              "      <td>3391.0</td>\n",
              "      <td>2554.0</td>\n",
              "      <td>3258.0</td>\n",
              "      <td>Unknown</td>\n",
              "      <td>Unknown</td>\n",
              "      <td>4200.0</td>\n",
              "      <td>0.0</td>\n",
              "      <td>2157.0</td>\n",
              "    </tr>\n",
              "    <tr>\n",
              "      <th>51596</th>\n",
              "      <td>MANHEIM</td>\n",
              "      <td>5.0</td>\n",
              "      <td>AUTO</td>\n",
              "      <td>Special</td>\n",
              "      <td>84628.0</td>\n",
              "      <td>AMERICAN</td>\n",
              "      <td>MEDIUM SUV</td>\n",
              "      <td>FORD</td>\n",
              "      <td>5602.0</td>\n",
              "      <td>6550.0</td>\n",
              "      <td>6473.0</td>\n",
              "      <td>10117.0</td>\n",
              "      <td>Unknown</td>\n",
              "      <td>Unknown</td>\n",
              "      <td>6800.0</td>\n",
              "      <td>0.0</td>\n",
              "      <td>1893.0</td>\n",
              "    </tr>\n",
              "    <tr>\n",
              "      <th>31933</th>\n",
              "      <td>OTHER</td>\n",
              "      <td>4.0</td>\n",
              "      <td>AUTO</td>\n",
              "      <td>Alloy</td>\n",
              "      <td>59369.0</td>\n",
              "      <td>AMERICAN</td>\n",
              "      <td>CROSSOVER</td>\n",
              "      <td>CHRYSLER</td>\n",
              "      <td>6902.0</td>\n",
              "      <td>7954.0</td>\n",
              "      <td>6600.0</td>\n",
              "      <td>7628.0</td>\n",
              "      <td>Unknown</td>\n",
              "      <td>Unknown</td>\n",
              "      <td>8800.0</td>\n",
              "      <td>0.0</td>\n",
              "      <td>1086.0</td>\n",
              "    </tr>\n",
              "    <tr>\n",
              "      <th>12335</th>\n",
              "      <td>OTHER</td>\n",
              "      <td>3.0</td>\n",
              "      <td>AUTO</td>\n",
              "      <td>Alloy</td>\n",
              "      <td>74180.0</td>\n",
              "      <td>AMERICAN</td>\n",
              "      <td>MEDIUM</td>\n",
              "      <td>GM</td>\n",
              "      <td>7371.0</td>\n",
              "      <td>8461.0</td>\n",
              "      <td>6528.0</td>\n",
              "      <td>7550.0</td>\n",
              "      <td>Unknown</td>\n",
              "      <td>Unknown</td>\n",
              "      <td>7305.0</td>\n",
              "      <td>0.0</td>\n",
              "      <td>1272.0</td>\n",
              "    </tr>\n",
              "    <tr>\n",
              "      <th>68933</th>\n",
              "      <td>ADESA</td>\n",
              "      <td>3.0</td>\n",
              "      <td>AUTO</td>\n",
              "      <td>Alloy</td>\n",
              "      <td>74783.0</td>\n",
              "      <td>OTHER ASIAN</td>\n",
              "      <td>MEDIUM SUV</td>\n",
              "      <td>OTHER</td>\n",
              "      <td>8916.0</td>\n",
              "      <td>10129.0</td>\n",
              "      <td>8236.0</td>\n",
              "      <td>11631.0</td>\n",
              "      <td>Unknown</td>\n",
              "      <td>Unknown</td>\n",
              "      <td>8300.0</td>\n",
              "      <td>0.0</td>\n",
              "      <td>569.0</td>\n",
              "    </tr>\n",
              "    <tr>\n",
              "      <th>...</th>\n",
              "      <td>...</td>\n",
              "      <td>...</td>\n",
              "      <td>...</td>\n",
              "      <td>...</td>\n",
              "      <td>...</td>\n",
              "      <td>...</td>\n",
              "      <td>...</td>\n",
              "      <td>...</td>\n",
              "      <td>...</td>\n",
              "      <td>...</td>\n",
              "      <td>...</td>\n",
              "      <td>...</td>\n",
              "      <td>...</td>\n",
              "      <td>...</td>\n",
              "      <td>...</td>\n",
              "      <td>...</td>\n",
              "      <td>...</td>\n",
              "    </tr>\n",
              "    <tr>\n",
              "      <th>52554</th>\n",
              "      <td>MANHEIM</td>\n",
              "      <td>6.0</td>\n",
              "      <td>AUTO</td>\n",
              "      <td>Alloy</td>\n",
              "      <td>54556.0</td>\n",
              "      <td>OTHER ASIAN</td>\n",
              "      <td>MEDIUM</td>\n",
              "      <td>OTHER</td>\n",
              "      <td>4949.0</td>\n",
              "      <td>8369.0</td>\n",
              "      <td>5396.0</td>\n",
              "      <td>8699.0</td>\n",
              "      <td>Unknown</td>\n",
              "      <td>Unknown</td>\n",
              "      <td>8405.0</td>\n",
              "      <td>1.0</td>\n",
              "      <td>1003.0</td>\n",
              "    </tr>\n",
              "    <tr>\n",
              "      <th>50223</th>\n",
              "      <td>MANHEIM</td>\n",
              "      <td>5.0</td>\n",
              "      <td>AUTO</td>\n",
              "      <td>Covers</td>\n",
              "      <td>82670.0</td>\n",
              "      <td>AMERICAN</td>\n",
              "      <td>VAN</td>\n",
              "      <td>CHRYSLER</td>\n",
              "      <td>2834.0</td>\n",
              "      <td>3561.0</td>\n",
              "      <td>5211.0</td>\n",
              "      <td>6128.0</td>\n",
              "      <td>Unknown</td>\n",
              "      <td>Unknown</td>\n",
              "      <td>4335.0</td>\n",
              "      <td>0.0</td>\n",
              "      <td>1763.0</td>\n",
              "    </tr>\n",
              "    <tr>\n",
              "      <th>15260</th>\n",
              "      <td>MANHEIM</td>\n",
              "      <td>5.0</td>\n",
              "      <td>AUTO</td>\n",
              "      <td>Covers</td>\n",
              "      <td>73718.0</td>\n",
              "      <td>AMERICAN</td>\n",
              "      <td>LARGE</td>\n",
              "      <td>GM</td>\n",
              "      <td>4384.0</td>\n",
              "      <td>7804.0</td>\n",
              "      <td>4352.0</td>\n",
              "      <td>7033.0</td>\n",
              "      <td>Unknown</td>\n",
              "      <td>Unknown</td>\n",
              "      <td>6035.0</td>\n",
              "      <td>0.0</td>\n",
              "      <td>1974.0</td>\n",
              "    </tr>\n",
              "    <tr>\n",
              "      <th>26629</th>\n",
              "      <td>MANHEIM</td>\n",
              "      <td>2.0</td>\n",
              "      <td>AUTO</td>\n",
              "      <td>Covers</td>\n",
              "      <td>61636.0</td>\n",
              "      <td>AMERICAN</td>\n",
              "      <td>MEDIUM</td>\n",
              "      <td>CHRYSLER</td>\n",
              "      <td>7606.0</td>\n",
              "      <td>8714.0</td>\n",
              "      <td>7639.0</td>\n",
              "      <td>11066.0</td>\n",
              "      <td>Unknown</td>\n",
              "      <td>Unknown</td>\n",
              "      <td>7540.0</td>\n",
              "      <td>0.0</td>\n",
              "      <td>825.0</td>\n",
              "    </tr>\n",
              "    <tr>\n",
              "      <th>38747</th>\n",
              "      <td>MANHEIM</td>\n",
              "      <td>3.0</td>\n",
              "      <td>AUTO</td>\n",
              "      <td>Covers</td>\n",
              "      <td>58399.0</td>\n",
              "      <td>AMERICAN</td>\n",
              "      <td>MEDIUM</td>\n",
              "      <td>CHRYSLER</td>\n",
              "      <td>5480.0</td>\n",
              "      <td>6418.0</td>\n",
              "      <td>5480.0</td>\n",
              "      <td>6418.0</td>\n",
              "      <td>Unknown</td>\n",
              "      <td>Unknown</td>\n",
              "      <td>5800.0</td>\n",
              "      <td>0.0</td>\n",
              "      <td>1086.0</td>\n",
              "    </tr>\n",
              "  </tbody>\n",
              "</table>\n",
              "<p>14597 rows × 17 columns</p>\n",
              "</div>\n",
              "      <button class=\"colab-df-convert\" onclick=\"convertToInteractive('df-8d21cf5f-c648-4575-8d0b-5bb00eaa1ba4')\"\n",
              "              title=\"Convert this dataframe to an interactive table.\"\n",
              "              style=\"display:none;\">\n",
              "        \n",
              "  <svg xmlns=\"http://www.w3.org/2000/svg\" height=\"24px\"viewBox=\"0 0 24 24\"\n",
              "       width=\"24px\">\n",
              "    <path d=\"M0 0h24v24H0V0z\" fill=\"none\"/>\n",
              "    <path d=\"M18.56 5.44l.94 2.06.94-2.06 2.06-.94-2.06-.94-.94-2.06-.94 2.06-2.06.94zm-11 1L8.5 8.5l.94-2.06 2.06-.94-2.06-.94L8.5 2.5l-.94 2.06-2.06.94zm10 10l.94 2.06.94-2.06 2.06-.94-2.06-.94-.94-2.06-.94 2.06-2.06.94z\"/><path d=\"M17.41 7.96l-1.37-1.37c-.4-.4-.92-.59-1.43-.59-.52 0-1.04.2-1.43.59L10.3 9.45l-7.72 7.72c-.78.78-.78 2.05 0 2.83L4 21.41c.39.39.9.59 1.41.59.51 0 1.02-.2 1.41-.59l7.78-7.78 2.81-2.81c.8-.78.8-2.07 0-2.86zM5.41 20L4 18.59l7.72-7.72 1.47 1.35L5.41 20z\"/>\n",
              "  </svg>\n",
              "      </button>\n",
              "      \n",
              "  <style>\n",
              "    .colab-df-container {\n",
              "      display:flex;\n",
              "      flex-wrap:wrap;\n",
              "      gap: 12px;\n",
              "    }\n",
              "\n",
              "    .colab-df-convert {\n",
              "      background-color: #E8F0FE;\n",
              "      border: none;\n",
              "      border-radius: 50%;\n",
              "      cursor: pointer;\n",
              "      display: none;\n",
              "      fill: #1967D2;\n",
              "      height: 32px;\n",
              "      padding: 0 0 0 0;\n",
              "      width: 32px;\n",
              "    }\n",
              "\n",
              "    .colab-df-convert:hover {\n",
              "      background-color: #E2EBFA;\n",
              "      box-shadow: 0px 1px 2px rgba(60, 64, 67, 0.3), 0px 1px 3px 1px rgba(60, 64, 67, 0.15);\n",
              "      fill: #174EA6;\n",
              "    }\n",
              "\n",
              "    [theme=dark] .colab-df-convert {\n",
              "      background-color: #3B4455;\n",
              "      fill: #D2E3FC;\n",
              "    }\n",
              "\n",
              "    [theme=dark] .colab-df-convert:hover {\n",
              "      background-color: #434B5C;\n",
              "      box-shadow: 0px 1px 3px 1px rgba(0, 0, 0, 0.15);\n",
              "      filter: drop-shadow(0px 1px 2px rgba(0, 0, 0, 0.3));\n",
              "      fill: #FFFFFF;\n",
              "    }\n",
              "  </style>\n",
              "\n",
              "      <script>\n",
              "        const buttonEl =\n",
              "          document.querySelector('#df-8d21cf5f-c648-4575-8d0b-5bb00eaa1ba4 button.colab-df-convert');\n",
              "        buttonEl.style.display =\n",
              "          google.colab.kernel.accessAllowed ? 'block' : 'none';\n",
              "\n",
              "        async function convertToInteractive(key) {\n",
              "          const element = document.querySelector('#df-8d21cf5f-c648-4575-8d0b-5bb00eaa1ba4');\n",
              "          const dataTable =\n",
              "            await google.colab.kernel.invokeFunction('convertToInteractive',\n",
              "                                                     [key], {});\n",
              "          if (!dataTable) return;\n",
              "\n",
              "          const docLinkHtml = 'Like what you see? Visit the ' +\n",
              "            '<a target=\"_blank\" href=https://colab.research.google.com/notebooks/data_table.ipynb>data table notebook</a>'\n",
              "            + ' to learn more about interactive tables.';\n",
              "          element.innerHTML = '';\n",
              "          dataTable['output_type'] = 'display_data';\n",
              "          await google.colab.output.renderOutput(dataTable, element);\n",
              "          const docLink = document.createElement('div');\n",
              "          docLink.innerHTML = docLinkHtml;\n",
              "          element.appendChild(docLink);\n",
              "        }\n",
              "      </script>\n",
              "    </div>\n",
              "  </div>\n",
              "  "
            ]
          },
          "metadata": {},
          "execution_count": 214
        }
      ],
      "source": [
        "val_inputs"
      ]
    },
    {
      "cell_type": "code",
      "execution_count": 215,
      "id": "91eee5bd",
      "metadata": {
        "colab": {
          "base_uri": "https://localhost:8080/"
        },
        "execution": {
          "iopub.execute_input": "2022-12-09T11:15:09.890615Z",
          "iopub.status.busy": "2022-12-09T11:15:09.889811Z",
          "iopub.status.idle": "2022-12-09T11:15:09.899193Z",
          "shell.execute_reply": "2022-12-09T11:15:09.898129Z"
        },
        "id": "91eee5bd",
        "outputId": "7a736cf2-a28b-4664-8966-adbe64b2b644",
        "papermill": {
          "duration": 0.078157,
          "end_time": "2022-12-09T11:15:09.901487",
          "exception": false,
          "start_time": "2022-12-09T11:15:09.823330",
          "status": "completed"
        },
        "tags": []
      },
      "outputs": [
        {
          "output_type": "execute_result",
          "data": {
            "text/plain": [
              "27851    0\n",
              "51596    0\n",
              "31933    0\n",
              "12335    0\n",
              "68933    0\n",
              "        ..\n",
              "52554    0\n",
              "50223    0\n",
              "15260    1\n",
              "26629    0\n",
              "38747    0\n",
              "Name: IsBadBuy, Length: 14597, dtype: int64"
            ]
          },
          "metadata": {},
          "execution_count": 215
        }
      ],
      "source": [
        "val_targets"
      ]
    },
    {
      "cell_type": "markdown",
      "id": "f4f30878",
      "metadata": {
        "id": "f4f30878",
        "papermill": {
          "duration": 0.065391,
          "end_time": "2022-12-09T11:15:10.032324",
          "exception": false,
          "start_time": "2022-12-09T11:15:09.966933",
          "status": "completed"
        },
        "tags": []
      },
      "source": [
        "#### Test"
      ]
    },
    {
      "cell_type": "code",
      "execution_count": 216,
      "id": "4fc49c73",
      "metadata": {
        "execution": {
          "iopub.execute_input": "2022-12-09T11:15:10.165534Z",
          "iopub.status.busy": "2022-12-09T11:15:10.164783Z",
          "iopub.status.idle": "2022-12-09T11:15:10.177274Z",
          "shell.execute_reply": "2022-12-09T11:15:10.176141Z"
        },
        "id": "4fc49c73",
        "papermill": {
          "duration": 0.082012,
          "end_time": "2022-12-09T11:15:10.179879",
          "exception": false,
          "start_time": "2022-12-09T11:15:10.097867",
          "status": "completed"
        },
        "tags": []
      },
      "outputs": [],
      "source": [
        "test_inputs=test_df[input_cols]"
      ]
    },
    {
      "cell_type": "code",
      "execution_count": 217,
      "id": "7c3497bb",
      "metadata": {
        "colab": {
          "base_uri": "https://localhost:8080/",
          "height": 592
        },
        "execution": {
          "iopub.execute_input": "2022-12-09T11:15:10.312777Z",
          "iopub.status.busy": "2022-12-09T11:15:10.312317Z",
          "iopub.status.idle": "2022-12-09T11:15:10.334624Z",
          "shell.execute_reply": "2022-12-09T11:15:10.333503Z"
        },
        "id": "7c3497bb",
        "outputId": "937d3da5-9cb1-4aae-ff4e-e5f55c91320e",
        "papermill": {
          "duration": 0.091368,
          "end_time": "2022-12-09T11:15:10.337070",
          "exception": false,
          "start_time": "2022-12-09T11:15:10.245702",
          "status": "completed"
        },
        "tags": []
      },
      "outputs": [
        {
          "output_type": "execute_result",
          "data": {
            "text/plain": [
              "       Auction  VehicleAge Transmission WheelType   VehOdo     Nationality  \\\n",
              "0        ADESA         4.0         AUTO     Alloy  85377.0        AMERICAN   \n",
              "1        ADESA         4.0         AUTO     Alloy  61873.0        AMERICAN   \n",
              "2        ADESA         3.0         AUTO     Alloy  69283.0        AMERICAN   \n",
              "3        ADESA         7.0         AUTO     Alloy  87889.0        AMERICAN   \n",
              "4        ADESA         2.0         AUTO   Unknown  73432.0     OTHER ASIAN   \n",
              "...        ...         ...          ...       ...      ...             ...   \n",
              "48702  MANHEIM         5.0         AUTO     Alloy  88645.0        AMERICAN   \n",
              "48703  MANHEIM         3.0         AUTO    Covers  81862.0  TOP LINE ASIAN   \n",
              "48704  MANHEIM         4.0         AUTO    Covers  82451.0     OTHER ASIAN   \n",
              "48705  MANHEIM         5.0         AUTO     Alloy  75760.0     OTHER ASIAN   \n",
              "48706  MANHEIM         7.0         AUTO    Covers  82174.0        AMERICAN   \n",
              "\n",
              "             Size TopThreeAmericanName  MMRAcquisitionAuctionAveragePrice  \\\n",
              "0           LARGE                   GM                             5032.0   \n",
              "1          MEDIUM                   GM                             4502.0   \n",
              "2      MEDIUM SUV             CHRYSLER                            10244.0   \n",
              "3          MEDIUM                   GM                             2558.0   \n",
              "4         COMPACT                OTHER                             5013.0   \n",
              "...           ...                  ...                                ...   \n",
              "48702       LARGE                 FORD                             5358.0   \n",
              "48703     COMPACT                OTHER                             6849.0   \n",
              "48704      MEDIUM                OTHER                             4662.0   \n",
              "48705      MEDIUM                OTHER                             5953.0   \n",
              "48706  MEDIUM SUV                   GM                             3269.0   \n",
              "\n",
              "       MMRAcquisitionRetailAveragePrice  MMRCurrentAuctionAveragePrice  \\\n",
              "0                                5935.0                         4905.0   \n",
              "1                                5362.0                         4645.0   \n",
              "2                               11564.0                        10883.0   \n",
              "3                                3263.0                         2928.0   \n",
              "4                                5914.0                         5013.0   \n",
              "...                                 ...                            ...   \n",
              "48702                            8987.0                         5761.0   \n",
              "48703                           10999.0                         6856.0   \n",
              "48704                            7972.0                         4833.0   \n",
              "48705                            9137.0                         5092.0   \n",
              "48706                            6893.0                         4526.0   \n",
              "\n",
              "       MMRCurrentRetailAveragePrice PRIMEUNIT AUCGUART  VehBCost  \\\n",
              "0                            8557.0   Unknown  Unknown    6500.0   \n",
              "1                            7562.0   Unknown  Unknown    6300.0   \n",
              "2                           15340.0   Unknown  Unknown    9700.0   \n",
              "3                            5725.0   Unknown  Unknown    4150.0   \n",
              "4                            5914.0   Unknown  Unknown    4100.0   \n",
              "...                             ...       ...      ...       ...   \n",
              "48702                        9764.0   Unknown  Unknown    7955.0   \n",
              "48703                       10283.0   Unknown  Unknown    7035.0   \n",
              "48704                        7871.0        NO    GREEN    6335.0   \n",
              "48705                        8576.0        NO    GREEN    8055.0   \n",
              "48706                        8266.0        NO    GREEN    7755.0   \n",
              "\n",
              "       IsOnlineSale  WarrantyCost  \n",
              "0               0.0        2152.0  \n",
              "1               0.0        1118.0  \n",
              "2               0.0        1215.0  \n",
              "3               0.0        1933.0  \n",
              "4               0.0         920.0  \n",
              "...             ...           ...  \n",
              "48702           0.0        1633.0  \n",
              "48703           0.0         594.0  \n",
              "48704           0.0         594.0  \n",
              "48705           0.0        1038.0  \n",
              "48706           0.0        5392.0  \n",
              "\n",
              "[48707 rows x 17 columns]"
            ],
            "text/html": [
              "\n",
              "  <div id=\"df-e6c3ff82-cdb6-4b85-9e2f-20624072833a\">\n",
              "    <div class=\"colab-df-container\">\n",
              "      <div>\n",
              "<style scoped>\n",
              "    .dataframe tbody tr th:only-of-type {\n",
              "        vertical-align: middle;\n",
              "    }\n",
              "\n",
              "    .dataframe tbody tr th {\n",
              "        vertical-align: top;\n",
              "    }\n",
              "\n",
              "    .dataframe thead th {\n",
              "        text-align: right;\n",
              "    }\n",
              "</style>\n",
              "<table border=\"1\" class=\"dataframe\">\n",
              "  <thead>\n",
              "    <tr style=\"text-align: right;\">\n",
              "      <th></th>\n",
              "      <th>Auction</th>\n",
              "      <th>VehicleAge</th>\n",
              "      <th>Transmission</th>\n",
              "      <th>WheelType</th>\n",
              "      <th>VehOdo</th>\n",
              "      <th>Nationality</th>\n",
              "      <th>Size</th>\n",
              "      <th>TopThreeAmericanName</th>\n",
              "      <th>MMRAcquisitionAuctionAveragePrice</th>\n",
              "      <th>MMRAcquisitionRetailAveragePrice</th>\n",
              "      <th>MMRCurrentAuctionAveragePrice</th>\n",
              "      <th>MMRCurrentRetailAveragePrice</th>\n",
              "      <th>PRIMEUNIT</th>\n",
              "      <th>AUCGUART</th>\n",
              "      <th>VehBCost</th>\n",
              "      <th>IsOnlineSale</th>\n",
              "      <th>WarrantyCost</th>\n",
              "    </tr>\n",
              "  </thead>\n",
              "  <tbody>\n",
              "    <tr>\n",
              "      <th>0</th>\n",
              "      <td>ADESA</td>\n",
              "      <td>4.0</td>\n",
              "      <td>AUTO</td>\n",
              "      <td>Alloy</td>\n",
              "      <td>85377.0</td>\n",
              "      <td>AMERICAN</td>\n",
              "      <td>LARGE</td>\n",
              "      <td>GM</td>\n",
              "      <td>5032.0</td>\n",
              "      <td>5935.0</td>\n",
              "      <td>4905.0</td>\n",
              "      <td>8557.0</td>\n",
              "      <td>Unknown</td>\n",
              "      <td>Unknown</td>\n",
              "      <td>6500.0</td>\n",
              "      <td>0.0</td>\n",
              "      <td>2152.0</td>\n",
              "    </tr>\n",
              "    <tr>\n",
              "      <th>1</th>\n",
              "      <td>ADESA</td>\n",
              "      <td>4.0</td>\n",
              "      <td>AUTO</td>\n",
              "      <td>Alloy</td>\n",
              "      <td>61873.0</td>\n",
              "      <td>AMERICAN</td>\n",
              "      <td>MEDIUM</td>\n",
              "      <td>GM</td>\n",
              "      <td>4502.0</td>\n",
              "      <td>5362.0</td>\n",
              "      <td>4645.0</td>\n",
              "      <td>7562.0</td>\n",
              "      <td>Unknown</td>\n",
              "      <td>Unknown</td>\n",
              "      <td>6300.0</td>\n",
              "      <td>0.0</td>\n",
              "      <td>1118.0</td>\n",
              "    </tr>\n",
              "    <tr>\n",
              "      <th>2</th>\n",
              "      <td>ADESA</td>\n",
              "      <td>3.0</td>\n",
              "      <td>AUTO</td>\n",
              "      <td>Alloy</td>\n",
              "      <td>69283.0</td>\n",
              "      <td>AMERICAN</td>\n",
              "      <td>MEDIUM SUV</td>\n",
              "      <td>CHRYSLER</td>\n",
              "      <td>10244.0</td>\n",
              "      <td>11564.0</td>\n",
              "      <td>10883.0</td>\n",
              "      <td>15340.0</td>\n",
              "      <td>Unknown</td>\n",
              "      <td>Unknown</td>\n",
              "      <td>9700.0</td>\n",
              "      <td>0.0</td>\n",
              "      <td>1215.0</td>\n",
              "    </tr>\n",
              "    <tr>\n",
              "      <th>3</th>\n",
              "      <td>ADESA</td>\n",
              "      <td>7.0</td>\n",
              "      <td>AUTO</td>\n",
              "      <td>Alloy</td>\n",
              "      <td>87889.0</td>\n",
              "      <td>AMERICAN</td>\n",
              "      <td>MEDIUM</td>\n",
              "      <td>GM</td>\n",
              "      <td>2558.0</td>\n",
              "      <td>3263.0</td>\n",
              "      <td>2928.0</td>\n",
              "      <td>5725.0</td>\n",
              "      <td>Unknown</td>\n",
              "      <td>Unknown</td>\n",
              "      <td>4150.0</td>\n",
              "      <td>0.0</td>\n",
              "      <td>1933.0</td>\n",
              "    </tr>\n",
              "    <tr>\n",
              "      <th>4</th>\n",
              "      <td>ADESA</td>\n",
              "      <td>2.0</td>\n",
              "      <td>AUTO</td>\n",
              "      <td>Unknown</td>\n",
              "      <td>73432.0</td>\n",
              "      <td>OTHER ASIAN</td>\n",
              "      <td>COMPACT</td>\n",
              "      <td>OTHER</td>\n",
              "      <td>5013.0</td>\n",
              "      <td>5914.0</td>\n",
              "      <td>5013.0</td>\n",
              "      <td>5914.0</td>\n",
              "      <td>Unknown</td>\n",
              "      <td>Unknown</td>\n",
              "      <td>4100.0</td>\n",
              "      <td>0.0</td>\n",
              "      <td>920.0</td>\n",
              "    </tr>\n",
              "    <tr>\n",
              "      <th>...</th>\n",
              "      <td>...</td>\n",
              "      <td>...</td>\n",
              "      <td>...</td>\n",
              "      <td>...</td>\n",
              "      <td>...</td>\n",
              "      <td>...</td>\n",
              "      <td>...</td>\n",
              "      <td>...</td>\n",
              "      <td>...</td>\n",
              "      <td>...</td>\n",
              "      <td>...</td>\n",
              "      <td>...</td>\n",
              "      <td>...</td>\n",
              "      <td>...</td>\n",
              "      <td>...</td>\n",
              "      <td>...</td>\n",
              "      <td>...</td>\n",
              "    </tr>\n",
              "    <tr>\n",
              "      <th>48702</th>\n",
              "      <td>MANHEIM</td>\n",
              "      <td>5.0</td>\n",
              "      <td>AUTO</td>\n",
              "      <td>Alloy</td>\n",
              "      <td>88645.0</td>\n",
              "      <td>AMERICAN</td>\n",
              "      <td>LARGE</td>\n",
              "      <td>FORD</td>\n",
              "      <td>5358.0</td>\n",
              "      <td>8987.0</td>\n",
              "      <td>5761.0</td>\n",
              "      <td>9764.0</td>\n",
              "      <td>Unknown</td>\n",
              "      <td>Unknown</td>\n",
              "      <td>7955.0</td>\n",
              "      <td>0.0</td>\n",
              "      <td>1633.0</td>\n",
              "    </tr>\n",
              "    <tr>\n",
              "      <th>48703</th>\n",
              "      <td>MANHEIM</td>\n",
              "      <td>3.0</td>\n",
              "      <td>AUTO</td>\n",
              "      <td>Covers</td>\n",
              "      <td>81862.0</td>\n",
              "      <td>TOP LINE ASIAN</td>\n",
              "      <td>COMPACT</td>\n",
              "      <td>OTHER</td>\n",
              "      <td>6849.0</td>\n",
              "      <td>10999.0</td>\n",
              "      <td>6856.0</td>\n",
              "      <td>10283.0</td>\n",
              "      <td>Unknown</td>\n",
              "      <td>Unknown</td>\n",
              "      <td>7035.0</td>\n",
              "      <td>0.0</td>\n",
              "      <td>594.0</td>\n",
              "    </tr>\n",
              "    <tr>\n",
              "      <th>48704</th>\n",
              "      <td>MANHEIM</td>\n",
              "      <td>4.0</td>\n",
              "      <td>AUTO</td>\n",
              "      <td>Covers</td>\n",
              "      <td>82451.0</td>\n",
              "      <td>OTHER ASIAN</td>\n",
              "      <td>MEDIUM</td>\n",
              "      <td>OTHER</td>\n",
              "      <td>4662.0</td>\n",
              "      <td>7972.0</td>\n",
              "      <td>4833.0</td>\n",
              "      <td>7871.0</td>\n",
              "      <td>NO</td>\n",
              "      <td>GREEN</td>\n",
              "      <td>6335.0</td>\n",
              "      <td>0.0</td>\n",
              "      <td>594.0</td>\n",
              "    </tr>\n",
              "    <tr>\n",
              "      <th>48705</th>\n",
              "      <td>MANHEIM</td>\n",
              "      <td>5.0</td>\n",
              "      <td>AUTO</td>\n",
              "      <td>Alloy</td>\n",
              "      <td>75760.0</td>\n",
              "      <td>OTHER ASIAN</td>\n",
              "      <td>MEDIUM</td>\n",
              "      <td>OTHER</td>\n",
              "      <td>5953.0</td>\n",
              "      <td>9137.0</td>\n",
              "      <td>5092.0</td>\n",
              "      <td>8576.0</td>\n",
              "      <td>NO</td>\n",
              "      <td>GREEN</td>\n",
              "      <td>8055.0</td>\n",
              "      <td>0.0</td>\n",
              "      <td>1038.0</td>\n",
              "    </tr>\n",
              "    <tr>\n",
              "      <th>48706</th>\n",
              "      <td>MANHEIM</td>\n",
              "      <td>7.0</td>\n",
              "      <td>AUTO</td>\n",
              "      <td>Covers</td>\n",
              "      <td>82174.0</td>\n",
              "      <td>AMERICAN</td>\n",
              "      <td>MEDIUM SUV</td>\n",
              "      <td>GM</td>\n",
              "      <td>3269.0</td>\n",
              "      <td>6893.0</td>\n",
              "      <td>4526.0</td>\n",
              "      <td>8266.0</td>\n",
              "      <td>NO</td>\n",
              "      <td>GREEN</td>\n",
              "      <td>7755.0</td>\n",
              "      <td>0.0</td>\n",
              "      <td>5392.0</td>\n",
              "    </tr>\n",
              "  </tbody>\n",
              "</table>\n",
              "<p>48707 rows × 17 columns</p>\n",
              "</div>\n",
              "      <button class=\"colab-df-convert\" onclick=\"convertToInteractive('df-e6c3ff82-cdb6-4b85-9e2f-20624072833a')\"\n",
              "              title=\"Convert this dataframe to an interactive table.\"\n",
              "              style=\"display:none;\">\n",
              "        \n",
              "  <svg xmlns=\"http://www.w3.org/2000/svg\" height=\"24px\"viewBox=\"0 0 24 24\"\n",
              "       width=\"24px\">\n",
              "    <path d=\"M0 0h24v24H0V0z\" fill=\"none\"/>\n",
              "    <path d=\"M18.56 5.44l.94 2.06.94-2.06 2.06-.94-2.06-.94-.94-2.06-.94 2.06-2.06.94zm-11 1L8.5 8.5l.94-2.06 2.06-.94-2.06-.94L8.5 2.5l-.94 2.06-2.06.94zm10 10l.94 2.06.94-2.06 2.06-.94-2.06-.94-.94-2.06-.94 2.06-2.06.94z\"/><path d=\"M17.41 7.96l-1.37-1.37c-.4-.4-.92-.59-1.43-.59-.52 0-1.04.2-1.43.59L10.3 9.45l-7.72 7.72c-.78.78-.78 2.05 0 2.83L4 21.41c.39.39.9.59 1.41.59.51 0 1.02-.2 1.41-.59l7.78-7.78 2.81-2.81c.8-.78.8-2.07 0-2.86zM5.41 20L4 18.59l7.72-7.72 1.47 1.35L5.41 20z\"/>\n",
              "  </svg>\n",
              "      </button>\n",
              "      \n",
              "  <style>\n",
              "    .colab-df-container {\n",
              "      display:flex;\n",
              "      flex-wrap:wrap;\n",
              "      gap: 12px;\n",
              "    }\n",
              "\n",
              "    .colab-df-convert {\n",
              "      background-color: #E8F0FE;\n",
              "      border: none;\n",
              "      border-radius: 50%;\n",
              "      cursor: pointer;\n",
              "      display: none;\n",
              "      fill: #1967D2;\n",
              "      height: 32px;\n",
              "      padding: 0 0 0 0;\n",
              "      width: 32px;\n",
              "    }\n",
              "\n",
              "    .colab-df-convert:hover {\n",
              "      background-color: #E2EBFA;\n",
              "      box-shadow: 0px 1px 2px rgba(60, 64, 67, 0.3), 0px 1px 3px 1px rgba(60, 64, 67, 0.15);\n",
              "      fill: #174EA6;\n",
              "    }\n",
              "\n",
              "    [theme=dark] .colab-df-convert {\n",
              "      background-color: #3B4455;\n",
              "      fill: #D2E3FC;\n",
              "    }\n",
              "\n",
              "    [theme=dark] .colab-df-convert:hover {\n",
              "      background-color: #434B5C;\n",
              "      box-shadow: 0px 1px 3px 1px rgba(0, 0, 0, 0.15);\n",
              "      filter: drop-shadow(0px 1px 2px rgba(0, 0, 0, 0.3));\n",
              "      fill: #FFFFFF;\n",
              "    }\n",
              "  </style>\n",
              "\n",
              "      <script>\n",
              "        const buttonEl =\n",
              "          document.querySelector('#df-e6c3ff82-cdb6-4b85-9e2f-20624072833a button.colab-df-convert');\n",
              "        buttonEl.style.display =\n",
              "          google.colab.kernel.accessAllowed ? 'block' : 'none';\n",
              "\n",
              "        async function convertToInteractive(key) {\n",
              "          const element = document.querySelector('#df-e6c3ff82-cdb6-4b85-9e2f-20624072833a');\n",
              "          const dataTable =\n",
              "            await google.colab.kernel.invokeFunction('convertToInteractive',\n",
              "                                                     [key], {});\n",
              "          if (!dataTable) return;\n",
              "\n",
              "          const docLinkHtml = 'Like what you see? Visit the ' +\n",
              "            '<a target=\"_blank\" href=https://colab.research.google.com/notebooks/data_table.ipynb>data table notebook</a>'\n",
              "            + ' to learn more about interactive tables.';\n",
              "          element.innerHTML = '';\n",
              "          dataTable['output_type'] = 'display_data';\n",
              "          await google.colab.output.renderOutput(dataTable, element);\n",
              "          const docLink = document.createElement('div');\n",
              "          docLink.innerHTML = docLinkHtml;\n",
              "          element.appendChild(docLink);\n",
              "        }\n",
              "      </script>\n",
              "    </div>\n",
              "  </div>\n",
              "  "
            ]
          },
          "metadata": {},
          "execution_count": 217
        }
      ],
      "source": [
        "test_inputs"
      ]
    },
    {
      "cell_type": "markdown",
      "source": [
        "### Preprocessing\n",
        "\n",
        "Let's convert categorical data (object) to one hot encoding as machine learning model can handle only numbers."
      ],
      "metadata": {
        "id": "D2dHjXxFrf8_"
      },
      "id": "D2dHjXxFrf8_"
    },
    {
      "cell_type": "code",
      "source": [
        "from sklearn.preprocessing import OneHotEncoder\n",
        "encoder=OneHotEncoder(sparse=False,handle_unknown='ignore')\n",
        "encoder.fit(train_df[categorical_features])\n",
        "encoded_cols=list(encoder.get_feature_names(categorical_features))\n",
        "train_df[encoded_cols]=encoder.transform(train_df[categorical_features]);\n",
        "test_df[encoded_cols]=encoder.transform(test_df[categorical_features]);\n",
        "val_df[encoded_cols]=encoder.transform(val_df[categorical_features_val]);"
      ],
      "metadata": {
        "colab": {
          "base_uri": "https://localhost:8080/"
        },
        "id": "wS4tie4CrUyi",
        "outputId": "73e87aec-af38-4fd1-e5c0-6903cc02789b"
      },
      "id": "wS4tie4CrUyi",
      "execution_count": 218,
      "outputs": [
        {
          "output_type": "stream",
          "name": "stderr",
          "text": [
            "/usr/local/lib/python3.8/dist-packages/sklearn/utils/deprecation.py:87: FutureWarning: Function get_feature_names is deprecated; get_feature_names is deprecated in 1.0 and will be removed in 1.2. Please use get_feature_names_out instead.\n",
            "  warnings.warn(msg, category=FutureWarning)\n"
          ]
        }
      ]
    },
    {
      "cell_type": "markdown",
      "source": [
        "MinMaxScaler scales all the data features in the range [0, 1] or else in the range [-1, 1] if there are negative values in the dataset. This scaling compresses all the inliers in the narrow range [0, 0.005]. "
      ],
      "metadata": {
        "id": "YW81fOnU-rBH"
      },
      "id": "YW81fOnU-rBH"
    },
    {
      "cell_type": "code",
      "source": [
        "from sklearn.preprocessing import MinMaxScaler\n",
        "scaler=MinMaxScaler()\n",
        "scaler.fit(train_df[numerical_features]);\n",
        "train_df[numerical_features]=scaler.transform(train_df[numerical_features])\n",
        "test_df[numerical_features]=scaler.transform(test_df[numerical_features])\n",
        "val_df[numerical_features]=scaler.transform(val_df[numerical_features_val])"
      ],
      "metadata": {
        "id": "E7LpmxGnrZq9"
      },
      "id": "E7LpmxGnrZq9",
      "execution_count": 219,
      "outputs": []
    },
    {
      "cell_type": "code",
      "source": [
        "train_df=train_df[numerical_features+encoded_cols]\n",
        "test_df=test_df[numerical_features+encoded_cols]\n",
        "val_df=val_df[numerical_features_val+encoded_cols]"
      ],
      "metadata": {
        "id": "wNFWUREKrdOT"
      },
      "id": "wNFWUREKrdOT",
      "execution_count": 220,
      "outputs": []
    },
    {
      "cell_type": "code",
      "execution_count": 221,
      "id": "wYv67hNcvJDx",
      "metadata": {
        "id": "wYv67hNcvJDx"
      },
      "outputs": [],
      "source": [
        "from sklearn.model_selection import train_test_split\n",
        "X_train, X_test, y_train, y_test = train_test_split(train_df, targets, test_size=0.15, random_state=0)"
      ]
    },
    {
      "cell_type": "code",
      "execution_count": 222,
      "id": "75FRM2iC78v1",
      "metadata": {
        "id": "75FRM2iC78v1"
      },
      "outputs": [],
      "source": [
        "X_val, X_test, y_val, y_test = train_test_split(val_df, targets_val, test_size=0.15, random_state=0)"
      ]
    },
    {
      "cell_type": "markdown",
      "id": "8f55b6cf",
      "metadata": {
        "id": "8f55b6cf",
        "papermill": {
          "duration": 0.068956,
          "end_time": "2022-12-09T11:15:22.770250",
          "exception": false,
          "start_time": "2022-12-09T11:15:22.701294",
          "status": "completed"
        },
        "tags": []
      },
      "source": [
        "## 4. Train Hardcoded & Baseline Models\n",
        "\n",
        "* Hardcoded model: Always predict ISBADBUY option\n",
        "* Baseline model: Decision Tree Classification\n",
        "\n",
        "For evaluation the dataset F1 Score: [check](https://scikit-learn.org/0.15/modules/generated/sklearn.metrics.f1_score.html)"
      ]
    },
    {
      "cell_type": "markdown",
      "id": "271f0fc9",
      "metadata": {
        "id": "271f0fc9",
        "papermill": {
          "duration": 0.067267,
          "end_time": "2022-12-09T11:15:22.904463",
          "exception": false,
          "start_time": "2022-12-09T11:15:22.837196",
          "status": "completed"
        },
        "tags": []
      },
      "source": [
        "### Hardcoded Model\n",
        "\n",
        "Let's create a simple model that always predict the Good or bad buy."
      ]
    },
    {
      "cell_type": "code",
      "execution_count": 223,
      "id": "4359c32c",
      "metadata": {
        "execution": {
          "iopub.execute_input": "2022-12-09T11:15:23.042481Z",
          "iopub.status.busy": "2022-12-09T11:15:23.042089Z",
          "iopub.status.idle": "2022-12-09T11:15:23.047413Z",
          "shell.execute_reply": "2022-12-09T11:15:23.045938Z"
        },
        "id": "4359c32c",
        "papermill": {
          "duration": 0.078529,
          "end_time": "2022-12-09T11:15:23.050029",
          "exception": false,
          "start_time": "2022-12-09T11:15:22.971500",
          "status": "completed"
        },
        "tags": []
      },
      "outputs": [],
      "source": [
        "import numpy as np\n",
        "from sklearn.linear_model import LogisticRegression\n",
        "from sklearn.metrics import roc_auc_score"
      ]
    },
    {
      "cell_type": "code",
      "execution_count": 224,
      "id": "0a1dd663",
      "metadata": {
        "execution": {
          "iopub.execute_input": "2022-12-09T11:15:23.331630Z",
          "iopub.status.busy": "2022-12-09T11:15:23.331240Z",
          "iopub.status.idle": "2022-12-09T11:15:23.336297Z",
          "shell.execute_reply": "2022-12-09T11:15:23.335016Z"
        },
        "id": "0a1dd663",
        "papermill": {
          "duration": 0.0773,
          "end_time": "2022-12-09T11:15:23.338840",
          "exception": false,
          "start_time": "2022-12-09T11:15:23.261540",
          "status": "completed"
        },
        "tags": []
      },
      "outputs": [],
      "source": [
        "logreg = LogisticRegression()"
      ]
    },
    {
      "cell_type": "code",
      "execution_count": 225,
      "id": "cd134ffa",
      "metadata": {
        "colab": {
          "base_uri": "https://localhost:8080/"
        },
        "execution": {
          "iopub.execute_input": "2022-12-09T11:15:23.476010Z",
          "iopub.status.busy": "2022-12-09T11:15:23.475338Z",
          "iopub.status.idle": "2022-12-09T11:15:23.481873Z",
          "shell.execute_reply": "2022-12-09T11:15:23.481034Z"
        },
        "id": "cd134ffa",
        "outputId": "0fe4b07f-592a-43b7-c381-7ae31a9d3753",
        "papermill": {
          "duration": 0.077815,
          "end_time": "2022-12-09T11:15:23.483982",
          "exception": false,
          "start_time": "2022-12-09T11:15:23.406167",
          "status": "completed"
        },
        "tags": []
      },
      "outputs": [
        {
          "output_type": "stream",
          "name": "stderr",
          "text": [
            "/usr/local/lib/python3.8/dist-packages/sklearn/linear_model/_logistic.py:814: ConvergenceWarning: lbfgs failed to converge (status=1):\n",
            "STOP: TOTAL NO. of ITERATIONS REACHED LIMIT.\n",
            "\n",
            "Increase the number of iterations (max_iter) or scale the data as shown in:\n",
            "    https://scikit-learn.org/stable/modules/preprocessing.html\n",
            "Please also refer to the documentation for alternative solver options:\n",
            "    https://scikit-learn.org/stable/modules/linear_model.html#logistic-regression\n",
            "  n_iter_i = _check_optimize_result(\n"
          ]
        }
      ],
      "source": [
        "clf = logreg.fit(X_train,y_train)"
      ]
    },
    {
      "cell_type": "code",
      "execution_count": 226,
      "id": "KOEEL4cU8IyI",
      "metadata": {
        "colab": {
          "base_uri": "https://localhost:8080/"
        },
        "id": "KOEEL4cU8IyI",
        "outputId": "26a91ed5-71d3-4a44-8c6d-d4f6bf98eb76"
      },
      "outputs": [
        {
          "output_type": "stream",
          "name": "stderr",
          "text": [
            "/usr/local/lib/python3.8/dist-packages/sklearn/linear_model/_logistic.py:814: ConvergenceWarning: lbfgs failed to converge (status=1):\n",
            "STOP: TOTAL NO. of ITERATIONS REACHED LIMIT.\n",
            "\n",
            "Increase the number of iterations (max_iter) or scale the data as shown in:\n",
            "    https://scikit-learn.org/stable/modules/preprocessing.html\n",
            "Please also refer to the documentation for alternative solver options:\n",
            "    https://scikit-learn.org/stable/modules/linear_model.html#logistic-regression\n",
            "  n_iter_i = _check_optimize_result(\n"
          ]
        }
      ],
      "source": [
        "clf = logreg.fit(X_val,y_val)"
      ]
    },
    {
      "cell_type": "code",
      "execution_count": 227,
      "id": "0CFYDA8ZwFi-",
      "metadata": {
        "colab": {
          "base_uri": "https://localhost:8080/"
        },
        "id": "0CFYDA8ZwFi-",
        "outputId": "aa56dd51-ad47-43db-93b9-7d68461e1bd4"
      },
      "outputs": [
        {
          "output_type": "stream",
          "name": "stdout",
          "text": [
            "logistic regression train accurary:  89.37\n",
            "logistic regression test accurary:  89.95\n"
          ]
        }
      ],
      "source": [
        "acc_train_log = round(logreg.score(X_train, y_train) * 100, 2)\n",
        "acc_test_log = round(logreg.score(X_test, y_test) * 100, 2)\n",
        "\n",
        "print('logistic regression train accurary: ',acc_train_log)\n",
        "print('logistic regression test accurary: ',acc_test_log)\n"
      ]
    },
    {
      "cell_type": "markdown",
      "source": [
        "This Model gave accuracy of 90.05 percentage of test data"
      ],
      "metadata": {
        "id": "NsyuqirHhxyR"
      },
      "id": "NsyuqirHhxyR"
    },
    {
      "cell_type": "markdown",
      "source": [
        "Test Model for Validation set"
      ],
      "metadata": {
        "id": "GOk38QGMh_4-"
      },
      "id": "GOk38QGMh_4-"
    },
    {
      "cell_type": "code",
      "execution_count": 229,
      "id": "Qa3OzuxU8P93",
      "metadata": {
        "colab": {
          "base_uri": "https://localhost:8080/"
        },
        "id": "Qa3OzuxU8P93",
        "outputId": "03c43fbb-8be9-4226-a437-32705279fbf3"
      },
      "outputs": [
        {
          "output_type": "stream",
          "name": "stdout",
          "text": [
            "logistic regression val accurary:  89.61\n",
            "logistic regression test accurary:  89.95\n"
          ]
        }
      ],
      "source": [
        "acc_val_log = round(logreg.score(X_val, y_val) * 100, 2)\n",
        "acc_test_log = round(logreg.score(X_test, y_test) * 100, 2)\n",
        "\n",
        "print('logistic regression val accurary: ',acc_val_log)\n",
        "print('logistic regression test accurary: ',acc_test_log)\n"
      ]
    },
    {
      "cell_type": "markdown",
      "source": [
        "logistic regression validation  accurary is  89.61"
      ],
      "metadata": {
        "id": "xFvaBMOZiFye"
      },
      "id": "xFvaBMOZiFye"
    },
    {
      "cell_type": "code",
      "execution_count": 230,
      "id": "beb98425",
      "metadata": {
        "execution": {
          "iopub.execute_input": "2022-12-09T11:15:23.621878Z",
          "iopub.status.busy": "2022-12-09T11:15:23.621158Z",
          "iopub.status.idle": "2022-12-09T11:15:23.626184Z",
          "shell.execute_reply": "2022-12-09T11:15:23.625218Z"
        },
        "id": "beb98425",
        "papermill": {
          "duration": 0.077009,
          "end_time": "2022-12-09T11:15:23.628575",
          "exception": false,
          "start_time": "2022-12-09T11:15:23.551566",
          "status": "completed"
        },
        "tags": []
      },
      "outputs": [],
      "source": [
        "train_preds=logreg.predict(X_train)"
      ]
    },
    {
      "cell_type": "code",
      "execution_count": 232,
      "id": "02ee1b99",
      "metadata": {
        "colab": {
          "base_uri": "https://localhost:8080/"
        },
        "execution": {
          "iopub.execute_input": "2022-12-09T11:15:23.765699Z",
          "iopub.status.busy": "2022-12-09T11:15:23.765075Z",
          "iopub.status.idle": "2022-12-09T11:15:23.771228Z",
          "shell.execute_reply": "2022-12-09T11:15:23.770259Z"
        },
        "id": "02ee1b99",
        "outputId": "30e77652-975a-48dc-e7c6-abbf801d9eb1",
        "papermill": {
          "duration": 0.077362,
          "end_time": "2022-12-09T11:15:23.773342",
          "exception": false,
          "start_time": "2022-12-09T11:15:23.695980",
          "status": "completed"
        },
        "tags": []
      },
      "outputs": [
        {
          "output_type": "execute_result",
          "data": {
            "text/plain": [
              "array([0, 0, 0, ..., 0, 0, 0])"
            ]
          },
          "metadata": {},
          "execution_count": 232
        }
      ],
      "source": [
        "train_preds"
      ]
    },
    {
      "cell_type": "markdown",
      "id": "045e1c89",
      "metadata": {
        "id": "045e1c89",
        "papermill": {
          "duration": 0.06779,
          "end_time": "2022-12-09T11:15:25.410589",
          "exception": false,
          "start_time": "2022-12-09T11:15:25.342799",
          "status": "completed"
        },
        "tags": []
      },
      "source": [
        "### Baseline Model\n",
        "\n",
        "Lets try to train RandomForestClassifier as the next Model on our dataset "
      ]
    },
    {
      "cell_type": "markdown",
      "id": "c22fe900",
      "metadata": {
        "id": "c22fe900",
        "papermill": {
          "duration": 0.068772,
          "end_time": "2022-12-09T11:15:25.548552",
          "exception": false,
          "start_time": "2022-12-09T11:15:25.479780",
          "status": "completed"
        },
        "tags": []
      },
      "source": [
        "I will train RandomForestClassifier model as our baseline model.  However, now we have a baseline model that our other models should ideally beat."
      ]
    },
    {
      "cell_type": "code",
      "execution_count": 233,
      "id": "744eeb58",
      "metadata": {
        "execution": {
          "iopub.execute_input": "2022-12-09T11:15:25.686975Z",
          "iopub.status.busy": "2022-12-09T11:15:25.686170Z",
          "iopub.status.idle": "2022-12-09T11:15:25.717200Z",
          "shell.execute_reply": "2022-12-09T11:15:25.716030Z"
        },
        "id": "744eeb58",
        "papermill": {
          "duration": 0.103325,
          "end_time": "2022-12-09T11:15:25.719890",
          "exception": false,
          "start_time": "2022-12-09T11:15:25.616565",
          "status": "completed"
        },
        "tags": []
      },
      "outputs": [],
      "source": [
        "from sklearn.ensemble import RandomForestClassifier"
      ]
    },
    {
      "cell_type": "code",
      "execution_count": 234,
      "id": "19d8247f",
      "metadata": {
        "execution": {
          "iopub.execute_input": "2022-12-09T11:15:25.859515Z",
          "iopub.status.busy": "2022-12-09T11:15:25.858641Z",
          "iopub.status.idle": "2022-12-09T11:15:25.865292Z",
          "shell.execute_reply": "2022-12-09T11:15:25.863796Z"
        },
        "id": "19d8247f",
        "papermill": {
          "duration": 0.0803,
          "end_time": "2022-12-09T11:15:25.868220",
          "exception": false,
          "start_time": "2022-12-09T11:15:25.787920",
          "status": "completed"
        },
        "tags": []
      },
      "outputs": [],
      "source": [
        "random_forest = RandomForestClassifier(n_estimators=100)"
      ]
    },
    {
      "cell_type": "code",
      "execution_count": 235,
      "id": "A5Gm8kIg8-LL",
      "metadata": {
        "id": "A5Gm8kIg8-LL"
      },
      "outputs": [],
      "source": [
        "clf = random_forest.fit(X_train, y_train)"
      ]
    },
    {
      "cell_type": "code",
      "execution_count": 236,
      "id": "qWRCgrUh9DxH",
      "metadata": {
        "colab": {
          "base_uri": "https://localhost:8080/"
        },
        "id": "qWRCgrUh9DxH",
        "outputId": "3cdf7678-0b3e-4d4d-8414-d5d9c21b699f"
      },
      "outputs": [
        {
          "output_type": "stream",
          "name": "stdout",
          "text": [
            "Random Forest train accurary:  100.0\n",
            "Random Forest test accurary:  89.86\n"
          ]
        }
      ],
      "source": [
        "acc_train_random_forest = round(random_forest.score(X_train, y_train) * 100, 2)\n",
        "acc_test_random_forest = round(random_forest.score(X_test, y_test) * 100, 2)\n",
        "\n",
        "print('Random Forest train accurary: ',acc_train_random_forest)\n",
        "print('Random Forest test accurary: ',acc_test_random_forest)\n",
        "\n"
      ]
    },
    {
      "cell_type": "code",
      "execution_count": 237,
      "id": "4qy0PDWs9YVK",
      "metadata": {
        "colab": {
          "base_uri": "https://localhost:8080/"
        },
        "id": "4qy0PDWs9YVK",
        "outputId": "8f4fbf30-41b7-425d-e8b2-92ed4df70e4f"
      },
      "outputs": [
        {
          "output_type": "stream",
          "name": "stdout",
          "text": [
            "Random Forest val accurary:  89.95\n",
            "Random Forest test accurary:  89.86\n",
            "Random Fores test ROC:  0.735\n"
          ]
        }
      ],
      "source": [
        "acc_val_random_forest = round(random_forest.score(X_val, y_val) * 100, 2)\n",
        "acc_test_random_forest = round(random_forest.score(X_test, y_test) * 100, 2)\n",
        "\n",
        "print('Random Forest val accurary: ',acc_val_random_forest)\n",
        "print('Random Forest test accurary: ',acc_test_random_forest)\n"
      ]
    },
    {
      "cell_type": "markdown",
      "id": "a73a43e2",
      "metadata": {
        "id": "a73a43e2",
        "papermill": {
          "duration": 0.071222,
          "end_time": "2022-12-09T11:15:49.045943",
          "exception": false,
          "start_time": "2022-12-09T11:15:48.974721",
          "status": "completed"
        },
        "tags": []
      },
      "source": [
        "Training Accuarcy is 89.86 and Validation accuracy is 89.95 which is better than previous model.\n",
        "\n"
      ]
    },
    {
      "cell_type": "markdown",
      "source": [
        "Finding the best featureusing by plotting graph\n",
        "\n",
        "\n",
        "\n"
      ],
      "metadata": {
        "id": "17r7gfmJjKLB"
      },
      "id": "17r7gfmJjKLB"
    },
    {
      "cell_type": "code",
      "execution_count": 238,
      "id": "def3adb8",
      "metadata": {
        "execution": {
          "iopub.execute_input": "2022-12-09T11:15:49.188990Z",
          "iopub.status.busy": "2022-12-09T11:15:49.188558Z",
          "iopub.status.idle": "2022-12-09T11:15:49.205716Z",
          "shell.execute_reply": "2022-12-09T11:15:49.204434Z"
        },
        "id": "def3adb8",
        "papermill": {
          "duration": 0.091285,
          "end_time": "2022-12-09T11:15:49.208510",
          "exception": false,
          "start_time": "2022-12-09T11:15:49.117225",
          "status": "completed"
        },
        "tags": []
      },
      "outputs": [],
      "source": [
        "importance_df=pd.DataFrame({\n",
        "    'feature':X_train.columns,\n",
        "    'importance':clf.feature_importances_\n",
        "}).sort_values('importance',ascending=False)"
      ]
    },
    {
      "cell_type": "code",
      "execution_count": 239,
      "id": "cea090e2",
      "metadata": {
        "colab": {
          "base_uri": "https://localhost:8080/",
          "height": 313
        },
        "execution": {
          "iopub.execute_input": "2022-12-09T11:15:49.350154Z",
          "iopub.status.busy": "2022-12-09T11:15:49.349406Z",
          "iopub.status.idle": "2022-12-09T11:15:49.632344Z",
          "shell.execute_reply": "2022-12-09T11:15:49.631351Z"
        },
        "id": "cea090e2",
        "outputId": "c79a9a4b-ac9e-4d62-efcc-31134cecde7b",
        "papermill": {
          "duration": 0.356849,
          "end_time": "2022-12-09T11:15:49.634805",
          "exception": false,
          "start_time": "2022-12-09T11:15:49.277956",
          "status": "completed"
        },
        "tags": []
      },
      "outputs": [
        {
          "output_type": "execute_result",
          "data": {
            "text/plain": [
              "<matplotlib.axes._subplots.AxesSubplot at 0x7f2ea945fd30>"
            ]
          },
          "metadata": {},
          "execution_count": 239
        },
        {
          "output_type": "display_data",
          "data": {
            "text/plain": [
              "<Figure size 432x288 with 1 Axes>"
            ],
            "image/png": "[encoded data removed]"
          },
          "metadata": {
            "needs_background": "light"
          }
        }
      ],
      "source": [
        "plt.title('Feature Importance')\n",
        "sns.barplot(data=importance_df.head(10),x='importance',y='feature')"
      ]
    },
    {
      "cell_type": "markdown",
      "source": [
        "By the above graph we can observe that VehOdo , VehBCost ,MMRAcquisitionAuctionAveragePrice,MMRAcquisitonRetailCleanPrice  are the important features of the Model"
      ],
      "metadata": {
        "id": "UZlqtx1ei4oR"
      },
      "id": "UZlqtx1ei4oR"
    },
    {
      "cell_type": "markdown",
      "id": "22cbe526",
      "metadata": {
        "id": "22cbe526",
        "papermill": {
          "duration": 0.069198,
          "end_time": "2022-12-09T11:15:49.774411",
          "exception": false,
          "start_time": "2022-12-09T11:15:49.705213",
          "status": "completed"
        },
        "tags": []
      },
      "source": [
        "## 5. Train & Evaluate Different Model"
      ]
    },
    {
      "cell_type": "markdown",
      "id": "0a402490",
      "metadata": {
        "id": "0a402490",
        "papermill": {
          "duration": 0.069296,
          "end_time": "2022-12-09T11:15:49.913560",
          "exception": false,
          "start_time": "2022-12-09T11:15:49.844264",
          "status": "completed"
        },
        "tags": []
      },
      "source": [
        " ### XGBClassifier"
      ]
    },
    {
      "cell_type": "code",
      "execution_count": 240,
      "id": "7da9a33e",
      "metadata": {
        "execution": {
          "iopub.execute_input": "2022-12-09T11:15:50.056277Z",
          "iopub.status.busy": "2022-12-09T11:15:50.055194Z",
          "iopub.status.idle": "2022-12-09T11:15:50.121958Z",
          "shell.execute_reply": "2022-12-09T11:15:50.120780Z"
        },
        "id": "7da9a33e",
        "papermill": {
          "duration": 0.141235,
          "end_time": "2022-12-09T11:15:50.124785",
          "exception": false,
          "start_time": "2022-12-09T11:15:49.983550",
          "status": "completed"
        },
        "tags": []
      },
      "outputs": [],
      "source": [
        "from xgboost import XGBClassifier"
      ]
    },
    {
      "cell_type": "code",
      "execution_count": 241,
      "id": "c3fcc216",
      "metadata": {
        "execution": {
          "iopub.execute_input": "2022-12-09T11:15:50.267774Z",
          "iopub.status.busy": "2022-12-09T11:15:50.266952Z",
          "iopub.status.idle": "2022-12-09T11:15:50.271581Z",
          "shell.execute_reply": "2022-12-09T11:15:50.270780Z"
        },
        "id": "c3fcc216",
        "papermill": {
          "duration": 0.079486,
          "end_time": "2022-12-09T11:15:50.273728",
          "exception": false,
          "start_time": "2022-12-09T11:15:50.194242",
          "status": "completed"
        },
        "tags": []
      },
      "outputs": [],
      "source": [
        "# Create the model\n",
        "xgb = XGBClassifier()\n"
      ]
    },
    {
      "cell_type": "code",
      "execution_count": 242,
      "id": "88e70117",
      "metadata": {
        "execution": {
          "iopub.execute_input": "2022-12-09T11:15:50.414336Z",
          "iopub.status.busy": "2022-12-09T11:15:50.413943Z",
          "iopub.status.idle": "2022-12-09T11:25:48.298725Z",
          "shell.execute_reply": "2022-12-09T11:25:48.297423Z"
        },
        "id": "88e70117",
        "papermill": {
          "duration": 598.024202,
          "end_time": "2022-12-09T11:25:48.367160",
          "exception": false,
          "start_time": "2022-12-09T11:15:50.342958",
          "status": "completed"
        },
        "tags": []
      },
      "outputs": [],
      "source": [
        "clr = xgb.fit(X_train, y_train)"
      ]
    },
    {
      "cell_type": "code",
      "execution_count": 280,
      "id": "18367487",
      "metadata": {
        "colab": {
          "base_uri": "https://localhost:8080/"
        },
        "execution": {
          "iopub.execute_input": "2022-12-09T11:25:48.507001Z",
          "iopub.status.busy": "2022-12-09T11:25:48.506272Z",
          "iopub.status.idle": "2022-12-09T11:26:02.518892Z",
          "shell.execute_reply": "2022-12-09T11:26:02.517823Z"
        },
        "id": "18367487",
        "outputId": "f999c186-2391-47fb-9c50-1afa0df61d61",
        "papermill": {
          "duration": 14.0852,
          "end_time": "2022-12-09T11:26:02.521403",
          "exception": false,
          "start_time": "2022-12-09T11:25:48.436203",
          "status": "completed"
        },
        "tags": []
      },
      "outputs": [
        {
          "output_type": "stream",
          "name": "stdout",
          "text": [
            "xgb train accurary:  90.17\n",
            "xgb test accurary:  90.27\n"
          ]
        }
      ],
      "source": [
        "acc_train_xgb = round(clr.score(X_train, y_train) * 100, 2)\n",
        "acc_test_xgb = round(clr.score(X_test, y_test) * 100, 2)\n",
        "\n",
        "print('xgb train accurary: ',acc_train_xgb)\n",
        "print('xgb test accurary: ',acc_test_xgb)\n"
      ]
    },
    {
      "cell_type": "code",
      "execution_count": 281,
      "id": "0aa13f68",
      "metadata": {
        "colab": {
          "base_uri": "https://localhost:8080/"
        },
        "execution": {
          "iopub.execute_input": "2022-12-09T11:26:02.664567Z",
          "iopub.status.busy": "2022-12-09T11:26:02.663883Z",
          "iopub.status.idle": "2022-12-09T11:26:02.698955Z",
          "shell.execute_reply": "2022-12-09T11:26:02.697807Z"
        },
        "id": "0aa13f68",
        "outputId": "640fec50-d403-4e6f-fe61-bce5f1ae7a8f",
        "papermill": {
          "duration": 0.109921,
          "end_time": "2022-12-09T11:26:02.701562",
          "exception": false,
          "start_time": "2022-12-09T11:26:02.591641",
          "status": "completed"
        },
        "tags": []
      },
      "outputs": [
        {
          "output_type": "stream",
          "name": "stdout",
          "text": [
            "xgb val accurary:  90.15\n",
            "xgb test accurary:  90.27\n"
          ]
        }
      ],
      "source": [
        "acc_val_xgb = round(clr.score(X_val, y_val) * 100, 2)\n",
        "acc_test_xgb = round(clr.score(X_test, y_test) * 100, 2)\n",
        "\n",
        "print('xgb val accurary: ',acc_val_xgb)\n",
        "print('xgb test accurary: ',acc_test_xgb)\n"
      ]
    },
    {
      "cell_type": "markdown",
      "id": "4231a5c5",
      "metadata": {
        "id": "4231a5c5",
        "papermill": {
          "duration": 0.069801,
          "end_time": "2022-12-09T11:26:11.683910",
          "exception": false,
          "start_time": "2022-12-09T11:26:11.614109",
          "status": "completed"
        },
        "tags": []
      },
      "source": [
        "Training Accuarcy is 90.5 and Validation accuracy is 90.1 which is better than all previous models.\n",
        "\n",
        "\n"
      ]
    },
    {
      "cell_type": "markdown",
      "id": "08546965",
      "metadata": {
        "id": "08546965",
        "papermill": {
          "duration": 0.070315,
          "end_time": "2022-12-09T11:26:11.825231",
          "exception": false,
          "start_time": "2022-12-09T11:26:11.754916",
          "status": "completed"
        },
        "tags": []
      },
      "source": [
        "## 6. Hyperparameter Tuning"
      ]
    },
    {
      "cell_type": "code",
      "execution_count": 245,
      "id": "ZkiFNrHTAYYB",
      "metadata": {
        "id": "ZkiFNrHTAYYB"
      },
      "outputs": [],
      "source": [
        "param_test2 = {\n",
        " 'max_depth':range(3,10,2),\n",
        " 'min_child_weight':range(1,6,2),\n",
        " 'subsample': [0.8],\n",
        " 'colsample_bytree': [0.7]\n",
        "}\n",
        "             "
      ]
    },
    {
      "cell_type": "code",
      "execution_count": 246,
      "id": "i_VY-34xBDqT",
      "metadata": {
        "colab": {
          "base_uri": "https://localhost:8080/"
        },
        "id": "i_VY-34xBDqT",
        "outputId": "c7c9e2aa-eaa6-4497-d427-edccb7e650b7"
      },
      "outputs": [
        {
          "output_type": "execute_result",
          "data": {
            "text/plain": [
              "GridSearchCV(cv=10, estimator=XGBClassifier(), n_jobs=-1,\n",
              "             param_grid={'colsample_bytree': [0.7],\n",
              "                         'max_depth': range(3, 10, 2),\n",
              "                         'min_child_weight': range(1, 6, 2),\n",
              "                         'subsample': [0.8]})"
            ]
          },
          "metadata": {},
          "execution_count": 246
        }
      ],
      "source": [
        "from sklearn.model_selection import train_test_split , GridSearchCV\n",
        "gsearch2 = GridSearchCV(estimator=clr,param_grid=param_test2 , cv = 10 , n_jobs=-1)\n",
        "gsearch2.fit(X_train,y_train)"
      ]
    },
    {
      "cell_type": "markdown",
      "source": [
        "Finding best parameters of XGBOOST"
      ],
      "metadata": {
        "id": "_xYE10OEs7W3"
      },
      "id": "_xYE10OEs7W3"
    },
    {
      "cell_type": "code",
      "execution_count": 247,
      "id": "3XuvwrCkG8Gv",
      "metadata": {
        "colab": {
          "base_uri": "https://localhost:8080/"
        },
        "id": "3XuvwrCkG8Gv",
        "outputId": "9b3b569b-f190-45cf-e735-bc23f4111891"
      },
      "outputs": [
        {
          "output_type": "execute_result",
          "data": {
            "text/plain": [
              "{'colsample_bytree': 0.7,\n",
              " 'max_depth': 9,\n",
              " 'min_child_weight': 1,\n",
              " 'subsample': 0.8}"
            ]
          },
          "metadata": {},
          "execution_count": 247
        }
      ],
      "source": [
        "gsearch2.best_params_"
      ]
    },
    {
      "cell_type": "code",
      "execution_count": 248,
      "id": "BdFH73BtL_4O",
      "metadata": {
        "id": "BdFH73BtL_4O"
      },
      "outputs": [],
      "source": [
        "xgb1 = XGBClassifier(colsample_bytree = 0.7,\n",
        " max_depth= 9,\n",
        " min_child_weight= 1,\n",
        "subsample= 0.8)"
      ]
    },
    {
      "cell_type": "code",
      "execution_count": 249,
      "id": "dvy74dJpNJ9U",
      "metadata": {
        "id": "dvy74dJpNJ9U"
      },
      "outputs": [],
      "source": [
        "clr1 = xgb1.fit(X_train, y_train)"
      ]
    },
    {
      "cell_type": "code",
      "execution_count": 256,
      "id": "B8AGTWLeNVqt",
      "metadata": {
        "colab": {
          "base_uri": "https://localhost:8080/"
        },
        "id": "B8AGTWLeNVqt",
        "outputId": "677ee250-20df-402c-9324-3870e74cbe5b"
      },
      "outputs": [
        {
          "output_type": "stream",
          "name": "stdout",
          "text": [
            "xgb val accurary:  90.1\n",
            "xgb test accurary:  90.5\n"
          ]
        }
      ],
      "source": [
        "acc_val_xgb = round(clr1.score(X_val, y_val) * 100, 2)\n",
        "acc_test_xgb = round(clr1.score(X_test, y_test) * 100, 2)\n",
        "\n",
        "print('xgb val accurary: ',acc_val_xgb)\n",
        "print('xgb test accurary: ',acc_test_xgb)\n"
      ]
    },
    {
      "cell_type": "code",
      "execution_count": 251,
      "id": "BZvoyDEeBeKl",
      "metadata": {
        "colab": {
          "base_uri": "https://localhost:8080/"
        },
        "id": "BZvoyDEeBeKl",
        "outputId": "47bdde08-7e2b-4e0c-f7b5-a206e11958e7"
      },
      "outputs": [
        {
          "output_type": "execute_result",
          "data": {
            "text/plain": [
              "0.9050228310502283"
            ]
          },
          "metadata": {},
          "execution_count": 251
        }
      ],
      "source": [
        "gsearch2.score(X_test,y_test)"
      ]
    },
    {
      "cell_type": "code",
      "execution_count": 254,
      "id": "f5d8e3c0",
      "metadata": {
        "execution": {
          "iopub.execute_input": "2022-12-09T11:26:12.118864Z",
          "iopub.status.busy": "2022-12-09T11:26:12.118423Z",
          "iopub.status.idle": "2022-12-09T11:26:12.125636Z",
          "shell.execute_reply": "2022-12-09T11:26:12.124488Z"
        },
        "id": "f5d8e3c0",
        "papermill": {
          "duration": 0.081081,
          "end_time": "2022-12-09T11:26:12.127898",
          "exception": false,
          "start_time": "2022-12-09T11:26:12.046817",
          "status": "completed"
        },
        "tags": []
      },
      "outputs": [],
      "source": [
        "def test_param_and_plot(param_name, param_values):\n",
        "    train_errors, val_errors = [], [] \n",
        "    for value in param_values:\n",
        "        params = {param_name: value}\n",
        "        acc_train_xgb , acc_val_xgb = test_params(**params)\n",
        "        train_errors.append(acc_train_xgb)\n",
        "        val_errors.append(acc_val_xgb)\n",
        "      \n",
        "    plt.figure(figsize=(10,6))\n",
        "    plt.title('Overfitting curve: ' + param_name)\n",
        "    plt.plot(param_values, train_errors, 'b-o')\n",
        "    plt.plot(param_values, val_errors, 'r-o')\n",
        "    plt.xlabel(param_name)\n",
        "    plt.ylabel('RMSLE')\n",
        "    plt.legend(['Training', 'Validation'])"
      ]
    },
    {
      "cell_type": "markdown",
      "id": "9642844b",
      "metadata": {
        "id": "9642844b",
        "papermill": {
          "duration": 0.069729,
          "end_time": "2022-12-09T11:26:12.270774",
          "exception": false,
          "start_time": "2022-12-09T11:26:12.201045",
          "status": "completed"
        },
        "tags": []
      },
      "source": [
        "### max_depth"
      ]
    },
    {
      "cell_type": "code",
      "execution_count": 259,
      "id": "4e593a6d",
      "metadata": {
        "colab": {
          "base_uri": "https://localhost:8080/",
          "height": 405
        },
        "execution": {
          "iopub.execute_input": "2022-12-09T11:26:12.412792Z",
          "iopub.status.busy": "2022-12-09T11:26:12.412351Z",
          "iopub.status.idle": "2022-12-09T12:23:10.614724Z",
          "shell.execute_reply": "2022-12-09T12:23:10.613572Z"
        },
        "id": "4e593a6d",
        "outputId": "45e44b3d-5575-4005-84e4-47a30a17cb24",
        "papermill": {
          "duration": 3418.349615,
          "end_time": "2022-12-09T12:23:10.690148",
          "exception": false,
          "start_time": "2022-12-09T11:26:12.340533",
          "status": "completed"
        },
        "tags": []
      },
      "outputs": [
        {
          "output_type": "display_data",
          "data": {
            "text/plain": [
              "<Figure size 720x432 with 1 Axes>"
            ],
            "image/png": "[encoded data removed]"
          },
          "metadata": {
            "needs_background": "light"
          }
        }
      ],
      "source": [
        "test_param_and_plot('max_depth', [4,5,6])"
      ]
    },
    {
      "cell_type": "markdown",
      "id": "305fb46e",
      "metadata": {
        "id": "305fb46e",
        "papermill": {
          "duration": 0.070822,
          "end_time": "2022-12-09T12:23:10.831673",
          "exception": false,
          "start_time": "2022-12-09T12:23:10.760851",
          "status": "completed"
        },
        "tags": []
      },
      "source": [
        "For the hyperparameter max_depth, 9 is the giving the optimal solution."
      ]
    },
    {
      "cell_type": "markdown",
      "id": "7aaefc4d",
      "metadata": {
        "id": "7aaefc4d",
        "papermill": {
          "duration": 0.072192,
          "end_time": "2022-12-09T12:23:10.974432",
          "exception": false,
          "start_time": "2022-12-09T12:23:10.902240",
          "status": "completed"
        },
        "tags": []
      },
      "source": [
        "### min_child_weight"
      ]
    },
    {
      "cell_type": "code",
      "execution_count": 260,
      "id": "32a40c0c",
      "metadata": {
        "colab": {
          "base_uri": "https://localhost:8080/",
          "height": 405
        },
        "execution": {
          "iopub.execute_input": "2022-12-09T12:23:11.121309Z",
          "iopub.status.busy": "2022-12-09T12:23:11.120927Z",
          "iopub.status.idle": "2022-12-09T12:57:02.716410Z",
          "shell.execute_reply": "2022-12-09T12:57:02.715282Z"
        },
        "id": "32a40c0c",
        "outputId": "642445a4-6f1e-4ae5-dfe6-080c80134abb",
        "papermill": {
          "duration": 2031.747177,
          "end_time": "2022-12-09T12:57:02.793915",
          "exception": false,
          "start_time": "2022-12-09T12:23:11.046738",
          "status": "completed"
        },
        "tags": []
      },
      "outputs": [
        {
          "output_type": "display_data",
          "data": {
            "text/plain": [
              "<Figure size 720x432 with 1 Axes>"
            ],
            "image/png": "[encoded data removed]"
          },
          "metadata": {
            "needs_background": "light"
          }
        }
      ],
      "source": [
        "test_param_and_plot('min_child_weight', [1,3,5,7])"
      ]
    },
    {
      "cell_type": "markdown",
      "id": "5da62507",
      "metadata": {
        "id": "5da62507",
        "papermill": {
          "duration": 0.072712,
          "end_time": "2022-12-09T12:57:02.939612",
          "exception": false,
          "start_time": "2022-12-09T12:57:02.866900",
          "status": "completed"
        },
        "tags": []
      },
      "source": [
        "From the above graph, 90% of the features i.e 0.9 as the value of min_child_weigh is the giving the optimal solution."
      ]
    },
    {
      "cell_type": "markdown",
      "id": "60f547c1",
      "metadata": {
        "id": "60f547c1",
        "papermill": {
          "duration": 0.071921,
          "end_time": "2022-12-09T12:57:03.084184",
          "exception": false,
          "start_time": "2022-12-09T12:57:03.012263",
          "status": "completed"
        },
        "tags": []
      },
      "source": [
        "## 7. Final Model"
      ]
    },
    {
      "cell_type": "code",
      "execution_count": 261,
      "id": "0ed4462e",
      "metadata": {
        "execution": {
          "iopub.execute_input": "2022-12-09T12:57:03.231320Z",
          "iopub.status.busy": "2022-12-09T12:57:03.230920Z",
          "iopub.status.idle": "2022-12-09T12:57:03.235769Z",
          "shell.execute_reply": "2022-12-09T12:57:03.234959Z"
        },
        "id": "0ed4462e",
        "papermill": {
          "duration": 0.080638,
          "end_time": "2022-12-09T12:57:03.237609",
          "exception": false,
          "start_time": "2022-12-09T12:57:03.156971",
          "status": "completed"
        },
        "tags": []
      },
      "outputs": [],
      "source": [
        "xgb_final =  XGBClassifier(colsample_bytree = 0.7,max_depth= 9,min_child_weight= 1,subsample= 0.8)\n",
        " "
      ]
    },
    {
      "cell_type": "code",
      "execution_count": 262,
      "id": "6a16ff4b",
      "metadata": {
        "execution": {
          "iopub.execute_input": "2022-12-09T12:57:03.383638Z",
          "iopub.status.busy": "2022-12-09T12:57:03.382888Z",
          "iopub.status.idle": "2022-12-09T13:04:43.427587Z",
          "shell.execute_reply": "2022-12-09T13:04:43.426454Z"
        },
        "id": "6a16ff4b",
        "papermill": {
          "duration": 460.254512,
          "end_time": "2022-12-09T13:04:43.564086",
          "exception": false,
          "start_time": "2022-12-09T12:57:03.309574",
          "status": "completed"
        },
        "tags": [],
        "colab": {
          "base_uri": "https://localhost:8080/"
        },
        "outputId": "9b2d5b26-e29f-4e4f-9b7e-700cd4155d6e"
      },
      "outputs": [
        {
          "output_type": "execute_result",
          "data": {
            "text/plain": [
              "XGBClassifier(colsample_bytree=0.7, max_depth=9, subsample=0.8)"
            ]
          },
          "metadata": {},
          "execution_count": 262
        }
      ],
      "source": [
        "xgb_final.fit(X_train, y_train)"
      ]
    },
    {
      "cell_type": "code",
      "source": [
        "acc_val_xgb = round(xgb_final.score(X_val, y_val) * 100, 2)\n",
        "acc_test_xgb = round(xgb_final.score(X_test, y_test) * 100, 2)\n",
        "\n",
        "print('xgb val accurary: ',acc_val_xgb)\n",
        "print('xgb test accurary: ',acc_test_xgb)"
      ],
      "metadata": {
        "colab": {
          "base_uri": "https://localhost:8080/"
        },
        "id": "Y0vaOKeK5l_1",
        "outputId": "1f888f76-444a-4ded-a174-05a58d6360cf"
      },
      "id": "Y0vaOKeK5l_1",
      "execution_count": 277,
      "outputs": [
        {
          "output_type": "stream",
          "name": "stdout",
          "text": [
            "xgb val accurary:  90.1\n",
            "xgb test accurary:  90.5\n"
          ]
        }
      ]
    },
    {
      "cell_type": "code",
      "execution_count": 270,
      "id": "7ea1be0b",
      "metadata": {
        "execution": {
          "iopub.execute_input": "2022-12-09T13:04:43.709085Z",
          "iopub.status.busy": "2022-12-09T13:04:43.708660Z",
          "iopub.status.idle": "2022-12-09T13:04:52.295613Z",
          "shell.execute_reply": "2022-12-09T13:04:52.294761Z"
        },
        "id": "7ea1be0b",
        "papermill": {
          "duration": 8.662048,
          "end_time": "2022-12-09T13:04:52.298201",
          "exception": false,
          "start_time": "2022-12-09T13:04:43.636153",
          "status": "completed"
        },
        "tags": []
      },
      "outputs": [],
      "source": [
        "predictions = xgb_final.predict_proba(test_df)[:, 1]\n",
        "submissions_df['IsBadBuy'] = predictions\n",
        "submissions_df.to_csv('Xgboost.csv',index=False)"
      ]
    },
    {
      "cell_type": "markdown",
      "id": "04930ac5",
      "metadata": {
        "id": "04930ac5",
        "papermill": {
          "duration": 0.073937,
          "end_time": "2022-12-09T13:04:58.861514",
          "exception": false,
          "start_time": "2022-12-09T13:04:58.787577",
          "status": "completed"
        },
        "tags": []
      },
      "source": [
        "Training accuracy is 90.5 and validation is 90.1 for final model\n",
        "\n",
        "\n"
      ]
    },
    {
      "cell_type": "markdown",
      "id": "41a58759",
      "metadata": {
        "id": "41a58759",
        "papermill": {
          "duration": 0.0723,
          "end_time": "2022-12-09T13:04:59.006455",
          "exception": false,
          "start_time": "2022-12-09T13:04:58.934155",
          "status": "completed"
        },
        "tags": []
      },
      "source": [
        "## 8. Make Predictions and Submit to Kaggle\n",
        "\n",
        "I will follows these steps:\n",
        "* Make predictions for test set\n",
        "* Generate submission csv\n",
        "* Submit to Kaggle"
      ]
    },
    {
      "cell_type": "code",
      "execution_count": 274,
      "id": "5488591a",
      "metadata": {
        "execution": {
          "iopub.execute_input": "2022-12-09T13:04:59.156503Z",
          "iopub.status.busy": "2022-12-09T13:04:59.156094Z",
          "iopub.status.idle": "2022-12-09T13:04:59.207933Z",
          "shell.execute_reply": "2022-12-09T13:04:59.206638Z"
        },
        "id": "5488591a",
        "papermill": {
          "duration": 0.129916,
          "end_time": "2022-12-09T13:04:59.210629",
          "exception": false,
          "start_time": "2022-12-09T13:04:59.080713",
          "status": "completed"
        },
        "tags": [],
        "colab": {
          "base_uri": "https://localhost:8080/",
          "height": 592
        },
        "outputId": "7169d396-7314-4b3a-bd7c-bdce7af7d466"
      },
      "outputs": [
        {
          "output_type": "execute_result",
          "data": {
            "text/plain": [
              "       Auction  VehicleAge Transmission WheelType   VehOdo     Nationality  \\\n",
              "0        ADESA         4.0         AUTO     Alloy  85377.0        AMERICAN   \n",
              "1        ADESA         4.0         AUTO     Alloy  61873.0        AMERICAN   \n",
              "2        ADESA         3.0         AUTO     Alloy  69283.0        AMERICAN   \n",
              "3        ADESA         7.0         AUTO     Alloy  87889.0        AMERICAN   \n",
              "4        ADESA         2.0         AUTO   Unknown  73432.0     OTHER ASIAN   \n",
              "...        ...         ...          ...       ...      ...             ...   \n",
              "48702  MANHEIM         5.0         AUTO     Alloy  88645.0        AMERICAN   \n",
              "48703  MANHEIM         3.0         AUTO    Covers  81862.0  TOP LINE ASIAN   \n",
              "48704  MANHEIM         4.0         AUTO    Covers  82451.0     OTHER ASIAN   \n",
              "48705  MANHEIM         5.0         AUTO     Alloy  75760.0     OTHER ASIAN   \n",
              "48706  MANHEIM         7.0         AUTO    Covers  82174.0        AMERICAN   \n",
              "\n",
              "             Size TopThreeAmericanName  MMRAcquisitionAuctionAveragePrice  \\\n",
              "0           LARGE                   GM                             5032.0   \n",
              "1          MEDIUM                   GM                             4502.0   \n",
              "2      MEDIUM SUV             CHRYSLER                            10244.0   \n",
              "3          MEDIUM                   GM                             2558.0   \n",
              "4         COMPACT                OTHER                             5013.0   \n",
              "...           ...                  ...                                ...   \n",
              "48702       LARGE                 FORD                             5358.0   \n",
              "48703     COMPACT                OTHER                             6849.0   \n",
              "48704      MEDIUM                OTHER                             4662.0   \n",
              "48705      MEDIUM                OTHER                             5953.0   \n",
              "48706  MEDIUM SUV                   GM                             3269.0   \n",
              "\n",
              "       MMRAcquisitionRetailAveragePrice  MMRCurrentAuctionAveragePrice  \\\n",
              "0                                5935.0                         4905.0   \n",
              "1                                5362.0                         4645.0   \n",
              "2                               11564.0                        10883.0   \n",
              "3                                3263.0                         2928.0   \n",
              "4                                5914.0                         5013.0   \n",
              "...                                 ...                            ...   \n",
              "48702                            8987.0                         5761.0   \n",
              "48703                           10999.0                         6856.0   \n",
              "48704                            7972.0                         4833.0   \n",
              "48705                            9137.0                         5092.0   \n",
              "48706                            6893.0                         4526.0   \n",
              "\n",
              "       MMRCurrentRetailAveragePrice PRIMEUNIT AUCGUART  VehBCost  \\\n",
              "0                            8557.0   Unknown  Unknown    6500.0   \n",
              "1                            7562.0   Unknown  Unknown    6300.0   \n",
              "2                           15340.0   Unknown  Unknown    9700.0   \n",
              "3                            5725.0   Unknown  Unknown    4150.0   \n",
              "4                            5914.0   Unknown  Unknown    4100.0   \n",
              "...                             ...       ...      ...       ...   \n",
              "48702                        9764.0   Unknown  Unknown    7955.0   \n",
              "48703                       10283.0   Unknown  Unknown    7035.0   \n",
              "48704                        7871.0        NO    GREEN    6335.0   \n",
              "48705                        8576.0        NO    GREEN    8055.0   \n",
              "48706                        8266.0        NO    GREEN    7755.0   \n",
              "\n",
              "       IsOnlineSale  WarrantyCost  \n",
              "0               0.0        2152.0  \n",
              "1               0.0        1118.0  \n",
              "2               0.0        1215.0  \n",
              "3               0.0        1933.0  \n",
              "4               0.0         920.0  \n",
              "...             ...           ...  \n",
              "48702           0.0        1633.0  \n",
              "48703           0.0         594.0  \n",
              "48704           0.0         594.0  \n",
              "48705           0.0        1038.0  \n",
              "48706           0.0        5392.0  \n",
              "\n",
              "[48707 rows x 17 columns]"
            ],
            "text/html": [
              "\n",
              "  <div id=\"df-cbf40b35-b382-4cb2-8d0d-f902cd2174e9\">\n",
              "    <div class=\"colab-df-container\">\n",
              "      <div>\n",
              "<style scoped>\n",
              "    .dataframe tbody tr th:only-of-type {\n",
              "        vertical-align: middle;\n",
              "    }\n",
              "\n",
              "    .dataframe tbody tr th {\n",
              "        vertical-align: top;\n",
              "    }\n",
              "\n",
              "    .dataframe thead th {\n",
              "        text-align: right;\n",
              "    }\n",
              "</style>\n",
              "<table border=\"1\" class=\"dataframe\">\n",
              "  <thead>\n",
              "    <tr style=\"text-align: right;\">\n",
              "      <th></th>\n",
              "      <th>Auction</th>\n",
              "      <th>VehicleAge</th>\n",
              "      <th>Transmission</th>\n",
              "      <th>WheelType</th>\n",
              "      <th>VehOdo</th>\n",
              "      <th>Nationality</th>\n",
              "      <th>Size</th>\n",
              "      <th>TopThreeAmericanName</th>\n",
              "      <th>MMRAcquisitionAuctionAveragePrice</th>\n",
              "      <th>MMRAcquisitionRetailAveragePrice</th>\n",
              "      <th>MMRCurrentAuctionAveragePrice</th>\n",
              "      <th>MMRCurrentRetailAveragePrice</th>\n",
              "      <th>PRIMEUNIT</th>\n",
              "      <th>AUCGUART</th>\n",
              "      <th>VehBCost</th>\n",
              "      <th>IsOnlineSale</th>\n",
              "      <th>WarrantyCost</th>\n",
              "    </tr>\n",
              "  </thead>\n",
              "  <tbody>\n",
              "    <tr>\n",
              "      <th>0</th>\n",
              "      <td>ADESA</td>\n",
              "      <td>4.0</td>\n",
              "      <td>AUTO</td>\n",
              "      <td>Alloy</td>\n",
              "      <td>85377.0</td>\n",
              "      <td>AMERICAN</td>\n",
              "      <td>LARGE</td>\n",
              "      <td>GM</td>\n",
              "      <td>5032.0</td>\n",
              "      <td>5935.0</td>\n",
              "      <td>4905.0</td>\n",
              "      <td>8557.0</td>\n",
              "      <td>Unknown</td>\n",
              "      <td>Unknown</td>\n",
              "      <td>6500.0</td>\n",
              "      <td>0.0</td>\n",
              "      <td>2152.0</td>\n",
              "    </tr>\n",
              "    <tr>\n",
              "      <th>1</th>\n",
              "      <td>ADESA</td>\n",
              "      <td>4.0</td>\n",
              "      <td>AUTO</td>\n",
              "      <td>Alloy</td>\n",
              "      <td>61873.0</td>\n",
              "      <td>AMERICAN</td>\n",
              "      <td>MEDIUM</td>\n",
              "      <td>GM</td>\n",
              "      <td>4502.0</td>\n",
              "      <td>5362.0</td>\n",
              "      <td>4645.0</td>\n",
              "      <td>7562.0</td>\n",
              "      <td>Unknown</td>\n",
              "      <td>Unknown</td>\n",
              "      <td>6300.0</td>\n",
              "      <td>0.0</td>\n",
              "      <td>1118.0</td>\n",
              "    </tr>\n",
              "    <tr>\n",
              "      <th>2</th>\n",
              "      <td>ADESA</td>\n",
              "      <td>3.0</td>\n",
              "      <td>AUTO</td>\n",
              "      <td>Alloy</td>\n",
              "      <td>69283.0</td>\n",
              "      <td>AMERICAN</td>\n",
              "      <td>MEDIUM SUV</td>\n",
              "      <td>CHRYSLER</td>\n",
              "      <td>10244.0</td>\n",
              "      <td>11564.0</td>\n",
              "      <td>10883.0</td>\n",
              "      <td>15340.0</td>\n",
              "      <td>Unknown</td>\n",
              "      <td>Unknown</td>\n",
              "      <td>9700.0</td>\n",
              "      <td>0.0</td>\n",
              "      <td>1215.0</td>\n",
              "    </tr>\n",
              "    <tr>\n",
              "      <th>3</th>\n",
              "      <td>ADESA</td>\n",
              "      <td>7.0</td>\n",
              "      <td>AUTO</td>\n",
              "      <td>Alloy</td>\n",
              "      <td>87889.0</td>\n",
              "      <td>AMERICAN</td>\n",
              "      <td>MEDIUM</td>\n",
              "      <td>GM</td>\n",
              "      <td>2558.0</td>\n",
              "      <td>3263.0</td>\n",
              "      <td>2928.0</td>\n",
              "      <td>5725.0</td>\n",
              "      <td>Unknown</td>\n",
              "      <td>Unknown</td>\n",
              "      <td>4150.0</td>\n",
              "      <td>0.0</td>\n",
              "      <td>1933.0</td>\n",
              "    </tr>\n",
              "    <tr>\n",
              "      <th>4</th>\n",
              "      <td>ADESA</td>\n",
              "      <td>2.0</td>\n",
              "      <td>AUTO</td>\n",
              "      <td>Unknown</td>\n",
              "      <td>73432.0</td>\n",
              "      <td>OTHER ASIAN</td>\n",
              "      <td>COMPACT</td>\n",
              "      <td>OTHER</td>\n",
              "      <td>5013.0</td>\n",
              "      <td>5914.0</td>\n",
              "      <td>5013.0</td>\n",
              "      <td>5914.0</td>\n",
              "      <td>Unknown</td>\n",
              "      <td>Unknown</td>\n",
              "      <td>4100.0</td>\n",
              "      <td>0.0</td>\n",
              "      <td>920.0</td>\n",
              "    </tr>\n",
              "    <tr>\n",
              "      <th>...</th>\n",
              "      <td>...</td>\n",
              "      <td>...</td>\n",
              "      <td>...</td>\n",
              "      <td>...</td>\n",
              "      <td>...</td>\n",
              "      <td>...</td>\n",
              "      <td>...</td>\n",
              "      <td>...</td>\n",
              "      <td>...</td>\n",
              "      <td>...</td>\n",
              "      <td>...</td>\n",
              "      <td>...</td>\n",
              "      <td>...</td>\n",
              "      <td>...</td>\n",
              "      <td>...</td>\n",
              "      <td>...</td>\n",
              "      <td>...</td>\n",
              "    </tr>\n",
              "    <tr>\n",
              "      <th>48702</th>\n",
              "      <td>MANHEIM</td>\n",
              "      <td>5.0</td>\n",
              "      <td>AUTO</td>\n",
              "      <td>Alloy</td>\n",
              "      <td>88645.0</td>\n",
              "      <td>AMERICAN</td>\n",
              "      <td>LARGE</td>\n",
              "      <td>FORD</td>\n",
              "      <td>5358.0</td>\n",
              "      <td>8987.0</td>\n",
              "      <td>5761.0</td>\n",
              "      <td>9764.0</td>\n",
              "      <td>Unknown</td>\n",
              "      <td>Unknown</td>\n",
              "      <td>7955.0</td>\n",
              "      <td>0.0</td>\n",
              "      <td>1633.0</td>\n",
              "    </tr>\n",
              "    <tr>\n",
              "      <th>48703</th>\n",
              "      <td>MANHEIM</td>\n",
              "      <td>3.0</td>\n",
              "      <td>AUTO</td>\n",
              "      <td>Covers</td>\n",
              "      <td>81862.0</td>\n",
              "      <td>TOP LINE ASIAN</td>\n",
              "      <td>COMPACT</td>\n",
              "      <td>OTHER</td>\n",
              "      <td>6849.0</td>\n",
              "      <td>10999.0</td>\n",
              "      <td>6856.0</td>\n",
              "      <td>10283.0</td>\n",
              "      <td>Unknown</td>\n",
              "      <td>Unknown</td>\n",
              "      <td>7035.0</td>\n",
              "      <td>0.0</td>\n",
              "      <td>594.0</td>\n",
              "    </tr>\n",
              "    <tr>\n",
              "      <th>48704</th>\n",
              "      <td>MANHEIM</td>\n",
              "      <td>4.0</td>\n",
              "      <td>AUTO</td>\n",
              "      <td>Covers</td>\n",
              "      <td>82451.0</td>\n",
              "      <td>OTHER ASIAN</td>\n",
              "      <td>MEDIUM</td>\n",
              "      <td>OTHER</td>\n",
              "      <td>4662.0</td>\n",
              "      <td>7972.0</td>\n",
              "      <td>4833.0</td>\n",
              "      <td>7871.0</td>\n",
              "      <td>NO</td>\n",
              "      <td>GREEN</td>\n",
              "      <td>6335.0</td>\n",
              "      <td>0.0</td>\n",
              "      <td>594.0</td>\n",
              "    </tr>\n",
              "    <tr>\n",
              "      <th>48705</th>\n",
              "      <td>MANHEIM</td>\n",
              "      <td>5.0</td>\n",
              "      <td>AUTO</td>\n",
              "      <td>Alloy</td>\n",
              "      <td>75760.0</td>\n",
              "      <td>OTHER ASIAN</td>\n",
              "      <td>MEDIUM</td>\n",
              "      <td>OTHER</td>\n",
              "      <td>5953.0</td>\n",
              "      <td>9137.0</td>\n",
              "      <td>5092.0</td>\n",
              "      <td>8576.0</td>\n",
              "      <td>NO</td>\n",
              "      <td>GREEN</td>\n",
              "      <td>8055.0</td>\n",
              "      <td>0.0</td>\n",
              "      <td>1038.0</td>\n",
              "    </tr>\n",
              "    <tr>\n",
              "      <th>48706</th>\n",
              "      <td>MANHEIM</td>\n",
              "      <td>7.0</td>\n",
              "      <td>AUTO</td>\n",
              "      <td>Covers</td>\n",
              "      <td>82174.0</td>\n",
              "      <td>AMERICAN</td>\n",
              "      <td>MEDIUM SUV</td>\n",
              "      <td>GM</td>\n",
              "      <td>3269.0</td>\n",
              "      <td>6893.0</td>\n",
              "      <td>4526.0</td>\n",
              "      <td>8266.0</td>\n",
              "      <td>NO</td>\n",
              "      <td>GREEN</td>\n",
              "      <td>7755.0</td>\n",
              "      <td>0.0</td>\n",
              "      <td>5392.0</td>\n",
              "    </tr>\n",
              "  </tbody>\n",
              "</table>\n",
              "<p>48707 rows × 17 columns</p>\n",
              "</div>\n",
              "      <button class=\"colab-df-convert\" onclick=\"convertToInteractive('df-cbf40b35-b382-4cb2-8d0d-f902cd2174e9')\"\n",
              "              title=\"Convert this dataframe to an interactive table.\"\n",
              "              style=\"display:none;\">\n",
              "        \n",
              "  <svg xmlns=\"http://www.w3.org/2000/svg\" height=\"24px\"viewBox=\"0 0 24 24\"\n",
              "       width=\"24px\">\n",
              "    <path d=\"M0 0h24v24H0V0z\" fill=\"none\"/>\n",
              "    <path d=\"M18.56 5.44l.94 2.06.94-2.06 2.06-.94-2.06-.94-.94-2.06-.94 2.06-2.06.94zm-11 1L8.5 8.5l.94-2.06 2.06-.94-2.06-.94L8.5 2.5l-.94 2.06-2.06.94zm10 10l.94 2.06.94-2.06 2.06-.94-2.06-.94-.94-2.06-.94 2.06-2.06.94z\"/><path d=\"M17.41 7.96l-1.37-1.37c-.4-.4-.92-.59-1.43-.59-.52 0-1.04.2-1.43.59L10.3 9.45l-7.72 7.72c-.78.78-.78 2.05 0 2.83L4 21.41c.39.39.9.59 1.41.59.51 0 1.02-.2 1.41-.59l7.78-7.78 2.81-2.81c.8-.78.8-2.07 0-2.86zM5.41 20L4 18.59l7.72-7.72 1.47 1.35L5.41 20z\"/>\n",
              "  </svg>\n",
              "      </button>\n",
              "      \n",
              "  <style>\n",
              "    .colab-df-container {\n",
              "      display:flex;\n",
              "      flex-wrap:wrap;\n",
              "      gap: 12px;\n",
              "    }\n",
              "\n",
              "    .colab-df-convert {\n",
              "      background-color: #E8F0FE;\n",
              "      border: none;\n",
              "      border-radius: 50%;\n",
              "      cursor: pointer;\n",
              "      display: none;\n",
              "      fill: #1967D2;\n",
              "      height: 32px;\n",
              "      padding: 0 0 0 0;\n",
              "      width: 32px;\n",
              "    }\n",
              "\n",
              "    .colab-df-convert:hover {\n",
              "      background-color: #E2EBFA;\n",
              "      box-shadow: 0px 1px 2px rgba(60, 64, 67, 0.3), 0px 1px 3px 1px rgba(60, 64, 67, 0.15);\n",
              "      fill: #174EA6;\n",
              "    }\n",
              "\n",
              "    [theme=dark] .colab-df-convert {\n",
              "      background-color: #3B4455;\n",
              "      fill: #D2E3FC;\n",
              "    }\n",
              "\n",
              "    [theme=dark] .colab-df-convert:hover {\n",
              "      background-color: #434B5C;\n",
              "      box-shadow: 0px 1px 3px 1px rgba(0, 0, 0, 0.15);\n",
              "      filter: drop-shadow(0px 1px 2px rgba(0, 0, 0, 0.3));\n",
              "      fill: #FFFFFF;\n",
              "    }\n",
              "  </style>\n",
              "\n",
              "      <script>\n",
              "        const buttonEl =\n",
              "          document.querySelector('#df-cbf40b35-b382-4cb2-8d0d-f902cd2174e9 button.colab-df-convert');\n",
              "        buttonEl.style.display =\n",
              "          google.colab.kernel.accessAllowed ? 'block' : 'none';\n",
              "\n",
              "        async function convertToInteractive(key) {\n",
              "          const element = document.querySelector('#df-cbf40b35-b382-4cb2-8d0d-f902cd2174e9');\n",
              "          const dataTable =\n",
              "            await google.colab.kernel.invokeFunction('convertToInteractive',\n",
              "                                                     [key], {});\n",
              "          if (!dataTable) return;\n",
              "\n",
              "          const docLinkHtml = 'Like what you see? Visit the ' +\n",
              "            '<a target=\"_blank\" href=https://colab.research.google.com/notebooks/data_table.ipynb>data table notebook</a>'\n",
              "            + ' to learn more about interactive tables.';\n",
              "          element.innerHTML = '';\n",
              "          dataTable['output_type'] = 'display_data';\n",
              "          await google.colab.output.renderOutput(dataTable, element);\n",
              "          const docLink = document.createElement('div');\n",
              "          docLink.innerHTML = docLinkHtml;\n",
              "          element.appendChild(docLink);\n",
              "        }\n",
              "      </script>\n",
              "    </div>\n",
              "  </div>\n",
              "  "
            ]
          },
          "metadata": {},
          "execution_count": 274
        }
      ],
      "source": [
        "test_inputs"
      ]
    },
    {
      "cell_type": "code",
      "execution_count": 275,
      "id": "8162edcb",
      "metadata": {
        "execution": {
          "iopub.execute_input": "2022-12-09T13:04:59.379092Z",
          "iopub.status.busy": "2022-12-09T13:04:59.378675Z",
          "iopub.status.idle": "2022-12-09T13:04:59.384616Z",
          "shell.execute_reply": "2022-12-09T13:04:59.383379Z"
        },
        "id": "8162edcb",
        "papermill": {
          "duration": 0.102856,
          "end_time": "2022-12-09T13:04:59.386903",
          "exception": false,
          "start_time": "2022-12-09T13:04:59.284047",
          "status": "completed"
        },
        "tags": []
      },
      "outputs": [],
      "source": [
        "def predict_and_submit(model,test_inputs,fname):\n",
        "  predictions = clr.predict_proba(test_df)[:, 1]\n",
        "  sub_df=pd.read_csv(data_dir+'/example_entry.csv')\n",
        "  submissions_df['IsBadBuy'] = predictions\n",
        "  sub_df.to_csv(fname,index=None)\n",
        "  return sub_df"
      ]
    },
    {
      "cell_type": "code",
      "execution_count": 276,
      "id": "1942f133",
      "metadata": {
        "execution": {
          "iopub.execute_input": "2022-12-09T13:04:59.555620Z",
          "iopub.status.busy": "2022-12-09T13:04:59.555189Z",
          "iopub.status.idle": "2022-12-09T13:05:00.382969Z",
          "shell.execute_reply": "2022-12-09T13:05:00.381903Z"
        },
        "id": "1942f133",
        "papermill": {
          "duration": 0.916316,
          "end_time": "2022-12-09T13:05:00.385403",
          "exception": false,
          "start_time": "2022-12-09T13:04:59.469087",
          "status": "completed"
        },
        "tags": [],
        "colab": {
          "base_uri": "https://localhost:8080/",
          "height": 423
        },
        "outputId": "817cdd41-e1f8-417b-dc26-191b84d790b0"
      },
      "outputs": [
        {
          "output_type": "execute_result",
          "data": {
            "text/plain": [
              "        RefId  IsBadBuy\n",
              "0       73015         0\n",
              "1       73016         0\n",
              "2       73017         0\n",
              "3       73018         0\n",
              "4       73019         0\n",
              "...       ...       ...\n",
              "48702  121742         0\n",
              "48703  121743         0\n",
              "48704  121744         0\n",
              "48705  121745         0\n",
              "48706  121746         0\n",
              "\n",
              "[48707 rows x 2 columns]"
            ],
            "text/html": [
              "\n",
              "  <div id=\"df-e5b4155a-b146-43f4-a783-e5116f4e2c38\">\n",
              "    <div class=\"colab-df-container\">\n",
              "      <div>\n",
              "<style scoped>\n",
              "    .dataframe tbody tr th:only-of-type {\n",
              "        vertical-align: middle;\n",
              "    }\n",
              "\n",
              "    .dataframe tbody tr th {\n",
              "        vertical-align: top;\n",
              "    }\n",
              "\n",
              "    .dataframe thead th {\n",
              "        text-align: right;\n",
              "    }\n",
              "</style>\n",
              "<table border=\"1\" class=\"dataframe\">\n",
              "  <thead>\n",
              "    <tr style=\"text-align: right;\">\n",
              "      <th></th>\n",
              "      <th>RefId</th>\n",
              "      <th>IsBadBuy</th>\n",
              "    </tr>\n",
              "  </thead>\n",
              "  <tbody>\n",
              "    <tr>\n",
              "      <th>0</th>\n",
              "      <td>73015</td>\n",
              "      <td>0</td>\n",
              "    </tr>\n",
              "    <tr>\n",
              "      <th>1</th>\n",
              "      <td>73016</td>\n",
              "      <td>0</td>\n",
              "    </tr>\n",
              "    <tr>\n",
              "      <th>2</th>\n",
              "      <td>73017</td>\n",
              "      <td>0</td>\n",
              "    </tr>\n",
              "    <tr>\n",
              "      <th>3</th>\n",
              "      <td>73018</td>\n",
              "      <td>0</td>\n",
              "    </tr>\n",
              "    <tr>\n",
              "      <th>4</th>\n",
              "      <td>73019</td>\n",
              "      <td>0</td>\n",
              "    </tr>\n",
              "    <tr>\n",
              "      <th>...</th>\n",
              "      <td>...</td>\n",
              "      <td>...</td>\n",
              "    </tr>\n",
              "    <tr>\n",
              "      <th>48702</th>\n",
              "      <td>121742</td>\n",
              "      <td>0</td>\n",
              "    </tr>\n",
              "    <tr>\n",
              "      <th>48703</th>\n",
              "      <td>121743</td>\n",
              "      <td>0</td>\n",
              "    </tr>\n",
              "    <tr>\n",
              "      <th>48704</th>\n",
              "      <td>121744</td>\n",
              "      <td>0</td>\n",
              "    </tr>\n",
              "    <tr>\n",
              "      <th>48705</th>\n",
              "      <td>121745</td>\n",
              "      <td>0</td>\n",
              "    </tr>\n",
              "    <tr>\n",
              "      <th>48706</th>\n",
              "      <td>121746</td>\n",
              "      <td>0</td>\n",
              "    </tr>\n",
              "  </tbody>\n",
              "</table>\n",
              "<p>48707 rows × 2 columns</p>\n",
              "</div>\n",
              "      <button class=\"colab-df-convert\" onclick=\"convertToInteractive('df-e5b4155a-b146-43f4-a783-e5116f4e2c38')\"\n",
              "              title=\"Convert this dataframe to an interactive table.\"\n",
              "              style=\"display:none;\">\n",
              "        \n",
              "  <svg xmlns=\"http://www.w3.org/2000/svg\" height=\"24px\"viewBox=\"0 0 24 24\"\n",
              "       width=\"24px\">\n",
              "    <path d=\"M0 0h24v24H0V0z\" fill=\"none\"/>\n",
              "    <path d=\"M18.56 5.44l.94 2.06.94-2.06 2.06-.94-2.06-.94-.94-2.06-.94 2.06-2.06.94zm-11 1L8.5 8.5l.94-2.06 2.06-.94-2.06-.94L8.5 2.5l-.94 2.06-2.06.94zm10 10l.94 2.06.94-2.06 2.06-.94-2.06-.94-.94-2.06-.94 2.06-2.06.94z\"/><path d=\"M17.41 7.96l-1.37-1.37c-.4-.4-.92-.59-1.43-.59-.52 0-1.04.2-1.43.59L10.3 9.45l-7.72 7.72c-.78.78-.78 2.05 0 2.83L4 21.41c.39.39.9.59 1.41.59.51 0 1.02-.2 1.41-.59l7.78-7.78 2.81-2.81c.8-.78.8-2.07 0-2.86zM5.41 20L4 18.59l7.72-7.72 1.47 1.35L5.41 20z\"/>\n",
              "  </svg>\n",
              "      </button>\n",
              "      \n",
              "  <style>\n",
              "    .colab-df-container {\n",
              "      display:flex;\n",
              "      flex-wrap:wrap;\n",
              "      gap: 12px;\n",
              "    }\n",
              "\n",
              "    .colab-df-convert {\n",
              "      background-color: #E8F0FE;\n",
              "      border: none;\n",
              "      border-radius: 50%;\n",
              "      cursor: pointer;\n",
              "      display: none;\n",
              "      fill: #1967D2;\n",
              "      height: 32px;\n",
              "      padding: 0 0 0 0;\n",
              "      width: 32px;\n",
              "    }\n",
              "\n",
              "    .colab-df-convert:hover {\n",
              "      background-color: #E2EBFA;\n",
              "      box-shadow: 0px 1px 2px rgba(60, 64, 67, 0.3), 0px 1px 3px 1px rgba(60, 64, 67, 0.15);\n",
              "      fill: #174EA6;\n",
              "    }\n",
              "\n",
              "    [theme=dark] .colab-df-convert {\n",
              "      background-color: #3B4455;\n",
              "      fill: #D2E3FC;\n",
              "    }\n",
              "\n",
              "    [theme=dark] .colab-df-convert:hover {\n",
              "      background-color: #434B5C;\n",
              "      box-shadow: 0px 1px 3px 1px rgba(0, 0, 0, 0.15);\n",
              "      filter: drop-shadow(0px 1px 2px rgba(0, 0, 0, 0.3));\n",
              "      fill: #FFFFFF;\n",
              "    }\n",
              "  </style>\n",
              "\n",
              "      <script>\n",
              "        const buttonEl =\n",
              "          document.querySelector('#df-e5b4155a-b146-43f4-a783-e5116f4e2c38 button.colab-df-convert');\n",
              "        buttonEl.style.display =\n",
              "          google.colab.kernel.accessAllowed ? 'block' : 'none';\n",
              "\n",
              "        async function convertToInteractive(key) {\n",
              "          const element = document.querySelector('#df-e5b4155a-b146-43f4-a783-e5116f4e2c38');\n",
              "          const dataTable =\n",
              "            await google.colab.kernel.invokeFunction('convertToInteractive',\n",
              "                                                     [key], {});\n",
              "          if (!dataTable) return;\n",
              "\n",
              "          const docLinkHtml = 'Like what you see? Visit the ' +\n",
              "            '<a target=\"_blank\" href=https://colab.research.google.com/notebooks/data_table.ipynb>data table notebook</a>'\n",
              "            + ' to learn more about interactive tables.';\n",
              "          element.innerHTML = '';\n",
              "          dataTable['output_type'] = 'display_data';\n",
              "          await google.colab.output.renderOutput(dataTable, element);\n",
              "          const docLink = document.createElement('div');\n",
              "          docLink.innerHTML = docLinkHtml;\n",
              "          element.appendChild(docLink);\n",
              "        }\n",
              "      </script>\n",
              "    </div>\n",
              "  </div>\n",
              "  "
            ]
          },
          "metadata": {},
          "execution_count": 276
        }
      ],
      "source": [
        "predict_and_submit(xgb_final,X_test,'XGboost.csv')"
      ]
    },
    {
      "cell_type": "markdown",
      "id": "e3b1c830",
      "metadata": {
        "id": "e3b1c830",
        "papermill": {
          "duration": 0.073641,
          "end_time": "2022-12-09T13:05:00.532810",
          "exception": false,
          "start_time": "2022-12-09T13:05:00.459169",
          "status": "completed"
        },
        "tags": []
      },
      "source": [
        "![Screenshot 2023-01-27 210727.png](data:image/png;base64,iVBORw0KGgoAAAANSUhEUgAABCoAAAFRCAYAAACyiExvAAAAAXNSR0IArs4c6QAAAARnQU1BAACxjwv8YQUAAAAJcEhZcwAADsMAAA7DAcdvqGQAAJ0eSURBVHhe7N0JXJTV3gfwn6KMIqKoGBRuAZmgJei14M0CTVPTuGlYidFNpcytDCszSy0jM9GuWxYuNxRTSYs0NQ3R7IJ5FSwFM0FcMEhc2FQGRd5znnkGhpFl2Ef9fftMPvtynvMMz/nPOedpUCigGo4nn4KLUwd17NZ18VIWtPn5cLjLTp1CREREREREVLfS/s6AxtISrWxbqFPqx40bN3A1T4sC8a9k2bix+DRCw4YNlfGKxGQnISRtJ/ZfPqmMd2lijw0ur6BlYytlvDwMVAjXr19Hyqmz6Nj+HjQWCU9ERERERERUH65du46Tp8+iU4d70KhR/ZRPCwoKcCVPCxkusGjYEE00lrCwsFDmyfJzXl4e8vPzxbFeUwIakgxgNJbBDEtLNGnSpOjY/5t1HDNTt+APbTru18hgxcuwtWymzCsLAxVCxvmLaNCgAdq0tlWnEBEREREREdWP8xcuKUECuzat1Cl1RwYeLl/NU/bfuFEjNG2iUabLAEVubi6uXr2qjFekadOmsLa2VgIW2QVXMezYMvyRpwtWRNxXfs0K0+ps3MYKCm4gMysHti1t1ClERERERERE9UeWT2U5VZZX65ps7mEcpLhy5QoyMjJMDlJIclm5jlzXxqIpNnYei/ub2Cs1K4Yf/0JdqnR3fI2KS5nZyM+/hrvatlan1IFz/8PGVVvx88l0ZF2TExqjhX07PPrkSxjm2UZZhIiIiIiIiO5cf5+7AEvLxnX6o3qeNh/5164pzT2aWTVVpslaFDk5OcpwaWRNC6m8ZirNmzdXalcoNSv+WKYEKz65ZyhG3PWQukRJd3yg4szZdLRu1RJWTZuoU2rRjWwcXfMp5v98Hkp8ohSN2/4f3p4+Es4V9y9CREREREREt6krV/Nw4WIm2t1jr06pXbLJR+4VXY2JZqJ8LPukkLUhsrKylGnGMjMzcezYMSUAIfusuHjxIjp27AgXFxd1iZJatGgBKysrpc+K55KX457GLRHj9napnXPe0U0/ZORHdv5RJ0EKXMPRVTPxiRqksHN9HG/PmI//LP8c/1k4DW8P6Aw7cTWunfsvPvl0GzLqvoYPERERERERmQlZTpXlVX2NhdqmFfuS5Ns9ZJBC7resIMXZs2eVWhKPP/44unXrBgcHBzz44IPQarXYt2+fulRJcltym//XwgW9mnXE2WuZ+Dpjvzq3pDs6UHHlqhZN6yRIISSux7JYXXTKefA0fPrGMHRpp6tKA6t26PLM6/j0vYFwlsGKM99jQcQJ3TwiIiIiIiK6I8nyqiy31jbZ0EK+bUSSryCVZJOP0pw7dw7Hjx/HpUuXlIDF1q1bcfDgQaVWhexAUwYk9G8CMabfZpBDP+XfReeilX0bu6MDFTLa01Sj6xykth39+b9QYlH2T+GVf7ZTpt2knZj3lK5az19RP+FoLdaqOLLmLbz1lsFnXhTOqfPq2rmf5tXr/omIiIiIiMyRLK/Kcmttu15QoPzbyMJCaYohaz6U1nFmSkoK2rZti6eeegqxsbFISkpSmns4OTmhXbt2yqtJZaAiLi5OXaMkuU25bS8bZ0xo44237foX7dvQHR2okJ1oWmos1bHadAJJyboh54fdYacbLJVdb288IAduJCPppDKpxskgRRgCMHfu3KJPgP2PmPdWGI6oyxAREREREVH9kuVVWW6tbUWBikYWyr+ydoShU6dO4Y8//kCBWO7EiRNISEhQlpHBCTc3N7i7uyv9T8jxTp064ciRI2V2wKnf9mSHx9HX+n4GKoxdu35deeVK7ctC5iXdUIe7K+gIpYWNGsjIRmamMlDDjiDud6Br967quE7XkQHoKucZRCqUmg5FtS7mIcqwysO5KMwzrJFRYv4RhL0Vhij9+mptiXK3h7PYPk8/7y3M+4n1K4iIiIiI6M4my6uy3FrbbqivQZVv+5Dy8/OVf6W//voL99xzD7y8vJTaFra2tkUfWUNCdripb74hgxPNmjVTalnIgEZp9NvW70u/b0N3dKBCRoMsLOoiCazQWH2Lx6m/0nUDZcnKRoYyYIOWLZWBGtYW97QFjmw3bmrRFQGyZoUav5BBhXmH3DFFX+sioC1+nKfWuJBBink/om2AvkbGFDzR9hx+DDPc5hH8mD5AN39KX7Q9EoZ5O9oq+7hpe9I5MTRAP68rzu0IMwpkEBERERER3VlkeVWWW2vbDTXQoH8Dh+zEU+/06dPYs2cPXnzxRezcuRNRUVH44osvlDd+JCcnK/8mJiYqtSjkejY2Nvj777+V9Uqj37Z+X/p9G7qjAxU3bhSW+iqUmtcZD7rqhpL2xauBiNJl7f8vfpcDVt3QpaMyqYa1Rd8pAeh6Tjb1KK7BEFaizccRbN8BPBHQVyyt6hqAgAfEdFnToW1fJYChD2rIbXbrXrRkkeJaG+cQtf0I2vYfgKJVxPbmzpW1OFRtn8AA/UhXDzH9HM4yUEFERERERHcwWV6V5dbapq8R0aBBA+Vfw84w//GPf8Db2xvz58/HmDFjlHGNRqN0pPnTTz9hy5YtSrBC9k0hgxX6V5YaBjsM6bet3xc706xHXR79P7SQA+nf44stZdSqOLsNiyLOKIN3P/qY8gaQ2qGrPaGr7fCEEow4EiYDFvoaE3/jnPjvR4OmGEowQ4mgGJJNPHTz5u0oL6qgCzq0tb85mEFERERERETmS76qVH5kYEH+26FDB0yYMAGvvfYannjiCaWph+yzQnagGRMTo9SukDUqqtMJ6B0dqGjYsEGZr02pca4jMX2wrn+KpO9m4c3525B0Xo0wac8jaeeXmDHreyQph9MUzu3bKLNqnVo7Qtd8Q60xoZuBJ6aowQyDz5THlbCGGqAIw7n+U3TT+zMIQUREREREVJNkeVWWW2ubce0GU1oe3HXXXXj00Ufh7Oys1LJo37690qnmgw8+qNSuKKvJin7bxrU4DN3RgQoZDSoopeOO2mL3z7cw/dE2aCyGMxK/x+ypk/CvMa/iX+Pfw+z18ThVdChX8fOX72J13M2vg6m2I2FKgKFESw9FW9xlD5xLl1Uf7hJj5TS9OBKHI22fUAIcusBFRXT9YijbJiIiIiIiIpPI8qost9a2hkZNPho3lqVW03Tr1k2pQXH58mVkZmYiNTVVmXbmjK61gDH9tvX70u/b0B0dqKirHlSLNYVzwIcIDR6FYd3awU6jTm7YGHYd3fHCuA/xn4Uvo6+1nHgVUUtrIVjRdYBScyJMfRNHkXNR2P57WzzRX3YU0RUD+rfFkTDDgIauFkVRXxbnzhavr3SUWV4Qoi36DpAdZG4v3p7y1hDjN38QERERERGRXl29qbKh+pKJAjV4YGlpqfxrCvlKUhl0aNOmDRrJMva1a/jzzz9LvDnEkH7b+n3p922oQWFpPVdUwvHkU3Bx6qCO3Voyzl9ULnrLljbqFDNxJR6rp32JqFw50hR9x32EFzyaKrNqypE1xn1OyH4rDDq3FIyX6RpQ3IFmiXmydsWAs5gXdg5PTJmCvjIQ8lYYxAYNOtyE7k0iBgEN/faK3jAi3w6izCl9fSIiIiIiojtJZma2Eqywa9NKnVI75D6u5mnRyMICVk2b4LoYz8go7zUQJX3zzTdKwOKPP/6Avb09zp8/r9QEee6559QlitnZ2SkBjStX83C9oABNm2huCsbc0YGK7JzLuHzlChzuslOnmJE6CFYQERERERGR+Ur7OwPNrKxg07yZOqV2yLBAzuUryrC1VVOlHwnZjOPqVdNq+G/evBnnzp1TXk0qAxXZ2dlKoONf//qXuoRO06ZN0bJlS6UGRu4V3babN7O6qZ+KO7rph1VTjUj4PHXMzFi544Vgo2Yg+7OVWURERERERHT7k+VVWW6tbTJQ0LixrlZD/jVd9wjyFaOmkMGMjh07omfPnkpzD9lXhaxRUVrzEf029fuQ+2RnmkZkdRPZkYescmKWDIMVDRuLAza9QxMiIiIiIiK6dclyqiyvynJrXdConVzmX7umvLFD7rdFixbKtPKcOHECDg4OuHLlClq3bq1Mk/9aWVkpw3pyW3KbcttyH5J+n8bu6ECFZN3MCjk5l9UxM6QEK6Zh+nsz2fSDiIiIiIjoDiHLqbK8Wldkcw9LNXCQp9V1hCmDDc2bN1eGyyIDDzKgIj+yQ03Z7EP2cSGbjujJbegDF/pty32V9RrUOz5QYdPcGtk5uUrimi2rdnBuxyAFERERERHRnUCWT2U5VZZX61ITjSUsGjZU3sghO9eUZHON8mpWyNoUtra2yjLNmjVTOtXs1KlTUaBCTtc3+ZDblNuW+5D7KssdH6iwsGiIli2a41Im+38gIiIiIiKi+ifLp7KcKsurdU2+hUP2G6F/E4gka0PIt3XIzjAN5eTk4J577lE60bz77ruVgISsUREVFQVfX19lHX1NCrktuU25bbmP8tzRb/3Qk9VSUk6dRcf29yideRARERERERHVh2vXruPk6bPo1OGeOuufwpis0XElT6u8DURf+0G+blSS5ee8vDxotVrs27cPXl5eyls85LIyCCE70pRNQPT9VchtyeYesiaFnG/VRFO0rbIwUKG6eCkL2vx883xVKREREREREd0R5CtJNZaWaGVbcUeWtUkGH/RNNSTZp4Rl40Zl9ithTK4v3+6h7zhTBjxkTQpT1r/jm37oyUxw/XoBsrJz1SlEREREREREdUeWR2W5tL6DFJIMKDSzalrUwaYMOOReuaq8jUT/ZhDDeg9yWE6T8+Qycll9kEJuQ27L1CAHAxUG2rZphXMZF5CntsMhIiIiIiIiqguyHCrLo7Jcak5ksw9rq6ZF3SRcV5tyXL6ah5zLV5Cde1n5yGE5Tc6Ty0hyHblueR1nloaBCgMakXh3tW2D9L/PK+2CiIiIiIiIiGqbLH/Kcqgsj8pyqbmRNSGaajRo3sxKab4hAxCyKYfsc0JPDstpcp5cRllWrGNqLQpD7KOiFLKHVfkqmLvt27JzTSIiIiIiIqo1MkjxV/o55VWkti1t1Kl3NtaoKIXMHDKTnP3rbzYDISIiIiIiolohy5uy3MkgRUkMVJRBZpJWrVrizNl0drBJRERERERENUqWM2V5U5Y7GaQoiYGKctg0b4b2jg5KMxD5ihj2W0FERERERETVIcuVsnwpy5myvCnLnVQSAxUVkB2ZtLvHXnmP7cnTZ3H+wiXllStEREREREREppLlSFmelOVKWb5Uyplm2HGmOWBnmpVw/fp1paPNzKwcpQ1R8+bNYNW0iTqXiIiIiIiIqKQr8jWeOZeVGhQtWzRXmnk0asSXNpSHgYoqKCi4oWSy3MtXcO3aNTRt2kR57YqlxhKNRYazsGhYpVewEBERERER0a3pxo0bSlnx2vXryNfm46pWi6tX89C4cWNYN7NSfuyWZUWqGAMV1SRrWVy5qoVWZML8/GtKppRVem7cqFayEhERERER0S2kYcMGsLCwUH68trRsDI1GA6umGtaeqAIGKoiIiIiIiIjIbLDeCRERERERERGZDQYqiIiIiIiIiMhsMFBBRERERERERGaDgQoiIiIiIiIiMhsMVBARERERERGR2WCggoiIiIiIiIjMBgMVRERERERERGQ2bvtARWFhofK5ceMGCgoKcO3aNWi1Wly+fBmZmZlIOXlKXZKIiIiIiIiI6oosj8tyuSyfy3K6LK/LcvsdUaNCBir0/xoGLq7m5SnTiYiIiIiIiKjuyXK5LJ8bltfvjKYfDRroTlgM6oMUBeKTn5+vm09EREREREREdU6Wy2X5vChYIabd1oEKeZJSA+X/gj5YIT6yOsn16wXKZCIiIiIiIiKqe7JcLsvn+rK6LLffeZ1pyuCF4YeIiIiIiIiI6kcpZfQGhfpqB1V0PPkUXJw6qGPmRX9qSvUR8dF3qHn9+nXk5eUhMysbFhYW6NTRPI+fiIiIiIhuX8nJJ7B37y+Ii4/H8T+P46+0NOTm5irlFrqzNGzYENbW1rjbwQEu97nAw90dvXs/Aiene9Ulbk+yM01ZRm/ZwgZNmjRBo0aNlDL6HROokDe7PlAhP3laLTIzsxioICIiIiKiOvXNxk1Yv34DDhw4qE4hKl3Pnj3w7LPD8cywoeqU20tRoKJlCzTRaJTyufzceU0/iIiIiIiI6sGPP+7AwIGD8eabbzNIQSaR+UTmF5lvZP65UzBQQUREREREVMveffc9jH11PP44dkydQmQ6mW9k/pH56E5wxwYqqtnihYiIiIiIqEJ//30OfsOfw9qv16lTiKpO5iOZn2S+up0Yl89Zo4KIiIiIiKgWyMLkv/41is08qEbJ/CTz1e0WrDDEQAUREREREVEtmDBxEpt6UK2Q+Urmr9sVAxVEREREREQ1TPYlwJoUVJtk/rpd+6xgoIKIiIiIiKgGybczsE8Kqgsyn92ObwNhoIKIiIiIiKgGffbZQnWIqPbdjvmNgQoiIiIiIqIa8s3GTeyXguqUzG8y391OGKggIiIiIiKqIevXb1CHiOrO7ZbvGKioN3nITD+K2H1HkZ6Zp06rZ+fjsfVApjpi5q6L9MvMNPiYSRpWV24mUg7tQvzJTORdV6dVl9hmfSZPXonrVNZ5ZSJ+W7z4vznLQ0r0LhzNVUfNkJLWdXyt5T6rm1drYhs1pVaP5abvLbEvdZbJ8uR65vl9Z3yvl/zcJt/RRGbvOvLOpSM2LhUpOfnqNFOJdbMuI++GOloTbmQhft9pZFZ3m+dPY2tCljpi3pKTT9RuB5rdvOH79BD4DvJEO3VS/XGFz9PjMCskGEEvesNNnWqyWjkXRwSGRuO3g5GY1VedVB0dRmPlzwfxW+QM+KiTzJXMdzL/3S4YqKgHeYeWYJhLU9j2Ho3p74+Gl21T3DtqRb0XgI5+PR5PTgzHUXXcrB0Iga2trcGnKRo4uML/09hKFnbzkH5AFD7Pq6P1JgVb3+gLh+Zd8OQbH2HKkC5o2q4vpmxOUedXXewCW4z+Nl0dq2uxCClxnWzRtLEDXEeEINYwzY+EY/yg8Qg/oo6bo8xdCBnhjyV7zTWcko5NL9f1tdbtM+SAOlolNbGNmlLLx3LT95a4H8T31phVR00OWKR/Oxq2L28SR2pudGlnfH5FH7M8ZqLbzF/HMGXxHrh+fQzTY5Lh/+Ve3LviMI5eVudXKBUhX8Zh0zl1tCakpGD83mSEV/Nx5ui+ZDwZlXJLPKPu3fuLOlRLXpiKz0Lm47PgVzFAnVQ5ngj8UKwvthH0jDqpCnymbsD+45FYGTIZAU/7YcKMUGw5HoONU73VJUxQ7XMpjTe8PRxhY+sKr5oIVHg/hh6ONrDp5okn1EnmrNbzXx1ioKKunVyL0QPD0WVhGgrFzRy1IwYnrqVhsf0K9Bm3VhRX60+XiTEojB2PLuq4+ZuNmMJCFOo/h8PR5/BQdBm3tRLBikzsmtsXm5LU0XqRh9gP/TH6/AjsupSGxF1RiDqchks7RyDtZX98dODW/yVydqzBdbp2FOE+cRjabQK26oMVXceLaxmD8V3VcXPUchAWp4l7dWBLdQJRVRh9b8XPQ8uF/gjZd6vf5/YYsaH4vGI+EJM+EH9T9Oe5YYRYgohqzzms+C4VaZ274cRrjyFqwmOImdwTi5uch//OVHWZeuDUHTFv+mC8kzpeRV0G+6BwUvdb4hk1Lj5eHTJXrvAeMkSpyTCglzqpsh6Zj1kvu8POAtBmJCNmdyySMrSAhR08Rk/FnEfU5erFGkyduRTrv5qF16epk6rjq2l4f1EEwma9ganqJHNm/vnPdAxU1KlMbJ0fhMwPwjF7oMEjWyN7DAoW084HYUW07mE1PXoJQjYbxY3Px2LFp5twVP88m3kUmxZNwZj+YzBlkZhuUDpP2RyCFftScPTbEEwYPgVb0yveZua+FQhZVbJGQuaRTVjy1hj0HTUFS749WjQvT0wP+Tre4FfAFGz9NARrDxVPyTu0FiGrDZepZW3cMXrpJoyOnY4Vh9RpUvoucY76dFqL+KJf8uUxL8YPx4GYsJCS517mOrXgyAoELfVC+NLR6GJQBm7ZdTSWLHXF9KUGgZfr6di1arq4psMw4f0V2FXKT5Tp+0S6jxuGYeNCsOmPUlLfhG3UqkYt4R64ApsCYzB9lfplminz4QrEGmQ+/Xno816JMynnHGTeDylREyUTsatCsNUgGJWZtBUrZL4ePkEcg1EtnEyRL1bJa6/bdnHND10eN9xOuWmpnNNWpOSK+/TTCRgm9iXvmRL7qgfp0SswXckf4j6JNr74meI7Y0nx/G0pRvdvJlK2rcCUUX0x5i2ZNlfV6QZMSJOj8ntHpv8iwz+meer3VSnrSRXm23KOvcz9mnA+tc1+EPyHp2FxtO67ubTvYd33edk5p6zvaYVIt9ivZbrKc1xS+ndCXSrn75ainO9eXTqkK3/LlHwg/3blipxzUnc/K995R+r7DiOqJ/k5OHrZEk92a6tOEBq2wKBBXTDPpanu+zDrNFZsOoxYwxYUp48h5MfTJb83bmQh9sf9GLM4BlO2HMXRrOJ2G5mHDyMkNh2Zx4/ioxV7MCZcbO+8mH/+NNZu2odhK/ZjRdwldWnBeJ/5lxAbFYcJy+S6h7Ap2fB79zrSDycg5Ku96Cu2s2TvX0Xf48p+SxznDeUYloTHFC1r2LwkJTYOKw7nIPPQYUxRj3NrquG+xPqnj2OFXH/ZPkz/8WT1m6eojv8pHizrW7eR+GzDdvx88Ah+i9mOLSunwreDnDEEczaMRNdmylJo98h27Px8nG5EcHsxGOGR0fjtyEHs37kBn73oqs4x8pSrrqlGdixCHhoA/1EB6PfQAkSna6HVOsJF1mR4Ohgbt4vtbxff2XJZaeISMS6mbQiGrzpJT/PifGyUTSzE8YZ/OLKoKciEz+U2tuPzid6YtnI79h86iJ83zEeAOB+fqaHYGaNbZ2VRTY4hGP/CE+jhORITJqqT4IqAkA3YKbb/hzi3nyPDMMfw3AzS64+D0dgSHoyAbuq8p8ch4AkPeD0/vvg8OgxB0Odie2LfNy2vpLE85g2Y88xIzApXjzkyFNNqooZHBcwi/9UQBirq1FHELPKCf79O6rihTujzvBc+itY9QNvb5iH8/a0wfIxP2Twb0y+1RKcmYiR1E8b8YzR2WffBiHdGwCsvHE/+Yzp2qc1H0g9NwdoPpmD6/xww6FV/eIgCcEXbzEvZiikGD/fp346BR+AuNPEZgXdf8ELe10/CY9ouZX6TlnmIecNgW0m7EPLWFARtLt56/OYgbM1rCXm4dcbaE8MCgHA1HXEoBF4O0xHfpg/Gzx2PPvgBg4Z8hHjlJG3RqacHOtkBDt3c4d6tk+5Yy12n5qXE70Js4DD0sVYnGGj59HIUrhwKJX6RF4+Q/l4ISffA0FfHY6h7OkLcRZ4xqHGR8rU/3CfHoOWQ8Rjv1wlH35+AxYfVmZLRNgZ1Eg8avYdhRZ3XKGkCz6H+wNpdujyUm4Ktb8lCvTITmZsn6M7DbzaWv9UHmauexOiv1eCDeg4fHe4k8rZIhy4pJc5B5v0phwxLsXmiMDqluMAjru+g3kuQ7jkey+f6o1N8EAZ9GKvme7HtgV5Yku6F8V/Og3+neASJax+rHFc64kUeL9pORddDOacVmC4K1Ze6DsX4l9yRstADgxYY3oF1KQ/xn/aF14J0ePiJ/DFE5I8PvTBslT6ok4mt47qgz6pMeARMx/QAV6R84IXREfq0lDV/BsHr83R4vfAuRviI+2zcdPxg+HRbUf5S0mQJpoh0yfMU3ysG34VxSydg+h+d1PXiMd3dH2tPqjMrzPsVHHup+zXhfOqI7BPDQf2iNP4elmSe3ppiOKVYed/TSrpMckdQbEsM/WA5gnwysWLI6OJ0rWsV/N2q6LtX+bs2fzrmHZH5ZDS6HBbLjBuD6QvT4DBwBEb/IwXzuonzq8cfj4nqjWVzdGmWj3DZH4Rh1xS29ujj1lr3fHM1B1uTM5FiWF7PzMGUUzkG3zk38MPW3xEunpFGeN0Fr/xz6PNVHGLV5iN55zIx5fBxzI67AU93R/RpeB5eG/ZhzOZzaNLRDuPva4hN0Yfw0e/qQZTYpxgOj0PQX40x9IkuCHK6jhXfHcDav3QRgsxf9sM9Ogctu7lgeR9bZCYcxeioC8o8Zb8Gx5m+dx88tmWhidNdeNfdFk1OHkOXlUeLmpilp17C2l8PY8oJSwwSxzmo6UWMXh+PrRfVBY4dwqCIv5Devj2WD74bnc6lYNDGkyW+e6vqr7Q0daiePBKMnRtmwLenE9pZARo7J7h5jxYF8VA8i7Zod58jbCx0i2rsneDs7KgMt3s5DGtn+MGrm5yvgZ2TO3xniML43FKacqRlQyv/tfFAYPgMPOspt7ECo7y64v6uXTFslhi1dYTzfWL74qPbg9BON+4sjsEgpAY0ckPg9CHwkE0sxDF5+c/AxlA/ZZajs26dHiODEejtBDsbG7TrOQTTvo7BZy97w9let47Py8FYqTRlkeeo7keJdjhi2pYNmPW0O5wdNGJcg3bdPPHsjNUIHyVGO0zFFoP0gpUj3Dz9MOs/YQiUq990Hn74bPXHmPCE2J7YN2zU5TdsxxwlEFG8/z5vTkWAp3rM3bwROFfdZi2qkfyXnYzo8DWITs5WJwAZByIQ9k08MgrUCaUsU+MKq+nPpJPqkPm5ceOG8ikoKCi8du1aoVarLbxy5UphTk5O4bmMjMLjScmFJ1Lq8PjPhBcOxezCGHX0JnvfLYRfeGGaMnKicPlA+8LZscqIoBt/d9dVZSxurnvhoC9PKMN6yrSVumkxH6AQE38o1C2tV/4209YONdh/XOG87oMKlx9XRlSG00puS6479IPZhUO7zxNLSXLZPkbr16DY2YUoIy2V8/hAnXP1UmHi8Uu6YYU47n7iuP+njoqzDfeDQZoIFa5Ts+S1GrpWl+rlUc7rpY2Fhkd2dUdQof3A5eII5UhU4bv2RtcsJ6owyL54+5c2jS60fzOqRL5Qpr1TclrNiSmcLb5mSqSvnuH9oAwPLQw/o8zRpUmYQf7OSCs8kaMblMdrnA5puxYXzttqkPf1119R8hor6fiewXxxvdMy1LNXjuNdg3x1tfDSmUtq2pQ8lwqvh7KtPoWLjyqzdES+tS+6R2qa7jzLzEsZGwtH2wcVRqnpqFCmvVsYpZ7+1ZTEonSW5PnghY2674TjywsHGa8vpxmkSYX5q7Q0UY/beL0TXw4qWq/CtJbj5R17afs14XxqnPH3Vs6lwhOxiwtH2HsWzovXTVLOteh7WMfwO6Lk/Iq+p2WeFfdVijJDcSntROHVa+pILbr5PhRHVsHfrYq+e5VtGuaTFHldxxf+ULRKWuHGF1AYtMMwJxHdQTJSCud98VMh5u0q7LP818LlP58pTNOq86S0I4VD5/5cGG74BfPb/wrxxRH1OyWlcPbcnwoHbTNc4Eph1BoxbfvfyljaTz8XYtHvRd+9hQUphe/O3VU47w91XIjb+FNhH/02SuxTbl8Mn1XmKC79/XfhVfUYYzb8VDh0x3ndiHTxYuGJXN0XlrJf/XGKfc4W5zgvsUCZpyhIK1y+5KfCd/+n25jcFsL+NPi7crEwXKTN+L3ZypiyvXUGX455mYVpFwwTq+rudbqvsGMn59r7RCTpdpQVU/hRKfOHfhFdePxYUuHxmNWFL8lp3t8XntatUPjfmXKZjwv/m6VMKDweoV/vncJd5+SUPDFtjDKt98cxYg3hsvi7om67+DOmcN2xPDm32PWswnO/f1/4/lPqMh+q6xcmFa7Tr2d87Prxov0+VTgvRj246wmFX4pl1ukXSYsW2/YufG2T+rAotn5w/lOFHZ9aXnjksm7KuZ8mi20Yn9+GQt2fyTyxvO443o6IU9Lo4Ndi+a/VHRSd5zuF6+JE+h2LK1z3hhg3Oo/e+mPOE+NjxHzvyYXfqcXJvN+Xl9h/XtL3hW+LYx6xME7dhrgGH+qOobY+Mv9Vz5nCr4bqt/dU4VfidPP2zizsrN/H9GiRkjcvUx2yPC7L5bJ8Lsvpsrwuy+2sUVHnyq5anHfVMI7bCX38PLB4Z6xuNGkXNqVNwTAfGRNPQdzOPHRplIJd0buKPik5tth61OCXODtbo9oM5W3TSFIctuZ1Ac4Ub39XdAou2W3FUeWXPbGtp12xMVb+OpyJuL2ZGPT8CAxy2Io4+eupXB+D4OEsN1aPmrREl45NkP5HLHZtW4slny7BpsPpsnZh2aqyTnVdLztf6OQhMX4TRgz00tWuUDX5Rx8M2xavqz6dmoJY+z4l09zaC4NeUIfFNuJiV8DLLg8xBvkmTpxa+oEU1HP8v4Qu3ccj5q0xGLNoE2L/SEdeS3t0Umqc6M5h/NN9SqSDvc94BA0srabSzey7eMHzQ38M+3Atth5KEbm3JezbqPeAYxd4PfwR/Id/hLUiXVNEurZ0LK1WkAnXQ9EStoY1ZRw7wetQXvE9Wofy4mOworcD8v5ncE8fFlc9PRYp6i/QTTp2gcP1FMSLeZtWhWD21zFiRd3R5qUcxVaR7h6G5+PcB0P7qcMm5y+jNFEN6+1RIp07ibR0kGlpYlqXd+w6Jfdb8fnUlunwatAADeSnuS3ufXorXCO2Iqi7OrsyKvye7gL3V2MQNGoMlnwbi6PpeWhp3wlNGulWr1sm/N0y5bu3edPifKKchwNsizKGPRxcxJ7O10O1GCJz0KYjgl7ui8Kxbph3X1McPXYc7ov2YsnRip4xDDVEn06GPco0hUeHptj61yXx91Jl2VBMVYmSRFNxMzq0UMcFhxaW2JVT2l+61nBvk4+gTTFYsvc0jp67ipZt26KJpW5uF4emiPn9CMZsOYbYlEvIa2aLTs1K+cI6nYNdaI4+XQyKMQ3t4eHYUBynQU+gTRob/F0R27IF0rS6LxR7x2bwPJ2MYREJ2HrsnDi35rBvpR7ILS5uTiBGzVqB7ada4AXZBGH1Y8Vv1FBrUtzk6f7oaqcbbPHAVKWpxcqhYi3567mVEzxf1M0rthtTBwyA/5w1iD6QjAz5o7qFDey6DcGsDZGYpjQzqYTsOGx4a7cYSMTiz/fhjJxm4Qg3g/1mp+xD2OFURCacge43/AwcX5QIHJ6DI+pDhsaqRD0NVSySxJ8SWZPCY5Js0hKJp6wSsGHWGAybthn4nzh+OdvKHUGHYrAzcgha/B6BGa8Mx9Rv5YySXnDVdbiiTfwRU6PEwKnNeF1sQ9J0cC1RY+JM/BtYL445ZsGPOFKLFQ9qj6yBUpIpU2oKAxV1SRSCPOxjkVhGNfu0k/Gwd+9S1OFYp37+8Fr6A3aJ7/qUvZuQNqIP3JU5mUg/3ARpx+MRf6D4k9J8EOZ1UdshlqHsbRrJTEdikzSkGGw/XhQ2bPvNQ5fmuj10+scgYFucKMzFYGusDErI4AUQL0oO6f/biktlbbuWpSTFoI+9LhXz9n2Evu1cMXrhD4gX6d6p9yAM8lRmlakq61RHp/tHiIfxklW9iyivM5RzMuUlQScHo+7oWtqK4lcaMmXVaXnN7FqWKMyJv9JoWvRXWrcNWUAzzDfxuV0wr5+DukwdSk1BTD/7UjvYazlkMY7ufRd9IArX4/qgU7u++EjpbFB3Dk2a3Bw6MFn3IMSkbYS/YyK2BvvDo+m9GBOhb/4g/kjtTcPG5+2RuHk2/P8h38izSRSxjJlwPcxMZqb4K56bgqOG1/6AKDjOHSSKelIKNo26V+T36QgX8y61dMewfn2UOZKyvnWTm4I2TYsK+tXLXy2LS5s6LR3QSQnqmJLW5R97aSo+n9pi0Jlm/Dx4ohPc7zc6d1OJhCn/e7olBi09ipj3RFrErsCEfp3g0EfflKmuVfx3q66/e4luW83awr13N8wb8xhiHgAmRCeV8nesLI3g0FwdVLW0bgRcu17u86VpmmPQiw8jxqsFcDoVE8Jj4LD4QFGzkpaPPIyjfo7ib38WVmw+hE6L9uCj30sJslzWIrFZU6PnHbF+00aIVwMRFersgZgXO8Pf5jK2RifAY2E0xuzRNTOpLmvrWv9DUq52b25Q+kyY8NwQ+HSTTSy0umYa5bHVqMVNDWwcHdFO+dhBoxXrXlGbeRhw6ys743SHzeEVGDV8AHp1d8Gjr21GklxQ44oBb1bjy/uXrOL9lRVYqZTNePW9FYj+MwPZ121g5+QKr0EjMS18O3YGi+P8djze/nI3ktLFeTazg3M3Twx4cSrCt28vtVNQG7Vcrs0zz8hD9fOfIwJWbcfKD2dg5c7lCHASl/SRGdi7IRiz5m7AzuneIpfcvExtYKCiTnVBn3GXsCRM3x7eQG4sViy9hCkDDYr2joPgP3AFdsXGY9fXafDvp5/ngC794uEgf0V+M6jk5yXPm764Syhzm0YcxbEeckCfiUbbF5/RD6t76N4H/hlbsStiFzYO9VKCEjJ4EbNXTNsbg2G96yFMcXItFi/1wAgf+et6JnaFTUenpXH4YelsBE0cgUEPd0KTch/Sq7JO9dh7Pomh8pfDUtqNp6waJgqSMSK/2KOTuzu2/s+of4OkRMTae6CLbDQnr9lOw1/zpRQk7lMH5Ta62CPPfehN1zTozUGiuFSXUrB26WJ4PN+nzP22dO6DERPnYfmuRKSs7ILpry5BvJoOuw4ZdQqbJwqz6jWytzcuoIqHHOPnFnt3DH1pNhZviMGJo0FIGR6Crfp0a2QP96dHY/bSjYg5noig1GEI2Wz8C60J18PM2Hdyhf11cd43XfsgDJK1cA5twuz48dh6OBzzxLTRT/dBlzbF31TK+jJ/qeOKvBTEFf3aUL38FXu05GN03vE4bHqhi1jPhLSu4NhLU/H51IHu4zH7hY2Y/nnx34SWbUpJqWvqv8ZM+Z4WfxE6+YzA+LnLEXU4BSu6Tsf40ProJ6Wiv1t1/91LdFuRnWJuSTZ6DXBDdGrfDO5XteIOE2wtb/4uvmHcg2Q+4lINO7kQf7HTr8K+TXPxbVwTmqKThxvG+3sharIXVrTIwvio4o5lWjo6YcTgXlg+yQcp/6fB9OijJfpWUzg2x7CcLBw17BRUHHfKuXyMaGtQtaNc4rzbOGLoE72weKwPTgxtjZT9x7C1xDar5m6Hevjxx8D4vu6wEf9m/Bgo/i53xYMv7EOFb5xdmaouk4Ho13T9TNzfdQJmfPoO3n7vYyyXlR0MeI2aCfla0c+D34CPOu3M7wk4p0YYmmja6AYUNmihdiLp01weWSls2sFDXabdVDe1Bkg2MmSNherq4IkBNgmIi41AcBcXdPKdhvV/KhEVOP9jCNp59ofNsXjEfDsH97u4YPBbEUi6Imc7ocdTyhZKiD2p1L+ATSePonOf0FF98MvOQYJuqN7USP6zcYKP/0j4OBVfL7uefgh4xh3t9BUoSlmmpjFQUaeawHPyEgzbORTDPt6FdPXJNO/kLnw0Yih2DV2C8SWq/7ZEn6eHYcW08VjSaDyGFs2zx6AXghD+fkjxWxKui4JfwL3w/7rkn6iblbVNI/aDMPrNcEz/1KD3+ZNr4e/ib9BRmTu8hsZg+vvh8H9YDUp098Kwb8WD57ej4VmVqsxVlJeZiZToEAzrF4TM4HkYrTR/aAlbB3ukpRdXOs/cuQIrdqojBtIy9Gdp+jo1xnEE5q1tgqDnJ2DtIfU4rmci/usJ8H+/JUJe7qP86us+ZDwc5s4r7ghPXvMPpuPqW4N0NVdEAd3/1Y2Yvaj4mqWs/ggfGXSm6e43G03en27QmV4mYj/0guvHanOg2pabiUyR30OG90VQ5mzMe6m04ms61g53gP/q4oKrcj1cHJRf/pV0mG+QDrlHsSTAFlN26s7awdkT9ps2Km+6UdIx9CNMNzi92A/vhdeHxWmUmZaGS/Zq9fF9H+Fez4+K76vMNJE37OFgd3P4r8LrYW56jsDsRtMx3SBdM3/5CF7dxPnKQE4bB3QS6ZymP3eRruGrw9URoecgTGkyD/OK1hd559OPEG7w5Fqd/JU496Pi9TJjESK+V8b79VEejCtM64qOvTQmnE/ta4I+L8+Gw/uzEa7WtGvSqQsGRWzERuXtFXlI3yauWahu3k0q+p5OXYthDgadkl4XaSRrp4j8Xvcq+rtVD9+9RLeTuxrh0rGTCNpu8PaLS6lYsfcS0L6N7rWemhZKh5sbD8hlbiDvr+OY/kuOsqih8P2/I1b/po/TCZiecANT3GogAp+egGEL/ou1p9VfD/JzkHZVfCc1k6+guIC1X0bDP0pfpL6OtKxrQFONWuvPQIv2GHr3VczeoX9Txw1kHvod09Obwr+brbJI+a4jNiIaXhsN1s/Kx6WGlrA1qk1SFS73uahDtczGE0FHjuCPok80Vr4oyspq8trcP0oJJoT/p39x0w/FOWjVgEK7x7arb/1Yiu3xcqIdBoREI3zxEoSL5+o5M+bjsw/HwOOUsniR0KgEXfOLDkOw8uhB/Lw9Gr9tnwovpcyagSM/bgZWJuKMbDoit7nsIPbHHMHKx9X2JTdxxIDFMdgptrNltKuudkdyLDYY7bdqHsOE4PkIenEcpm0PxWf/6o8e9rrStlbcI+g7Hp+ETEbAq1Oxc+V8BA7yQFvZqSa0yFbaoJQUuW6f7rzs++Oz6DCER8ZgQk+5PS0SdnyMGGWp+lNn+a8OMFBR16w98e7mTehzeALcm+raKTf1nIDE3puw9T3Pm6oht+w3FKNPxsJBPLAbFuma9JuNXZMuYXqXBri3myscGvcVD9iLMfv5ip+yy9pmSeIB+v1dmHBpOro0uBeu3RzQoF+4KCDOxgiDv1We/SaIPzzD0Ocf+iN3h+fT6Uh/oQ+8jE+mxhW39W5q6wH/z1PQ58t4/PBS8Vu2PV9YgS4RfdDAxQteoqA77IAr/HWdCKvsMfSN2Tj6si0auIcoUfuK16l5nZ5fIa5nE4T7ieOQ59TYFsNWN8GE6BUY0VFdyHk0wiM8sLFfAzi43Ku75i7h2DpZXyxuiUFzt8L/sL944HeFqzj2Mamjsbj4rVMltyHyzb0NumD0UX+ET6zd+tXTPYvb5Hs8vwQpvZcjftPoMt6Hbo8Rc1fAYZWXOMa+4ho0gNfqTvhh7gil0KqcQ5grwvXp0PxJbO0WhXlP64IJTXxGY4VPPEY7yHT0wJKWozG7tzJL4Tl5oy6NxPXtK/K17ctHMXpbEJQUeDgIG0fEwd/2Xnj1EfeV7RgcHbUVQQ8rq5ZU4fWoH5tGiHtVvS90n2FqcLETRodtgsfmvmig5I8G6PJqIvxXi3OXTYAdh2L6tBRMsHWAq6c4d3E/2PYbLVdUuSPoa911aeAi1nfwwIr7ZyPEIG2rk78mLByNlFEOuu8zW3/EjdiKeUPUAFFFaV3hsZfGhPOpC87+mP5BGqbPV19DLMZnLwRCxMN2gwad4H/oSQQZ3sMlVPA9LYOgXzpghadIlz5euLexF9Y6/oB5JvydqA0V/d2qj+9eotuGxgnT/2kPhxNHYRsShQafis/yY9jU7G5s9O2oPl+2hb9Pa+CYXCYanTZl4cmexjUQLBHySDOsWB4N1wViGxHn4fDQAwjqXANFBvsumPdQY6yI2APXhdG499+HsbapI+b5yOBCa4wY7AiHY4fhsCAaXiF74HW8MX4YXNwkulhT9PlnF0zIO4Uu4lzvFefSJTofo//pjkGt1EXK1QiegzrD/1IybMW++oqPbbQWowe5wbMGTtPDve6eAzRWGoOPDTQWQPACXY0ATQdP+D49BD20cUgo0UphM5avi1Xe3iDfCOLc62EEIBUhb7yDsMNiQRtHeA3qD68ONsClRIS98wYWq2sWWRmA17+MxRml5oGN7k0isqx+JRUxX07DqG/kQnMQsiYR2bJQL/uvsM1A9Pexav8SRrLjEZ2ogXwbiPJGkox4hM6ZVjOF/lNz8OqC3cqx2tznLdLEG87i1LL/3IzgN5fizOzxCIlKhbbABs7eQ+Dr7QSbgmwkfTsHry9St2Eo6g34f6puT6SxVzc7aNTlX51dXDuovtRl/qttDWRPm+pwlRxPPgUXp8r2mFI39Kcm/71x44byKSgoUD5X8/KQlZUNCwsLdOpYT8cv+x/IFcXLltUp0ev6MGhi3bL2OkiT1erzmlTzOOuXrHGR16QlKnMKVVmnJpiyX7kMyrvmsuYCxDbKaaZWX+dXGcoxNir7PCpMh/LINLpeRr5W7k1xX7U07fW61TqO+lDhuZf/vWRK3qlq/qooLcudX8Xv1Koeq1kp93u6Dv5OVEr5x3NbXA+i+nQ5R3zHN0ST5s3QpMoF7+vIy9IC1dpGGW7kIzNHiyZNmxd1pFnsBvJyLiOvYVO0bGbCF5b2MjLzG6Nl8yp2hCnT6oam6uuXIjn5BB7v94Q6Vn9kPxJtz21GtOFr6ktwhFffdjgTFavrvFJPNpXwaAOkx2N7rAkF726i8O/cHNlJ5e3LRGJbA6yTTNtvFchmHh72QEbcDsTcVFtDBmjcYYfziNtqlCZlkGnsrDF9+brw084f4eR0rzp2a0g5eUopn7doYYOmTZoo5XP5YaCiPgMVRERERER0W/Eb/hwOHDiojhHVjZ49eyBiwzp17NZRVqCCTT+IiIiIiIhqyLPPDleHiOrO7ZbvGKggIiIiIiKqIc8MG4r7O3dWx4hqn8xvMt/dThioICIiIiIiqkGvvz5JHSKqfbdjfmOggoiIiIiIqAY98UR/jHj+OXWMqPbIfCbz2+2GgQoiIiIiIqIa9tFHHyodHBLVFpm/ZD67HTFQQUREREREVAsWL1rI/iqoVsh8JfPX7YqBCiIiIiIiolpw111t8Z//rGTNCqpRMj/JfCXz1+2KgQoiIiIiIqJaIguTERvWsc8KqhEyH8n8dDsHKSQGKoiIiIiIiGqZ7Etg2edL2BSEqkTmG5l/btc+KYwxUEFERERERFQH5NsZtm3bgk8//YTNQcgkMp/I/CLzze34do+yNCgU1OEqOZ58Ci5OHdQx86I/NfnvjRs3lE9BQYHyuZqXh6ysbFhYWKBTR/M8fiIiIiIiun0lJ5/A3r2/IC4+Hsf/PI6/0tKQm5urlFvoztKwYUNYW1vjbgcHuNznAg93d/Tu/QicnO5Vl7g9pZw8pZTPW7SwQdMmTZTyufwwUMFABREREREREVGdKytQccc2/WjQoIE6RERERERERET1xbh8zj4qiIiIiIiIiMhs3LFNP/K0WmRmZrHpBxERERHVqwafRqlDdKsrfLOvOkREptA3/WjZsgWaaDR3XtMPWZVE/1EUFrL5BxEREREREVE9UsrlaiWDonL7nVCjQjKuUaHVapGVlSVSgq1fiIiIiIiIiOpF4Q20aNECGoMaFXdeoEINVuTn5yuv/rl06RKuXL2KgusFShSnWolBRERERERERGVS2jU0aACLRhawatoUtra2yqtZLS0tdYGKhg1v70CFJE9PnmChDFSI4RtqjYrraq2Kq1evKkGLwhtyOfFf9ZKDiIiIiIiIiMqgNO2Q/zVsoAQnmjZtqtSmaKTvn+J2r1EhKYEK9RT1tSr0TUBksELfFEQGMpSABgMVRERERERERLVCF6iQvTA0LGrqURSkENPk544IVOj/lR/DYIXyUaeJmbplRaLpVTNpiIiIiIiIiO54SoeZeqKcrYyLjxKY0P9r8LlzAhW6ESUoIaeV+FedV82kICIiIiIiIqIK6AMVMnyhBCbUYEXRv6JwflsHKiTDU9QHKEp85Ax1GcNliYiIiIiIiKjmFNWuUAMVctzwc8cFKuS/8sTlv0Uf3QxlvqRfloiIiIiIiIhqliyTF5HBCeWf4kCFUm4X/7vtAxWS4WkaBieMT7+ayUFEREREREREZSgRqBCKxmWgQjd05wQqpFKDEgaJwSAFERERERERUe3SByeUErgoh98UvLiTAhV6DEgQERERERERmRd9wKKh8v87jDx5ww8RERERERER1a2yyuZ3ZI0KIiIiIiIiIjJPd2SNCiIiIiIiIiIyTwxUEBEREREREZHZYKCCiIiIiIiIiMwGAxVEREREREREZDYYqCAiIiIiIiIis8FABRERERERERGZDQYqiIiIiIiIiMhsMFBBRERERERERGaDgQoiIiIiIiIiMhsMVBARERERERGR2WCggoiIiIiIiIjMRoOsrKxCdbhK/s64BBenDuoYEREREREREVHVsUYFEREREREREZkNBiqIiIiIiIiIyGwwUEFEREREREREZoOBCiIiIiIiIiIyGwxUEBEREREREZHZYKCCiIiIiIiIiMxGuYGK77//Xh0iIiIiIiIiIqp9ZQYq9EEKBiuIiIiIiIiIqK6UGqgwDk4wWEFEREREREREdeGmQEVZQQkGK4iIiIiIiIiotjXIysoqVIer5O+MS3Bx6qCOERERERERERFVHQMVVXTjxg1cvnwVV/LyoNXm4/r16ygouKHONY2FRUM0atQIGo0lrJo0QbNmTdGwYd2+iKWwsFAc/zXkX7smzqEABTcKxLlVK0vcdho2bACLhhbiWlnAsnFjcb0ao0GDBurculET+e1WYQ73xa2Q3uaQTkREREREtYGBikrKz7+GS1nZyM7OhXUzK1g1bQJNE0s0btRYKThUhiz4XLt+Ddq8fFy5mofcy1dgY2MN2xY2sLRsrC5VO2RQQu7zap5WnUKV0bSJRrn2MnhRm2oyv90q6vO+uJXSuz7TiYiIiIioNjFQUQnnL1xClijA2La0QQub5jVecJEFj6zsHFzKzBbbt0ab1rbqnJqVIwo0V67kqWNUHVZWTdBcFGhrQ23nt1tFXd0Xt3p611U6ERERERHVNgYqTCB/ZU0/dx4aS0vl4b+2CzCywCELTdr8fNi3bVNjv47KWhTZOZdx7fp1dQrVhMaNGsGmebMaq11R1/ntVlFb98Xtlt61lU5ERERERHWFJaAKyKYRqX+lo0Vza9zVtnWdFGLkPuS+5D7lvmuieca1a9eVKu0MUtQ8maZK2oo0rq76yG+3itq4L27H9K6NdCIiIiIiqktKjYpDhw6po6br3r278u/tXKNC/tIqH/Tt2rRCc+tm6tS6lZN7GRnnL8Lxbvsq/zIqa1LIgjQ7yaxdstNN2T9AVWtWmEN+u1XUxH1xJ6R3TaQTEREREVFd48+15ZDVwVvbtqzXQozctzwGeSxVJZt7MEhR+2Qay7SuKnPIb7eKmrgv7oT0rol0IiIiIiKqawxUlEG28ZZt1lu0aK5OqT/yGOSxyGOqLNlxJpt71B2Z1jLNK8uc8tutojr3xZ2U3tVJJyIiIiKi+sBARSlklXDZ+7859Zovj0Uekzw2UymvIOXbPeqcTHOZ9qYyx/x2q6jKfXEnpndV0omIiIiIqL4wUFEK2Z+DfEWhOXWsJ49FHpM8NlNducogRX2pTNqbY367VVTlvrgT07sq6UREREREVF9YMjJy48YNZGfnooVN1auEay9lQ1vaD+rabLFttQf+Ai2yy1quDPKY5LHJY6xIYWFhtXr7z8/5C3/uP4yT5/LVKbeJggs4sHEZln0ZjgMX1GnlKchHTmYO8itxnSSZ9vIaVKS6+U2bnYqEX+KRlF6Fa31F5MfKt1Kpddrs2rsvqpze8t4V9+tNHzNMv7JUJp2IiIiIiOoTAxVGLl++CutmVlX/tTU9Aq/26IF+SxPVCcUyNgfhwde/R4Yy8j1e7xGE75QR08hjkscmj7EiWm0Vq3hfPYa1Ex/H4yOmYvbST/H+6L549IWFiDGlUG/2crA7+J+Yl9gGD3TpjDamlFUvbMeMJ97H9iqcvynXoMr57UoiQgN64MEB4/H2pzPx+tAeuH/wHERXIj/FLRTrL4xXx6pLizPxsUiqdjcIGfju9R4IqcRhVea+qGp6K/euuK9v+tRY+tW+yqQTEREREZVO/ihd4ocrvgm+VjBQYeRKXh6smjZRxyrvTFQEYjw9YffF94ir5K/wppDHJo+xIvnXqhKoyMeBpWPw/X1z8MN3YQj7j/hsjkLYoBS8EfKjKObf6vKRfTEfXk89A6/ePdHRUp1cS0y5BlXLb1rEfDocG1wXY//eSGyJFJ+Yg9gyNBmjZm1G/VTuz0bMogBsSFZH65ip90W17m/vYOw/cRwphp+p7urMW4Op6UREREREpYlHiPEPV126otdra5BkTjVtLyUjJj5VlBpuXQxUGNFq86FpUtUSbCqiN2VgwtQZ8O28BpGxNZ815LHJY6xIZTpzLHYeJxNFQf7RnmhuoU6CJToOexOh/+ysjv+F3V8uw+5UdVTKOYxvvowWcwzkHMOPaz7F1H9Nxbw1P+JPoyhHzp8/Yu3cqQh4+1Os3XEMOUaHe2H/N1g4czwmzFyIb/YbVWcouIDDW5ZhxsQATJ0bjh+TS6bHhd++xzKxrm7bJ6HMVY5xJXanAIe/lU0/1ONVpn+Dw4bHlxqNZRsPVzswY8o1qFp+y0DS71r4PO4Jm6LrpIGz/wxsfM5VHdfJTtyM0PfGY/CrsxC6ORHZ5R1SQQZiwufg9YAAvD57DWLS1ekGMn5Zg+CgAPgHzUHYL/rqG6nYvmApfkwCDn69ACHh8cXBkoq2WZCNpKg1mPGqL159T8zPqNo9Y+p9Ub37uxzZ8QhbsANJGbEIk+n9paxpIdNlDeJSkxG54A34T9uhq00llHddzvy4AGEHUpG0eYFIt2nYrq6Unbxbt+2ANxAcHouMKtzipqYTEREREZUtcIPBD1fHo/GBzQqMWhhvPoGB5Aj4L4qtpx8wawYDFUauX7+Oxo0aq2OVlPg9lmf4wcfVCQOf98T6qLgaz6zy2OQxVqTgRhVKMWiDjq6W2P3NjzhpWJaxvBvdenWErqXEBfy+YhV+N4wdXE1BzIrDYo7q3I+Y+sx4bNY+gGfGPQMvRGP8M5/igFrj/MKOqRg68Xvkd38Gk4b9H7B7PIZ+dkAXUBD/P7wiAM8tP4/Og17Cv/rejT8XPYsJG08qcyGbb8z8Jz6Kb4MhorA81jMH34x7G9+nqXOj3sfTwYfRZtCbmPPq/yH7mzGYuuUvUUJrjc7dH0DHlkDrzj3Rs3sn3fkox/5fpBjWhr9wGP/5JUU9nqoz5RpULb/ZwfkBDbav3owkwwymcYTHI06wUUczNo9H79diofEeiWn+HtBGvIDes2NLz5PaeCz2HYCQc24Y/vKr8O2UiOAnAxBWVENCi7hFvnh8TiIcB72K8U87IXXOAPiHywVs4PwPDzjbAm3dHoanqx00yiombPPT4Rj8RQY8/KfiBW/g+6BZ+LEKzWxMvS+qdX+X50oSdi9ajrdnrYG2l0hvbycxMUOkWQQ+ensWEto9hfF+rsq1KXldHoNm7xvoNXZzURAjI34pNnw8DTN+c4Tvy35wkyslLsUw36XI6DUen3/4Ahx/m4URn1b+j6Gp6UREREREJrKww4ChT+Hcmt1IUCdV/QdAVXnrqz+Qnbmi/hgW8AZCvokv+hEr+8AahHwdByTtwOIFC7D9lG76rYaBCiMFBTcq31+AKiEqAnjeG24WoijZ9yn4fBWB6BoOY8ljk8dYkRs3Ku7I8WaW6DluNf5lFY6A3o/juYnvY9mWAzhZyaoFf25ehj+HL8Hi0U+gZ6+e8Br5AZa83hx/JYsNFRzD5qXH4P/ZEvyrf08x3wsjZi7BlOZ/4ZjcT2Y0wld3w6x/j8UTYt2evZ/BtEVvwloU+A4okYOT+H3HAxgx5hn07Hg3OvYei/mr38SAtnKemJv4Ix54/iU806sj7u7ohbFz12NK37vVYEtPdBSF6btd5X71gZfaY8o1qFp+08DrzUiMb7Ycg7v0QD/lyykWSYZ5rSAR6z/NQNCyYAT09YTXI0MwYdVqBEYtwPpSvqyydyzHYvcQrJ08RCzrCR//YKyd2RzBa9TAxqUdCF3giA9W67fnh2nLQ+B98QzOyEDFIw/DqTXQ7gExz91RCVRUuM1TohC/xhOf/2cyfMV8r74jMWfGY8g6LGdWjqn3RXXub/2XfYjBp+QXvxYDJi1B4BBxLvfpw0WJcBkVimnPeOvSpSAeoe8kInC+Ph29EfDxEky7+A4W/1IcdkhwGoWV0/3g84g72onEzEiMR9JzkxE0xBXtOrgj4MPVWDnaVRcQqgRT04mIiIiIKqFAPMe10pj+Y12ZPwDK2RWsr/xAFoEZs1cg6wE/jH/RAxlfDMeIL3V9JGrs3eDpZgfYOsHjHw/DWf9YWlnaREQaPfsafyITK/uzmekYqKgpogAS+YUNxvRXq97bPoYBgzYjcs8tVuGmaUc89U4Yft67HnNe6AkcWCYKXgEIjirRsKMcJ/H7XuCp3vqmIpIl7hs4Fk91bQ6cOYxdeApeXdRZkmVnPPHyU+gmZucn/o7dYiD/8AEc2K9+/jwPXD2Mk8ohdMQD/X/HvLfex9odureSNG97NyzVJhAdXZ/A759NxYw1P+LwyQvIb94adzfVzbutWDnh2eBI/HF0Oz5/2ROIXYBhXr6YulVtk3MyDtu1zkBaLGJ+UT+xyci2jUdyivEXihYH9+9Aj1b5OKhfVnyOZIg5cck4I5f4TWxviC98bHVrKOy9ETjRG+3U0ZJM2GZKMuJEYb2HlW4NhZMnfLupw+ZG/bL3NPiU/OJvC5tS/hDYtDAIJ5xMQIzM/4bnaOGEHo/bIfpw0V8v8YeuRYkghJ2rO5xXToD/nAixXCqyYYd2dpUNUxARERFRjZJvcjwVj8VfrEE7+YO1mFS9HwBNWF9xDp7/UteXP/Z9PBpnvtbV6NA4usPrAfGE3tpJWV/Weq4SjSt8X/GGdutSLF5k/PkR2t7j4Otae8+jDFQYqeovjtrY7xF2JREz+rmg073y0wOvbwW2f/tjUZXummDqL8INGzZQh6rIsjU69noKY2cuxw8hPXHgw3C1RkNFcnD+ZHNYl9UNQO55nGzZHGXNzsn6C7jyF/44dAAHij456DjaC20aySWaw3vmVoRN7AkcClffSrIMh9WmG837foAf/jMJPfA7wt97AY/3DcCy36rbiKNqTLkG1f6FW2MHZ/HlFhSyAftDPRHz1grEyG+w7AwkaTKQ/L99iC36JEHjPQ5O1saBimxkpwN5qQkGy4pPljMmeLfV1Y64lCpK3JaV+AW/qtvUQGOtDlaCqfdFtdJb/bI3/FT6i19elwcdYaeO6tnYtsOZLOPrYsB1HHbGrMbwdsmI/HQMenfpgVe/NewoxjSmphMRERERlS10uFrmc+mKB31eQLRrKNa+LH+wru4PgBWvr2P0A5mjeE5NzTYIZNQQK3dMi9yAQNmquYgTAjdEYlrP2gtSSHxiNdKoUSNcu17ZN2aIDBUVAbfpkfjt4MHiT8wSPLs7AttqsF2QPDZ5jBWxaFjUy6LplI4lf8SfRuV6y/u6odvVv3BBaQLSHHcb1oaQCmTPEnodcX/vYzhg3Hvm1RzkyIU6dIbP0QM4lqmbrJefmYN8sZ3W7TrDsuABDHh5LMYafbwd1YXFMcggyoi35ihvJZlz3yrM2HBMnSfmtuuJp0a+iTmrt+KnDzvjPzPC8ac67yYt2+BudbBIDTXhN+UaVCm/Ke3SNiPB6JtI4+YBjyupyJCVeBydxZeVI7zHTUbQ5JKfgJ7GP/vboZ2rBtoHnrpp2aDJ/ZUaE3ad3dFuTyKSDLvdkBHkS2V9HZqwzY6u0Mht6lbQ0SYhMVYdrgRT74uq3d81yMkNA2JjkVCiopUWSQmx8OlclMFLZ+cKX/+p+CxsO37bPg5nguZjeyUrbJmaTkRERERUtqLONI9HIkgU4tt1doOd8uhf3R8AK16/zpUIVtRNkEJioMKIRmMJbV4lf4HP3oMNX4lCRF9X2NjaFH/sH8NTLyYi8pfK//JZFnls8hgr0qhRFQIVzVsDv76P9xfF4IK+QJr/F2K+XIYfvXzQU8yGKNZ37GaJ3T9G65bJPIZvFi3E73KWojm8Bj6DmBWrcEAfq7gQg3nPB2CjrNne/P/wxLD/YtXqA0Vv+riw91M8969voHSX2WUAJln8Gwu/K25qknNwIZ4bsgyH5WVJ+x4T+k7G9/okLTiPvy4CHVu3ESN/4fuJvfHG5uJ1z587D3RqDeXQS2PZER27xmB3lO7NI/lpMVj4WYQ6s3pMuQZVym82dsAvb+D1ObuL3/ygTUX0gvmI9O4PL/lzvV1/vOAfgeAFscVvlDgVgVE9AhFZSnb0eGoqNJ/OKe6/oiAbMXMGoJe+w8bOT2CM3VKEROhXFoXrrybgwfd2iK/TYtkXiscq3OYDT2CCRmxznbpNOX/BAqw3bApiIlPviyqld02yeQy+/jsQsrT4umTHLkDwt0Mw3Nu4noWeFnFzeqDfpwbrnMtAtlVbtG2mGzeVqelERERERCawcEXgu37YPmcp4pQH3Or+AFjx+vVCCVZEY0t03QQpJAYqjFg1aYIrV/PUMdNk74kUBUQ/DOygTiiiQY++fkj44nskGGbEapDHJo+xIpaNq/Jmg7vxzNwlGJA2G097PYSHHxKf3s/io7SnEPrBU2ph3xI9R3yAnoffx5NymWdXofmwSeipzNOx9HoNYcPPY8aQh9Dvicfx8LDZyHlhAUYoNTEs4TVxNZ45J9d/XMx/CE/PzcGIEH/cJ8v1Fh3FMSzAA1EBeNh7EJ4U85+cmYKn5o5CN1m+cngK095rg29G9saTLzyLfl7P4vu2czBloDy6u/HUtA/QZuOzeHRIAJ4T6z73XRvMeUt/7KUR60yZhPz/BIhtPYTH3/odPi/7qfOqx5RrUJX8BjgiYFkYfFOnobeLWu2sywC8neqHjZ/5qc0KNPB5JxJjsuegl0sP9PLqik5DI9DuwxnwLe2He6eRWBbqju+HuuB+Ly886OKF15P9sGq8uy5ya+Ek9rkYzhG+6NS1Bx7s2hXDfnDCyhlD1LeM2OGf48bhSFAPdHp0qa7H4wq36YoJq+aj7ZoB6NTDC70e9MHqzlMxq5ecWTmm3hdVS2/V7mnopTTrMviMiqhk066S1+XBHi7oFXQOL2z6GAPKbEaigcek1RieOAEP9hqAweJaPvhaIl74ejI8KhmPNDWdiIiIiMg0mt4jMc1uBT5ap+tvrLo/AFa4vqkuZONcDZVBFVaOcOtQd3U6GmRlZRUeOnRIHTVd9+7dlX//zrgEF6ebSui3rBs3biA55Qzu7djO7Npyy/blJ06egVOndmjYsPxjKywsxLnzl9SxKsjPQc4VceM1b17UUWWlFeQjJ0db9jbkPrQaNG9exi+8srnI9TLmV7Dt/JwcaBs1R/N67EizbRtbNGhQfj8V1c5v2mxky+tkYwNNWddJWUYDG1vTvli0l7KhtbKBTVmLXxHbg5hfiZoPFW1Tmy3ma8rZZzkqc1+Y1f0tr4vI/zaVOWmZ9uKeqNQ6qsqkExERERGVJh7B9w4HNhzHNINfarUH5qDfv85h2t75yo9PGbFL8fqEBTiosYMmPRuavpOx6t+j4aZ/fs7YjeCxQQg9BvFUnQ10Ho3Plk2Fj1rBttz10yMwymsHnogJxbP2uuV105Ix4cRUeMjxglREvuaL17dmw3fxQXw2qJQe380cAxWl+DvjAho3aoRWti3UKebh4qUsXLt+HXfZlV0/wFB2zmVczatU3I1qSNMmojDZ3LR6+eaa324Vlb0v7tT0rmw6EREREVH1VPcHwArXv43xZ7VS2LawwaXM7Kq/HaAWyGORxySPzVRWTVnFu75UJu3NMb/dKqpyX9yJ6V2VdCIiIiKi6tHIfgvLCzLIIEQ5tZQrXP82xkBFKSwtG6OFjTXOX6hG04kaJo9FHpM8NlPJzhytrBisqGsyzSvTmak55rdbRVXuizsxvauSTkRERERE9YWBijK0aW0LbX4+srKMXrNZD+QxyGORx1RZzZtZKdXcqW7ItJZpXlnmlN9uFdW5L+6k9K5OOhERERER1QcGKsph37YNLlzKRE7uZXVK3ZP7lscgj6WqZF8JDRuW36kjVZ9MY1P7pSiNOeS3W0VN3Bd3QnrXRDoREREREdU1BirKIatJO9i3Rcb5i/Xyy6vcp9y3PIbqVNmWzRBa2jRnsKIWybSVaVyZJh/G6ju/3Spq6r643dO7ptKJiIiIiKiuMVBRAfn2Bse77ZGVk4u/z12okw745D7kvuQ+5b7lMVRX48aNlI702Ayk5sk0VdJWpHF11Ud+u1XUxn1xO6Z3baQTEREREVFdYqDCBPLXyPaODrCwaIiTp88qr/mrjQKN3KbcttyH3JfcZ03+Eip/7W9la8MONmuQTEuZptWpSWGsrvLbraK274vbJb1rO52IiIiIiOpKg6ysrMJDhw6po6br3r278u/fGZfg4tRBGb4T5Odfw6WsbGRn58K6mZXyGkpNE0s0btRYKRxUhixYXLt+Ddq8fFy5mofcy1dgY2Ot/Dpf2wWM69cLlH1ezdOqU6gy5K/U8trXZICiNDWZ324V9Xlf3ErpXZ/pRERERERUmxioqKIbN27g8uWruJKXB602XxT8r1f6V1hZ8GnUqBE0GktYNWmCZs2aomHDui0MFRYWiuO/hvxr15TgRcGNAnFuhepckmT/ExYNLZSghGXjxuJ6NUaDBnXb30dN5LdbhTncF7dCeptDOhERERER1QYGKoiIiIiIiIjIbPDnNyIiIiIiIiIyGwxUEBEREREREZHZYKCCiIiIiIiIiMwGAxVEREREREREZDYYqCAiIiIiIiIis8FABRERERERERGZDQYqiIiIiIiIiMhsMFBBRERERERERGaDgQoiIiIiIiIiMhsMVBARERERERGR2WCggoiIiIiIiIjMBgMVRERERERERGQ2GKggIiIiIiIiIrPBQAURERERERERmQ0GKoiIiIiIiIjIbDBQQURERERERERmg4EKIiIiIiIiIjIbDFQQERERERERkdlgoIKIiIiIiIiIzEaDrKyswkOHDqmjpuvevbvy798Zl+Di1EEZvhUdTz6lDhERERERERFRXSotnnDHByqIiIiIiIiIyHyw6QcRERERERERmQ0GKoiIiIiIiIjIbDBQQURERERERERmg4EKIiIiIiIiIjIbDFQQERERERERkdlgoIKIiIiIiIiIzAYDFURERERERERkNhioICIiIiIiIiKzwUAFEREREREREZkNBiqIiIiIiIiIyGwwUEFEREREREREZoOBCiIiIiIiIiIyGwxUEBEREREREZHZYKCCiIiIiIiIiMwGAxVEREREREREZDYYqCAiIiIiIiIis8FABRERERERERGZjQZZWVmFhw4dUkdN1717d+XfvzMuwcWpgzJMRERERERUbQVanEmMw5ksdRwt0M7DFe2s1FGiStCeSsTB4syEFu084NZBo46ROWKggoiIiIiIzENBBmKWBuHVBbHIVicZ0vQch5ULJ8PLXp1AVI6MX5bi9dcWIOaSOsGQlTsmLFuCoEfs1AlkTtj0g4iIiIiI6l/GbgT7+sB/QRzaDZmKlTtj8Mfx40g5cRx//LodK6cOgXPiUvh7DcCM3RnqSkSlKMhA9Gxf9A5YgIMOQzAtdDv2H9HlpZSjMdgZOhW+HROxOMAL/WbtRkaBuh6ZDQYqakJBOuJWvYvXRo7EqJFvYsm2JOSakNkvbpuJT7ZdVMeqKhexswZh5KokdbySksIx6omZ2FNcE8psHFk+EusOqyMlJGKdkta6z2vvhmBT1GmT0rzGVCbdruYiv+jYqnm9iIiIqN7JZxT9c4h89lsQvgtpuerMmyRh3fOD8ElUmQtUrCAfubn56kglVfE5tc5diUfwiECEJjoiIDQaW/49Gj5OdtBY6GZr7Jzg8/J8bIkORYBTMsJGDUdwrFY383aTsQ2fFOUv+az7BbbEm1ZmKPv5WZDbnbUNcku5u2ei7/BVOKWbY7LcY9uw5A39ca1CXLo6w6xoEffpCxi1MhHtXgzF3sj5COzrBDt9syGNHZz7jsZnkdFY+aITkr4KxLCPY8Va9aSq96jB9awy+d1yVR2urJrYfzkYqKi2i9jz7iiss/DHjNCVWLZkIjwOTcPY5Ynq/HJcvYgLV6v4R6eINTxfWYiPhjqr45XUyRczlozFYy3UcXOSm44LpX5jaHHhrDUGv7cMC5csw0evDETzxGD4TY5EWl394a1Euh354p8IjVdHqnu9iIiIqP6JZ5TmA2cqzyELlwRhcNOf8eakcJwq9TnEGYODFyLQ21odrwJRIPjg7aoUCKrxnFrHEr56B6HJGvgEL8esvsVV8eO+9MVg3xWIU8dh541Zq4LhY5WK0LdXIMEcgy7VJQqPF866IlDJX/JZtzvSlo7Egt0mBLvKfH4W5HbP6coe1r3HYuUnfqhUA/7ELzD2vXh4vL4My0KXYYa/JdaNehd7aqukWlWJK/D2l8nQ9A3GyunesFODXYhfIfKSb/FzuYUdfKYvx5y+GpxZOQ2hZQV4alU17lGD61ll8V9g4BdFBZXKqYn9l8PinXfemZmeXvlQmL29rmHY5St5aN2qpTJ8Z/oDP3ykge+CwejQ2AIWTVqgnftDuK+pNVo6WMMiKx6bvktHu64OsJSLG4wXHN2GX9AbPbIjsebbPTiV64B2HVrAUgkfncaedSdg0+Y0tq36Fr9dbI2O97ZC7r5wrPlOLFvQAV3a6f7g5R6Pwi+XxLiD2ENBLk5FRyDihz04ftYSd9/ngKZqOOrigUhEbtyJ2KTLuPveTmguD6hhOn4LPwbNQ2JcLlSQjiPfRSDyp1/KPZ5fDLdxk1ykxWzDD9/p9tWmQye0bCKnV7ANcezHfwzHpu2HkGbZAVanIpDaPgC97lbnF0nH/746jNb+vujaxhKWLezg9NBgPHT6fcxJfgiDu6rRg/R4bFn3Dfb8Nwn5be9FO9vigy01LaQyzj83PgKxlx1wcdtybEl3QA+Xq8XpJq/pz9fgdD0GEV9vF9sEOrk5KumetmMRwnccw4m/spCWYYnO4rrnG14vITdlF7as2YJfDqdDc/f9aKs+x+j22QHXfi1Ok/scmupmEhERUb05ty8MCW2ew5PurWDZxBqtu9wPyx1z8ce9z+FBO93zjqbxIfzw9SHgfjdY/B6Oo40eQkftr1i37iTu9mgP/V/0XPl3/nRbdJXPdRlJ2PldOHbtSUSahQPuu1tMk88ZKzfhl8QUXBDz89uK7diKFct8ZjNUwXOqXKS87ZTxLHXTc5GTePYy6XjKoI3FkjEr8VvX6Qid+QhaGayXdnAdoo93hM/wf8BBP93GDW7NfsHqzd+ikfsr8OnYSJ1xm8g9hp0b89Drld5wbCKfdR3R4+6LmP79NQx7vBPyRfpvSTd4ljQYl3nzVPuhuOu3cETI50d9PlIWFNv9GXjkyfvRNOc4du2+WFxGKee5We/i3jBxjSZh1MOtYNHYEk3tHkCPntawauaIlmqGLuu5tuwyys33S1tRbihzOxXSImZpIJb/9gDe/3ImHm2tTpbEOa7dfQydvJ9HLwd1WkMbdHWzwd7Vm7HJ4gG82qcj6jY3VeMeNbyecrnyrmFp80Qah67dgd/+PIOC1IvQqGlf/nZ+xSZ9Oa51Pvb9arD/Gmbq1weVqTUcOu3FD5sSi6voWLdHV3d73U1/9TT27T2NoliT0fjJbYvwdYorBvsNhENiMCYtilfnXcCRdSFYvOkyevj2hfWeKXhz7Lv4OksUxAc649RnYxGmRv3yU/ZiX4ouwnp8+VjMSXTG4AA/9MhdBf+5vyjby93xLqZ8D/TwewmD7ffhzUkRSFPWEPvZlCD+L4ibYMvkKfghv3sZx/MxZoVdFNvwhefV7zDy7chSIvv5OLJoFN7cno+uvmJfnRIwJ/ALHFfSprxtyGjicMxP6oD+vr1x98GFWByjzDCZS39faGPidds7G4m3Jkciv7svhg1shbhpYxEarzuTMtPC6Pyb75+CsUt15y/TOPS9EBxs1Qs97pXflAbpJq9peDDmRAKe8rwstmHK2AjlV5Xm9/bCfW1FLuks1uus+0NgeL3yDyzCpOAEOAz0w+Du+fhh8iRsOavMUvc5D7F2fcU52OP4x6Ow5IDuHIiIiMicWKO58ouPpHvembMuFx16OKO1+ON/ITESR+RDg714FohZid2ndUuKp37sDouCpaO9GBTPLi/Ow0n7gRjm9xDwzSR8sEM81ViKgqZrB1hbd0DXHr3QUf4eY/zMcnAaJqnPLCVV8JxazrNPyWcpBxwJHiueQ9TnF+PnIpOPpwyJ+7D+CuA11BvO+l+/VR4vR2JL5Dh4GE137usHL/Fv2D7zqx1SK6wsxdXUMXyWlIzHjyxfiD2WvTHMtzvyv5+CtzaV8qO0YZnE6Ll539ujip6bDVnb2ePwtgjEnS2e16rzQ+jQSjdc8rn2IsJGTcJOZde5onwgyygO6C+elbvmR2JKUU3om+8X4+2sG6vfjikSERuhFQ/lT8GnozpJz320yEuRmOCujus5eWO4p/g3fB8SdFPqUCXv0bLurXLKPmVe3xbtRflE5Kq2ruihpn2520n8AiMnbRNp64vB7jnYtCAcJ3VzagUDFdXWHkMXBsMjZRXGDhmEkWPfxbpK9JeQ5tAXgc+5w8HeGZ4Tp2HwgVXYob8Rs9wx+JU+6NDeFYOf6YsjHQYicKAzHJwH4sXn2uPIceM79iJOirvrsf4PwaGFPVwCFmLbW48omfzksXh0fqQvXOyt4dB3GtaE+kEfSNTLF384lziMxWTD4/l9Ebbo/5hmPYQXgwaig724ecaMxYtn9+PwTX00WKLruDVYOcMPXduLfXn54ckWCTim7++orG2kbMNXOa/go4nyfJ3hMWYSnq/sy2SaWqONku75iAsLR9dpMzG0Z3u0Euk1fmZfxK7/RXxNlp0Wxuff761lmNGjedEXQeuhE0X6PwQPZ/Xb2JC4Vs/rz+u5aZhw7ypsismHtfND6HoP4OAq1tN/4RQ5jS3ii2bwexPh6WwPh55+mDzOHkvCdMElqfXQsQhQzyFwjBv2HGTfFkREROZAezUXuVm6T1rUQoSeGAjPzupM+bwz3Q+eXuKZosRPje3hPdgaO2PUh6vTooByVazXXgzb+2L2d8sQ2NcZrezFs9/TD2Fn4inxfGOPrj2d0aaFM3p46QqF8pll3f3T8Lb+mSVoJvr/+g1ib3ouK/85texnH/ks9QUcxk1Tn6X6IPA9XxxZuk39oavkc5Hpx1O6jOREpX8At3sddRMM3NT0Q8/RGW7y38NJOKNMuN3kIEfNX7npidi0LBJd+3SHKRULtA8NR4DMR+3dMfSdsXD4IgJHyiybGF/rgZi8JBg9mhcHPvQse09D+BhrbHlvOAb+cySmh0TiSFFxxPi59iXMXvYSHArEU+3pbVjyuy/el8/5+mdlhy+wTjwrK0rcL3I7p/H8J8XbeX9iK4RGmhiQSk9CwhXxbxcntDMKbt3U9KOII1y6yX8TcTxVmVCHKr5HK763yiv7lHN9W4kyl6v48rnHFR5K2pe/ndhNkfB8SzfPwdUX48f3VfdfOxioqAnWMtN8ijVbt2LltGdguccgGl0Bj26uBoXX9rivZyJOFd0glrA0vMGsmxkVdI21wmOBIjNN1mXyJbJjJ7VzlK5DpwCrhsP3+TexYLn4UimlLVluRjq6dXYueTwPnEbaOXW0xPG0Qqt7xBdoaZ2vXEzAjlXBmC47hHl+EkKLfjWQytjGhYs47iJuCN0MoRUcRAG/UsQXoa5J3kX8lZqLjcHFnRCNmhmJUzk5yjUpKy1uOn+LVnDxci76g6DvzKlUPd3QoWi+JTqK7aRllJLIJVxAWoo77pMPJypLFzd0S72gBFQkw31at7IX17OsRodERERUl45EzMSk8WOVz5JD7pgR+gpcDJ4FSjzDGWjlPRCtt+xVOjGUTWVb+/VVfzzKxYW94Vjy7ljds8vHUcrU0shnlrQdwcXPOS/OxNcZZTyXlfOcWvazj3yWcoaLi8GTZ3tndE1J19UmFQyfUSp1PJV1MREJhzOQZ+KPgLePX7BEzV+TZoYj/7mVeL9/KT+WlaKHq0FfaE3FdXQ+jpNlviSllGttJwqwpf0wJ7R66CW8v/I7bNuwEIHdT2NJUa2JUp5r27uj6z1iu+fSceQBZ4MfSY2flQ3vF7mdBHw1Sc1L4jN26f6aeQYuyBB5KREZeeq4uajgHq343iqv7FOZ61v+di6kOaODYSzRzh7GlVZqEgMV1SUKx4a9MMsbcuiMIHhu+QV/qtPKk3bRsDCbj5xcazTX90hbBZbdXsK/ZSaf9woeK4jCa/pmDff0wdtfb0XkyiAM7SS+VEYGI66UPx5aoz8C+fll/6EtXRLWjV+FXK9ReP+rNVj5tfgSM7XfyPySoR2j0Qpd/HUv0h5wUYMd7RE4T+x/jfr5+jtELfHVzSsrLcR5Gp+/ydKKgwtSTq64rhYGXwhlyjd4I4gggy2VSm8iIiKqDz0C5hU9Z8wOGggXUzsmb9Ub/Ry34WDKacTuaI3HHtI9ueRGzcObsQ4Y+s5C3XanD1Sml6Wrf/H+5Sfyx4UYrOtCrlhFz6nlPvuI9YyeUYojGjcz6XjKYOfkCo349+CJSvycnZqkVNPXdHNGO92U28xATNWn57KP8JyXiYkpXMgyfCoVz5pZzdG8zE4ELKGxMLrWZcjPNXiTnWUrdOg7Ee+/lI+dv+rKM5aWRs+1howe7LUyP5X5rNwXb8hyhP78N27F3teN22uUwd4ZbrIs9XtyJWrapOK4bFJv5QoX4yrntc2EsqRp91ZZZR/Tr69OOWWoUr4TavMnVAYqqisrCnOGzStR/Sb311+w5wFnXYRJFjrPJuGkOj9tdxRidYOKtG3bEKf/LjkbiW8PGFQbrLTT2PP+F8r2LGXbpqF90eOsjHzn4sjyYGxJEYs0tUcH74F4zE5MN/wOE1r17I38iAgcMTiedbsfQY/71XGT5OBCRgfc19leF+DIiEecKa0V3MRNuTu8qH8GZO3CnrJ/SChJ3CRpMYvw7vLmGO/nKibYo0fvfPywo3jH+QdWYUFEkri9yk6LVu5G558SjldH6fvyqEBiFGL0x54bjy1bLPGwuxqpFF/Cstrezdzg2T8K6yL1debEsYn953u5q18GREREdPuxhueTrtg0bx623OuLx9Q/+vlZF9G6syscrHWFt+P79yr/KuQzlZifoxYSlGc28QxZ9JYR8eyxbnYEjpcsC1b4nFr2s4/uWWpdRHEN4bRI8Zzm7Y771HFDJh9PWVwfxrOicBm3YTdMbeSaFBWBGGjw7MPy2e8OI/LDyaRTuuYBBaexO6pks4idkduK3oSX/2sE1jmI5/kyA2mt0NWr5LU+FTYKr64rUSVacSpsJF4LM7hCYt+xu9PR9V6Zid3Qw7vkc23s7EFYsFds1fg5X+SPTRH5xc/KJeiej/cYvOEkLTIEoTHGTd7L4gpPPw1wIALRyeqkiiTvxgZRQNM8/TDc5L1Wlyq6R026t8or+1RwfcX5Wl68pM4rbzs3fyec2iHKsepwbWCgorpaDcQb72gQ9vwgjJTVY4YNgt8XwOS3BuqaDNj1RaDvcbz7z0FKW64tlu6QfbXoefo646Batcl3fBQ8PvQ3qDZYWe1x3yNpWDxyuLK9kS+ugfV0f3QVR3LfQw7YOfmfuio8w6fhT98pooCurqbX3g/vj7mA+er6vuO3weOTSfCoVDeu4ovo9XTMGqZWFwpJQmuDKmBlavoIxn/ghh/G645x5Nun4OFf3h+eRHzy/OPo7SM+g4bjgx+sEfjVR0V/7B38gvHc6ZnwVY5jOPxCxPa8ZNXGctLC+PwnH0K/twfe1JdHqZw7IG2R7pxHjgxB7phgDFXPu+vAl/BXyHD4zt5VotaF+FqAx8R58NgxFr7Pi3XFsc7PGov3/UxJMCIiIrpVWfZ8FD2SktDtsV5FlRRa9X8JXTeN1T1PPj8Ku/MNnoPseuPpB6IwdtgorJNlUvnM8twp8bylPvOJZ49TvXrDsHa3oqLn1HKefeSzVGBWCPzks9Tz/8TYHe5YOFHX99lNTD2esmg8MXy8E3B4FoLXGdWqaOUKt242UF4gp5cageBP4wGncRjeW9bFuLO06jsWQ0/MwsAhg+A7MlLkp5LPzM95WyJUXm/5DPxZDsa/rl7vMhhf60mHB2Lq4JufR10C5qHfsSlKmUbJL0Mm4UjveXhO6d/h5ufaUMtpeNFLZAL5nP+JO3bqn/ONnpVL0m3HIUJsX25H5r1treD9gKk1SjTw8hsHZ1FWmPFRBM7oC/iShZ3IS66wMcxMBalYP2eOKHA7YcJwb6VmT50y5R414d4qu+xTwfV9YCDGn5sH338GY09Wxdt5MX2Wbjvyu6i9L57TbaVWNMjKyio8dOiQOmq67t27K//+nXEJLk6V7fXw9pSflYt8S2tYV+H9LPlZ+bBsYeq3eQWUKkSAdSnbk8cIa+vym3OUs77J5Dauyl1VchtVXa8scnv5lqVekzLTorLnL3vp/hCYKqtFXdXlgco1lxFkh1wWIu/U0GkTERHRrUlWr5cdhJv6LGHqM2S5z6nlPfvki2eUAtOfb6v8THslHsG+wxGa7IiA0A2Y1df4FzVVxm7MGBGIsGQnBIZvwDRPG3UGlVCVZ2pTr7VcTmzbsqwyRTnPtSaVRfTkfkRxvfLPx1rEzfHFsC+T0c4/FBtnesOutP0VZCB69gsY9VUynF8Ow8Y3PWFT2Wf4GlRRWdKke6ucsk+l7uXytlPV8k4lsUZFDbJsYeKFL0WNBSkkC5GpytiePMYKM1U565tMbqMqpe6qrlcWub0yrkmZaVGd86/Eg0UJYr2aPG0iIiK6NZVZ+CuDqc+Q5T6nlvfsU8kf4ar8TGvljmlrQxHomoGwQC/0e3UFopMzivrQ0GYkI/rLNzDYJxBhaa4IDF3NIEV5qvJMbeq1lsuVV6Yo57nWpLKIntxPlbKTBh5vrsbKUa44Fx6IXgPGIzQqGRn6DhW0GUiKWoHXfX0w6qtUuI0Kxdp6DlJIFZUlTbq3yin7VOpeLm87VS3vVBJrVBBV19V0HPkDuO+m148SERERUaUUZCBmaRBeXRCLbHWSIZtHJuPz4NHwcrzzmnxQ5WX8shSvv7YAMZfUCYZsPRH072AEejqW/3Y/qhcMVBARERERkXkp0OJMYhzOFHUy2ALtHnBCOxsGKKjytKcScbA4M6FFOzc4O9owQGHGGKggIiIiIiIiIrPBPiqIiIiIiIiIyGwwUEFEREREREREZoOBCiIiIiIiIiIyGwxUEBEREREREZHZYKCCiIiIiIiIiMwGAxVEREREREREZDYYqCAiIiIiIiIis8FABRERERERERGZDQYqiIiIiIiIiMhsMFBBRERERERERGaDgQoiIiIiIiIiMhsMVBARERERERGR2WCggoiIiIiIiIjMBgMVRERERERERGQ2GKggIiIiIiIiIrPBQAURERERERERmQ0GKoiIiIiIiIjIbDTIysoqPHTokDpquu7duyv//p1xCS5OHZThW9Hx5FPqEBERERERERHVpdLiCXd8oIKIiIiIiIiIzAebfhARERERERGR2WCggoiIiIiIiIjMBgMVRERERERERGQ2GKggIiIiIiIiIrPBQAURERERERERmQ0GKoiIiIiIiIjIbDBQQURERERERERmg4EKIiIiIiIiIjIbDFQQERERERERkdlgoIKIiIiIiIiIzAYDFURERERERERkNhioICIiIiIiIiKzwUAFEREREREREZkNBiqIiIiIiIiIyGwwUEFEREREREREZoOBCiIiIiIiIiIyGwxUEBEREREREZHZYKCCiIiIiIiIiMwGAxVEREREREREZDYYqCAiIiIiIiIis8FABRERERERERGZDQYqqFzaPzdj8YIFCFmwGQladaJeQTK2K/OWIvJPo5np8Vj/5Sy86uuLwb4BeH1BBOLS1XlFUtX1d+CMOoWIiIiIiIjubAxUULk09z0G55MrsHjRG3h9ZaI6VSdpzTt4ddFSLD5sBw8njToVOPPteDzoNRxT56zB9sOJSDgci8hF0zDMqwdeDU9GcUgjA3Fy/UVxYsjMxK/AYBlk+TJenUBERERERER1gYEKqoANBrw5Az5iKOnTBVifqpuK9M0I/lQW4t0x610/tLPQTdbGL8CooB3IhhOenRuJ/YeO4I8jMdj579Fws8rG9vfGIOSAcdUMM1SQgQQZZLmojhMREREREVGdaJCVlVV46NAhddR03bt3V/79O+MSXJw6KMNkmuyTCYhJ2oP/psQhKe8UYq7n62Y0bAUvTUc4t30U/9f1Yfg4O0BjJqGkpK+Go9+seGiGLMH+fz+MmNe88OpmLZzfjMTOV13VpVIRNswHM+I18Jm7HSufcVSn62R8E4heb+0GxDZ++3d/2CAewfcORyhGY+MRP5xZOB+hsanA3Z4InDgOvq426po62YmbEboiAtFJWUALJ/j4jUHgIFfYqEESRUE2ErauQGjEbiiLOXtj+OjR5W8LjugxfCQmPOcJO7GtuC998X5EKhKSswFbJ7g5atD1leWYM8hOt3IpKjw2o+PC3R4Y7j8OAY/IbWoR9/kLeH+7Fj3GrcasJ4qP9cw34/Hq6lS0HT4fK/2d1KlERERERES3L9aoqCvXcpHw36WYtKgfun07Dq8cXo+w3OPFQQrpxkXEXI1D2KnP8MoPz+G+RU9j0qZ9OGMGFRCcR85EkCgnaze/gfdnLUDwZnFQTuPwySh9kELIiMdupaXESIx5umSQQrJ7JhQpJ44jZb4MUhg6g7B3fPH296liG8lI+HEFXh88HMEGNS8yNo9H78FvYPG3CUrTEW3CZix+zRe9xkbgTIFuGdmUJPI1Hwx+bSkilQ41tDjy7VKxLS+M+kZfFURMPTAHw+S2fkyCxtkJ7a7sQ9h7Aeg9dnOVmqAUH1sczolj0R9b73dkzRJJi7hPhyvHtT1JA2dnR2j3r8GMAB+M+lbuUQO3bm5IOpyIsK371HWkZESv3oGEw9nwcGeQgoiIiIiI7gwMVNSB7KPr8crSJzFo/3pEGgYmKnLjIiJPvY1HxLqv/HRKnVhPLFwROHccnEWhO/KrNTgjCtcB746DR3HXFEBqEmLkv95OcDGs5WDspnmiMO6wGr/FRGJLzBH8HOwttp6M0I8jdJ1samOxWCn0e2NW9EHsjIzEzv3RmNNXA23UNARvVcMBvyzF23LYewZ+3r8dWyK347efg+FjpUX0Wx8j8pKyGBJ+WoEk8W9gaAw2hszH5ztjEP6yJwZ0OIfj6YDHy+I4PvbTLez3sdhOZNm1KYqOzR1BkQexf4vu2GZ5i+v+zccIU7r1SMT2L5PFv6Oxcu8GfBayBDv3hiHwkf5wvpSkBEc0nk8hwEoMbN6OGH2k4lQsIg+Lf7uNxgCDeBAREREREdHtjIGKWpWPhB/Goc/2pdh+Q50k2DVyQ8C9b+E/T67D4Zf34NRk9TNhJw4PX47/dH8Wzza2VpeWcrH9cAB6hn6LJIPt1DVNZ3f0UIcBT7jebxilEAq0Sm0HY3FzXNDpXsPPHMSp83S8MeZf7tBvrZ3fKATIgfg9iJOl+Lg9CLsi/vX3x7P6VkYWjnh21EhlcPtPuloIB3evUfYfEFDcZwYc/TDmOTmwA9GxagRAo9tT9LdrEJOcgWytBl5Tw/DZ9NHwsldmma7o2MYhsJt6BuLYAj4/iN8ORiJArQihkUEI7Mb362KRlJ4NrcYT08LmY9ooTyghEAt3DBgp19+M2DhdKmb8T5y/+NdjuDeclSlERERERES3PwYqak0+4jaNwaA/E4qbEzT0wJRey7Fr7FJ86PskfO5zgE0zdZ7U2BI297jAx2cc5k74AYeffAuBTS3VmaLgmvsZ+i5bjYR6CVZoETN/FtaLIRtb2XBjN2Z8rG/aoLJ3gpf8NykD55QJOnbu4zBhovwMgYc6rSQnuBgGCCyc4eStG8wrEOd9VtZGEJq1KApmKDo5KZ18IidLHF0GzpxQpkJjXWIpuNyv21j2FV0AwOOV1Qhyt0HSN7Pg388LD3ZxwYP9xmNxbOUbfpR5bBobJZ1slInumPCfyfCwTcb69wLQz6sH7nfpgX6vLkWMwS49nhyHduLf9XvixPlkI2b3bjHmDt9Hbm5GQ0REREREdLtioKKWJGwdh5dPFTfX8Gg1Dt/6L8DE/3OBTWN1YgVs7nsS019ej2/vddP96i5pl+PFr36qUl8K1aE9sAAzVqYCjqPx+fblmKD2VxGy26AOhYMz3GTNgdQIRMsmC6p2T0xG0GTxGaqGKbo5GvVRoUVWiaoYGciQbTNUGqvmuoHrebp/9dJSdU1NFBq0UBfDNfVf1ZkzseqQysodEzYexB+/bsfG0GBM8/cEkncgxP8FLC75BtYKlXlsRjQ9x2Hj/iPYv3MDVs6dioBHgKQfF8B/xFIk6PvYcPXGcEeRGhF7kHBpH6K3imnefhjIvmqJiIiIiOgOwkBFLdAeXorpx44XBRM87noPC0c8C4826oTKaNgKHr5L8e2DDxcFKzIyP8TLPxxXx+qANh6L35H9OmgQ8MFkeNmJgv67I8WYFmHvL0CMbPogWbhj+JvuYiAVIW/MKe5rQSpIxfrZuiYfzk96GjVliMDu2OJIhTb2e2yQfV86uqOrPWDj5qGribFjT/G+hIRfvhdHALT7hwzk2MCtl9w3sD0qVpmuKEhEzLdyzBEerjIFs5H0y26s/3Izkmyc4NHXD4EfhuHzUXLhZMQlGoWAjAMQ2lQkHC5epujY1u1AdNGxaRH9XlelmUuwjJFcSkZMVARCv0+GjZM7fJ4ZjVmrFiNQLpocjyP6zVm4wud5R+DKGoTNjESkmDTg6SeKg1REREREREQGLmVmI2Z/HHb9HFulj1xXbsPcWLzzzjsz09PT1VHT2dvr6upfvpKH1q1aKsMk3DiOVZs+xnr1V3I76zFY5Pc0nJvoxquqRafH0DPtZ6zPku+2BNIuJONuxyfRtYUyWqsSQl/C61suQTNkIVa92llp4tCoowecT3yFHw78D79b9Mazng5oJKa36uYJh8R1+Ong/7BpmZi/ays2rFuHz4Ln4fs/RaI4jUbox0/BQalVko69/45AHDri8pF1iD2dgWM/R+CTj9ch6ZoGPjPmIrBLM6BlZ7hc/REboqPww+6T0FpmI2nNLExc/icKrIbgk/kj4dxUvorUGVd+jEC02Gf0CS0sLidjzQevIfSPAnHsH2NxgJNy7H+s+ifGLdmK/UnN0KKlFmn7w/HvxfFIu+aOl6b9Cw/K7Jz5Ozat3YfsY8dw8qK4Pzp4wrllBta//ChGzVmB39s/D1/DY9u3B9vFsWX/nYi96z5F8DfpKHAah3eDRHo0PoblT0/A4h/+h6SmLdDqahpi1izCv+PFMu4v4v3RD0B/Gdu2aoSfVkdh75+ySUl/TPhoKO4X50ZERERERGQs/vcE5OWVqJ5eKdevFyAzKxvt7nFQp5iHBllZWYWHDh1SR03XvXt35d+/My7BxYl10/Wy//seuu3/WTfS8GEsHP4JfKtxzbUnfsLBho/Dq6MYuXEK65cH4K3Lunlw+AR/PvewUviuNclrMKzfLMTBG3N+DsWzht0lpG/GqMffQPQVJwRFbseEbur0ggzErPgYIV9sRpz6pg1Y2cFn5DuYNmkInJWOJaV4BN87HKEYjfCf3bDa9w1sV5a3gdfU1Vj5smvxucltLg3Cqwtii/rFsHEfiU/+PQMDDI8pIxaLgyYg5JeipeDh/zE+m9m/uIPNK8lY//E7CA6PL9qWxt4bQUtCEOiub5SiRcKXgRgxR7c/n5AYrHxag+hpPhi1DggMj8E0T/XoSju2Rybj85Bx8FKrQ2j/jEDwO3MQFl+0R9j1nYxlIaPhUaIdTCrChvlghnzN65Al+O3fxq9yJSIiIiIi0pG1IqQ+j3oq/1ZWddevLQxU1KjjCF08BrPVPhJ87luOL550qXIgQXviW7y5+TNE3uiA6U+GIfA+Me3wUjz903okKEu4Ye4zS/Gs7IHRTGmzs6Et0MDG1rRU0F4SBXkbG2jKer1pgRbZ2VrASt9RZRm02ci+AmhM2Zbs+LIoeGJELqMVx28wXytXKW3fphybKcdFREREd57sZERvXoMNG+JwBo7oMdwPLwzxhrMJv1hkJ+/Gd/+JwIbfU4EWTvB6Qqz7jCfalfmspEXCt0ux/aRuzK73aAT0NNhRQTaSdn+P1d9E4OBfstaqJ554eiSe9XS86fnFeN8+T72AgKfdYVdiuWzEfbUC0RfV0RLs4DN6pNEPN1Rj0uOx/uvV+H53MrLKvD6lqEQeKJK+G6Ff638IdMPwyf2VjuINZRyIQNjXmxGdlAXc7YHhz4zEP72dYGO8TXnc33+P3T9UfD8Yb9N3kB+eHeR68zZvUwxUGGGgohR/rsagH5brgggNH8YXz32CAXcpcyqtOEihTmj4OL544T0MaJWG9V8+V1SrwqfbOvzncfOqpkNERERElZAagVEDphn0d6Wy8sac7UY1Wo2c+XY8BgcZvYlNsu2PzyKXwLe0dROXot/gBdD3Xe4zNwYrn1GrgRakIvI1X7y+9aYtwmbQfGz59xC1lqoWSeETMPi93WLIiNNobIycCo+batGWRpxjjDjHyr4iniqkPTAHg4fLfuaM3HR9jJicBwxlY/trXnh1sz43iH2cEPtQx+T8mFnD4f+V+sY8A5q+wdi5zK9om7IT/2H/WoqEUu6HWZGLEeCkj8BpETfHF8O+LGWbruOwdsPkss/xNnK7BirYmWYNOnNyj1rTAbBr9SS8aixI4YbpA97GgFZyxAF9XB5WJkvRp+Lq/A0gRERERFRDCpIR9poapHAaic92xmD/zvmiMCbGr+zG1JcM3hBmLHsHlrynC1J4vByGnw8exP7IYDwr1720A2+vMOhgXE/u773iIIWx7J+W4m2lgOqOwLBo/HYwBlvm+ikdoWdvfQfL9R2gn4rA20qQQgOfNzcU7VsJjCSvwOtfGbxKTStfJS+5IvDfYQgPM/yMg5etMpNqksg7wf/SBSk0fSdjY/RB/CwK7j6y4C6uz4h3SgluqUzOAwa0uxfg9aIgxc20vyzAKCVI4YSAf2/HfpFffg4brQQytFHTEPKjejTaeIS8oQtSaPrOwJaYg/gtJhKz+mqUc5oxdkXx/XBgAUYoQQpHBHwejT+OH8dvkTOUc9QmLsVH38re+elWxUBFjclF0t/Fb+Lo4di1Sn0LlB6k+AyBnS3VCYDdvQ/DSx1G9nEcN3odJxERERHdIuIjECz7phKFraD5M+DrZAc7pyGYNX+yrtp88lJEKvNL8Wcc1iu/Oo/EhMmeaGdrA7tufhg/WvfLqPZU6k2F0TMRc3R9YXmPRmApP6AmieNRipv+4xD0iCNsbO3g9sw4jFGW1eJMum6L2Rc18Jo4DhMmzsesV92L9j3hXzJKIvbzv4TiH9MuZeCMMuCJAUM84fWI4UesW2YTFaqqjK3hCFPyRn98MnccPDrYoF3Pcfjs4/7KfO3mCGwr430KpuaBIldiEfL+GjHHEYGj/NSJJZ3T2iFQ5pcPP0bQECfYifzS7pHJmPCMbn7k72qtiMTdCFPiC/K4R8LN3gY29q4ImPsxBsjJBvdDxplk3XHiCfg+oWuSYtNtJMY8p0xE3Bn+nHsrY6CixuQgu+hNlg7o2sZaHTadKUEKhb0D3NRB4AKyc9RBIiIiIrqlJCWotR6snoKXvmNyqZsnfJVq61rEJNxctV3RcypSThwXnxnwMSjsa6/o3hKH5i1K9pWWGoEZs3eLAXfMenckimrQG/CYKrcnPh96G3RqrkV2rm7Qxko31cbdD0GTJ4uPQT8EBamI+UV3rM4PexS/Yv1ihq4Gh6MNkB6LsAWzMOO9BQj9Jh4ZZdUWoWrQ4shv8joLfQeUqLFi8/AA+ChDu5H4R+k1IEzNAzpaxC2chdBUQOM/A0EDSv+ptl3fcbr84u9e/GNudhxi98kBDZ511wW45H50R9UOdoabsmqOtsqAFglJupoSdh6PqU1L4nDwT2VAbDMWu3fIAQ18H1C3SbckBipqzEWcVm9eqYnGKLiQnYDtB9LUkZuZHKSQNM2LXmcpO/A8c14dJCIiIqJbSnaa2kSil6NRx4OOcOylG0pIM64XUY5TEQieL7fpiMDnHjOo4ZuByFmzlCYmzm/ONGjnXzFZCyPksBhwHI3h3jcXRDO2TsNgX1/0etAHM/bbwWdyGNaONigkXsnW1ai4uBQjvAIwY9EahIUvRfBbw9HbdwHilF/+qeZk49xZddDJsThgJNk5Kk04pDPnTc9XZeUBbfxSvC2bX1gNwWdvGAQ2yhH3pa/ILwPwYPcAhF52R8DcSMx6Qt2mo5MaSFmD5RHFTTfOfBuO9epwzEm1pkSHkVgWPhk+9okIHtAVvQaLPCjyV+hlJwyYugGfDLo5r9Ktg4GKupAdh0VrxuGVvQGYFH1zsKKiIEX+tWu4eCkLZ//6GyknU3E82RoDnvoKm5/8Esu8X0OHBlnKMkRERER059L+uQajntT1d+H88nwE6V+lLmRv/RhvR2lFwXUcPhnlqk6tiBZJXwWi3zTZF4UTAudPhldpnRNeyUDC4URkyIDDFS3OJMbjuMEbPrRWbpjg3x9uTv0xLTIGvyn9E4xTOjpkXwLmrpw8UJCI0LeWIgka+Hz4DgaY2tfIxUSRX5J1zZK0qTjyWxzO6INV9k9hwssyyKVF9DQfPNjPF4P79cCjs7PgZljjSCrIxpnD8Tgi37onls9IVPPgpQycO5NQvE26JTFQUWNaoX1Ra4805BXVpEpD5Ma3MU8Zz0fkoQC899/ib+7yghQy+JD+93mknk1HQUEBWra0QTtHB+UtKy5OHeF6rzMe7dwdD9oWKMvIZRmwICIiIrqF6N95fkELtcGGSjw8qs+Tpb4W3Yh8hf2IoWqNiZc3YMtU9+Jft6/sRshbm8XmHBH48Th4mPKzt1g64fMXMHiWWkDdEIlpPUtf0e6ZUF1TgaPbMaevKNj+uAD+I4o7AdW4DkHQh0uwJXI+ArrZwUbtn+CDV3SvJImLimXn8DWsif6tHJf1HZmqCoraqgM3vbnDWPl5IGnNTITIlj7eM/DJ0yXqbZSrqGnJwTAEOmQgLnwaBhd17qmBx5urET51CDxsgezkVGidRyM8ej6Gq2UtH2ddvjmzbgyGzdkt8o435kSr2zwkjtE722ibdCtioKLGNIdNE3VQOHJeH4xwgO/wzzCl6J7OR9j+Z/FeTG65QYqs7FycOv0XLC0b496O7WDXphWaWTVFo0bF3yhyWE67S8yTy8hl5TpyXSIiIiIyf86ddZ0b4nAsEi7pBhXZiYjVvTUQAzqX39Y+O3YOBitNKDRwm2gUpJAS96kdK6YidHhXdLrXRXy8MFXtxiD6LS8xPgdxulHll+qYOb4Y/Gk8tFaumFBakOJKNrIviY/ya7ZK44RnXxmpG06OxxF99EG/rNEv3DZ2JRu7UE2xg7OH+l7aPYlIMuwH5Fg8tisDjvDoXE5wocI8kIGDe9ReLXdPQy8lT4nP8BW6aViBYWJ81De6TKDNLiUP2Hoi8BVvZVC7OU7Xj4nsCyNbg65+M7F2vww+HMTOz8fBq1E8div3gzhuV3ncGYiJUvf/3Cg820E3CBtX/HOQfpvbEcNIxS2LgYoaYw3nu1zUYWB76pHiCF4zN0x8cWnJYMWvT+K+yNKDFLKZR2ZWNto7OqCVbXFvFBWRy8p15LpyG0RERERk3mw8fXRvM8AOLP5CFAqVYS3ils5HpDLcHz6eurb22lO7EfblZiQZFPbObJ2GYf7yNZTyl+gN2DjZKEhRWQWp2P7OcPgr/Q64I+jrDQgqpSZFUsQLeLBHDzzoNQHrT6kTZeF2+4/qSHO0UJsIFC07YA5i9Md+JRGREbpIjOY+55L9KFC1uT3ip+vzJHUpQvRNa8S1Xb9gqa6/EEc/+HRWpiIjPgKh4bHFHZuamAdMp0XMp+L6yzzgK/KAvpAk9rNtqxotc7TR5dvrsQiRy4nPq18lIlseU0EGohcu0QVYnIqPu6jWSHyyQTBGi+N/6F++28Kk2khknhpkZWUVHjp0SB01Xffu3ZV//864pDRFIOHP1Rj0w3IkKCMP44sXPsGANsqIzuUELPpqnNoMxIBRTQoZaLjH4a4StScUBbLNXxzOFMUgWqCdhyvaGbUVvH69AGfT/kbLFjZoYVP5t48QERERUd05800g+r0lq9cDNk7i2Q6pSEjWleY8ZmzHxhdljYpELH7UFyHy7QqjwvDbdE9o0iMwymsaopUlSzMaG09MVd+MYCwD60fpalX4zI3Bymd0oYIMcSy9xLGU6eUNSJnqDlzagamPj8d6tRaIPG5NmtpHgOAsa3bogyZi2dd7j0eknGdlBzcnO2hTE5Ek17Xyxmc/hcLXXi5INUeLuDm+GCaDDeIq2Lk6oe3FZCSky1ymQcDKg5jlLa5Otrg23cW1EVO9gqMR/pyj6XmgNAfmqLUqjPJe4goMHj4HCUr+kMfjCG2i2k+FGPcJicZKtfmI4f1QUsnmJ1qxr8FiXzIsobH3xrN+Tsj6JQKR8XKrGrhNFXnwZVP7Y7l17fpZF/Dr82gp7xs2QXXXry2sUVGT7nsYTzdWh7EPC389rg6rZM2KkQsMalYIRn1SnMu4APu2bUoGKQoyELMoAA+6dMWjvgHwD9B/fPFoVxfcP3wBYgzegyzXlduQ22KfFURERETmrd0zi7Flrh/crGSb/ERdkEIU6H0/3I61SpBCcoTzw7JmhQZebs7i//XMtj/mbA/DtKd1r5uUxy2DFBp7+RaH7cVBCkks+1l0GIL62kGjdryZdEkUVvtORjiDFLVE7ethsqe4PrqOJpUgha07AldG64IUUjNHuLnKYafym4JUl+tobNw0H4EyDyjHowtS2Dj1R1B4cZBC0t0PI5U+KvRkIGLaxg0lmp9oek7Fxi3BCOgp1k3fjbBFK5QghVw2MFTkwTsgSHE7Y42KGpYR/TZ6HlJeCCw8jIUjPoHvXeqonvIWkMmYd604SCHJzjBlPxMlmntk7EbwSxMQmgi4DZmMoElPwaujuMEtAG1GMmK+XYKQhZuRcMUJAStXiy+d4ptcNv/Iz78G+7sMq3UQERERkVlS2ufrfkfW2Ngoz3vGtDIYYFSbtt7pj1tjA5uKjk1dtqzzo1pQUb4S87XXNXXXTEJ/PFYiv1SwT9m3hbaR6fnKlG3ebm7XGhUMVNQ0bQIWrTBo3qEZg61jX4Cbcd2V83GIvtAVPmqQQtZ8kG/ukJ1iFrkSj2Df4QhNdkJA6GrM6qtWh/pxATYkumH45P66tmcZuzFjRCDCkh0RGL4d0wxeRXXi5Bk43mMPy8ZFVT2IiIiIiIjoNvBzzH6l6X91NGmigVev0huJ1Rc2/ahpGje83PvZ4vZY2uV4MfwnZOg7zdRr41EUpJByc6+guXUzdUwn4at3EJqsgU/w8qIghZQRvxSLF8XhjD4/2nlj1qpg+FilIvTtFUWvgpLkNuW2yUQF+SK98tWRiuVXYtk7Rn4umCxERERERLWvm+v9SqChquS6Xe5zVsfMBwMVtUDTbRxmd3Yp6r044/yHGLhiNRIuqxNKcfVqHqysmqpjgjYWG5YkA+5TMc1Pfb1QeRz9MO1NdyB1ATbs1VfngLJNue1qS/8V694di1EjR2LUGyHYeayOX4GasQ2fzNoG/Utfy1TJQIOxi5FTEHrAhPWvxiPs+UHwCxyFsANivJr7Ld9F7Jk1E3tq+AXjR5aPxLrDxsNJWCfO65Ooalzf/EMInRJZ8bUqw8VfV+GDsSKfjXwTS7Yl4ZaOeZSXb5PCMeoJcV2zgNzdM9F3+CrITtMNh4mIiIiIymPb0kapDSGbblTlI9eV2zA3DFTUErdBS/Flh+ImMRm5yzFo+RjM/u8paI1rVwiyLwmNZXENC/m+6/VXAK+h3nA2sf2ec18/eIl/w/Yl6iYIcpty29WRf2ARRk7aBsunp2HhkmWYN84Vf84cKQqzVS2KVkFBPi6cM6HIKgqGH7xtQkCjNAWJ2BLphsG9TXhTSsIvCHWbhoiv1yCgpxivzn4rlI+ccxeRU70aXTfLTccFfUyraNgZg4MXItC7Gm+LsX4Eg+8Px1d7qxBiSPwCk8KA54NXYlnoRHgcmonpkQY9xd5qysu3nXwxY8lYPNZCJFnvsVj5iR/kN4bhMBERERHRnYiBilpjCY+hy7H1Prfi90LfOI7Q/QG4b1EA3tr0A2JOXoTarw2uFxSUeNNHRnKi8koet3tNqE2h5+gMN/nv4STd+5EFuU257ao7jS1L4zH0k5kY2rM9rFtYo5XzQIxf8gpyFkWg6L0mBek4smkVQhctwqao08gt2uVp7FkXj4vpv2KTmLduW5Iy72JMuG5Zg9eVpO2IwJGLFxEXvkjMW1V+rY30eGxZLpcLR2yKulxWPDaFReHk2Sh8Jba9J0U3uexjMxIv1nPrDheDwNDFY9uU4w5dHokj+kNN2YXQb+OB49vEfsQxn6nkfuVx7kjCxV9lGuxCmjq5BLGuLh3E+Z2+OR1yxTHcdFyKXKTFRGKdnBe+C6eKXmUrFOSKQ5bHswpb4i+WWVMhR5zX4dNyqOS1k9tLMzwUsb1TUbrruG6TWM4gXV169caOg7oX9VbGxVNp6DbYFy6tLGHZtD08h/bFXyI/K8eqpluuuCby/JS8Y3BO5eWXUq+jSr895Rwuyn0oJ69TWj6rtHxcUPcRGv5rcTpZXMTJbYm665+bhoO/HhdXz2iYiIiIiOgOxEBFrbKE25NLsWvAOAwwTOkbp7D+1Fw8/+3T6Lb0MXRY8BgKxX8mU7rkXYEZ72wu7qeitoiC2j6LgfDspI7rtRqI2d+9Ahc5LArVWyZPwQ/53THYbyAcEoMxaVG8WhC+gCPrQrB402X08O0L6z1T8ObYd/F11kMYPNAZpz4bizC1+cGFxHAsmbYQRzr7YtjADjg5byQW7C2luHY2Em9NjkR+d7lcK8RNG4vQeLE3Swfc59oB1tYd0LVHL3SUL08xOrbmB6dh0lL9sZV0KvFX9OisnJHiYuQk+M9LgsNAPwzzysemSe9ij6wy0aK9WK410NYVPXo4o3WzSu736mnsWz4Ti/e3Euu3R3M5zVBBIsKen4SdFo9gsK87Lqybh3Vn1XmCrOEyKThBOa7B3S9i3VixrFL4zseRRaPw5vZ8dPV9CYM7JWBO4Bc4ruSRi9jz7nDMT+qA/r69cffBhVgcI6ff7EKiKMxfUIbEtfsYs8IuooefLzyvfoeRb+ubdOSKfY3FnEQH9BfzumatxUvimhTVKOnQHt127y8OZJmo1cCZeFtcU73cE4mA7AxWjijpNg9fxdvjMd9eSPtiLF4dPw+xdn0x2BPYOWkWdpZSpaXM6yjk7ngXfmJeh4Hi/OwPIXTaF1iXqJy8UT5zwJHgsVhyoArhg7MR2LS3FTx9B6LrxVXwn/tL8b2xKUH8X5Dntvd0cf7QDxMRERER3YEYqKgDNl2exRfjfsDWXs/Ct5FB8w4DeQXaEr212jm5Ku+ePngiVTfBgMekaIRPdMeZb97Aow8GIixRvoVYSE2C/A1b081Z9zYQQW6zkUU13v2UehqxLu3hoI6WJj9mJZY4jMXk59zhYO8Mz4nTMPj3Rdii/2E6yx2DX+kjyq6uGPxMXxzpMBCBA53h4DwQLz7XHkeO63/izkVr30kI6NkerZz7IPA9f/y5aptRjYN8xIWFo+s0XQ0PpXbHzL6IXf8Lcpvao2tPZ7Rp4YweXg+hgyjvymNbd/80vK0eW7+gmej/6zeINaxpoMq5mI4O9xQXklsNnofIZRPh6WyPVq5+GNzzVxw5IWc4w8O1vShAu8LDS2y3VRX228IXgRMHivWdYdzIIn/vd/jK6x3dujLNgiahvzpPV8PlNJ7/RHdcDj1fwvsTWyE0Ujb3sUTXcWuwcoYfura3hoOXH55skYBjsm+LlG34KucVfDRRXgdx/GMm4XlT2hZkPYQXgwaig317dB0zFi+e3Y/D8hxOb8OSs/74VG5PzntpBqa2XIUt+lZHdu3RIStfqRV0k4KLOB6TVKIGRqnORuKDsPaY6mfQuU+LvhiqpMtDeN63PbReo5T8ItMhYGA8/pTXx0iZ11Gk5Y6wHIz/UM4Tx+v1Esb7Nlfzm8xnX8Bh3DQ1n8n86IsjS43zo07+6XgcKaXmi8LODwFjRL4Q6e457iUM3iGOU51FREREREQ3Y6CirjS2htv/jcPCiTtx+Oml+KLbswiwdoGXGrg4e/lvaPMNfkN1fRjPWgFxG3YjSZ1UxMIOXpM3YP+WGRig2Y0Zry1AzCUgKSoCMdDg2Ydd1QWhbNPSsrE6VgWtW8HlVHq5fS/kZqSjW2dn3a/eiva474HTSDunjoo5loaxEutmBssasofH/cWBAoiCXdeUdN0vzkUu4q/UXGwMlp0tqp+ZkTiVk1PqL9Dy2NJ2BBcv++JMfJ2Rg5yr6gLluZqOg+tCdB07Pj8Ss3ar001Q4X4tLZVAVGlyL6ajR3uD0JBFK7S6Rx0WqZGWkoCvJqnbFZ+xS/cj7aoaEriYgB2rgjFdznt+EkL1waILF3HcRRS41VFRfIdD0TbLY3jt5HGo53AuHUcSVmGS/vxG6mob5JjygpmzUZj/7jwYtPq52dlITB8fhUfnTURXw0iOUbq1sS49J5VQ5nUUaXnWBR3t1VHB2q69OiTzmTNcXAy2X2p+lPJxJPxdvLYuofRaEIbHbGHC8RIRERER3eEYqKgHNh3dMODxcfgwcDm+nrgTpybvwUMdH8SVKwalZ40nho93Ag7PQvC6m2tVSDauI/H53mjsXD0DXpcjEPxpPOA0DsN7Fxfl5DabNm2ijlVBe1f0SPoFB40jFVd/Reio8KKq/VqjX8fz842CEyYRhXvDUuDVyxCbKUV7BM5bg5Vr1M/X3yFqia9BIbykrv7zipcVn8gfF2KwQeG0hKLzyMWeuVOwz84PbyyU+1iDj4qrNZikUvs1YpyeJUvAffHGV8XbXblxK/a+7i6mJ2Hd+FXI9RqF9+X8rxci0PBNQ4aBMMFotPK8g0qc35qtP2G87FhUKihn4+398Hn0MgwuK1CSG48lU6Lg8Ulw2cuYrPzraGlpFLQqcdxi2PA6yHml5kdLeLyzFVFvPVRGAI6IiIiIiCqDgQozYW1thZzcku8vdXvxYwQ6AdHTXsCMqDLeTWnlCGeL3Zjx0jREX3FC4Acj4WYQIJDblNuuMgt3PD9Oi/kzw3Fc32yhIB2xn4Vgz0PuSh8VrXr2Rn5EBI7oa76fjcS63Y+gx/3qeCXs2fVrUZk8bdsG7PB2x33quI49evTOxw87iuuZ5B9YhQURaoeL8tyzit+QoRzbtm04pS9wikLwutkROG5YHlXd3ckVf54uboaSc6EVXNzaQ/nRviARcWX06aCoxn6N3ZSex7bhh6LTdYNn/yjs2V3czCAtMgShSvWEnP9v7/5jo7zrOIB/lkGxDOlWBoIO0OCcAYMUEhYJjZsMo5OkCKFhgbiIa4Q0zE22SWZiZCZsi9aabcFNdCYopmYLhIgh26yDxIzMzELiaKIwM35Mym6FXalgbzbznt4dlDBKW+p4mK9X0/buee75Ps997/nned/3+3miPTM5PnXT+EJIlNkTLaXtplXFop2bY3up1kX2j7Grufh4MHraaz47lSV/TrzQ8Hi0lLqv7VD8/ZPjY0zxab91tsamexsi1qyPRTddwp1Hzujrc8z35YK9sbWpUOA1sgdiy7OlTimcZ03PnK1ncnRbvv/OOx8BAIChJqhIibLhw2NkeXkcP9GreMLIqnjwNxujbmomNtXNifmrfhEvvpY58217V+a1ePFn344Ft9bFpqNTo27jr+LBz529B27SVtJm0valqKxZH0/esj8err09au6ojS/fvjK2VqyJx+4qTjGZtCS+d1d7/Hh5bc80gJr6HTHz0btjZnlh9UDMKvtzfOuOZIj+wlj5fFU8tnrued9ST1iyPpYe+n7ULE6mHNTGkoaDPbUeel43tjq+Or05Vi5eEU1JvYTk2JYejHWLC8e2fHlDHJxdHb1H9JdUVlVH7i+t+UvbxPj44tenxZb6wnYr6prjZF/ByyXs9zzJtsva4rs9/VkbqzZPjq/UFNcl396v/lFMeCbfz6V+2lEZt0xPhmpUxaJ72vL7TPol/9twIMaUZjKUz436h6bF7+sXFo7nO/k+W3Z2itCAJe09OiGa7iy0t2LxytheOS8+Uxwx0rlvb5ysvrnP2ibv5dVf3hcbD7RF0/0Lo/rW2wq/9b2KdA5YX59jUtPjyVh6+qm4+878unXN8fHPzyuuK5xnddmGWJL0Zx/nIwAAMLSuymaz7+7du7f4tP9mzJjR8/9Y5kTcOMUd/4dC7p134uChf8akGybEiBG9Loe6M/HShjWxqnF3FMtmnmP03Hvjp+u/EXNuODvlo6srF4eOHI3Jkz56yUFFb7nOXJRdqC5Ady4681f5oyoGdyn36k9ui11z/xD1Vfl2cmUx6mJBR7K//ryuKJfNH3ufx9YW2+sbYsQPfhjzS/NILvE9JS6+3wu42PvLdUZnjCqMFOgt2e50MkrnPfbZ17pByiUdVD6q11Sf4/HC/ffFydVPx6JSUHK5XehzLI14KR37yw1RvfsLxak0RUk/d+f7eRDBGwAAMHCCipTJdnTG29mO+NiEj8SwYWeu/Aq6u+Jwa0scPjPooiImTp8SE0efW5YxudPHG0ePxbUVo6Ni9FAMn39/nAkqSnUOLofWzfHQnptj7bLexUEZiNzfNscjO6fG2m9WpbwPc7H/qRWx7o2aqF86La4/ui+2/HxbVD7wdNRV+fQBAOByEVSkUDJlI6ktMX7c9eeOrOiHZCRF25tvxYdHXROV11UUl14ZOg+8HO2Vhdt7wvvleOuO2Nl8INrLJ8WsefNi5ieunHAPAAA+iAQVKZWMrHgz0x5jKq/td+CQBBztx9+OcWPHXFEjKQAAAKBEMc2USoKGpL5ELvdO/OP1w5F563j869TpnmkdJcnjZFmyLnlN8tpkGyEFAAAAVyojKq4ASZHNzs5Tcfr0v3vCiP90F8KKYVdfHWVlw6O8/EM9tyAdyqKZAAAAcDkIKgAAAIDUMPUDAAAASA1BBQAAAJAaggoAAAAgNQQVAAAAQGoIKgAAAIDUEFQAAAAAqSGoAAAAAFJDUAEAAACkhqACAAAASA1BBQAAAJAaggoAAAAgNQQVAAAAQGoIKgAAAIDUuCqbzb5bfDwoxzIn4sYpk4vPAAAAAAbPiAoAAAAgNQQVAAAAQGoIKgAAAIDUEFQAAAAAqSGoAAAAAFJDUAEAAACkhqACAAAASA1BBQAAAJAaggoAAAAgNQQVAAAAQGoIKgAAAIDUEFQAAAAAqSGoAAAAAFJDUAEAAACkhqACAAAASA1BBQAAAJAaggoAAAAgNQQVAAAAQGoIKgAAAIDUEFQAAAAAqSGoAAAAAFJDUAEAAACkhqCCD6Sujo7o6i4+GUJdJ7qKjwAAAPhfEFTQP92ZaHm2Me75Wk0sqKmJZWsa47evZIorB6IjWjY3RkPjr6Olo7hoiGW21sVnZ8yK2Q/vjqGLFbqipfFL8elZs2JZ05HisnQ5/FzSr42x6ZUBduzB53u2a3gune8LAAD4/yKo4OKO/C5WzZ4Tix/YENv+1Br7/toaL23dEGtr58T8R/YMMAzoiv3NG+KJx3fF/lPFRUNsxMixMSL/M3FcRf7vUMm3eE3Sar7d60YXl6VLZk/Srxti5+sDjGcyLT3bPbFnMMETAADAUIr4Lzjzo4v6+USvAAAAAElFTkSuQmCC)"
      ]
    },
    {
      "cell_type": "markdown",
      "id": "e965b366",
      "metadata": {
        "id": "e965b366",
        "papermill": {
          "duration": 0.073612,
          "end_time": "2022-12-09T13:05:00.680238",
          "exception": false,
          "start_time": "2022-12-09T13:05:00.606626",
          "status": "completed"
        },
        "tags": []
      },
      "source": [
        "Hence, the final model is giving us \\$0.2442 away from the original car dataset for the test set."
      ]
    },
    {
      "cell_type": "markdown",
      "id": "65b67e78",
      "metadata": {
        "id": "65b67e78",
        "papermill": {
          "duration": 0.073234,
          "end_time": "2022-12-09T13:05:00.827098",
          "exception": false,
          "start_time": "2022-12-09T13:05:00.753864",
          "status": "completed"
        },
        "tags": []
      },
      "source": [
        "## 9. Summary & Conclusion:\n",
        "- Problem Statement: One of the biggest challenges of an auto dealership purchasing a used car at an auto auction is the risk of that the vehicle might have serious issues that prevent it from being sold to customers. The auto community calls these unfortunate purchases \"kicks\".\n",
        "\n",
        "\n",
        "\n",
        "\n",
        "- The challenge of this competition is to predict if the car purchased at the Auction is a Kick (bad buy)..\n",
        "\n",
        "- Evaluation: The evaluation metric for this project is F1 Score which is calculated as:\n",
        "  $[{2* \\frac{Precision*Recall}{Precision + Recall}}]$\n",
        "\n",
        "\n",
        "- Our dump hard-coded model is This Model gave accuracy of 90.05 percentage of test data.\n",
        "\n",
        "- For Random Forest Classifier,Training Accuarcy is 90.05 and Validation accuracy is 89.97 which is better than previous model..\n",
        "\n",
        "- For XGBOOST classifier, Training Accuarcy is 90.5 and Validation accuracy is 90.1 which is better than Random Forest Classifier and all previous models.\n",
        "\n",
        "- After hyperparameter tuning,Training Accuarcy is 90.5 and Validation accuracy is 90.1 with the following parameters 'colsample_bytree': 0.7,\n",
        " 'max_depth': 9,\n",
        " 'min_child_weight': 1,\n",
        " 'subsample': 0.8.\n",
        "\n",
        "- Important features for predicting the Buy is VehOdo , VehBCost ,MMRAcquisitionAuctionAveragePrice,MMRAcquisitonRetailCleanPrice .\n",
        "\n",
        "- Kaggle score is 0.24. "
      ]
    },
    {
      "cell_type": "markdown",
      "id": "1c69445f",
      "metadata": {
        "id": "1c69445f",
        "papermill": {
          "duration": 0.076745,
          "end_time": "2022-12-09T13:05:00.978374",
          "exception": false,
          "start_time": "2022-12-09T13:05:00.901629",
          "status": "completed"
        },
        "tags": []
      },
      "source": [
        "## 10. Future Work Ideas\n",
        "\n",
        "- Perform feature engineering like seasonality feature to get better results.\n",
        "- Can do more hyperparameter tuning and regularization to decrease the error."
      ]
    },
    {
      "cell_type": "markdown",
      "id": "11e3cc5b",
      "metadata": {
        "id": "11e3cc5b",
        "papermill": {
          "duration": 0.074506,
          "end_time": "2022-12-09T13:05:01.127034",
          "exception": false,
          "start_time": "2022-12-09T13:05:01.052528",
          "status": "completed"
        },
        "tags": []
      },
      "source": [
        "## 11. References\n",
        "\n",
        "- How to approch machine learning problem: https://jovian.ai/learn/zero-to-data-analyst-bootcamp/lesson/how-to-approach-machine-learning-problems\n",
        "- Decision Trees & Random Forest: https://jovian.ai/learn/zero-to-data-analyst-bootcamp/lesson/decision-trees-and-random-forests\n",
        "- Exploratory Data Analysis Case Study: https://jovian.ai/learn/zero-to-data-analyst-bootcamp/lesson/exploratory-data-analysis-case-study\n",
        "- Visualization with Matplotlib & Seaborn: https://jovian.ai/learn/zero-to-data-analyst-bootcamp/lesson/visualization-with-matplotlib-and-seaborn\n",
        "- Datetime in Pandas: https://psgpyc.medium.com/datetime-in-pandas-read-csv-everything-you-have-to-know-8245bd048fa\n",
        "- Different ways to convert datatypes: https://sparkbyexamples.com/pandas/pandas-change-column-data-type-dttype/\n",
        "- Sklearn Library: https://scikit-learn.org/stable/"
      ]
    }
  ],
  "metadata": {
    "colab": {
      "provenance": [],
      "include_colab_link": true
    },
    "kernelspec": {
      "display_name": "Python 3 (ipykernel)",
      "language": "python",
      "name": "python3"
    },
    "language_info": {
      "codemirror_mode": {
        "name": "ipython",
        "version": 3
      },
      "file_extension": ".py",
      "mimetype": "text/x-python",
      "name": "python",
      "nbconvert_exporter": "python",
      "pygments_lexer": "ipython3",
      "version": "3.9.7"
    },
    "papermill": {
      "default_parameters": {},
      "duration": 6814.408363,
      "end_time": "2022-12-09T13:05:03.242940",
      "environment_variables": {},
      "exception": null,
      "input_path": "__notebook__.ipynb",
      "output_path": "__notebook__.ipynb",
      "parameters": {},
      "start_time": "2022-12-09T11:11:28.834577",
      "version": "2.3.4"
    }
  },
  "nbformat": 4,
  "nbformat_minor": 5
}