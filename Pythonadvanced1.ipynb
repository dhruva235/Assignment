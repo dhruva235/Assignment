{
 "cells": [
  {
   "cell_type": "code",
   "execution_count": null,
   "id": "28608628",
   "metadata": {},
   "outputs": [],
   "source": [
    "Assignment_1\n",
    "Q1. What is the purpose of Python's OOP?¶\n",
    "Provides a clear program structure and a clean code\n",
    "\n",
    "Facilitates easy maintenance and modification of existing code.\n",
    "\n",
    "Since the class is sharable, the code can be reused.\n",
    "\n",
    "Since the class is sharable, the code can be reused and many other such Advantages.\n",
    "\n",
    "\n",
    "\n",
    "\n",
    "\n",
    "\n",
    "\n",
    "\n",
    "\n",
    "#Example for questtion 6 & 7\n",
    "\n"
   ]
  },
  {
   "cell_type": "code",
   "execution_count": null,
   "id": "b91cc8aa",
   "metadata": {},
   "outputs": [],
   "source": [
    "#Q2. Where does an inheritance search look for an attribute?\n",
    "Attribute fetches are simply tree searches.\n",
    "The term inheritance is applied because objects lower in a tree inherit attributes attached to \n",
    "objects higher in that tree. As the search proceeds from the bottom up, \n",
    "in a sense, the objects linked into a tree are the union of all the attributes defined \n",
    "in all their tree parents, all the way up the tree.\n"
   ]
  },
  {
   "cell_type": "code",
   "execution_count": null,
   "id": "82451b1c",
   "metadata": {},
   "outputs": [],
   "source": [
    "#Q3. How do you distinguish between a class object and an instance object?\n",
    "Objects and Instances are almost similar and are often used interchangeably but with a small difference. Object is a generic term , it is physically present but remains undiferrentiated. Instance is something that gives them a separate identity.\n",
    "\n",
    "Object is the physical entity for which memory is allocated. Object contains many instances.\n",
    "\n",
    "Instance : An instance is also the physical manifestation of a class that occupies memory and has data members.\n",
    "\n",
    "e.g. There is Class car, when I create c = car(), c is object. When we create different object with different specifications(car name, type, company) such as i10, i20, Creta, audi7 are called as instances which actually exists.\n"
   ]
  },
  {
   "cell_type": "code",
   "execution_count": null,
   "id": "32dd84dd",
   "metadata": {},
   "outputs": [],
   "source": [
    "#Q4. What makes the first argument in a class’s method function special?\n",
    "Self represents the instance of the class. \n",
    "By using the “self” keyword we can access the attributes and methods of the class in python.\n",
    "It binds the attributes with the given arguments.The reason you need to use self. \n",
    "is because Python does not use the @ syntax to refer to instance attributes. \n",
    "Python decided to do methods in a way that makes the instance to which the method belongs be passed automatically, \n",
    "but not received automatically: the first parameter of methods is the instance the method is called on.\n"
   ]
  },
  {
   "cell_type": "code",
   "execution_count": null,
   "id": "0c9a4ff9",
   "metadata": {},
   "outputs": [],
   "source": [
    "#Q5. What is the purpose of the init method?\n",
    "The task of init method is to initialize(assign values) to the data members of the class\n",
    "when an object of class is created.\n",
    " It contains collection of statements that are executed at time of Object creation. It is run as soon as an object of a class is instantiated.\n",
    "    The method is useful to do any initialization you want to do with your object."
   ]
  },
  {
   "cell_type": "code",
   "execution_count": null,
   "id": "80ce38c6",
   "metadata": {},
   "outputs": [],
   "source": [
    "#Q6. What is the process for creating a class instance?\n",
    "To create instances of a class, you call the class using class name and pass in whatever arguments its init method accepts.\n",
    "\n",
    "\n"
   ]
  },
  {
   "cell_type": "code",
   "execution_count": null,
   "id": "ff100b1c",
   "metadata": {},
   "outputs": [],
   "source": [
    "#Q7. What is the process for creating a class?\n",
    "The class statement creates a new class definition. The name of the class immediately follows the keyword class followed by a colon.Explained below"
   ]
  },
  {
   "cell_type": "code",
   "execution_count": 3,
   "id": "4de30196",
   "metadata": {},
   "outputs": [
    {
     "name": "stdout",
     "output_type": "stream",
     "text": [
      "This is Dhruva (an instance of a class Student)\n"
     ]
    }
   ],
   "source": [
    "class Student:\n",
    "    def __init__(self,name):\n",
    "        self.name = name\n",
    "    \n",
    "    def __str__(self):\n",
    "        return f\"This is {self.name} (an instance of a class Student)\"\n",
    "    \n",
    "student1 = Student(\"Dhruva\")       \n",
    "print(student1)\n",
    "\n"
   ]
  },
  {
   "cell_type": "code",
   "execution_count": 2,
   "id": "cab2a70a",
   "metadata": {},
   "outputs": [
    {
     "name": "stdout",
     "output_type": "stream",
     "text": [
      "this is method of class A\n",
      "this is method of class B\n",
      "this is method of class A\n",
      "this is method of class A\n",
      "this is method of class A\n"
     ]
    }
   ],
   "source": [
    "#Q8. How would you define the superclasses of a class?\n",
    "#A superclass is the class from which many subclasses can be created. The subclasses inherit the characteristics of a superclass. The superclass is also known as the parent class or base class.\n",
    "\n",
    "class A:\n",
    "    def method_A(self):\n",
    "        return \"this is method of class A\"\n",
    "    \n",
    "class B(A):\n",
    "    def method_B(self):\n",
    "        return \"this is method of class B\"\n",
    "\n",
    "class C(A):\n",
    "    def method_B(self):\n",
    "        return \"this is method of class C\"\n",
    "    \n",
    "class D(A):\n",
    "    def method_B(self):\n",
    "        return \"this is method of class D\"\n",
    "\n",
    "# Class B, C, D are subclasses and Class A is superclass    \n",
    "a = A()\n",
    "b = B()\n",
    "c = C()\n",
    "d = D()\n",
    "\n",
    "print(a.method_A())\n",
    "print(b.method_B())\n",
    "print(b.method_A())   # objects of class B, C and D are able to access method of class A because Class A is superclass. \n",
    "print(c.method_A())\n",
    "print(d.method_A())\n"
   ]
  },
  {
   "cell_type": "code",
   "execution_count": null,
   "id": "6dbca9da",
   "metadata": {},
   "outputs": [],
   "source": []
  }
 ],
 "metadata": {
  "kernelspec": {
   "display_name": "Python 3 (ipykernel)",
   "language": "python",
   "name": "python3"
  },
  "language_info": {
   "codemirror_mode": {
    "name": "ipython",
    "version": 3
   },
   "file_extension": ".py",
   "mimetype": "text/x-python",
   "name": "python",
   "nbconvert_exporter": "python",
   "pygments_lexer": "ipython3",
   "version": "3.9.7"
  }
 },
 "nbformat": 4,
 "nbformat_minor": 5
}
